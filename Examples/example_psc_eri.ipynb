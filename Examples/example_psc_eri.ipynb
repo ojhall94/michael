{
 "cells": [
  {
   "cell_type": "markdown",
   "metadata": {},
   "source": [
    "## Measuring rotation in Psc-Eri"
   ]
  },
  {
   "cell_type": "markdown",
   "metadata": {},
   "source": [
    "[Curtis et al. (2019)](https://arxiv.org/pdf/1905.10588.pdf) measured rotation for the Meingast et al. (2019) members o the Psc-Eri stellar stream, and found a clear co-eval structure in rotation-colour space.\n",
    "\n",
    "Here, we will attempt to recover that same co-eval structure in the 101 stars targeted in that study, using `michael` only."
   ]
  },
  {
   "cell_type": "code",
   "execution_count": 1,
   "metadata": {},
   "outputs": [
    {
     "name": "stdout",
     "output_type": "stream",
     "text": [
      "Hi there. Welcome to the good place.\n"
     ]
    },
    {
     "name": "stderr",
     "output_type": "stream",
     "text": [
      "WARNING:absl:No GPU/TPU found, falling back to CPU. (Set TF_CPP_MIN_LOG_LEVEL=0 and rerun for more info.)\n"
     ]
    }
   ],
   "source": [
    "from michael import janet\n",
    "import numpy as np\n",
    "import pandas as pd\n",
    "\n",
    "import matplotlib.pyplot as plt\n",
    "import seaborn as sns\n",
    "sns.set_context(\"notebook\")\n",
    "cmap = sns.color_palette('colorblind', 8)\n",
    "\n",
    "from jax import random\n",
    "rng = random.PRNGKey(53)\n",
    "\n",
    "from astroquery.vizier import Vizier\n",
    "from astropy.coordinates import Angle\n",
    "from astropy import units as u\n",
    "\n",
    "import warnings\n",
    "warnings.filterwarnings('ignore')"
   ]
  },
  {
   "cell_type": "code",
   "execution_count": 2,
   "metadata": {},
   "outputs": [],
   "source": [
    "cat = Vizier(catalog ='J/AJ/158/77/table2',\n",
    "       columns = ['Source', 'RA_ICRS', 'DE_ICRS', 'GBP-GRP', 'Teff', 'Gmag','GMag', 'Prot'])\n",
    "cat.ROW_LIMIT = -1\n",
    "psceri_full = cat.get_catalogs(cat.catalog)[0]"
   ]
  },
  {
   "cell_type": "code",
   "execution_count": null,
   "metadata": {},
   "outputs": [
    {
     "name": "stdout",
     "output_type": "stream",
     "text": [
      "Already have data downloaded for Gaia ID 3198972700981234048.\n",
      "If you want to check for new data, run `janet.update()`.\n",
      "No postcard object will be created for this target.\n"
     ]
    },
    {
     "data": {
      "application/vnd.jupyter.widget-view+json": {
       "model_id": "9af4cb5534c94cc7a0b3fa74e7354f82",
       "version_major": 2,
       "version_minor": 0
      },
      "text/plain": [
       "  0%|          | 0/759 [00:00<?, ?it/s]"
      ]
     },
     "metadata": {},
     "output_type": "display_data"
    },
    {
     "name": "stdout",
     "output_type": "stream",
     "text": [
      "Making folder /Users/oliver hall/Research/michael/Examples/PscEri/5181474045115843072/...\n",
      "Found star in Sector(s) 4 31\n",
      "Downloading URL https://mast.stsci.edu/api/v0.1/Download/file?uri=mast:HLSP/eleanor/postcards/s0004/1-2/hlsp_eleanor_tess_ffi_postcard-s0004-1-2-cal-0706-1186_tess_v2_bkg.fits to ./mastDownload/HLSP/hlsp_eleanor_tess_ffi_postcard-s0004-1-2-cal-0706-1186_tess_v2_pc/hlsp_eleanor_tess_ffi_postcard-s0004-1-2-cal-0706-1186_tess_v2_bkg.fits ... [Done]\n",
      "Downloading URL https://mast.stsci.edu/api/v0.1/Download/file?uri=mast:HLSP/eleanor/postcards/s0004/1-2/hlsp_eleanor_tess_ffi_postcard-s0004-1-2-cal-0706-1186_tess_v2_pc.fits to ./mastDownload/HLSP/hlsp_eleanor_tess_ffi_postcard-s0004-1-2-cal-0706-1186_tess_v2_pc/hlsp_eleanor_tess_ffi_postcard-s0004-1-2-cal-0706-1186_tess_v2_pc.fits ... [Done]\n",
      "Downloading URL https://mast.stsci.edu/api/v0.1/Download/file?uri=mast:HLSP/eleanor/postcards/s0004/1-2/hlsp_eleanor_tess_ffi_postcard-s0004-1-2_tess_v2_pm.txt to ./mastDownload/HLSP/hlsp_eleanor_tess_ffi_postcard-s0004-1-2-cal-0706-1186_tess_v2_pc/hlsp_eleanor_tess_ffi_postcard-s0004-1-2_tess_v2_pm.txt ... [Done]\n",
      "Downloading URL https://mast.stsci.edu/tesscut/api/v0.1/astrocut?ra=68.95970833333332&dec=-64.02703611111112&y=31&x=31&units=px&sector=31 to ./tesscut_20210921121841.zip ... [Done]\n",
      "Inflating...\n",
      "This is the first light curve you have made for this sector. Getting eleanor metadata products for Sector 31...\n",
      "This will only take a minute, and only needs to be done once. Any other light curves you make in this sector will be faster.\n",
      "Acquiring target...\n"
     ]
    },
    {
     "name": "stderr",
     "output_type": "stream",
     "text": [
      "  % Total    % Received % Xferd  Average Speed   Time    Time     Time  Current\n",
      "                                 Dload  Upload   Total   Spent    Left  Speed\n",
      "100 1816k  100 1816k    0     0   475k      0  0:00:03  0:00:03 --:--:--  475k\n"
     ]
    },
    {
     "name": "stdout",
     "output_type": "stream",
     "text": [
      "Calculating Cadences...\n",
      "Assuring Quality Flags...\n",
      "Making CBVs...\n"
     ]
    },
    {
     "name": "stderr",
     "output_type": "stream",
     "text": [
      "  % Total    % Received % Xferd  Average Speed   Time    Time     Time  Current\n",
      "                                 Dload  Upload   Total   Spent    Left  Speed\n",
      "100 4429k  100 4429k    0     0  1946k      0  0:00:02  0:00:02 --:--:-- 1946k\n",
      "  % Total    % Received % Xferd  Average Speed   Time    Time     Time  Current\n",
      "                                 Dload  Upload   Total   Spent    Left  Speed\n",
      "100 4429k  100 4429k    0     0  2456k      0  0:00:01  0:00:01 --:--:-- 2455k\n",
      "  % Total    % Received % Xferd  Average Speed   Time    Time     Time  Current\n",
      "                                 Dload  Upload   Total   Spent    Left  Speed\n",
      "100 4500k  100 4500k    0     0  1394k      0  0:00:03  0:00:03 --:--:-- 1394k\n",
      "  % Total    % Received % Xferd  Average Speed   Time    Time     Time  Current\n",
      "                                 Dload  Upload   Total   Spent    Left  Speed\n",
      "100 4429k  100 4429k    0     0  2443k      0  0:00:01  0:00:01 --:--:-- 2443k\n",
      "  % Total    % Received % Xferd  Average Speed   Time    Time     Time  Current\n",
      "                                 Dload  Upload   Total   Spent    Left  Speed\n",
      "100 4286k  100 4286k    0     0  2414k      0  0:00:01  0:00:01 --:--:-- 2413k\n",
      "  % Total    % Received % Xferd  Average Speed   Time    Time     Time  Current\n",
      "                                 Dload  Upload   Total   Spent    Left  Speed\n",
      "100 4142k  100 4142k    0     0  2006k      0  0:00:02  0:00:02 --:--:-- 2006k\n",
      "  % Total    % Received % Xferd  Average Speed   Time    Time     Time  Current\n",
      "                                 Dload  Upload   Total   Spent    Left  Speed\n",
      "100 4215k  100 4215k    0     0   848k      0  0:00:04  0:00:04 --:--:--  997k\n",
      "  % Total    % Received % Xferd  Average Speed   Time    Time     Time  Current\n",
      "                                 Dload  Upload   Total   Spent    Left  Speed\n",
      "100 4362k  100 4362k    0     0  2113k      0  0:00:02  0:00:02 --:--:-- 2113k\n",
      "  % Total    % Received % Xferd  Average Speed   Time    Time     Time  Current\n",
      "                                 Dload  Upload   Total   Spent    Left  Speed\n",
      "100 4213k  100 4213k    0     0  2336k      0  0:00:01  0:00:01 --:--:-- 2335k\n",
      "  % Total    % Received % Xferd  Average Speed   Time    Time     Time  Current\n",
      "                                 Dload  Upload   Total   Spent    Left  Speed\n",
      "100 4215k  100 4215k    0     0  2367k      0  0:00:01  0:00:01 --:--:-- 2365k\n",
      "  % Total    % Received % Xferd  Average Speed   Time    Time     Time  Current\n",
      "                                 Dload  Upload   Total   Spent    Left  Speed\n",
      "100 4142k  100 4142k    0     0  2387k      0  0:00:01  0:00:01 --:--:-- 2386k\n",
      "  % Total    % Received % Xferd  Average Speed   Time    Time     Time  Current\n",
      "                                 Dload  Upload   Total   Spent    Left  Speed\n",
      "100 4142k  100 4142k    0     0  1942k      0  0:00:02  0:00:02 --:--:-- 1941k\n",
      "  % Total    % Received % Xferd  Average Speed   Time    Time     Time  Current\n",
      "                                 Dload  Upload   Total   Spent    Left  Speed\n",
      "100 4649k  100 4649k    0     0  2466k      0  0:00:01  0:00:01 --:--:-- 2465k\n",
      "  % Total    % Received % Xferd  Average Speed   Time    Time     Time  Current\n",
      "                                 Dload  Upload   Total   Spent    Left  Speed\n",
      "100 4213k  100 4213k    0     0  1385k      0  0:00:03  0:00:03 --:--:-- 1385k\n",
      "  % Total    % Received % Xferd  Average Speed   Time    Time     Time  Current\n",
      "                                 Dload  Upload   Total   Spent    Left  Speed\n",
      "  0     0    0     0    0     0      0      0 --:--:-- --:--:-- --:--:--     0"
     ]
    }
   ],
   "source": [
    "N = len(psceri_full)\n",
    "\n",
    "df = pd.DataFrame(index = range(N), columns=['P', 'Perr', 'Pflag'])\n",
    "\n",
    "for idx in range(N):\n",
    "    psceri = psceri_full[idx]\n",
    "    source = psceri['Source']\n",
    "\n",
    "    ra_str = psceri['RA_ICRS'].split(' ')\n",
    "    units_ra = ['h','m','s']\n",
    "    rep = ''.join([ra_str[i]+units_ra[i] for i in range(3)])\n",
    "    ra = Angle(rep).to(u.deg)\n",
    "\n",
    "    dec_str = psceri['DE_ICRS'].split(' ')\n",
    "    units_dec = ['d','m','s']\n",
    "    rep = ''.join([dec_str[i]+units_dec[i] for i in range(3)])\n",
    "    dec = Angle(rep).to(u.deg)\n",
    "\n",
    "    j = janet(source, ra, dec,\n",
    "              output_path = \"/Users/oliver hall/Research/michael/Examples/PscEri\",\n",
    "              verbose = False)\n",
    "    \n",
    "    j.run(period_range = (0.1, 13.4))\n",
    "    \n",
    "    df.loc[idx, 'P']= j.results.loc['best', 'overall']\n",
    "    df.loc[idx, 'Perr']= j.results.loc['best', 'e_overall']\n",
    "    df.loc[idx, 'Pflag']= j.results.loc['best', 'f_overall']\n",
    "df['PC'] = np.array(psceri_full['Prot'].data)\n",
    "df.to_csv('PscEri/PscEri_periods.csv')"
   ]
  },
  {
   "cell_type": "code",
   "execution_count": null,
   "metadata": {},
   "outputs": [],
   "source": []
  }
 ],
 "metadata": {
  "kernelspec": {
   "display_name": "Michael 3.8",
   "language": "python",
   "name": "michael"
  },
  "language_info": {
   "codemirror_mode": {
    "name": "ipython",
    "version": 3
   },
   "file_extension": ".py",
   "mimetype": "text/x-python",
   "name": "python",
   "nbconvert_exporter": "python",
   "pygments_lexer": "ipython3",
   "version": "3.8.3"
  }
 },
 "nbformat": 4,
 "nbformat_minor": 4
}
