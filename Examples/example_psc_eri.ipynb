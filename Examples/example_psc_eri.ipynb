{
 "cells": [
  {
   "cell_type": "markdown",
   "metadata": {},
   "source": [
    "## Measuring rotation in Psc-Eri"
   ]
  },
  {
   "cell_type": "markdown",
   "metadata": {},
   "source": [
    "[Curtis et al. (2019)](https://arxiv.org/pdf/1905.10588.pdf) measured rotation for the Meingast et al. (2019) members o the Psc-Eri stellar stream, and found a clear co-eval structure in rotation-colour space.\n",
    "\n",
    "Here, we will attempt to recover that same co-eval structure in the 101 stars targeted in that study, using `michael` only."
   ]
  },
  {
   "cell_type": "code",
   "execution_count": 1,
   "metadata": {},
   "outputs": [
    {
     "name": "stdout",
     "output_type": "stream",
     "text": [
      "Hi there. Welcome to the good place.\n"
     ]
    },
    {
     "name": "stderr",
     "output_type": "stream",
     "text": [
      "WARNING:absl:No GPU/TPU found, falling back to CPU. (Set TF_CPP_MIN_LOG_LEVEL=0 and rerun for more info.)\n"
     ]
    }
   ],
   "source": [
    "from michael import janet\n",
    "import numpy as np\n",
    "import pandas as pd\n",
    "\n",
    "import matplotlib.pyplot as plt\n",
    "import seaborn as sns\n",
    "sns.set_context(\"notebook\")\n",
    "cmap = sns.color_palette('colorblind', 8)\n",
    "\n",
    "from jax import random\n",
    "rng = random.PRNGKey(53)\n",
    "\n",
    "from astroquery.vizier import Vizier\n",
    "from astropy.coordinates import Angle\n",
    "from astropy import units as u\n",
    "\n",
    "import warnings\n",
    "warnings.filterwarnings('ignore')"
   ]
  },
  {
   "cell_type": "code",
   "execution_count": 2,
   "metadata": {},
   "outputs": [],
   "source": [
    "cat = Vizier(catalog ='J/AJ/158/77/table2',\n",
    "       columns = ['Source', 'RA_ICRS', 'DE_ICRS', 'GBP-GRP', 'Teff', 'Gmag','GMag', 'Prot'])\n",
    "cat.ROW_LIMIT = -1\n",
    "psceri_full = cat.get_catalogs(cat.catalog)[0]"
   ]
  },
  {
   "cell_type": "code",
   "execution_count": 5,
   "metadata": {
    "scrolled": true
   },
   "outputs": [
    {
     "name": "stderr",
     "output_type": "stream",
     "text": [
      "\r",
      "  0%|                                                    | 0/82 [00:00<?, ?it/s]"
     ]
    },
    {
     "name": "stdout",
     "output_type": "stream",
     "text": [
      "No postcard object will be created for this target.\n"
     ]
    },
    {
     "data": {
      "application/vnd.jupyter.widget-view+json": {
       "model_id": "57718885edfd447b95da9fa63f62d027",
       "version_major": 2,
       "version_minor": 0
      },
      "text/plain": [
       "  0%|          | 0/22622 [00:00<?, ?it/s]"
      ]
     },
     "metadata": {},
     "output_type": "display_data"
    },
    {
     "name": "stderr",
     "output_type": "stream",
     "text": [
      "\r",
      "  1%|▌                                        | 1/82 [03:27<4:39:55, 207.35s/it]"
     ]
    },
    {
     "name": "stdout",
     "output_type": "stream",
     "text": [
      "No postcard object will be created for this target.\n"
     ]
    },
    {
     "data": {
      "application/vnd.jupyter.widget-view+json": {
       "model_id": "fd461d5a2f0a47f7997161afc124e9e4",
       "version_major": 2,
       "version_minor": 0
      },
      "text/plain": [
       "  0%|          | 0/22549 [00:00<?, ?it/s]"
      ]
     },
     "metadata": {},
     "output_type": "display_data"
    },
    {
     "name": "stderr",
     "output_type": "stream",
     "text": [
      "\r",
      "  2%|█                                        | 2/82 [06:27<4:15:09, 191.37s/it]"
     ]
    },
    {
     "name": "stdout",
     "output_type": "stream",
     "text": [
      "No postcard object will be created for this target.\n"
     ]
    },
    {
     "data": {
      "application/vnd.jupyter.widget-view+json": {
       "model_id": "116bc2afaec54c5bb49a07aebd2c85fe",
       "version_major": 2,
       "version_minor": 0
      },
      "text/plain": [
       "  0%|          | 0/22622 [00:00<?, ?it/s]"
      ]
     },
     "metadata": {},
     "output_type": "display_data"
    },
    {
     "name": "stderr",
     "output_type": "stream",
     "text": [
      "\r",
      "  4%|█▌                                       | 3/82 [09:11<3:55:42, 179.02s/it]"
     ]
    },
    {
     "name": "stdout",
     "output_type": "stream",
     "text": [
      "No postcard object will be created for this target.\n"
     ]
    },
    {
     "data": {
      "application/vnd.jupyter.widget-view+json": {
       "model_id": "1bf311faf6424c50bef1983f8f5b9aa5",
       "version_major": 2,
       "version_minor": 0
      },
      "text/plain": [
       "  0%|          | 0/22621 [00:00<?, ?it/s]"
      ]
     },
     "metadata": {},
     "output_type": "display_data"
    },
    {
     "name": "stderr",
     "output_type": "stream",
     "text": [
      "\r",
      "  5%|██                                       | 4/82 [14:21<4:59:32, 230.42s/it]"
     ]
    },
    {
     "name": "stdout",
     "output_type": "stream",
     "text": [
      "Found star in Sector(s) 4 31\n"
     ]
    },
    {
     "name": "stderr",
     "output_type": "stream",
     "text": [
      "INFO:astroquery:Found cached file ./mastDownload/HLSP/hlsp_eleanor_tess_ffi_postcard-s0004-1-4-cal-1294-1672_tess_v2_pc/hlsp_eleanor_tess_ffi_postcard-s0004-1-4-cal-1294-1672_tess_v2_bkg.fits with expected size 65286720.\n"
     ]
    },
    {
     "name": "stdout",
     "output_type": "stream",
     "text": [
      "INFO: Found cached file ./mastDownload/HLSP/hlsp_eleanor_tess_ffi_postcard-s0004-1-4-cal-1294-1672_tess_v2_pc/hlsp_eleanor_tess_ffi_postcard-s0004-1-4-cal-1294-1672_tess_v2_bkg.fits with expected size 65286720. [astroquery.query]\n"
     ]
    },
    {
     "name": "stderr",
     "output_type": "stream",
     "text": [
      "WARNING: Found cached file ./mastDownload/HLSP/hlsp_eleanor_tess_ffi_postcard-s0004-1-4-cal-1294-1672_tess_v2_pc/hlsp_eleanor_tess_ffi_postcard-s0004-1-4-cal-1294-1672_tess_v2_pc.fits with size 18808832 that is different from expected size 130665600 [astroquery.query]\n",
      "WARNING:astroquery:Found cached file ./mastDownload/HLSP/hlsp_eleanor_tess_ffi_postcard-s0004-1-4-cal-1294-1672_tess_v2_pc/hlsp_eleanor_tess_ffi_postcard-s0004-1-4-cal-1294-1672_tess_v2_pc.fits with size 18808832 that is different from expected size 130665600\n"
     ]
    },
    {
     "name": "stdout",
     "output_type": "stream",
     "text": [
      " [Done]\n",
      "Downloading URL https://mast.stsci.edu/api/v0.1/Download/file?uri=mast:HLSP/eleanor/postcards/s0004/1-4/hlsp_eleanor_tess_ffi_postcard-s0004-1-4_tess_v2_pm.txt to ./mastDownload/HLSP/hlsp_eleanor_tess_ffi_postcard-s0004-1-4-cal-1294-1672_tess_v2_pc/hlsp_eleanor_tess_ffi_postcard-s0004-1-4_tess_v2_pm.txt ... [Done]\n",
      "No eleanor postcard has been made for your target (yet). Using TessCut instead.\n",
      "Downloading URL https://mast.stsci.edu/tesscut/api/v0.1/astrocut?ra=33.94333333333333&dec=-2.609027777777778&y=31&x=31&units=px&sector=31 to /Users/oliver hall/.eleanor/tesscut/tesscut_20210921175018.zip ... [Done]\n"
     ]
    },
    {
     "name": "stderr",
     "output_type": "stream",
     "text": [
      "\r",
      "  6%|██▌                                      | 5/82 [14:37<3:16:49, 153.38s/it]"
     ]
    },
    {
     "name": "stdout",
     "output_type": "stream",
     "text": [
      "Inflating...\n",
      "Found star in Sector(s) 5 5 32\n",
      "Downloading URL https://mast.stsci.edu/api/v0.1/Download/file?uri=mast:HLSP/eleanor/postcards/s0005/1-1/hlsp_eleanor_tess_ffi_postcard-s0005-1-1-cal-2018-0052_tess_v2_bkg.fits to ./mastDownload/HLSP/hlsp_eleanor_tess_ffi_postcard-s0005-1-1-cal-2018-0052_tess_v2_pc/hlsp_eleanor_tess_ffi_postcard-s0005-1-1-cal-2018-0052_tess_v2_bkg.fits ... [Done]\n",
      "Downloading URL https://mast.stsci.edu/api/v0.1/Download/file?uri=mast:HLSP/eleanor/postcards/s0005/1-1/hlsp_eleanor_tess_ffi_postcard-s0005-1-1-cal-2018-0052_tess_v2_pc.fits to ./mastDownload/HLSP/hlsp_eleanor_tess_ffi_postcard-s0005-1-1-cal-2018-0052_tess_v2_pc/hlsp_eleanor_tess_ffi_postcard-s0005-1-1-cal-2018-0052_tess_v2_pc.fits ... [Done]\n",
      "Downloading URL https://mast.stsci.edu/api/v0.1/Download/file?uri=mast:HLSP/eleanor/postcards/s0005/1-1/hlsp_eleanor_tess_ffi_postcard-s0005-1-1_tess_v2_pm.txt to ./mastDownload/HLSP/hlsp_eleanor_tess_ffi_postcard-s0005-1-1-cal-2018-0052_tess_v2_pc/hlsp_eleanor_tess_ffi_postcard-s0005-1-1_tess_v2_pm.txt ... [Done]\n"
     ]
    },
    {
     "name": "stderr",
     "output_type": "stream",
     "text": [
      "INFO:astroquery:Found cached file ./mastDownload/HLSP/hlsp_eleanor_tess_ffi_postcard-s0005-1-1-cal-2018-0052_tess_v2_pc/hlsp_eleanor_tess_ffi_postcard-s0005-1-1-cal-2018-0052_tess_v2_bkg.fits with expected size 73658880.\n"
     ]
    },
    {
     "name": "stdout",
     "output_type": "stream",
     "text": [
      "INFO: Found cached file ./mastDownload/HLSP/hlsp_eleanor_tess_ffi_postcard-s0005-1-1-cal-2018-0052_tess_v2_pc/hlsp_eleanor_tess_ffi_postcard-s0005-1-1-cal-2018-0052_tess_v2_bkg.fits with expected size 73658880. [astroquery.query]\n"
     ]
    },
    {
     "name": "stderr",
     "output_type": "stream",
     "text": [
      "INFO:astroquery:Found cached file ./mastDownload/HLSP/hlsp_eleanor_tess_ffi_postcard-s0005-1-1-cal-2018-0052_tess_v2_pc/hlsp_eleanor_tess_ffi_postcard-s0005-1-1-cal-2018-0052_tess_v2_pc.fits with expected size 147421440.\n"
     ]
    },
    {
     "name": "stdout",
     "output_type": "stream",
     "text": [
      "INFO: Found cached file ./mastDownload/HLSP/hlsp_eleanor_tess_ffi_postcard-s0005-1-1-cal-2018-0052_tess_v2_pc/hlsp_eleanor_tess_ffi_postcard-s0005-1-1-cal-2018-0052_tess_v2_pc.fits with expected size 147421440. [astroquery.query]\n"
     ]
    },
    {
     "name": "stderr",
     "output_type": "stream",
     "text": [
      "INFO:astroquery:Found cached file ./mastDownload/HLSP/hlsp_eleanor_tess_ffi_postcard-s0005-1-1-cal-2018-0052_tess_v2_pc/hlsp_eleanor_tess_ffi_postcard-s0005-1-1_tess_v2_pm.txt with expected size 221849.\n"
     ]
    },
    {
     "name": "stdout",
     "output_type": "stream",
     "text": [
      "INFO: Found cached file ./mastDownload/HLSP/hlsp_eleanor_tess_ffi_postcard-s0005-1-1-cal-2018-0052_tess_v2_pc/hlsp_eleanor_tess_ffi_postcard-s0005-1-1_tess_v2_pm.txt with expected size 221849. [astroquery.query]\n",
      "No eleanor postcard has been made for your target (yet). Using TessCut instead.\n",
      "Downloading URL https://mast.stsci.edu/tesscut/api/v0.1/astrocut?ra=68.48083333333332&dec=-8.324416666666666&y=31&x=31&units=px&sector=32 to /Users/oliver hall/.eleanor/tesscut/tesscut_20210921175115.zip ... [Done]\n",
      "Inflating...\n"
     ]
    },
    {
     "name": "stderr",
     "output_type": "stream",
     "text": [
      "\r",
      "  7%|███                                      | 6/82 [15:49<2:39:17, 125.76s/it]"
     ]
    },
    {
     "name": "stdout",
     "output_type": "stream",
     "text": [
      "Found star in Sector(s) 4 31\n",
      "Downloading URL https://mast.stsci.edu/api/v0.1/Download/file?uri=mast:HLSP/eleanor/postcards/s0004/1-4/hlsp_eleanor_tess_ffi_postcard-s0004-1-4-cal-1000-0862_tess_v2_bkg.fits to ./mastDownload/HLSP/hlsp_eleanor_tess_ffi_postcard-s0004-1-4-cal-1000-0862_tess_v2_pc/hlsp_eleanor_tess_ffi_postcard-s0004-1-4-cal-1000-0862_tess_v2_bkg.fits ... [Done]\n",
      "Downloading URL https://mast.stsci.edu/api/v0.1/Download/file?uri=mast:HLSP/eleanor/postcards/s0004/1-4/hlsp_eleanor_tess_ffi_postcard-s0004-1-4-cal-1000-0862_tess_v2_pc.fits to ./mastDownload/HLSP/hlsp_eleanor_tess_ffi_postcard-s0004-1-4-cal-1000-0862_tess_v2_pc/hlsp_eleanor_tess_ffi_postcard-s0004-1-4-cal-1000-0862_tess_v2_pc.fits ... [Done]\n",
      "Downloading URL https://mast.stsci.edu/api/v0.1/Download/file?uri=mast:HLSP/eleanor/postcards/s0004/1-4/hlsp_eleanor_tess_ffi_postcard-s0004-1-4_tess_v2_pm.txt to ./mastDownload/HLSP/hlsp_eleanor_tess_ffi_postcard-s0004-1-4-cal-1000-0862_tess_v2_pc/hlsp_eleanor_tess_ffi_postcard-s0004-1-4_tess_v2_pm.txt ... [Done]\n",
      "No eleanor postcard has been made for your target (yet). Using TessCut instead.\n",
      "Downloading URL https://mast.stsci.edu/tesscut/api/v0.1/astrocut?ra=33.696666666666665&dec=2.239&y=31&x=31&units=px&sector=31 to /Users/oliver hall/.eleanor/tesscut/tesscut_20210921175219.zip ... [Done]\n",
      "Inflating...\n",
      "No postcard object will be created for this target.\n"
     ]
    },
    {
     "data": {
      "application/vnd.jupyter.widget-view+json": {
       "model_id": "15f640c06c0e48258dd6681fa1b1867e",
       "version_major": 2,
       "version_minor": 0
      },
      "text/plain": [
       "  0%|          | 0/22619 [00:00<?, ?it/s]"
      ]
     },
     "metadata": {},
     "output_type": "display_data"
    },
    {
     "name": "stderr",
     "output_type": "stream",
     "text": [
      "\r",
      "  9%|███▌                                     | 7/82 [19:02<3:04:21, 147.48s/it]"
     ]
    },
    {
     "name": "stdout",
     "output_type": "stream",
     "text": [
      "Found star in Sector(s) 4\n",
      "Downloading URL https://mast.stsci.edu/api/v0.1/Download/file?uri=mast:HLSP/eleanor/postcards/s0004/1-2/hlsp_eleanor_tess_ffi_postcard-s0004-1-2-cal-0608-1078_tess_v2_bkg.fits to ./mastDownload/HLSP/hlsp_eleanor_tess_ffi_postcard-s0004-1-2-cal-0608-1078_tess_v2_pc/hlsp_eleanor_tess_ffi_postcard-s0004-1-2-cal-0608-1078_tess_v2_bkg.fits ... [Done]\n",
      "Downloading URL https://mast.stsci.edu/api/v0.1/Download/file?uri=mast:HLSP/eleanor/postcards/s0004/1-2/hlsp_eleanor_tess_ffi_postcard-s0004-1-2-cal-0608-1078_tess_v2_pc.fits to ./mastDownload/HLSP/hlsp_eleanor_tess_ffi_postcard-s0004-1-2-cal-0608-1078_tess_v2_pc/hlsp_eleanor_tess_ffi_postcard-s0004-1-2-cal-0608-1078_tess_v2_pc.fits ... [Done]\n",
      "Downloading URL https://mast.stsci.edu/api/v0.1/Download/file?uri=mast:HLSP/eleanor/postcards/s0004/1-2/hlsp_eleanor_tess_ffi_postcard-s0004-1-2_tess_v2_pm.txt to ./mastDownload/HLSP/hlsp_eleanor_tess_ffi_postcard-s0004-1-2-cal-0608-1078_tess_v2_pc/hlsp_eleanor_tess_ffi_postcard-s0004-1-2_tess_v2_pm.txt ... [Done]\n",
      "No postcard object will be created for this target.\n"
     ]
    },
    {
     "data": {
      "application/vnd.jupyter.widget-view+json": {
       "model_id": "66b3d50753514c54b42aa5b4824fc0a8",
       "version_major": 2,
       "version_minor": 0
      },
      "text/plain": [
       "  0%|          | 0/758 [00:00<?, ?it/s]"
      ]
     },
     "metadata": {},
     "output_type": "display_data"
    },
    {
     "name": "stderr",
     "output_type": "stream",
     "text": [
      "\r",
      " 10%|████                                     | 8/82 [19:55<2:24:54, 117.49s/it]"
     ]
    },
    {
     "name": "stdout",
     "output_type": "stream",
     "text": [
      "Found star in Sector(s) 4 31\n",
      "Downloading URL https://mast.stsci.edu/api/v0.1/Download/file?uri=mast:HLSP/eleanor/postcards/s0004/1-2/hlsp_eleanor_tess_ffi_postcard-s0004-1-2-cal-1490-0808_tess_v2_bkg.fits to ./mastDownload/HLSP/hlsp_eleanor_tess_ffi_postcard-s0004-1-2-cal-1490-0808_tess_v2_pc/hlsp_eleanor_tess_ffi_postcard-s0004-1-2-cal-1490-0808_tess_v2_bkg.fits ... [Done]\n",
      "Downloading URL https://mast.stsci.edu/api/v0.1/Download/file?uri=mast:HLSP/eleanor/postcards/s0004/1-2/hlsp_eleanor_tess_ffi_postcard-s0004-1-2-cal-1490-0808_tess_v2_pc.fits to ./mastDownload/HLSP/hlsp_eleanor_tess_ffi_postcard-s0004-1-2-cal-1490-0808_tess_v2_pc/hlsp_eleanor_tess_ffi_postcard-s0004-1-2-cal-1490-0808_tess_v2_pc.fits ... [Done]\n",
      "Downloading URL https://mast.stsci.edu/api/v0.1/Download/file?uri=mast:HLSP/eleanor/postcards/s0004/1-2/hlsp_eleanor_tess_ffi_postcard-s0004-1-2_tess_v2_pm.txt to ./mastDownload/HLSP/hlsp_eleanor_tess_ffi_postcard-s0004-1-2-cal-1490-0808_tess_v2_pc/hlsp_eleanor_tess_ffi_postcard-s0004-1-2_tess_v2_pm.txt ... [Done]\n",
      "No eleanor postcard has been made for your target (yet). Using TessCut instead.\n",
      "Downloading URL https://mast.stsci.edu/tesscut/api/v0.1/astrocut?ra=52.37625&dec=-7.1705000000000005&y=31&x=31&units=px&sector=31 to /Users/oliver hall/.eleanor/tesscut/tesscut_20210921175619.zip ... [Done]\n",
      "Inflating...\n",
      "No postcard object will be created for this target.\n"
     ]
    },
    {
     "data": {
      "application/vnd.jupyter.widget-view+json": {
       "model_id": "289c291dd05a4a018b1f33e1d10ab9dd",
       "version_major": 2,
       "version_minor": 0
      },
      "text/plain": [
       "  0%|          | 0/22622 [00:00<?, ?it/s]"
      ]
     },
     "metadata": {},
     "output_type": "display_data"
    },
    {
     "name": "stderr",
     "output_type": "stream",
     "text": [
      "\r",
      " 11%|████▌                                    | 9/82 [22:57<2:47:40, 137.82s/it]"
     ]
    },
    {
     "name": "stdout",
     "output_type": "stream",
     "text": [
      "Found star in Sector(s) 5 32\n",
      "Downloading URL https://mast.stsci.edu/api/v0.1/Download/file?uri=mast:HLSP/eleanor/postcards/s0005/1-1/hlsp_eleanor_tess_ffi_postcard-s0005-1-1-cal-1098-1294_tess_v2_bkg.fits to ./mastDownload/HLSP/hlsp_eleanor_tess_ffi_postcard-s0005-1-1-cal-1098-1294_tess_v2_pc/hlsp_eleanor_tess_ffi_postcard-s0005-1-1-cal-1098-1294_tess_v2_bkg.fits ... [Done]\n",
      "Downloading URL https://mast.stsci.edu/api/v0.1/Download/file?uri=mast:HLSP/eleanor/postcards/s0005/1-1/hlsp_eleanor_tess_ffi_postcard-s0005-1-1-cal-1098-1294_tess_v2_pc.fits to ./mastDownload/HLSP/hlsp_eleanor_tess_ffi_postcard-s0005-1-1-cal-1098-1294_tess_v2_pc/hlsp_eleanor_tess_ffi_postcard-s0005-1-1-cal-1098-1294_tess_v2_pc.fits ... [Done]\n",
      "Downloading URL https://mast.stsci.edu/api/v0.1/Download/file?uri=mast:HLSP/eleanor/postcards/s0005/1-1/hlsp_eleanor_tess_ffi_postcard-s0005-1-1_tess_v2_pm.txt to ./mastDownload/HLSP/hlsp_eleanor_tess_ffi_postcard-s0005-1-1-cal-1098-1294_tess_v2_pc/hlsp_eleanor_tess_ffi_postcard-s0005-1-1_tess_v2_pm.txt ... [Done]\n",
      "No eleanor postcard has been made for your target (yet). Using TessCut instead.\n",
      "Downloading URL https://mast.stsci.edu/tesscut/api/v0.1/astrocut?ra=61.894583333333316&dec=-2.075888888888889&y=31&x=31&units=px&sector=32 to /Users/oliver hall/.eleanor/tesscut/tesscut_20210921175952.zip ... [Done]\n",
      "Inflating...\n",
      "No postcard object will be created for this target.\n"
     ]
    },
    {
     "data": {
      "application/vnd.jupyter.widget-view+json": {
       "model_id": "dd2ccd8697394ae6a1716c82c30879b3",
       "version_major": 2,
       "version_minor": 0
      },
      "text/plain": [
       "  0%|          | 0/22698 [00:00<?, ?it/s]"
      ]
     },
     "metadata": {},
     "output_type": "display_data"
    },
    {
     "name": "stderr",
     "output_type": "stream",
     "text": [
      "\r",
      " 12%|████▉                                   | 10/82 [26:47<3:19:14, 166.04s/it]"
     ]
    },
    {
     "name": "stdout",
     "output_type": "stream",
     "text": [
      "Found star in Sector(s) 5 32\n",
      "Downloading URL https://mast.stsci.edu/api/v0.1/Download/file?uri=mast:HLSP/eleanor/postcards/s0005/2-4/hlsp_eleanor_tess_ffi_postcard-s0005-2-4-cal-0706-0916_tess_v2_bkg.fits to ./mastDownload/HLSP/hlsp_eleanor_tess_ffi_postcard-s0005-2-4-cal-0706-0916_tess_v2_pc/hlsp_eleanor_tess_ffi_postcard-s0005-2-4-cal-0706-0916_tess_v2_bkg.fits ... [Done]\n",
      "Downloading URL https://mast.stsci.edu/api/v0.1/Download/file?uri=mast:HLSP/eleanor/postcards/s0005/2-4/hlsp_eleanor_tess_ffi_postcard-s0005-2-4-cal-0706-0916_tess_v2_pc.fits to ./mastDownload/HLSP/hlsp_eleanor_tess_ffi_postcard-s0005-2-4-cal-0706-0916_tess_v2_pc/hlsp_eleanor_tess_ffi_postcard-s0005-2-4-cal-0706-0916_tess_v2_pc.fits ... [Done]\n",
      "Downloading URL https://mast.stsci.edu/api/v0.1/Download/file?uri=mast:HLSP/eleanor/postcards/s0005/2-4/hlsp_eleanor_tess_ffi_postcard-s0005-2-4_tess_v2_pm.txt to ./mastDownload/HLSP/hlsp_eleanor_tess_ffi_postcard-s0005-2-4-cal-0706-0916_tess_v2_pc/hlsp_eleanor_tess_ffi_postcard-s0005-2-4_tess_v2_pm.txt ... [Done]\n",
      "No eleanor postcard has been made for your target (yet). Using TessCut instead.\n",
      "Downloading URL https://mast.stsci.edu/tesscut/api/v0.1/astrocut?ra=65.39666666666666&dec=-14.024972222222223&y=31&x=31&units=px&sector=32 to /Users/oliver hall/.eleanor/tesscut/tesscut_20210921180327.zip ... [Done]\n",
      "Inflating...\n",
      "No postcard object will be created for this target.\n"
     ]
    },
    {
     "data": {
      "application/vnd.jupyter.widget-view+json": {
       "model_id": "02740d90baa54d1aba0471dd3b010688",
       "version_major": 2,
       "version_minor": 0
      },
      "text/plain": [
       "  0%|          | 0/22699 [00:00<?, ?it/s]"
      ]
     },
     "metadata": {},
     "output_type": "display_data"
    },
    {
     "name": "stderr",
     "output_type": "stream",
     "text": [
      "\r",
      " 13%|█████▎                                  | 11/82 [30:22<3:34:09, 180.98s/it]"
     ]
    },
    {
     "name": "stdout",
     "output_type": "stream",
     "text": [
      "Found star in Sector(s) 3 30\n",
      "Downloading URL https://mast.stsci.edu/api/v0.1/Download/file?uri=mast:HLSP/eleanor/postcards/s0003/1-3/hlsp_eleanor_tess_ffi_postcard-s0003-1-3-cal-1196-0754_tess_v2_bkg.fits to ./mastDownload/HLSP/hlsp_eleanor_tess_ffi_postcard-s0003-1-3-cal-1196-0754_tess_v2_pc/hlsp_eleanor_tess_ffi_postcard-s0003-1-3-cal-1196-0754_tess_v2_bkg.fits ... [Done]\n",
      "Downloading URL https://mast.stsci.edu/api/v0.1/Download/file?uri=mast:HLSP/eleanor/postcards/s0003/1-3/hlsp_eleanor_tess_ffi_postcard-s0003-1-3-cal-1196-0754_tess_v2_pc.fits to ./mastDownload/HLSP/hlsp_eleanor_tess_ffi_postcard-s0003-1-3-cal-1196-0754_tess_v2_pc/hlsp_eleanor_tess_ffi_postcard-s0003-1-3-cal-1196-0754_tess_v2_pc.fits ... [Done]\n",
      "Downloading URL https://mast.stsci.edu/api/v0.1/Download/file?uri=mast:HLSP/eleanor/postcards/s0003/1-3/hlsp_eleanor_tess_ffi_postcard-s0003-1-3_tess_v2_pm.txt to ./mastDownload/HLSP/hlsp_eleanor_tess_ffi_postcard-s0003-1-3-cal-1196-0754_tess_v2_pc/hlsp_eleanor_tess_ffi_postcard-s0003-1-3_tess_v2_pm.txt ... [Done]\n",
      "No eleanor postcard has been made for your target (yet). Using TessCut instead.\n",
      "Downloading URL https://mast.stsci.edu/tesscut/api/v0.1/astrocut?ra=18.88208333333333&dec=-2.8462222222222224&y=31&x=31&units=px&sector=30 to /Users/oliver hall/.eleanor/tesscut/tesscut_20210921180658.zip ... [Done]\n",
      "Inflating...\n",
      "No postcard object will be created for this target.\n"
     ]
    },
    {
     "data": {
      "application/vnd.jupyter.widget-view+json": {
       "model_id": "0b78c7311d0e4a6ab3e9f4ea5d260af5",
       "version_major": 2,
       "version_minor": 0
      },
      "text/plain": [
       "  0%|          | 0/22543 [00:00<?, ?it/s]"
      ]
     },
     "metadata": {},
     "output_type": "display_data"
    },
    {
     "name": "stderr",
     "output_type": "stream",
     "text": [
      "\r",
      " 15%|█████▊                                  | 12/82 [33:37<3:36:11, 185.31s/it]"
     ]
    },
    {
     "name": "stdout",
     "output_type": "stream",
     "text": [
      "Found star in Sector(s) 4 31\n",
      "Downloading URL https://mast.stsci.edu/api/v0.1/Download/file?uri=mast:HLSP/eleanor/postcards/s0004/1-4/hlsp_eleanor_tess_ffi_postcard-s0004-1-4-cal-0118-1996_tess_v2_bkg.fits to ./mastDownload/HLSP/hlsp_eleanor_tess_ffi_postcard-s0004-1-4-cal-0118-1996_tess_v2_pc/hlsp_eleanor_tess_ffi_postcard-s0004-1-4-cal-0118-1996_tess_v2_bkg.fits ... [Done]\n",
      "Downloading URL https://mast.stsci.edu/api/v0.1/Download/file?uri=mast:HLSP/eleanor/postcards/s0004/1-4/hlsp_eleanor_tess_ffi_postcard-s0004-1-4-cal-0118-1996_tess_v2_pc.fits to ./mastDownload/HLSP/hlsp_eleanor_tess_ffi_postcard-s0004-1-4-cal-0118-1996_tess_v2_pc/hlsp_eleanor_tess_ffi_postcard-s0004-1-4-cal-0118-1996_tess_v2_pc.fits ... [Done]\n",
      "Downloading URL https://mast.stsci.edu/api/v0.1/Download/file?uri=mast:HLSP/eleanor/postcards/s0004/1-4/hlsp_eleanor_tess_ffi_postcard-s0004-1-4_tess_v2_pm.txt to ./mastDownload/HLSP/hlsp_eleanor_tess_ffi_postcard-s0004-1-4-cal-0118-1996_tess_v2_pc/hlsp_eleanor_tess_ffi_postcard-s0004-1-4_tess_v2_pm.txt ... [Done]\n",
      "No eleanor postcard has been made for your target (yet). Using TessCut instead.\n",
      "Downloading URL https://mast.stsci.edu/tesscut/api/v0.1/astrocut?ra=41.254999999999995&dec=-2.4295277777777775&y=31&x=31&units=px&sector=31 to /Users/oliver hall/.eleanor/tesscut/tesscut_20210921180959.zip ... [Done]\n",
      "Inflating...\n",
      "No postcard object will be created for this target.\n"
     ]
    },
    {
     "data": {
      "application/vnd.jupyter.widget-view+json": {
       "model_id": "af92b7cd4a824679970a85dac3d8d00a",
       "version_major": 2,
       "version_minor": 0
      },
      "text/plain": [
       "  0%|          | 0/22621 [00:00<?, ?it/s]"
      ]
     },
     "metadata": {},
     "output_type": "display_data"
    },
    {
     "name": "stderr",
     "output_type": "stream",
     "text": [
      "\r",
      " 16%|██████▎                                 | 13/82 [36:40<3:32:30, 184.80s/it]"
     ]
    },
    {
     "name": "stdout",
     "output_type": "stream",
     "text": [
      "Found star in Sector(s) 5 6 32\n",
      "Downloading URL https://mast.stsci.edu/api/v0.1/Download/file?uri=mast:HLSP/eleanor/postcards/s0005/2-2/hlsp_eleanor_tess_ffi_postcard-s0005-2-2-cal-1784-1888_tess_v2_bkg.fits to ./mastDownload/HLSP/hlsp_eleanor_tess_ffi_postcard-s0005-2-2-cal-1784-1888_tess_v2_pc/hlsp_eleanor_tess_ffi_postcard-s0005-2-2-cal-1784-1888_tess_v2_bkg.fits ... [Done]\n",
      "Downloading URL https://mast.stsci.edu/api/v0.1/Download/file?uri=mast:HLSP/eleanor/postcards/s0005/2-2/hlsp_eleanor_tess_ffi_postcard-s0005-2-2-cal-1784-1888_tess_v2_pc.fits to ./mastDownload/HLSP/hlsp_eleanor_tess_ffi_postcard-s0005-2-2-cal-1784-1888_tess_v2_pc/hlsp_eleanor_tess_ffi_postcard-s0005-2-2-cal-1784-1888_tess_v2_pc.fits ... [Done]\n",
      "Downloading URL https://mast.stsci.edu/api/v0.1/Download/file?uri=mast:HLSP/eleanor/postcards/s0005/2-2/hlsp_eleanor_tess_ffi_postcard-s0005-2-2_tess_v2_pm.txt to ./mastDownload/HLSP/hlsp_eleanor_tess_ffi_postcard-s0005-2-2-cal-1784-1888_tess_v2_pc/hlsp_eleanor_tess_ffi_postcard-s0005-2-2_tess_v2_pm.txt ... [Done]\n",
      "Downloading URL https://mast.stsci.edu/api/v0.1/Download/file?uri=mast:HLSP/eleanor/postcards/s0006/2-1/hlsp_eleanor_tess_ffi_postcard-s0006-2-1-cal-0510-1888_tess_v2_bkg.fits to ./mastDownload/HLSP/hlsp_eleanor_tess_ffi_postcard-s0006-2-1-cal-0510-1888_tess_v2_pc/hlsp_eleanor_tess_ffi_postcard-s0006-2-1-cal-0510-1888_tess_v2_bkg.fits ... [Done]\n",
      "Downloading URL https://mast.stsci.edu/api/v0.1/Download/file?uri=mast:HLSP/eleanor/postcards/s0006/2-1/hlsp_eleanor_tess_ffi_postcard-s0006-2-1-cal-0510-1888_tess_v2_pc.fits to ./mastDownload/HLSP/hlsp_eleanor_tess_ffi_postcard-s0006-2-1-cal-0510-1888_tess_v2_pc/hlsp_eleanor_tess_ffi_postcard-s0006-2-1-cal-0510-1888_tess_v2_pc.fits ... [Done]\n",
      "Downloading URL https://mast.stsci.edu/api/v0.1/Download/file?uri=mast:HLSP/eleanor/postcards/s0006/2-1/hlsp_eleanor_tess_ffi_postcard-s0006-2-1_tess_v2_pm.txt to ./mastDownload/HLSP/hlsp_eleanor_tess_ffi_postcard-s0006-2-1-cal-0510-1888_tess_v2_pc/hlsp_eleanor_tess_ffi_postcard-s0006-2-1_tess_v2_pm.txt ... [Done]\n",
      "No eleanor postcard has been made for your target (yet). Using TessCut instead.\n",
      "Downloading URL https://mast.stsci.edu/tesscut/api/v0.1/astrocut?ra=82.36874999999999&dec=-19.299666666666667&y=31&x=31&units=px&sector=32 to /Users/oliver hall/.eleanor/tesscut/tesscut_20210921181405.zip ... [Done]\n",
      "Inflating...\n",
      "No postcard object will be created for this target.\n",
      "No postcard object will be created for this target.\n"
     ]
    },
    {
     "data": {
      "application/vnd.jupyter.widget-view+json": {
       "model_id": "d1f6c232bcc74fe492c4c7db18417893",
       "version_major": 2,
       "version_minor": 0
      },
      "text/plain": [
       "  0%|          | 0/22695 [00:00<?, ?it/s]"
      ]
     },
     "metadata": {},
     "output_type": "display_data"
    },
    {
     "name": "stderr",
     "output_type": "stream",
     "text": [
      "\r",
      " 17%|██████▊                                 | 14/82 [42:16<4:21:01, 230.32s/it]"
     ]
    },
    {
     "name": "stdout",
     "output_type": "stream",
     "text": [
      "Found star in Sector(s) 4 5 31\n",
      "Downloading URL https://mast.stsci.edu/api/v0.1/Download/file?uri=mast:HLSP/eleanor/postcards/s0004/3-1/hlsp_eleanor_tess_ffi_postcard-s0004-3-1-cal-1294-0700_tess_v2_bkg.fits to ./mastDownload/HLSP/hlsp_eleanor_tess_ffi_postcard-s0004-3-1-cal-1294-0700_tess_v2_pc/hlsp_eleanor_tess_ffi_postcard-s0004-3-1-cal-1294-0700_tess_v2_bkg.fits ... [Done]\n",
      "Downloading URL https://mast.stsci.edu/api/v0.1/Download/file?uri=mast:HLSP/eleanor/postcards/s0004/3-1/hlsp_eleanor_tess_ffi_postcard-s0004-3-1-cal-1294-0700_tess_v2_pc.fits to ./mastDownload/HLSP/hlsp_eleanor_tess_ffi_postcard-s0004-3-1-cal-1294-0700_tess_v2_pc/hlsp_eleanor_tess_ffi_postcard-s0004-3-1-cal-1294-0700_tess_v2_pc.fits ... [Done]\n",
      "Downloading URL https://mast.stsci.edu/api/v0.1/Download/file?uri=mast:HLSP/eleanor/postcards/s0004/3-1/hlsp_eleanor_tess_ffi_postcard-s0004-3-1_tess_v2_pm.txt to ./mastDownload/HLSP/hlsp_eleanor_tess_ffi_postcard-s0004-3-1-cal-1294-0700_tess_v2_pc/hlsp_eleanor_tess_ffi_postcard-s0004-3-1_tess_v2_pm.txt ... [Done]\n",
      "Downloading URL https://mast.stsci.edu/api/v0.1/Download/file?uri=mast:HLSP/eleanor/postcards/s0005/3-2/hlsp_eleanor_tess_ffi_postcard-s0005-3-2-cal-1588-0862_tess_v2_bkg.fits to ./mastDownload/HLSP/hlsp_eleanor_tess_ffi_postcard-s0005-3-2-cal-1588-0862_tess_v2_pc/hlsp_eleanor_tess_ffi_postcard-s0005-3-2-cal-1588-0862_tess_v2_bkg.fits ... [Done]\n",
      "Downloading URL https://mast.stsci.edu/api/v0.1/Download/file?uri=mast:HLSP/eleanor/postcards/s0005/3-2/hlsp_eleanor_tess_ffi_postcard-s0005-3-2-cal-1588-0862_tess_v2_pc.fits to ./mastDownload/HLSP/hlsp_eleanor_tess_ffi_postcard-s0005-3-2-cal-1588-0862_tess_v2_pc/hlsp_eleanor_tess_ffi_postcard-s0005-3-2-cal-1588-0862_tess_v2_pc.fits ... [Done]\n",
      "Downloading URL https://mast.stsci.edu/api/v0.1/Download/file?uri=mast:HLSP/eleanor/postcards/s0005/3-2/hlsp_eleanor_tess_ffi_postcard-s0005-3-2_tess_v2_pm.txt to ./mastDownload/HLSP/hlsp_eleanor_tess_ffi_postcard-s0005-3-2-cal-1588-0862_tess_v2_pc/hlsp_eleanor_tess_ffi_postcard-s0005-3-2_tess_v2_pm.txt ... [Done]\n",
      "No eleanor postcard has been made for your target (yet). Using TessCut instead.\n",
      "Downloading URL https://mast.stsci.edu/tesscut/api/v0.1/astrocut?ra=62.966249999999995&dec=-37.939722222222215&y=31&x=31&units=px&sector=31 to /Users/oliver hall/.eleanor/tesscut/tesscut_20210921181916.zip ... [Done]\n",
      "Inflating...\n",
      "No postcard object will be created for this target.\n",
      "No postcard object will be created for this target.\n"
     ]
    },
    {
     "data": {
      "application/vnd.jupyter.widget-view+json": {
       "model_id": "61bb3ba1c8cb4a93945a37d8487617e7",
       "version_major": 2,
       "version_minor": 0
      },
      "text/plain": [
       "  0%|          | 0/22622 [00:00<?, ?it/s]"
      ]
     },
     "metadata": {},
     "output_type": "display_data"
    },
    {
     "name": "stderr",
     "output_type": "stream",
     "text": [
      "\r",
      " 18%|███████▎                                | 15/82 [47:21<4:42:13, 252.74s/it]"
     ]
    },
    {
     "name": "stdout",
     "output_type": "stream",
     "text": [
      "Found star in Sector(s) 4 31\n",
      "Downloading URL https://mast.stsci.edu/api/v0.1/Download/file?uri=mast:HLSP/eleanor/postcards/s0004/1-4/hlsp_eleanor_tess_ffi_postcard-s0004-1-4-cal-0608-1942_tess_v2_bkg.fits to ./mastDownload/HLSP/hlsp_eleanor_tess_ffi_postcard-s0004-1-4-cal-0608-1942_tess_v2_pc/hlsp_eleanor_tess_ffi_postcard-s0004-1-4-cal-0608-1942_tess_v2_bkg.fits ... [Done]\n",
      "Downloading URL https://mast.stsci.edu/api/v0.1/Download/file?uri=mast:HLSP/eleanor/postcards/s0004/1-4/hlsp_eleanor_tess_ffi_postcard-s0004-1-4-cal-0608-1942_tess_v2_pc.fits to ./mastDownload/HLSP/hlsp_eleanor_tess_ffi_postcard-s0004-1-4-cal-0608-1942_tess_v2_pc/hlsp_eleanor_tess_ffi_postcard-s0004-1-4-cal-0608-1942_tess_v2_pc.fits ... [Done]\n",
      "Downloading URL https://mast.stsci.edu/api/v0.1/Download/file?uri=mast:HLSP/eleanor/postcards/s0004/1-4/hlsp_eleanor_tess_ffi_postcard-s0004-1-4_tess_v2_pm.txt to ./mastDownload/HLSP/hlsp_eleanor_tess_ffi_postcard-s0004-1-4-cal-0608-1942_tess_v2_pc/hlsp_eleanor_tess_ffi_postcard-s0004-1-4_tess_v2_pm.txt ... [Done]\n",
      "No eleanor postcard has been made for your target (yet). Using TessCut instead.\n",
      "Downloading URL https://mast.stsci.edu/tesscut/api/v0.1/astrocut?ra=37.745&dec=-3.051361111111111&y=31&x=31&units=px&sector=31 to /Users/oliver hall/.eleanor/tesscut/tesscut_20210921182341.zip ... [Done]\n",
      "Inflating...\n",
      "No postcard object will be created for this target.\n"
     ]
    },
    {
     "data": {
      "application/vnd.jupyter.widget-view+json": {
       "model_id": "f48a56a8cd28462d89cc3f7bc85f52df",
       "version_major": 2,
       "version_minor": 0
      },
      "text/plain": [
       "  0%|          | 0/22621 [00:00<?, ?it/s]"
      ]
     },
     "metadata": {},
     "output_type": "display_data"
    },
    {
     "name": "stderr",
     "output_type": "stream",
     "text": [
      "\r",
      " 20%|███████▊                                | 16/82 [50:26<4:15:48, 232.55s/it]"
     ]
    },
    {
     "name": "stdout",
     "output_type": "stream",
     "text": [
      "Found star in Sector(s) 2 29\n",
      "Downloading URL https://mast.stsci.edu/api/v0.1/Download/file?uri=mast:HLSP/eleanor/postcards/s0002/2-2/hlsp_eleanor_tess_ffi_postcard-s0002-2-2-cal-0510-1996_tess_v2_bkg.fits to ./mastDownload/HLSP/hlsp_eleanor_tess_ffi_postcard-s0002-2-2-cal-0510-1996_tess_v2_pc/hlsp_eleanor_tess_ffi_postcard-s0002-2-2-cal-0510-1996_tess_v2_bkg.fits ... [Done]\n",
      "Downloading URL https://mast.stsci.edu/api/v0.1/Download/file?uri=mast:HLSP/eleanor/postcards/s0002/2-2/hlsp_eleanor_tess_ffi_postcard-s0002-2-2-cal-0510-1996_tess_v2_pc.fits to ./mastDownload/HLSP/hlsp_eleanor_tess_ffi_postcard-s0002-2-2-cal-0510-1996_tess_v2_pc/hlsp_eleanor_tess_ffi_postcard-s0002-2-2-cal-0510-1996_tess_v2_pc.fits ... [Done]\n",
      "Downloading URL https://mast.stsci.edu/api/v0.1/Download/file?uri=mast:HLSP/eleanor/postcards/s0002/2-2/hlsp_eleanor_tess_ffi_postcard-s0002-2-2_tess_v2_pm.txt to ./mastDownload/HLSP/hlsp_eleanor_tess_ffi_postcard-s0002-2-2-cal-0510-1996_tess_v2_pc/hlsp_eleanor_tess_ffi_postcard-s0002-2-2_tess_v2_pm.txt ... [Done]\n",
      "No eleanor postcard has been made for your target (yet). Using TessCut instead.\n",
      "Downloading URL https://mast.stsci.edu/tesscut/api/v0.1/astrocut?ra=9.550833333333332&dec=-43.00688888888889&y=31&x=31&units=px&sector=29 to /Users/oliver hall/.eleanor/tesscut/tesscut_20210921182656.zip ... [Done]\n",
      "Inflating...\n",
      "No postcard object will be created for this target.\n"
     ]
    },
    {
     "data": {
      "application/vnd.jupyter.widget-view+json": {
       "model_id": "15b660afe9b54b3b83d0c9b289e9f547",
       "version_major": 2,
       "version_minor": 0
      },
      "text/plain": [
       "  0%|          | 0/22660 [00:00<?, ?it/s]"
      ]
     },
     "metadata": {},
     "output_type": "display_data"
    },
    {
     "name": "stderr",
     "output_type": "stream",
     "text": [
      "\r",
      " 21%|████████▎                               | 17/82 [53:55<4:04:03, 225.28s/it]"
     ]
    },
    {
     "name": "stdout",
     "output_type": "stream",
     "text": [
      "Found star in Sector(s) 4 30 31\n",
      "Downloading URL https://mast.stsci.edu/api/v0.1/Download/file?uri=mast:HLSP/eleanor/postcards/s0004/3-2/hlsp_eleanor_tess_ffi_postcard-s0004-3-2-cal-0118-0970_tess_v2_bkg.fits to ./mastDownload/HLSP/hlsp_eleanor_tess_ffi_postcard-s0004-3-2-cal-0118-0970_tess_v2_pc/hlsp_eleanor_tess_ffi_postcard-s0004-3-2-cal-0118-0970_tess_v2_bkg.fits ... [Done]\n",
      "Downloading URL https://mast.stsci.edu/api/v0.1/Download/file?uri=mast:HLSP/eleanor/postcards/s0004/3-2/hlsp_eleanor_tess_ffi_postcard-s0004-3-2-cal-0118-0970_tess_v2_pc.fits to ./mastDownload/HLSP/hlsp_eleanor_tess_ffi_postcard-s0004-3-2-cal-0118-0970_tess_v2_pc/hlsp_eleanor_tess_ffi_postcard-s0004-3-2-cal-0118-0970_tess_v2_pc.fits ... [Done]\n",
      "Downloading URL https://mast.stsci.edu/api/v0.1/Download/file?uri=mast:HLSP/eleanor/postcards/s0004/3-2/hlsp_eleanor_tess_ffi_postcard-s0004-3-2_tess_v2_pm.txt to ./mastDownload/HLSP/hlsp_eleanor_tess_ffi_postcard-s0004-3-2-cal-0118-0970_tess_v2_pc/hlsp_eleanor_tess_ffi_postcard-s0004-3-2_tess_v2_pm.txt ... [Done]\n",
      "No eleanor postcard has been made for your target (yet). Using TessCut instead.\n",
      "Downloading URL https://mast.stsci.edu/tesscut/api/v0.1/astrocut?ra=56.984583333333326&dec=-41.94025&y=31&x=31&units=px&sector=30 to /Users/oliver hall/.eleanor/tesscut/tesscut_20210921183028.zip ... [Done]\n",
      "Inflating...\n",
      "No eleanor postcard has been made for your target (yet). Using TessCut instead.\n",
      "Downloading URL https://mast.stsci.edu/tesscut/api/v0.1/astrocut?ra=56.984583333333326&dec=-41.94025&y=31&x=31&units=px&sector=31 to /Users/oliver hall/.eleanor/tesscut/tesscut_20210921183047.zip ... [Done]\n",
      "Inflating...\n",
      "No postcard object will be created for this target.\n"
     ]
    },
    {
     "data": {
      "application/vnd.jupyter.widget-view+json": {
       "model_id": "e19cc2054855410799f594404e3b8bed",
       "version_major": 2,
       "version_minor": 0
      },
      "text/plain": [
       "  0%|          | 0/22622 [00:00<?, ?it/s]"
      ]
     },
     "metadata": {},
     "output_type": "display_data"
    },
    {
     "name": "stderr",
     "output_type": "stream",
     "text": [
      "\r",
      " 22%|████████▎                             | 18/82 [1:00:08<4:47:45, 269.78s/it]"
     ]
    },
    {
     "name": "stdout",
     "output_type": "stream",
     "text": [
      "Found star in Sector(s) 5 32\n",
      "Downloading URL https://mast.stsci.edu/api/v0.1/Download/file?uri=mast:HLSP/eleanor/postcards/s0005/1-1/hlsp_eleanor_tess_ffi_postcard-s0005-1-1-cal-1784-0214_tess_v2_bkg.fits to ./mastDownload/HLSP/hlsp_eleanor_tess_ffi_postcard-s0005-1-1-cal-1784-0214_tess_v2_pc/hlsp_eleanor_tess_ffi_postcard-s0005-1-1-cal-1784-0214_tess_v2_bkg.fits ... [Done]\n",
      "Downloading URL https://mast.stsci.edu/api/v0.1/Download/file?uri=mast:HLSP/eleanor/postcards/s0005/1-1/hlsp_eleanor_tess_ffi_postcard-s0005-1-1-cal-1784-0214_tess_v2_pc.fits to ./mastDownload/HLSP/hlsp_eleanor_tess_ffi_postcard-s0005-1-1-cal-1784-0214_tess_v2_pc/hlsp_eleanor_tess_ffi_postcard-s0005-1-1-cal-1784-0214_tess_v2_pc.fits ... [Done]\n",
      "Downloading URL https://mast.stsci.edu/api/v0.1/Download/file?uri=mast:HLSP/eleanor/postcards/s0005/1-1/hlsp_eleanor_tess_ffi_postcard-s0005-1-1_tess_v2_pm.txt to ./mastDownload/HLSP/hlsp_eleanor_tess_ffi_postcard-s0005-1-1-cal-1784-0214_tess_v2_pc/hlsp_eleanor_tess_ffi_postcard-s0005-1-1_tess_v2_pm.txt ... [Done]\n",
      "No eleanor postcard has been made for your target (yet). Using TessCut instead.\n",
      "Downloading URL https://mast.stsci.edu/tesscut/api/v0.1/astrocut?ra=66.61291666666666&dec=-7.661027777777778&y=31&x=31&units=px&sector=32 to /Users/oliver hall/.eleanor/tesscut/tesscut_20210921183635.zip ... [Done]\n",
      "Inflating...\n",
      "No postcard object will be created for this target.\n"
     ]
    },
    {
     "data": {
      "application/vnd.jupyter.widget-view+json": {
       "model_id": "de08913375324bd887bc7db561e149e8",
       "version_major": 2,
       "version_minor": 0
      },
      "text/plain": [
       "  0%|          | 0/22701 [00:00<?, ?it/s]"
      ]
     },
     "metadata": {},
     "output_type": "display_data"
    },
    {
     "name": "stderr",
     "output_type": "stream",
     "text": [
      "\r",
      " 23%|████████▊                             | 19/82 [1:03:27<4:21:00, 248.57s/it]"
     ]
    },
    {
     "name": "stdout",
     "output_type": "stream",
     "text": [
      "Found star in Sector(s) 3 4 30 31\n",
      "Downloading URL https://mast.stsci.edu/api/v0.1/Download/file?uri=mast:HLSP/eleanor/postcards/s0003/2-2/hlsp_eleanor_tess_ffi_postcard-s0003-2-2-cal-1686-0322_tess_v2_bkg.fits to ./mastDownload/HLSP/hlsp_eleanor_tess_ffi_postcard-s0003-2-2-cal-1686-0322_tess_v2_pc/hlsp_eleanor_tess_ffi_postcard-s0003-2-2-cal-1686-0322_tess_v2_bkg.fits ... [Done]\n",
      "Downloading URL https://mast.stsci.edu/api/v0.1/Download/file?uri=mast:HLSP/eleanor/postcards/s0003/2-2/hlsp_eleanor_tess_ffi_postcard-s0003-2-2-cal-1686-0322_tess_v2_pc.fits to ./mastDownload/HLSP/hlsp_eleanor_tess_ffi_postcard-s0003-2-2-cal-1686-0322_tess_v2_pc/hlsp_eleanor_tess_ffi_postcard-s0003-2-2-cal-1686-0322_tess_v2_pc.fits ... [Done]\n",
      "Downloading URL https://mast.stsci.edu/api/v0.1/Download/file?uri=mast:HLSP/eleanor/postcards/s0003/2-2/hlsp_eleanor_tess_ffi_postcard-s0003-2-2_tess_v2_pm.txt to ./mastDownload/HLSP/hlsp_eleanor_tess_ffi_postcard-s0003-2-2-cal-1686-0322_tess_v2_pc/hlsp_eleanor_tess_ffi_postcard-s0003-2-2_tess_v2_pm.txt ... [Done]\n",
      "Downloading URL https://mast.stsci.edu/api/v0.1/Download/file?uri=mast:HLSP/eleanor/postcards/s0004/2-1/hlsp_eleanor_tess_ffi_postcard-s0004-2-1-cal-0804-0376_tess_v2_bkg.fits to ./mastDownload/HLSP/hlsp_eleanor_tess_ffi_postcard-s0004-2-1-cal-0804-0376_tess_v2_pc/hlsp_eleanor_tess_ffi_postcard-s0004-2-1-cal-0804-0376_tess_v2_bkg.fits ... [Done]\n",
      "Downloading URL https://mast.stsci.edu/api/v0.1/Download/file?uri=mast:HLSP/eleanor/postcards/s0004/2-1/hlsp_eleanor_tess_ffi_postcard-s0004-2-1-cal-0804-0376_tess_v2_pc.fits to ./mastDownload/HLSP/hlsp_eleanor_tess_ffi_postcard-s0004-2-1-cal-0804-0376_tess_v2_pc/hlsp_eleanor_tess_ffi_postcard-s0004-2-1-cal-0804-0376_tess_v2_pc.fits ... [Done]\n",
      "Downloading URL https://mast.stsci.edu/api/v0.1/Download/file?uri=mast:HLSP/eleanor/postcards/s0004/2-1/hlsp_eleanor_tess_ffi_postcard-s0004-2-1_tess_v2_pm.txt to ./mastDownload/HLSP/hlsp_eleanor_tess_ffi_postcard-s0004-2-1-cal-0804-0376_tess_v2_pc/hlsp_eleanor_tess_ffi_postcard-s0004-2-1_tess_v2_pm.txt ... [Done]\n",
      "No eleanor postcard has been made for your target (yet). Using TessCut instead.\n",
      "Downloading URL https://mast.stsci.edu/tesscut/api/v0.1/astrocut?ra=45.19541666666666&dec=-37.13375&y=31&x=31&units=px&sector=30 to /Users/oliver hall/.eleanor/tesscut/tesscut_20210921184023.zip ... [Done]\n",
      "Inflating...\n",
      "No eleanor postcard has been made for your target (yet). Using TessCut instead.\n",
      "Downloading URL https://mast.stsci.edu/tesscut/api/v0.1/astrocut?ra=45.19541666666666&dec=-37.13375&y=31&x=31&units=px&sector=31 to /Users/oliver hall/.eleanor/tesscut/tesscut_20210921184036.zip ... [Done]\n",
      "Inflating...\n",
      "No postcard object will be created for this target.\n",
      "No postcard object will be created for this target.\n"
     ]
    },
    {
     "data": {
      "application/vnd.jupyter.widget-view+json": {
       "model_id": "a68723c073bf42abaf59ad57969aa8ab",
       "version_major": 2,
       "version_minor": 0
      },
      "text/plain": [
       "  0%|          | 0/23366 [00:00<?, ?it/s]"
      ]
     },
     "metadata": {},
     "output_type": "display_data"
    },
    {
     "name": "stderr",
     "output_type": "stream",
     "text": [
      "\r",
      " 24%|█████████▎                            | 20/82 [1:11:36<5:31:32, 320.84s/it]"
     ]
    },
    {
     "name": "stdout",
     "output_type": "stream",
     "text": [
      "Found star in Sector(s) 5 31\n",
      "Downloading URL https://mast.stsci.edu/api/v0.1/Download/file?uri=mast:HLSP/eleanor/postcards/s0005/2-4/hlsp_eleanor_tess_ffi_postcard-s0005-2-4-cal-1784-0106_tess_v2_bkg.fits to ./mastDownload/HLSP/hlsp_eleanor_tess_ffi_postcard-s0005-2-4-cal-1784-0106_tess_v2_pc/hlsp_eleanor_tess_ffi_postcard-s0005-2-4-cal-1784-0106_tess_v2_bkg.fits ... [Done]\n",
      "Downloading URL https://mast.stsci.edu/api/v0.1/Download/file?uri=mast:HLSP/eleanor/postcards/s0005/2-4/hlsp_eleanor_tess_ffi_postcard-s0005-2-4-cal-1784-0106_tess_v2_pc.fits to ./mastDownload/HLSP/hlsp_eleanor_tess_ffi_postcard-s0005-2-4-cal-1784-0106_tess_v2_pc/hlsp_eleanor_tess_ffi_postcard-s0005-2-4-cal-1784-0106_tess_v2_pc.fits ... [Done]\n",
      "Downloading URL https://mast.stsci.edu/api/v0.1/Download/file?uri=mast:HLSP/eleanor/postcards/s0005/2-4/hlsp_eleanor_tess_ffi_postcard-s0005-2-4_tess_v2_pm.txt to ./mastDownload/HLSP/hlsp_eleanor_tess_ffi_postcard-s0005-2-4-cal-1784-0106_tess_v2_pc/hlsp_eleanor_tess_ffi_postcard-s0005-2-4_tess_v2_pm.txt ... [Done]\n",
      "No eleanor postcard has been made for your target (yet). Using TessCut instead.\n",
      "Downloading URL https://mast.stsci.edu/tesscut/api/v0.1/astrocut?ra=59.266666666666666&dec=-10.233583333333332&y=31&x=31&units=px&sector=31 to /Users/oliver hall/.eleanor/tesscut/tesscut_20210921184801.zip ... [Done]\n",
      "Inflating...\n",
      "No postcard object will be created for this target.\n"
     ]
    },
    {
     "data": {
      "application/vnd.jupyter.widget-view+json": {
       "model_id": "8392bfd7881b459bb960c35071696a6b",
       "version_major": 2,
       "version_minor": 0
      },
      "text/plain": [
       "  0%|          | 0/21811 [00:00<?, ?it/s]"
      ]
     },
     "metadata": {},
     "output_type": "display_data"
    },
    {
     "name": "stderr",
     "output_type": "stream",
     "text": [
      "\r",
      " 26%|█████████▋                            | 21/82 [1:14:56<4:49:14, 284.50s/it]"
     ]
    },
    {
     "name": "stdout",
     "output_type": "stream",
     "text": [
      "Found star in Sector(s) 5 32\n",
      "Downloading URL https://mast.stsci.edu/api/v0.1/Download/file?uri=mast:HLSP/eleanor/postcards/s0005/1-2/hlsp_eleanor_tess_ffi_postcard-s0005-1-2-cal-0412-0052_tess_v2_bkg.fits to ./mastDownload/HLSP/hlsp_eleanor_tess_ffi_postcard-s0005-1-2-cal-0412-0052_tess_v2_pc/hlsp_eleanor_tess_ffi_postcard-s0005-1-2-cal-0412-0052_tess_v2_bkg.fits ... [Done]\n",
      "Downloading URL https://mast.stsci.edu/api/v0.1/Download/file?uri=mast:HLSP/eleanor/postcards/s0005/1-2/hlsp_eleanor_tess_ffi_postcard-s0005-1-2-cal-0412-0052_tess_v2_pc.fits to ./mastDownload/HLSP/hlsp_eleanor_tess_ffi_postcard-s0005-1-2-cal-0412-0052_tess_v2_pc/hlsp_eleanor_tess_ffi_postcard-s0005-1-2-cal-0412-0052_tess_v2_pc.fits ... [Done]\n",
      "Downloading URL https://mast.stsci.edu/api/v0.1/Download/file?uri=mast:HLSP/eleanor/postcards/s0005/1-2/hlsp_eleanor_tess_ffi_postcard-s0005-1-2_tess_v2_pm.txt to ./mastDownload/HLSP/hlsp_eleanor_tess_ffi_postcard-s0005-1-2-cal-0412-0052_tess_v2_pc/hlsp_eleanor_tess_ffi_postcard-s0005-1-2_tess_v2_pm.txt ... [Done]\n",
      "No eleanor postcard has been made for your target (yet). Using TessCut instead.\n",
      "Downloading URL https://mast.stsci.edu/tesscut/api/v0.1/astrocut?ra=71.55124999999998&dec=-7.540111111111111&y=31&x=31&units=px&sector=32 to /Users/oliver hall/.eleanor/tesscut/tesscut_20210921185121.zip ... [Done]\n",
      "Inflating...\n",
      "No postcard object will be created for this target.\n"
     ]
    },
    {
     "data": {
      "application/vnd.jupyter.widget-view+json": {
       "model_id": "003106d374434433a8acb3831d38cf31",
       "version_major": 2,
       "version_minor": 0
      },
      "text/plain": [
       "  0%|          | 0/22705 [00:00<?, ?it/s]"
      ]
     },
     "metadata": {},
     "output_type": "display_data"
    },
    {
     "name": "stderr",
     "output_type": "stream",
     "text": [
      "\r",
      " 27%|██████████▏                           | 22/82 [1:18:13<4:18:04, 258.07s/it]"
     ]
    },
    {
     "name": "stdout",
     "output_type": "stream",
     "text": [
      "Found star in Sector(s) 5 31\n",
      "Downloading URL https://mast.stsci.edu/api/v0.1/Download/file?uri=mast:HLSP/eleanor/postcards/s0005/1-1/hlsp_eleanor_tess_ffi_postcard-s0005-1-1-cal-0412-0646_tess_v2_bkg.fits to ./mastDownload/HLSP/hlsp_eleanor_tess_ffi_postcard-s0005-1-1-cal-0412-0646_tess_v2_pc/hlsp_eleanor_tess_ffi_postcard-s0005-1-1-cal-0412-0646_tess_v2_bkg.fits ... [Done]\n",
      "Downloading URL https://mast.stsci.edu/api/v0.1/Download/file?uri=mast:HLSP/eleanor/postcards/s0005/1-1/hlsp_eleanor_tess_ffi_postcard-s0005-1-1-cal-0412-0646_tess_v2_pc.fits to ./mastDownload/HLSP/hlsp_eleanor_tess_ffi_postcard-s0005-1-1-cal-0412-0646_tess_v2_pc/hlsp_eleanor_tess_ffi_postcard-s0005-1-1-cal-0412-0646_tess_v2_pc.fits ... [Done]\n",
      "Downloading URL https://mast.stsci.edu/api/v0.1/Download/file?uri=mast:HLSP/eleanor/postcards/s0005/1-1/hlsp_eleanor_tess_ffi_postcard-s0005-1-1_tess_v2_pm.txt to ./mastDownload/HLSP/hlsp_eleanor_tess_ffi_postcard-s0005-1-1-cal-0412-0646_tess_v2_pc/hlsp_eleanor_tess_ffi_postcard-s0005-1-1_tess_v2_pm.txt ... [Done]\n",
      "No eleanor postcard has been made for your target (yet). Using TessCut instead.\n",
      "Downloading URL https://mast.stsci.edu/tesscut/api/v0.1/astrocut?ra=58.504166666666656&dec=-6.237388888888889&y=31&x=31&units=px&sector=31 to /Users/oliver hall/.eleanor/tesscut/tesscut_20210921185439.zip ... [Done]\n",
      "Inflating...\n",
      "No postcard object will be created for this target.\n"
     ]
    },
    {
     "data": {
      "application/vnd.jupyter.widget-view+json": {
       "model_id": "7739154ceb3844108abb6401e783fde3",
       "version_major": 2,
       "version_minor": 0
      },
      "text/plain": [
       "  0%|          | 0/21808 [00:00<?, ?it/s]"
      ]
     },
     "metadata": {},
     "output_type": "display_data"
    },
    {
     "name": "stderr",
     "output_type": "stream",
     "text": [
      "\r",
      " 28%|██████████▋                           | 23/82 [1:21:29<3:55:34, 239.57s/it]"
     ]
    },
    {
     "name": "stdout",
     "output_type": "stream",
     "text": [
      "Found star in Sector(s) 5 32\n",
      "Downloading URL https://mast.stsci.edu/api/v0.1/Download/file?uri=mast:HLSP/eleanor/postcards/s0005/1-1/hlsp_eleanor_tess_ffi_postcard-s0005-1-1-cal-1784-1078_tess_v2_bkg.fits to ./mastDownload/HLSP/hlsp_eleanor_tess_ffi_postcard-s0005-1-1-cal-1784-1078_tess_v2_pc/hlsp_eleanor_tess_ffi_postcard-s0005-1-1-cal-1784-1078_tess_v2_bkg.fits ... [Done]\n",
      "Downloading URL https://mast.stsci.edu/api/v0.1/Download/file?uri=mast:HLSP/eleanor/postcards/s0005/1-1/hlsp_eleanor_tess_ffi_postcard-s0005-1-1-cal-1784-1078_tess_v2_pc.fits to ./mastDownload/HLSP/hlsp_eleanor_tess_ffi_postcard-s0005-1-1-cal-1784-1078_tess_v2_pc/hlsp_eleanor_tess_ffi_postcard-s0005-1-1-cal-1784-1078_tess_v2_pc.fits ... [Done]\n",
      "Downloading URL https://mast.stsci.edu/api/v0.1/Download/file?uri=mast:HLSP/eleanor/postcards/s0005/1-1/hlsp_eleanor_tess_ffi_postcard-s0005-1-1_tess_v2_pm.txt to ./mastDownload/HLSP/hlsp_eleanor_tess_ffi_postcard-s0005-1-1-cal-1784-1078_tess_v2_pc/hlsp_eleanor_tess_ffi_postcard-s0005-1-1_tess_v2_pm.txt ... [Done]\n",
      "No eleanor postcard has been made for your target (yet). Using TessCut instead.\n",
      "Downloading URL https://mast.stsci.edu/tesscut/api/v0.1/astrocut?ra=65.97749999999999&dec=-2.5620555555555553&y=31&x=31&units=px&sector=32 to /Users/oliver hall/.eleanor/tesscut/tesscut_20210921185756.zip ... [Done]\n",
      "Inflating...\n",
      "No postcard object will be created for this target.\n"
     ]
    },
    {
     "data": {
      "application/vnd.jupyter.widget-view+json": {
       "model_id": "342d9ad8a24343ad8582a7cd2d4f4c02",
       "version_major": 2,
       "version_minor": 0
      },
      "text/plain": [
       "  0%|          | 0/22710 [00:00<?, ?it/s]"
      ]
     },
     "metadata": {},
     "output_type": "display_data"
    },
    {
     "name": "stderr",
     "output_type": "stream",
     "text": [
      "\r",
      " 29%|███████████                           | 24/82 [1:24:59<3:43:03, 230.76s/it]"
     ]
    },
    {
     "name": "stdout",
     "output_type": "stream",
     "text": [
      "Found star in Sector(s) 5 32\n",
      "Downloading URL https://mast.stsci.edu/api/v0.1/Download/file?uri=mast:HLSP/eleanor/postcards/s0005/2-4/hlsp_eleanor_tess_ffi_postcard-s0005-2-4-cal-0118-0106_tess_v2_bkg.fits to ./mastDownload/HLSP/hlsp_eleanor_tess_ffi_postcard-s0005-2-4-cal-0118-0106_tess_v2_pc/hlsp_eleanor_tess_ffi_postcard-s0005-2-4-cal-0118-0106_tess_v2_bkg.fits ... [Done]\n",
      "Downloading URL https://mast.stsci.edu/api/v0.1/Download/file?uri=mast:HLSP/eleanor/postcards/s0005/2-4/hlsp_eleanor_tess_ffi_postcard-s0005-2-4-cal-0118-0106_tess_v2_pc.fits to ./mastDownload/HLSP/hlsp_eleanor_tess_ffi_postcard-s0005-2-4-cal-0118-0106_tess_v2_pc/hlsp_eleanor_tess_ffi_postcard-s0005-2-4-cal-0118-0106_tess_v2_pc.fits ... [Done]\n",
      "Downloading URL https://mast.stsci.edu/api/v0.1/Download/file?uri=mast:HLSP/eleanor/postcards/s0005/2-4/hlsp_eleanor_tess_ffi_postcard-s0005-2-4_tess_v2_pm.txt to ./mastDownload/HLSP/hlsp_eleanor_tess_ffi_postcard-s0005-2-4-cal-0118-0106_tess_v2_pc/hlsp_eleanor_tess_ffi_postcard-s0005-2-4_tess_v2_pm.txt ... [Done]\n",
      "No eleanor postcard has been made for your target (yet). Using TessCut instead.\n",
      "Downloading URL https://mast.stsci.edu/tesscut/api/v0.1/astrocut?ra=68.67833333333331&dec=-8.955138888888888&y=31&x=31&units=px&sector=32 to /Users/oliver hall/.eleanor/tesscut/tesscut_20210921190124.zip ... [Done]\n",
      "Inflating...\n",
      "No postcard object will be created for this target.\n"
     ]
    },
    {
     "data": {
      "application/vnd.jupyter.widget-view+json": {
       "model_id": "1a11e717fe6d4b5dbe7043360133f66d",
       "version_major": 2,
       "version_minor": 0
      },
      "text/plain": [
       "  0%|          | 0/22704 [00:00<?, ?it/s]"
      ]
     },
     "metadata": {},
     "output_type": "display_data"
    },
    {
     "name": "stderr",
     "output_type": "stream",
     "text": [
      "\r",
      " 30%|███████████▌                          | 25/82 [1:28:17<3:29:46, 220.81s/it]"
     ]
    },
    {
     "name": "stdout",
     "output_type": "stream",
     "text": [
      "Found star in Sector(s) 4 31\n",
      "Downloading URL https://mast.stsci.edu/api/v0.1/Download/file?uri=mast:HLSP/eleanor/postcards/s0004/2-3/hlsp_eleanor_tess_ffi_postcard-s0004-2-3-cal-1882-1186_tess_v2_bkg.fits to ./mastDownload/HLSP/hlsp_eleanor_tess_ffi_postcard-s0004-2-3-cal-1882-1186_tess_v2_pc/hlsp_eleanor_tess_ffi_postcard-s0004-2-3-cal-1882-1186_tess_v2_bkg.fits ... [Done]\n",
      "Downloading URL https://mast.stsci.edu/api/v0.1/Download/file?uri=mast:HLSP/eleanor/postcards/s0004/2-3/hlsp_eleanor_tess_ffi_postcard-s0004-2-3-cal-1882-1186_tess_v2_pc.fits to ./mastDownload/HLSP/hlsp_eleanor_tess_ffi_postcard-s0004-2-3-cal-1882-1186_tess_v2_pc/hlsp_eleanor_tess_ffi_postcard-s0004-2-3-cal-1882-1186_tess_v2_pc.fits ... [Done]\n",
      "Downloading URL https://mast.stsci.edu/api/v0.1/Download/file?uri=mast:HLSP/eleanor/postcards/s0004/2-3/hlsp_eleanor_tess_ffi_postcard-s0004-2-3_tess_v2_pm.txt to ./mastDownload/HLSP/hlsp_eleanor_tess_ffi_postcard-s0004-2-3-cal-1882-1186_tess_v2_pc/hlsp_eleanor_tess_ffi_postcard-s0004-2-3_tess_v2_pm.txt ... [Done]\n",
      "No eleanor postcard has been made for your target (yet). Using TessCut instead.\n",
      "Downloading URL https://mast.stsci.edu/tesscut/api/v0.1/astrocut?ra=49.51583333333332&dec=-19.737277777777777&y=31&x=31&units=px&sector=31 to /Users/oliver hall/.eleanor/tesscut/tesscut_20210921190447.zip ... [Done]\n",
      "Inflating...\n",
      "No postcard object will be created for this target.\n"
     ]
    },
    {
     "data": {
      "application/vnd.jupyter.widget-view+json": {
       "model_id": "f7255d6469a042eda9b11657b3dd13df",
       "version_major": 2,
       "version_minor": 0
      },
      "text/plain": [
       "  0%|          | 0/22621 [00:00<?, ?it/s]"
      ]
     },
     "metadata": {},
     "output_type": "display_data"
    },
    {
     "name": "stderr",
     "output_type": "stream",
     "text": [
      "\r",
      " 32%|████████████                          | 26/82 [1:31:28<3:17:38, 211.76s/it]"
     ]
    },
    {
     "name": "stdout",
     "output_type": "stream",
     "text": [
      "Found star in Sector(s) 5 5 32 32\n",
      "Downloading URL https://mast.stsci.edu/api/v0.1/Download/file?uri=mast:HLSP/eleanor/postcards/s0005/1-2/hlsp_eleanor_tess_ffi_postcard-s0005-1-2-cal-0510-0052_tess_v2_bkg.fits to ./mastDownload/HLSP/hlsp_eleanor_tess_ffi_postcard-s0005-1-2-cal-0510-0052_tess_v2_pc/hlsp_eleanor_tess_ffi_postcard-s0005-1-2-cal-0510-0052_tess_v2_bkg.fits ... [Done]\n",
      "Downloading URL https://mast.stsci.edu/api/v0.1/Download/file?uri=mast:HLSP/eleanor/postcards/s0005/1-2/hlsp_eleanor_tess_ffi_postcard-s0005-1-2-cal-0510-0052_tess_v2_pc.fits to ./mastDownload/HLSP/hlsp_eleanor_tess_ffi_postcard-s0005-1-2-cal-0510-0052_tess_v2_pc/hlsp_eleanor_tess_ffi_postcard-s0005-1-2-cal-0510-0052_tess_v2_pc.fits ... [Done]\n",
      "Downloading URL https://mast.stsci.edu/api/v0.1/Download/file?uri=mast:HLSP/eleanor/postcards/s0005/1-2/hlsp_eleanor_tess_ffi_postcard-s0005-1-2_tess_v2_pm.txt to ./mastDownload/HLSP/hlsp_eleanor_tess_ffi_postcard-s0005-1-2-cal-0510-0052_tess_v2_pc/hlsp_eleanor_tess_ffi_postcard-s0005-1-2_tess_v2_pm.txt ... [Done]\n"
     ]
    },
    {
     "name": "stderr",
     "output_type": "stream",
     "text": [
      "INFO:astroquery:Found cached file ./mastDownload/HLSP/hlsp_eleanor_tess_ffi_postcard-s0005-1-2-cal-0510-0052_tess_v2_pc/hlsp_eleanor_tess_ffi_postcard-s0005-1-2-cal-0510-0052_tess_v2_bkg.fits with expected size 73658880.\n"
     ]
    },
    {
     "name": "stdout",
     "output_type": "stream",
     "text": [
      "INFO: Found cached file ./mastDownload/HLSP/hlsp_eleanor_tess_ffi_postcard-s0005-1-2-cal-0510-0052_tess_v2_pc/hlsp_eleanor_tess_ffi_postcard-s0005-1-2-cal-0510-0052_tess_v2_bkg.fits with expected size 73658880. [astroquery.query]\n"
     ]
    },
    {
     "name": "stderr",
     "output_type": "stream",
     "text": [
      "INFO:astroquery:Found cached file ./mastDownload/HLSP/hlsp_eleanor_tess_ffi_postcard-s0005-1-2-cal-0510-0052_tess_v2_pc/hlsp_eleanor_tess_ffi_postcard-s0005-1-2-cal-0510-0052_tess_v2_pc.fits with expected size 147421440.\n"
     ]
    },
    {
     "name": "stdout",
     "output_type": "stream",
     "text": [
      "INFO: Found cached file ./mastDownload/HLSP/hlsp_eleanor_tess_ffi_postcard-s0005-1-2-cal-0510-0052_tess_v2_pc/hlsp_eleanor_tess_ffi_postcard-s0005-1-2-cal-0510-0052_tess_v2_pc.fits with expected size 147421440. [astroquery.query]\n"
     ]
    },
    {
     "name": "stderr",
     "output_type": "stream",
     "text": [
      "INFO:astroquery:Found cached file ./mastDownload/HLSP/hlsp_eleanor_tess_ffi_postcard-s0005-1-2-cal-0510-0052_tess_v2_pc/hlsp_eleanor_tess_ffi_postcard-s0005-1-2_tess_v2_pm.txt with expected size 222649.\n"
     ]
    },
    {
     "name": "stdout",
     "output_type": "stream",
     "text": [
      "INFO: Found cached file ./mastDownload/HLSP/hlsp_eleanor_tess_ffi_postcard-s0005-1-2-cal-0510-0052_tess_v2_pc/hlsp_eleanor_tess_ffi_postcard-s0005-1-2_tess_v2_pm.txt with expected size 222649. [astroquery.query]\n",
      "No eleanor postcard has been made for your target (yet). Using TessCut instead.\n",
      "Downloading URL https://mast.stsci.edu/tesscut/api/v0.1/astrocut?ra=71.99249999999999&dec=-7.823666666666666&y=31&x=31&units=px&sector=32 to /Users/oliver hall/.eleanor/tesscut/tesscut_20210921190755.zip ... [Done]\n",
      "Inflating...\n",
      "No eleanor postcard has been made for your target (yet). Using TessCut instead.\n"
     ]
    },
    {
     "name": "stderr",
     "output_type": "stream",
     "text": [
      "\r",
      " 33%|████████████▌                         | 27/82 [1:32:37<2:35:01, 169.13s/it]"
     ]
    },
    {
     "name": "stdout",
     "output_type": "stream",
     "text": [
      "Found star in Sector(s) 5 6 32\n",
      "Downloading URL https://mast.stsci.edu/api/v0.1/Download/file?uri=mast:HLSP/eleanor/postcards/s0005/2-3/hlsp_eleanor_tess_ffi_postcard-s0005-2-3-cal-0118-1078_tess_v2_bkg.fits to ./mastDownload/HLSP/hlsp_eleanor_tess_ffi_postcard-s0005-2-3-cal-0118-1078_tess_v2_pc/hlsp_eleanor_tess_ffi_postcard-s0005-2-3-cal-0118-1078_tess_v2_bkg.fits ... [Done]\n",
      "Downloading URL https://mast.stsci.edu/api/v0.1/Download/file?uri=mast:HLSP/eleanor/postcards/s0005/2-3/hlsp_eleanor_tess_ffi_postcard-s0005-2-3-cal-0118-1078_tess_v2_pc.fits to ./mastDownload/HLSP/hlsp_eleanor_tess_ffi_postcard-s0005-2-3-cal-0118-1078_tess_v2_pc/hlsp_eleanor_tess_ffi_postcard-s0005-2-3-cal-0118-1078_tess_v2_pc.fits ... [Done]\n",
      "Downloading URL https://mast.stsci.edu/api/v0.1/Download/file?uri=mast:HLSP/eleanor/postcards/s0005/2-3/hlsp_eleanor_tess_ffi_postcard-s0005-2-3_tess_v2_pm.txt to ./mastDownload/HLSP/hlsp_eleanor_tess_ffi_postcard-s0005-2-3-cal-0118-1078_tess_v2_pc/hlsp_eleanor_tess_ffi_postcard-s0005-2-3_tess_v2_pm.txt ... [Done]\n",
      "Downloading URL https://mast.stsci.edu/api/v0.1/Download/file?uri=mast:HLSP/eleanor/postcards/s0006/2-4/hlsp_eleanor_tess_ffi_postcard-s0006-2-4-cal-1882-1078_tess_v2_bkg.fits to ./mastDownload/HLSP/hlsp_eleanor_tess_ffi_postcard-s0006-2-4-cal-1882-1078_tess_v2_pc/hlsp_eleanor_tess_ffi_postcard-s0006-2-4-cal-1882-1078_tess_v2_bkg.fits ... [Done]\n",
      "Downloading URL https://mast.stsci.edu/api/v0.1/Download/file?uri=mast:HLSP/eleanor/postcards/s0006/2-4/hlsp_eleanor_tess_ffi_postcard-s0006-2-4-cal-1882-1078_tess_v2_pc.fits to ./mastDownload/HLSP/hlsp_eleanor_tess_ffi_postcard-s0006-2-4-cal-1882-1078_tess_v2_pc/hlsp_eleanor_tess_ffi_postcard-s0006-2-4-cal-1882-1078_tess_v2_pc.fits ... [Done]\n",
      "Downloading URL https://mast.stsci.edu/api/v0.1/Download/file?uri=mast:HLSP/eleanor/postcards/s0006/2-4/hlsp_eleanor_tess_ffi_postcard-s0006-2-4_tess_v2_pm.txt to ./mastDownload/HLSP/hlsp_eleanor_tess_ffi_postcard-s0006-2-4-cal-1882-1078_tess_v2_pc/hlsp_eleanor_tess_ffi_postcard-s0006-2-4_tess_v2_pm.txt ... [Done]\n",
      "No eleanor postcard has been made for your target (yet). Using TessCut instead.\n",
      "Downloading URL https://mast.stsci.edu/tesscut/api/v0.1/astrocut?ra=81.625&dec=-12.022527777777778&y=31&x=31&units=px&sector=32 to /Users/oliver hall/.eleanor/tesscut/tesscut_20210921190931.zip ... [Done]\n",
      "Inflating...\n",
      "No postcard object will be created for this target.\n",
      "No postcard object will be created for this target.\n"
     ]
    },
    {
     "data": {
      "application/vnd.jupyter.widget-view+json": {
       "model_id": "28b4b5567fd34a0a9bfbbec20686c4b5",
       "version_major": 2,
       "version_minor": 0
      },
      "text/plain": [
       "  0%|          | 0/22702 [00:00<?, ?it/s]"
      ]
     },
     "metadata": {},
     "output_type": "display_data"
    },
    {
     "name": "stderr",
     "output_type": "stream",
     "text": [
      "\r",
      " 34%|████████████▉                         | 28/82 [1:37:38<3:07:54, 208.78s/it]"
     ]
    },
    {
     "name": "stdout",
     "output_type": "stream",
     "text": [
      "Found star in Sector(s) 4 5 31\n",
      "Downloading URL https://mast.stsci.edu/api/v0.1/Download/file?uri=mast:HLSP/eleanor/postcards/s0004/2-2/hlsp_eleanor_tess_ffi_postcard-s0004-2-2-cal-1392-1672_tess_v2_bkg.fits to ./mastDownload/HLSP/hlsp_eleanor_tess_ffi_postcard-s0004-2-2-cal-1392-1672_tess_v2_pc/hlsp_eleanor_tess_ffi_postcard-s0004-2-2-cal-1392-1672_tess_v2_bkg.fits ... [Done]\n",
      "Downloading URL https://mast.stsci.edu/api/v0.1/Download/file?uri=mast:HLSP/eleanor/postcards/s0004/2-2/hlsp_eleanor_tess_ffi_postcard-s0004-2-2-cal-1392-1672_tess_v2_pc.fits to ./mastDownload/HLSP/hlsp_eleanor_tess_ffi_postcard-s0004-2-2-cal-1392-1672_tess_v2_pc/hlsp_eleanor_tess_ffi_postcard-s0004-2-2-cal-1392-1672_tess_v2_pc.fits ... [Done]\n",
      "Downloading URL https://mast.stsci.edu/api/v0.1/Download/file?uri=mast:HLSP/eleanor/postcards/s0004/2-2/hlsp_eleanor_tess_ffi_postcard-s0004-2-2_tess_v2_pm.txt to ./mastDownload/HLSP/hlsp_eleanor_tess_ffi_postcard-s0004-2-2-cal-1392-1672_tess_v2_pc/hlsp_eleanor_tess_ffi_postcard-s0004-2-2_tess_v2_pm.txt ... [Done]\n",
      "Downloading URL https://mast.stsci.edu/api/v0.1/Download/file?uri=mast:HLSP/eleanor/postcards/s0005/2-1/hlsp_eleanor_tess_ffi_postcard-s0005-2-1-cal-0216-1618_tess_v2_bkg.fits to ./mastDownload/HLSP/hlsp_eleanor_tess_ffi_postcard-s0005-2-1-cal-0216-1618_tess_v2_pc/hlsp_eleanor_tess_ffi_postcard-s0005-2-1-cal-0216-1618_tess_v2_bkg.fits ... [Done]\n",
      "Downloading URL https://mast.stsci.edu/api/v0.1/Download/file?uri=mast:HLSP/eleanor/postcards/s0005/2-1/hlsp_eleanor_tess_ffi_postcard-s0005-2-1-cal-0216-1618_tess_v2_pc.fits to ./mastDownload/HLSP/hlsp_eleanor_tess_ffi_postcard-s0005-2-1-cal-0216-1618_tess_v2_pc/hlsp_eleanor_tess_ffi_postcard-s0005-2-1-cal-0216-1618_tess_v2_pc.fits ... [Done]\n",
      "Downloading URL https://mast.stsci.edu/api/v0.1/Download/file?uri=mast:HLSP/eleanor/postcards/s0005/2-1/hlsp_eleanor_tess_ffi_postcard-s0005-2-1_tess_v2_pm.txt to ./mastDownload/HLSP/hlsp_eleanor_tess_ffi_postcard-s0005-2-1-cal-0216-1618_tess_v2_pc/hlsp_eleanor_tess_ffi_postcard-s0005-2-1_tess_v2_pm.txt ... [Done]\n",
      "No eleanor postcard has been made for your target (yet). Using TessCut instead.\n",
      "Downloading URL https://mast.stsci.edu/tesscut/api/v0.1/astrocut?ra=59.396249999999995&dec=-24.47836111111111&y=31&x=31&units=px&sector=31 to /Users/oliver hall/.eleanor/tesscut/tesscut_20210921191433.zip ... [Done]\n",
      "Inflating...\n",
      "No postcard object will be created for this target.\n",
      "No postcard object will be created for this target.\n"
     ]
    },
    {
     "data": {
      "application/vnd.jupyter.widget-view+json": {
       "model_id": "46f4ab484d9b4158b5c08fd5f92bf198",
       "version_major": 2,
       "version_minor": 0
      },
      "text/plain": [
       "  0%|          | 0/22622 [00:00<?, ?it/s]"
      ]
     },
     "metadata": {},
     "output_type": "display_data"
    },
    {
     "name": "stderr",
     "output_type": "stream",
     "text": [
      "\r",
      " 35%|█████████████▍                        | 29/82 [1:42:37<3:28:11, 235.68s/it]"
     ]
    },
    {
     "name": "stdout",
     "output_type": "stream",
     "text": [
      "Found star in Sector(s) 5 31\n",
      "Downloading URL https://mast.stsci.edu/api/v0.1/Download/file?uri=mast:HLSP/eleanor/postcards/s0005/1-1/hlsp_eleanor_tess_ffi_postcard-s0005-1-1-cal-0118-0592_tess_v2_bkg.fits to ./mastDownload/HLSP/hlsp_eleanor_tess_ffi_postcard-s0005-1-1-cal-0118-0592_tess_v2_pc/hlsp_eleanor_tess_ffi_postcard-s0005-1-1-cal-0118-0592_tess_v2_bkg.fits ... [Done]\n",
      "Downloading URL https://mast.stsci.edu/api/v0.1/Download/file?uri=mast:HLSP/eleanor/postcards/s0005/1-1/hlsp_eleanor_tess_ffi_postcard-s0005-1-1-cal-0118-0592_tess_v2_pc.fits to ./mastDownload/HLSP/hlsp_eleanor_tess_ffi_postcard-s0005-1-1-cal-0118-0592_tess_v2_pc/hlsp_eleanor_tess_ffi_postcard-s0005-1-1-cal-0118-0592_tess_v2_pc.fits ... [Done]\n",
      "Downloading URL https://mast.stsci.edu/api/v0.1/Download/file?uri=mast:HLSP/eleanor/postcards/s0005/1-1/hlsp_eleanor_tess_ffi_postcard-s0005-1-1_tess_v2_pm.txt to ./mastDownload/HLSP/hlsp_eleanor_tess_ffi_postcard-s0005-1-1-cal-0118-0592_tess_v2_pc/hlsp_eleanor_tess_ffi_postcard-s0005-1-1_tess_v2_pm.txt ... [Done]\n",
      "No eleanor postcard has been made for your target (yet). Using TessCut instead.\n",
      "Downloading URL https://mast.stsci.edu/tesscut/api/v0.1/astrocut?ra=57.15958333333332&dec=-6.6979444444444445&y=31&x=31&units=px&sector=31 to /Users/oliver hall/.eleanor/tesscut/tesscut_20210921191906.zip ... [Done]\n",
      "Inflating...\n",
      "No postcard object will be created for this target.\n"
     ]
    },
    {
     "data": {
      "application/vnd.jupyter.widget-view+json": {
       "model_id": "21b7a4e897d14b5f8a7cba749dcde1c7",
       "version_major": 2,
       "version_minor": 0
      },
      "text/plain": [
       "  0%|          | 0/21814 [00:00<?, ?it/s]"
      ]
     },
     "metadata": {},
     "output_type": "display_data"
    },
    {
     "name": "stderr",
     "output_type": "stream",
     "text": [
      "\r",
      " 37%|█████████████▉                        | 30/82 [1:45:53<3:14:03, 223.91s/it]"
     ]
    },
    {
     "name": "stdout",
     "output_type": "stream",
     "text": [
      "Found star in Sector(s) 5 32\n",
      "Downloading URL https://mast.stsci.edu/api/v0.1/Download/file?uri=mast:HLSP/eleanor/postcards/s0005/1-1/hlsp_eleanor_tess_ffi_postcard-s0005-1-1-cal-1490-0052_tess_v2_bkg.fits to ./mastDownload/HLSP/hlsp_eleanor_tess_ffi_postcard-s0005-1-1-cal-1490-0052_tess_v2_pc/hlsp_eleanor_tess_ffi_postcard-s0005-1-1-cal-1490-0052_tess_v2_bkg.fits ... [Done]\n",
      "Downloading URL https://mast.stsci.edu/api/v0.1/Download/file?uri=mast:HLSP/eleanor/postcards/s0005/1-1/hlsp_eleanor_tess_ffi_postcard-s0005-1-1-cal-1490-0052_tess_v2_pc.fits to ./mastDownload/HLSP/hlsp_eleanor_tess_ffi_postcard-s0005-1-1-cal-1490-0052_tess_v2_pc/hlsp_eleanor_tess_ffi_postcard-s0005-1-1-cal-1490-0052_tess_v2_pc.fits ... [Done]\n",
      "Downloading URL https://mast.stsci.edu/api/v0.1/Download/file?uri=mast:HLSP/eleanor/postcards/s0005/1-1/hlsp_eleanor_tess_ffi_postcard-s0005-1-1_tess_v2_pm.txt to ./mastDownload/HLSP/hlsp_eleanor_tess_ffi_postcard-s0005-1-1-cal-1490-0052_tess_v2_pc/hlsp_eleanor_tess_ffi_postcard-s0005-1-1_tess_v2_pm.txt ... [Done]\n",
      "No eleanor postcard has been made for your target (yet). Using TessCut instead.\n",
      "Downloading URL https://mast.stsci.edu/tesscut/api/v0.1/astrocut?ra=65.47166666666665&dec=-8.72113888888889&y=31&x=31&units=px&sector=32 to /Users/oliver hall/.eleanor/tesscut/tesscut_20210921192217.zip ... [Done]\n",
      "Inflating...\n",
      "No postcard object will be created for this target.\n"
     ]
    },
    {
     "data": {
      "application/vnd.jupyter.widget-view+json": {
       "model_id": "d8af62bb08a949979e83a294f2f381e6",
       "version_major": 2,
       "version_minor": 0
      },
      "text/plain": [
       "  0%|          | 0/22699 [00:00<?, ?it/s]"
      ]
     },
     "metadata": {},
     "output_type": "display_data"
    },
    {
     "name": "stderr",
     "output_type": "stream",
     "text": [
      "\r",
      " 38%|██████████████▎                       | 31/82 [1:49:06<3:02:23, 214.58s/it]"
     ]
    },
    {
     "name": "stdout",
     "output_type": "stream",
     "text": [
      "No postcard object will be created for this target.\n"
     ]
    },
    {
     "data": {
      "application/vnd.jupyter.widget-view+json": {
       "model_id": "dcd808b98f284e3a935e75821598353e",
       "version_major": 2,
       "version_minor": 0
      },
      "text/plain": [
       "  0%|          | 0/22566 [00:00<?, ?it/s]"
      ]
     },
     "metadata": {},
     "output_type": "display_data"
    },
    {
     "name": "stderr",
     "output_type": "stream",
     "text": [
      "\r",
      " 39%|██████████████▊                       | 32/82 [1:51:26<2:40:05, 192.10s/it]"
     ]
    },
    {
     "name": "stdout",
     "output_type": "stream",
     "text": [
      "Found star in Sector(s) 2 29\n",
      "Downloading URL https://mast.stsci.edu/api/v0.1/Download/file?uri=mast:HLSP/eleanor/postcards/s0002/1-4/hlsp_eleanor_tess_ffi_postcard-s0002-1-4-cal-1392-0322_tess_v2_bkg.fits to ./mastDownload/HLSP/hlsp_eleanor_tess_ffi_postcard-s0002-1-4-cal-1392-0322_tess_v2_pc/hlsp_eleanor_tess_ffi_postcard-s0002-1-4-cal-1392-0322_tess_v2_bkg.fits ... [Done]\n",
      "Downloading URL https://mast.stsci.edu/api/v0.1/Download/file?uri=mast:HLSP/eleanor/postcards/s0002/1-4/hlsp_eleanor_tess_ffi_postcard-s0002-1-4-cal-1392-0322_tess_v2_pc.fits to ./mastDownload/HLSP/hlsp_eleanor_tess_ffi_postcard-s0002-1-4-cal-1392-0322_tess_v2_pc/hlsp_eleanor_tess_ffi_postcard-s0002-1-4-cal-1392-0322_tess_v2_pc.fits ... [Done]\n",
      "Downloading URL https://mast.stsci.edu/api/v0.1/Download/file?uri=mast:HLSP/eleanor/postcards/s0002/1-4/hlsp_eleanor_tess_ffi_postcard-s0002-1-4_tess_v2_pm.txt to ./mastDownload/HLSP/hlsp_eleanor_tess_ffi_postcard-s0002-1-4-cal-1392-0322_tess_v2_pc/hlsp_eleanor_tess_ffi_postcard-s0002-1-4_tess_v2_pm.txt ... [Done]\n",
      "No eleanor postcard has been made for your target (yet). Using TessCut instead.\n",
      "Downloading URL https://mast.stsci.edu/tesscut/api/v0.1/astrocut?ra=339.9729166666666&dec=-16.606472222222223&y=31&x=31&units=px&sector=29 to /Users/oliver hall/.eleanor/tesscut/tesscut_20210921192753.zip ... [Done]\n",
      "Inflating...\n",
      "No postcard object will be created for this target.\n"
     ]
    },
    {
     "data": {
      "application/vnd.jupyter.widget-view+json": {
       "model_id": "0876ddb0c83a40ddbdf9ead5736e25b7",
       "version_major": 2,
       "version_minor": 0
      },
      "text/plain": [
       "  0%|          | 0/22634 [00:00<?, ?it/s]"
      ]
     },
     "metadata": {},
     "output_type": "display_data"
    },
    {
     "name": "stderr",
     "output_type": "stream",
     "text": [
      "\r",
      " 40%|███████████████▎                      | 33/82 [1:54:46<2:38:45, 194.41s/it]"
     ]
    },
    {
     "name": "stdout",
     "output_type": "stream",
     "text": [
      "Found star in Sector(s) 5 32\n",
      "Downloading URL https://mast.stsci.edu/api/v0.1/Download/file?uri=mast:HLSP/eleanor/postcards/s0005/2-3/hlsp_eleanor_tess_ffi_postcard-s0005-2-3-cal-1490-1726_tess_v2_bkg.fits to ./mastDownload/HLSP/hlsp_eleanor_tess_ffi_postcard-s0005-2-3-cal-1490-1726_tess_v2_pc/hlsp_eleanor_tess_ffi_postcard-s0005-2-3-cal-1490-1726_tess_v2_bkg.fits ... [Done]\n",
      "Downloading URL https://mast.stsci.edu/api/v0.1/Download/file?uri=mast:HLSP/eleanor/postcards/s0005/2-3/hlsp_eleanor_tess_ffi_postcard-s0005-2-3-cal-1490-1726_tess_v2_pc.fits to ./mastDownload/HLSP/hlsp_eleanor_tess_ffi_postcard-s0005-2-3-cal-1490-1726_tess_v2_pc/hlsp_eleanor_tess_ffi_postcard-s0005-2-3-cal-1490-1726_tess_v2_pc.fits ... [Done]\n",
      "Downloading URL https://mast.stsci.edu/api/v0.1/Download/file?uri=mast:HLSP/eleanor/postcards/s0005/2-3/hlsp_eleanor_tess_ffi_postcard-s0005-2-3_tess_v2_pm.txt to ./mastDownload/HLSP/hlsp_eleanor_tess_ffi_postcard-s0005-2-3-cal-1490-1726_tess_v2_pc/hlsp_eleanor_tess_ffi_postcard-s0005-2-3_tess_v2_pm.txt ... [Done]\n",
      "No eleanor postcard has been made for your target (yet). Using TessCut instead.\n",
      "Downloading URL https://mast.stsci.edu/tesscut/api/v0.1/astrocut?ra=74.51041666666666&dec=-17.17436111111111&y=31&x=31&units=px&sector=32 to /Users/oliver hall/.eleanor/tesscut/tesscut_20210921193111.zip ... [Done]\n",
      "Inflating...\n",
      "No postcard object will be created for this target.\n"
     ]
    },
    {
     "data": {
      "application/vnd.jupyter.widget-view+json": {
       "model_id": "58b10596d0cf41469e664ea2f5596d15",
       "version_major": 2,
       "version_minor": 0
      },
      "text/plain": [
       "  0%|          | 0/22700 [00:00<?, ?it/s]"
      ]
     },
     "metadata": {},
     "output_type": "display_data"
    },
    {
     "name": "stderr",
     "output_type": "stream",
     "text": [
      "\r",
      " 41%|███████████████▊                      | 34/82 [1:57:59<2:35:22, 194.22s/it]"
     ]
    },
    {
     "name": "stdout",
     "output_type": "stream",
     "text": [
      "Found star in Sector(s) 5\n",
      "Downloading URL https://mast.stsci.edu/api/v0.1/Download/file?uri=mast:HLSP/eleanor/postcards/s0005/1-1/hlsp_eleanor_tess_ffi_postcard-s0005-1-1-cal-0902-0484_tess_v2_bkg.fits to ./mastDownload/HLSP/hlsp_eleanor_tess_ffi_postcard-s0005-1-1-cal-0902-0484_tess_v2_pc/hlsp_eleanor_tess_ffi_postcard-s0005-1-1-cal-0902-0484_tess_v2_bkg.fits ... [Done]\n",
      "Downloading URL https://mast.stsci.edu/api/v0.1/Download/file?uri=mast:HLSP/eleanor/postcards/s0005/1-1/hlsp_eleanor_tess_ffi_postcard-s0005-1-1-cal-0902-0484_tess_v2_pc.fits to ./mastDownload/HLSP/hlsp_eleanor_tess_ffi_postcard-s0005-1-1-cal-0902-0484_tess_v2_pc/hlsp_eleanor_tess_ffi_postcard-s0005-1-1-cal-0902-0484_tess_v2_pc.fits ... [Done]\n",
      "Downloading URL https://mast.stsci.edu/api/v0.1/Download/file?uri=mast:HLSP/eleanor/postcards/s0005/1-1/hlsp_eleanor_tess_ffi_postcard-s0005-1-1_tess_v2_pm.txt to ./mastDownload/HLSP/hlsp_eleanor_tess_ffi_postcard-s0005-1-1-cal-0902-0484_tess_v2_pc/hlsp_eleanor_tess_ffi_postcard-s0005-1-1_tess_v2_pm.txt ... [Done]\n",
      "No postcard object will be created for this target.\n"
     ]
    },
    {
     "data": {
      "application/vnd.jupyter.widget-view+json": {
       "model_id": "5ac6c935da5d4f05950deabf82deb9f1",
       "version_major": 2,
       "version_minor": 0
      },
      "text/plain": [
       "  0%|          | 0/756 [00:00<?, ?it/s]"
      ]
     },
     "metadata": {},
     "output_type": "display_data"
    },
    {
     "name": "stderr",
     "output_type": "stream",
     "text": [
      "\r",
      " 43%|████████████████▏                     | 35/82 [1:58:49<1:58:03, 150.70s/it]"
     ]
    },
    {
     "name": "stdout",
     "output_type": "stream",
     "text": [
      "Found star in Sector(s) 4\n",
      "Downloading URL https://mast.stsci.edu/api/v0.1/Download/file?uri=mast:HLSP/eleanor/postcards/s0004/1-4/hlsp_eleanor_tess_ffi_postcard-s0004-1-4-cal-1588-1780_tess_v2_bkg.fits to ./mastDownload/HLSP/hlsp_eleanor_tess_ffi_postcard-s0004-1-4-cal-1588-1780_tess_v2_pc/hlsp_eleanor_tess_ffi_postcard-s0004-1-4-cal-1588-1780_tess_v2_bkg.fits ... [Done]\n",
      "Downloading URL https://mast.stsci.edu/api/v0.1/Download/file?uri=mast:HLSP/eleanor/postcards/s0004/1-4/hlsp_eleanor_tess_ffi_postcard-s0004-1-4-cal-1588-1780_tess_v2_pc.fits to ./mastDownload/HLSP/hlsp_eleanor_tess_ffi_postcard-s0004-1-4-cal-1588-1780_tess_v2_pc/hlsp_eleanor_tess_ffi_postcard-s0004-1-4-cal-1588-1780_tess_v2_pc.fits ... [Done]\n",
      "Downloading URL https://mast.stsci.edu/api/v0.1/Download/file?uri=mast:HLSP/eleanor/postcards/s0004/1-4/hlsp_eleanor_tess_ffi_postcard-s0004-1-4_tess_v2_pm.txt to ./mastDownload/HLSP/hlsp_eleanor_tess_ffi_postcard-s0004-1-4-cal-1588-1780_tess_v2_pc/hlsp_eleanor_tess_ffi_postcard-s0004-1-4_tess_v2_pm.txt ... [Done]\n",
      "No postcard object will be created for this target.\n"
     ]
    },
    {
     "data": {
      "application/vnd.jupyter.widget-view+json": {
       "model_id": "80a867717bd9486bbc433513207e9183",
       "version_major": 2,
       "version_minor": 0
      },
      "text/plain": [
       "  0%|          | 0/762 [00:00<?, ?it/s]"
      ]
     },
     "metadata": {},
     "output_type": "display_data"
    },
    {
     "name": "stderr",
     "output_type": "stream",
     "text": [
      "\r",
      " 44%|████████████████▋                     | 36/82 [1:59:33<1:31:02, 118.76s/it]"
     ]
    },
    {
     "name": "stdout",
     "output_type": "stream",
     "text": [
      "Found star in Sector(s) 2\n",
      "Downloading URL https://mast.stsci.edu/api/v0.1/Download/file?uri=mast:HLSP/eleanor/postcards/s0002/1-4/hlsp_eleanor_tess_ffi_postcard-s0002-1-4-cal-1588-0646_tess_v2_bkg.fits to ./mastDownload/HLSP/hlsp_eleanor_tess_ffi_postcard-s0002-1-4-cal-1588-0646_tess_v2_pc/hlsp_eleanor_tess_ffi_postcard-s0002-1-4-cal-1588-0646_tess_v2_bkg.fits ... [Done]\n",
      "Downloading URL https://mast.stsci.edu/api/v0.1/Download/file?uri=mast:HLSP/eleanor/postcards/s0002/1-4/hlsp_eleanor_tess_ffi_postcard-s0002-1-4-cal-1588-0646_tess_v2_pc.fits to ./mastDownload/HLSP/hlsp_eleanor_tess_ffi_postcard-s0002-1-4-cal-1588-0646_tess_v2_pc/hlsp_eleanor_tess_ffi_postcard-s0002-1-4-cal-1588-0646_tess_v2_pc.fits ... [Done]\n",
      "Downloading URL https://mast.stsci.edu/api/v0.1/Download/file?uri=mast:HLSP/eleanor/postcards/s0002/1-4/hlsp_eleanor_tess_ffi_postcard-s0002-1-4_tess_v2_pm.txt to ./mastDownload/HLSP/hlsp_eleanor_tess_ffi_postcard-s0002-1-4-cal-1588-0646_tess_v2_pc/hlsp_eleanor_tess_ffi_postcard-s0002-1-4_tess_v2_pm.txt ... [Done]\n",
      "No postcard object will be created for this target.\n"
     ]
    },
    {
     "data": {
      "application/vnd.jupyter.widget-view+json": {
       "model_id": "880da857d8534d8abb33eb9f3905a0b5",
       "version_major": 2,
       "version_minor": 0
      },
      "text/plain": [
       "  0%|          | 0/816 [00:00<?, ?it/s]"
      ]
     },
     "metadata": {},
     "output_type": "display_data"
    },
    {
     "name": "stderr",
     "output_type": "stream",
     "text": [
      "\r",
      " 45%|█████████████████▌                     | 37/82 [2:00:25<1:14:07, 98.84s/it]"
     ]
    },
    {
     "name": "stdout",
     "output_type": "stream",
     "text": [
      "Found star in Sector(s) 5 6 32\n",
      "Downloading URL https://mast.stsci.edu/api/v0.1/Download/file?uri=mast:HLSP/eleanor/postcards/s0005/2-3/hlsp_eleanor_tess_ffi_postcard-s0005-2-3-cal-0118-0754_tess_v2_bkg.fits to ./mastDownload/HLSP/hlsp_eleanor_tess_ffi_postcard-s0005-2-3-cal-0118-0754_tess_v2_pc/hlsp_eleanor_tess_ffi_postcard-s0005-2-3-cal-0118-0754_tess_v2_bkg.fits ... [Done]\n",
      "Downloading URL https://mast.stsci.edu/api/v0.1/Download/file?uri=mast:HLSP/eleanor/postcards/s0005/2-3/hlsp_eleanor_tess_ffi_postcard-s0005-2-3-cal-0118-0754_tess_v2_pc.fits to ./mastDownload/HLSP/hlsp_eleanor_tess_ffi_postcard-s0005-2-3-cal-0118-0754_tess_v2_pc/hlsp_eleanor_tess_ffi_postcard-s0005-2-3-cal-0118-0754_tess_v2_pc.fits ... [Done]\n",
      "Downloading URL https://mast.stsci.edu/api/v0.1/Download/file?uri=mast:HLSP/eleanor/postcards/s0005/2-3/hlsp_eleanor_tess_ffi_postcard-s0005-2-3_tess_v2_pm.txt to ./mastDownload/HLSP/hlsp_eleanor_tess_ffi_postcard-s0005-2-3-cal-0118-0754_tess_v2_pc/hlsp_eleanor_tess_ffi_postcard-s0005-2-3_tess_v2_pm.txt ... [Done]\n",
      "Downloading URL https://mast.stsci.edu/api/v0.1/Download/file?uri=mast:HLSP/eleanor/postcards/s0006/2-4/hlsp_eleanor_tess_ffi_postcard-s0006-2-4-cal-1882-0754_tess_v2_bkg.fits to ./mastDownload/HLSP/hlsp_eleanor_tess_ffi_postcard-s0006-2-4-cal-1882-0754_tess_v2_pc/hlsp_eleanor_tess_ffi_postcard-s0006-2-4-cal-1882-0754_tess_v2_bkg.fits ... [Done]\n",
      "Downloading URL https://mast.stsci.edu/api/v0.1/Download/file?uri=mast:HLSP/eleanor/postcards/s0006/2-4/hlsp_eleanor_tess_ffi_postcard-s0006-2-4-cal-1882-0754_tess_v2_pc.fits to ./mastDownload/HLSP/hlsp_eleanor_tess_ffi_postcard-s0006-2-4-cal-1882-0754_tess_v2_pc/hlsp_eleanor_tess_ffi_postcard-s0006-2-4-cal-1882-0754_tess_v2_pc.fits ... [Done]\n",
      "Downloading URL https://mast.stsci.edu/api/v0.1/Download/file?uri=mast:HLSP/eleanor/postcards/s0006/2-4/hlsp_eleanor_tess_ffi_postcard-s0006-2-4_tess_v2_pm.txt to ./mastDownload/HLSP/hlsp_eleanor_tess_ffi_postcard-s0006-2-4-cal-1882-0754_tess_v2_pc/hlsp_eleanor_tess_ffi_postcard-s0006-2-4_tess_v2_pm.txt ... [Done]\n",
      "No eleanor postcard has been made for your target (yet). Using TessCut instead.\n",
      "Downloading URL https://mast.stsci.edu/tesscut/api/v0.1/astrocut?ra=81.31083333333332&dec=-10.430388888888888&y=31&x=31&units=px&sector=32 to /Users/oliver hall/.eleanor/tesscut/tesscut_20210921193722.zip ... [Done]\n",
      "Inflating...\n",
      "No postcard object will be created for this target.\n",
      "No postcard object will be created for this target.\n"
     ]
    },
    {
     "data": {
      "application/vnd.jupyter.widget-view+json": {
       "model_id": "3b16c0fe005c42898e0c852238b530f4",
       "version_major": 2,
       "version_minor": 0
      },
      "text/plain": [
       "  0%|          | 0/22709 [00:00<?, ?it/s]"
      ]
     },
     "metadata": {},
     "output_type": "display_data"
    },
    {
     "name": "stderr",
     "output_type": "stream",
     "text": [
      "\r",
      " 46%|█████████████████▌                    | 38/82 [2:05:35<1:58:49, 162.03s/it]"
     ]
    },
    {
     "name": "stdout",
     "output_type": "stream",
     "text": [
      "Found star in Sector(s) 5 31 32\n",
      "Downloading URL https://mast.stsci.edu/api/v0.1/Download/file?uri=mast:HLSP/eleanor/postcards/s0005/2-4/hlsp_eleanor_tess_ffi_postcard-s0005-2-4-cal-1196-1294_tess_v2_bkg.fits to ./mastDownload/HLSP/hlsp_eleanor_tess_ffi_postcard-s0005-2-4-cal-1196-1294_tess_v2_pc/hlsp_eleanor_tess_ffi_postcard-s0005-2-4-cal-1196-1294_tess_v2_bkg.fits ... [Done]\n",
      "Downloading URL https://mast.stsci.edu/api/v0.1/Download/file?uri=mast:HLSP/eleanor/postcards/s0005/2-4/hlsp_eleanor_tess_ffi_postcard-s0005-2-4-cal-1196-1294_tess_v2_pc.fits to ./mastDownload/HLSP/hlsp_eleanor_tess_ffi_postcard-s0005-2-4-cal-1196-1294_tess_v2_pc/hlsp_eleanor_tess_ffi_postcard-s0005-2-4-cal-1196-1294_tess_v2_pc.fits ... [Done]\n",
      "Downloading URL https://mast.stsci.edu/api/v0.1/Download/file?uri=mast:HLSP/eleanor/postcards/s0005/2-4/hlsp_eleanor_tess_ffi_postcard-s0005-2-4_tess_v2_pm.txt to ./mastDownload/HLSP/hlsp_eleanor_tess_ffi_postcard-s0005-2-4-cal-1196-1294_tess_v2_pc/hlsp_eleanor_tess_ffi_postcard-s0005-2-4_tess_v2_pm.txt ... [Done]\n",
      "No eleanor postcard has been made for your target (yet). Using TessCut instead.\n",
      "Downloading URL https://mast.stsci.edu/tesscut/api/v0.1/astrocut?ra=63.19166666666666&dec=-16.324749999999998&y=31&x=31&units=px&sector=31 to /Users/oliver hall/.eleanor/tesscut/tesscut_20210921194204.zip ... [Done]\n",
      "Inflating...\n",
      "No eleanor postcard has been made for your target (yet). Using TessCut instead.\n",
      "Downloading URL https://mast.stsci.edu/tesscut/api/v0.1/astrocut?ra=63.19166666666666&dec=-16.324749999999998&y=31&x=31&units=px&sector=32 to /Users/oliver hall/.eleanor/tesscut/tesscut_20210921194217.zip ... [Done]\n",
      "Inflating...\n",
      "No postcard object will be created for this target.\n"
     ]
    },
    {
     "data": {
      "application/vnd.jupyter.widget-view+json": {
       "model_id": "99413281d917477d9955a34b3ae12655",
       "version_major": 2,
       "version_minor": 0
      },
      "text/plain": [
       "  0%|          | 0/22697 [00:00<?, ?it/s]"
      ]
     },
     "metadata": {},
     "output_type": "display_data"
    },
    {
     "name": "stderr",
     "output_type": "stream",
     "text": [
      "\r",
      " 48%|██████████████████                    | 39/82 [2:11:43<2:40:30, 223.96s/it]"
     ]
    },
    {
     "name": "stdout",
     "output_type": "stream",
     "text": [
      "Found star in Sector(s) 4 5 31 32\n",
      "Downloading URL https://mast.stsci.edu/api/v0.1/Download/file?uri=mast:HLSP/eleanor/postcards/s0004/3-1/hlsp_eleanor_tess_ffi_postcard-s0004-3-1-cal-0412-0322_tess_v2_bkg.fits to ./mastDownload/HLSP/hlsp_eleanor_tess_ffi_postcard-s0004-3-1-cal-0412-0322_tess_v2_pc/hlsp_eleanor_tess_ffi_postcard-s0004-3-1-cal-0412-0322_tess_v2_bkg.fits ... [Done]\n",
      "Downloading URL https://mast.stsci.edu/api/v0.1/Download/file?uri=mast:HLSP/eleanor/postcards/s0004/3-1/hlsp_eleanor_tess_ffi_postcard-s0004-3-1-cal-0412-0322_tess_v2_pc.fits to ./mastDownload/HLSP/hlsp_eleanor_tess_ffi_postcard-s0004-3-1-cal-0412-0322_tess_v2_pc/hlsp_eleanor_tess_ffi_postcard-s0004-3-1-cal-0412-0322_tess_v2_pc.fits ... [Done]\n",
      "Downloading URL https://mast.stsci.edu/api/v0.1/Download/file?uri=mast:HLSP/eleanor/postcards/s0004/3-1/hlsp_eleanor_tess_ffi_postcard-s0004-3-1_tess_v2_pm.txt to ./mastDownload/HLSP/hlsp_eleanor_tess_ffi_postcard-s0004-3-1-cal-0412-0322_tess_v2_pc/hlsp_eleanor_tess_ffi_postcard-s0004-3-1_tess_v2_pm.txt ... [Done]\n",
      "Downloading URL https://mast.stsci.edu/api/v0.1/Download/file?uri=mast:HLSP/eleanor/postcards/s0005/3-2/hlsp_eleanor_tess_ffi_postcard-s0005-3-2-cal-1000-0214_tess_v2_bkg.fits to ./mastDownload/HLSP/hlsp_eleanor_tess_ffi_postcard-s0005-3-2-cal-1000-0214_tess_v2_pc/hlsp_eleanor_tess_ffi_postcard-s0005-3-2-cal-1000-0214_tess_v2_bkg.fits ... [Done]\n",
      "Downloading URL https://mast.stsci.edu/api/v0.1/Download/file?uri=mast:HLSP/eleanor/postcards/s0005/3-2/hlsp_eleanor_tess_ffi_postcard-s0005-3-2-cal-1000-0214_tess_v2_pc.fits to ./mastDownload/HLSP/hlsp_eleanor_tess_ffi_postcard-s0005-3-2-cal-1000-0214_tess_v2_pc/hlsp_eleanor_tess_ffi_postcard-s0005-3-2-cal-1000-0214_tess_v2_pc.fits ... [Done]\n",
      "Downloading URL https://mast.stsci.edu/api/v0.1/Download/file?uri=mast:HLSP/eleanor/postcards/s0005/3-2/hlsp_eleanor_tess_ffi_postcard-s0005-3-2_tess_v2_pm.txt to ./mastDownload/HLSP/hlsp_eleanor_tess_ffi_postcard-s0005-3-2-cal-1000-0214_tess_v2_pc/hlsp_eleanor_tess_ffi_postcard-s0005-3-2_tess_v2_pm.txt ... [Done]\n",
      "No eleanor postcard has been made for your target (yet). Using TessCut instead.\n",
      "Downloading URL https://mast.stsci.edu/tesscut/api/v0.1/astrocut?ra=67.12041666666666&dec=-33.89586111111111&y=31&x=31&units=px&sector=31 to /Users/oliver hall/.eleanor/tesscut/tesscut_20210921194848.zip ... [Done]\n",
      "Inflating...\n",
      "No eleanor postcard has been made for your target (yet). Using TessCut instead.\n",
      "Downloading URL https://mast.stsci.edu/tesscut/api/v0.1/astrocut?ra=67.12041666666666&dec=-33.89586111111111&y=31&x=31&units=px&sector=32 to /Users/oliver hall/.eleanor/tesscut/tesscut_20210921194901.zip ... [Done]\n",
      "Inflating...\n",
      "No postcard object will be created for this target.\n",
      "No postcard object will be created for this target.\n"
     ]
    },
    {
     "data": {
      "application/vnd.jupyter.widget-view+json": {
       "model_id": "7282854f46224a84bb8c038244e32017",
       "version_major": 2,
       "version_minor": 0
      },
      "text/plain": [
       "  0%|          | 0/23513 [00:00<?, ?it/s]"
      ]
     },
     "metadata": {},
     "output_type": "display_data"
    },
    {
     "name": "stderr",
     "output_type": "stream",
     "text": [
      "\r",
      " 49%|██████████████████▌                   | 40/82 [2:20:12<3:36:41, 309.57s/it]"
     ]
    },
    {
     "name": "stdout",
     "output_type": "stream",
     "text": [
      "Found star in Sector(s) 4 31\n",
      "Downloading URL https://mast.stsci.edu/api/v0.1/Download/file?uri=mast:HLSP/eleanor/postcards/s0004/1-3/hlsp_eleanor_tess_ffi_postcard-s0004-1-3-cal-0902-0862_tess_v2_bkg.fits to ./mastDownload/HLSP/hlsp_eleanor_tess_ffi_postcard-s0004-1-3-cal-0902-0862_tess_v2_pc/hlsp_eleanor_tess_ffi_postcard-s0004-1-3-cal-0902-0862_tess_v2_bkg.fits ... [Done]\n",
      "Downloading URL https://mast.stsci.edu/api/v0.1/Download/file?uri=mast:HLSP/eleanor/postcards/s0004/1-3/hlsp_eleanor_tess_ffi_postcard-s0004-1-3-cal-0902-0862_tess_v2_pc.fits to ./mastDownload/HLSP/hlsp_eleanor_tess_ffi_postcard-s0004-1-3-cal-0902-0862_tess_v2_pc/hlsp_eleanor_tess_ffi_postcard-s0004-1-3-cal-0902-0862_tess_v2_pc.fits ... [Done]\n",
      "Downloading URL https://mast.stsci.edu/api/v0.1/Download/file?uri=mast:HLSP/eleanor/postcards/s0004/1-3/hlsp_eleanor_tess_ffi_postcard-s0004-1-3_tess_v2_pm.txt to ./mastDownload/HLSP/hlsp_eleanor_tess_ffi_postcard-s0004-1-3-cal-0902-0862_tess_v2_pc/hlsp_eleanor_tess_ffi_postcard-s0004-1-3_tess_v2_pm.txt ... [Done]\n",
      "No eleanor postcard has been made for your target (yet). Using TessCut instead.\n",
      "Downloading URL https://mast.stsci.edu/tesscut/api/v0.1/astrocut?ra=46.308749999999996&dec=6.148194444444445&y=31&x=31&units=px&sector=31 to /Users/oliver hall/.eleanor/tesscut/tesscut_20210921195648.zip ... [Done]\n",
      "Inflating...\n",
      "No postcard object will be created for this target.\n"
     ]
    },
    {
     "data": {
      "application/vnd.jupyter.widget-view+json": {
       "model_id": "072888c69704438c8e437bd36940401c",
       "version_major": 2,
       "version_minor": 0
      },
      "text/plain": [
       "  0%|          | 0/22622 [00:00<?, ?it/s]"
      ]
     },
     "metadata": {},
     "output_type": "display_data"
    },
    {
     "name": "stderr",
     "output_type": "stream",
     "text": [
      "\r",
      " 50%|███████████████████                   | 41/82 [2:23:15<3:05:31, 271.50s/it]"
     ]
    },
    {
     "name": "stdout",
     "output_type": "stream",
     "text": [
      "Found star in Sector(s) 4 5 31\n",
      "Downloading URL https://mast.stsci.edu/api/v0.1/Download/file?uri=mast:HLSP/eleanor/postcards/s0004/2-3/hlsp_eleanor_tess_ffi_postcard-s0004-2-3-cal-0118-1348_tess_v2_bkg.fits to ./mastDownload/HLSP/hlsp_eleanor_tess_ffi_postcard-s0004-2-3-cal-0118-1348_tess_v2_pc/hlsp_eleanor_tess_ffi_postcard-s0004-2-3-cal-0118-1348_tess_v2_bkg.fits ... [Done]\n",
      "Downloading URL https://mast.stsci.edu/api/v0.1/Download/file?uri=mast:HLSP/eleanor/postcards/s0004/2-3/hlsp_eleanor_tess_ffi_postcard-s0004-2-3-cal-0118-1348_tess_v2_pc.fits to ./mastDownload/HLSP/hlsp_eleanor_tess_ffi_postcard-s0004-2-3-cal-0118-1348_tess_v2_pc/hlsp_eleanor_tess_ffi_postcard-s0004-2-3-cal-0118-1348_tess_v2_pc.fits ... [Done]\n",
      "Downloading URL https://mast.stsci.edu/api/v0.1/Download/file?uri=mast:HLSP/eleanor/postcards/s0004/2-3/hlsp_eleanor_tess_ffi_postcard-s0004-2-3_tess_v2_pm.txt to ./mastDownload/HLSP/hlsp_eleanor_tess_ffi_postcard-s0004-2-3-cal-0118-1348_tess_v2_pc/hlsp_eleanor_tess_ffi_postcard-s0004-2-3_tess_v2_pm.txt ... [Done]\n",
      "Downloading URL https://mast.stsci.edu/api/v0.1/Download/file?uri=mast:HLSP/eleanor/postcards/s0005/2-4/hlsp_eleanor_tess_ffi_postcard-s0005-2-4-cal-1784-1348_tess_v2_bkg.fits to ./mastDownload/HLSP/hlsp_eleanor_tess_ffi_postcard-s0005-2-4-cal-1784-1348_tess_v2_pc/hlsp_eleanor_tess_ffi_postcard-s0005-2-4-cal-1784-1348_tess_v2_bkg.fits ... [Done]\n",
      "Downloading URL https://mast.stsci.edu/api/v0.1/Download/file?uri=mast:HLSP/eleanor/postcards/s0005/2-4/hlsp_eleanor_tess_ffi_postcard-s0005-2-4-cal-1784-1348_tess_v2_pc.fits to ./mastDownload/HLSP/hlsp_eleanor_tess_ffi_postcard-s0005-2-4-cal-1784-1348_tess_v2_pc/hlsp_eleanor_tess_ffi_postcard-s0005-2-4-cal-1784-1348_tess_v2_pc.fits ... [Done]\n",
      "Downloading URL https://mast.stsci.edu/api/v0.1/Download/file?uri=mast:HLSP/eleanor/postcards/s0005/2-4/hlsp_eleanor_tess_ffi_postcard-s0005-2-4_tess_v2_pm.txt to ./mastDownload/HLSP/hlsp_eleanor_tess_ffi_postcard-s0005-2-4-cal-1784-1348_tess_v2_pc/hlsp_eleanor_tess_ffi_postcard-s0005-2-4_tess_v2_pm.txt ... [Done]\n",
      "No eleanor postcard has been made for your target (yet). Using TessCut instead.\n",
      "Downloading URL https://mast.stsci.edu/tesscut/api/v0.1/astrocut?ra=59.727916666666665&dec=-17.09811111111111&y=31&x=31&units=px&sector=31 to /Users/oliver hall/.eleanor/tesscut/tesscut_20210921200007.zip ... [Done]\n",
      "Inflating...\n",
      "No postcard object will be created for this target.\n",
      "No postcard object will be created for this target.\n"
     ]
    },
    {
     "data": {
      "application/vnd.jupyter.widget-view+json": {
       "model_id": "fa3705a3f34441ae91aa2751f5bdd1df",
       "version_major": 2,
       "version_minor": 0
      },
      "text/plain": [
       "  0%|          | 0/22619 [00:00<?, ?it/s]"
      ]
     },
     "metadata": {},
     "output_type": "display_data"
    },
    {
     "name": "stderr",
     "output_type": "stream",
     "text": [
      "\r",
      " 51%|███████████████████▍                  | 42/82 [2:28:04<3:04:29, 276.73s/it]"
     ]
    },
    {
     "name": "stdout",
     "output_type": "stream",
     "text": [
      "Found star in Sector(s) 2 29\n",
      "Downloading URL https://mast.stsci.edu/api/v0.1/Download/file?uri=mast:HLSP/eleanor/postcards/s0002/1-3/hlsp_eleanor_tess_ffi_postcard-s0002-1-3-cal-0804-1348_tess_v2_bkg.fits to ./mastDownload/HLSP/hlsp_eleanor_tess_ffi_postcard-s0002-1-3-cal-0804-1348_tess_v2_pc/hlsp_eleanor_tess_ffi_postcard-s0002-1-3-cal-0804-1348_tess_v2_bkg.fits ... [Done]\n",
      "Downloading URL https://mast.stsci.edu/api/v0.1/Download/file?uri=mast:HLSP/eleanor/postcards/s0002/1-3/hlsp_eleanor_tess_ffi_postcard-s0002-1-3-cal-0804-1348_tess_v2_pc.fits to ./mastDownload/HLSP/hlsp_eleanor_tess_ffi_postcard-s0002-1-3-cal-0804-1348_tess_v2_pc/hlsp_eleanor_tess_ffi_postcard-s0002-1-3-cal-0804-1348_tess_v2_pc.fits ... [Done]\n",
      "Downloading URL https://mast.stsci.edu/api/v0.1/Download/file?uri=mast:HLSP/eleanor/postcards/s0002/1-3/hlsp_eleanor_tess_ffi_postcard-s0002-1-3_tess_v2_pm.txt to ./mastDownload/HLSP/hlsp_eleanor_tess_ffi_postcard-s0002-1-3-cal-0804-1348_tess_v2_pc/hlsp_eleanor_tess_ffi_postcard-s0002-1-3_tess_v2_pm.txt ... [Done]\n",
      "No eleanor postcard has been made for your target (yet). Using TessCut instead.\n",
      "Downloading URL https://mast.stsci.edu/tesscut/api/v0.1/astrocut?ra=357.4795833333333&dec=-15.728333333333333&y=31&x=31&units=px&sector=29 to /Users/oliver hall/.eleanor/tesscut/tesscut_20210921200430.zip ... [Done]\n",
      "Inflating...\n",
      "No postcard object will be created for this target.\n"
     ]
    },
    {
     "data": {
      "application/vnd.jupyter.widget-view+json": {
       "model_id": "136a1234186b4989aa6d6bbe0063ff34",
       "version_major": 2,
       "version_minor": 0
      },
      "text/plain": [
       "  0%|          | 0/22660 [00:00<?, ?it/s]"
      ]
     },
     "metadata": {},
     "output_type": "display_data"
    },
    {
     "name": "stderr",
     "output_type": "stream",
     "text": [
      "\r",
      " 52%|███████████████████▉                  | 43/82 [2:31:28<2:45:39, 254.86s/it]"
     ]
    },
    {
     "name": "stdout",
     "output_type": "stream",
     "text": [
      "Found star in Sector(s) 4 31\n",
      "Downloading URL https://mast.stsci.edu/api/v0.1/Download/file?uri=mast:HLSP/eleanor/postcards/s0004/1-1/hlsp_eleanor_tess_ffi_postcard-s0004-1-1-cal-1686-1780_tess_v2_bkg.fits to ./mastDownload/HLSP/hlsp_eleanor_tess_ffi_postcard-s0004-1-1-cal-1686-1780_tess_v2_pc/hlsp_eleanor_tess_ffi_postcard-s0004-1-1-cal-1686-1780_tess_v2_bkg.fits ... [Done]\n",
      "Downloading URL https://mast.stsci.edu/api/v0.1/Download/file?uri=mast:HLSP/eleanor/postcards/s0004/1-1/hlsp_eleanor_tess_ffi_postcard-s0004-1-1-cal-1686-1780_tess_v2_pc.fits to ./mastDownload/HLSP/hlsp_eleanor_tess_ffi_postcard-s0004-1-1-cal-1686-1780_tess_v2_pc/hlsp_eleanor_tess_ffi_postcard-s0004-1-1-cal-1686-1780_tess_v2_pc.fits ... [Done]\n",
      "Downloading URL https://mast.stsci.edu/api/v0.1/Download/file?uri=mast:HLSP/eleanor/postcards/s0004/1-1/hlsp_eleanor_tess_ffi_postcard-s0004-1-1_tess_v2_pm.txt to ./mastDownload/HLSP/hlsp_eleanor_tess_ffi_postcard-s0004-1-1-cal-1686-1780_tess_v2_pc/hlsp_eleanor_tess_ffi_postcard-s0004-1-1_tess_v2_pm.txt ... [Done]\n",
      "No eleanor postcard has been made for your target (yet). Using TessCut instead.\n",
      "Downloading URL https://mast.stsci.edu/tesscut/api/v0.1/astrocut?ra=39.79541666666666&dec=-5.539555555555555&y=31&x=31&units=px&sector=31 to /Users/oliver hall/.eleanor/tesscut/tesscut_20210921200752.zip ... [Done]\n",
      "Inflating...\n",
      "No postcard object will be created for this target.\n"
     ]
    },
    {
     "data": {
      "application/vnd.jupyter.widget-view+json": {
       "model_id": "6f9e85a20aa64ca7aadb05ddad6bea85",
       "version_major": 2,
       "version_minor": 0
      },
      "text/plain": [
       "  0%|          | 0/22622 [00:00<?, ?it/s]"
      ]
     },
     "metadata": {},
     "output_type": "display_data"
    },
    {
     "name": "stderr",
     "output_type": "stream",
     "text": [
      "\r",
      " 54%|████████████████████▍                 | 44/82 [2:34:31<2:27:52, 233.48s/it]"
     ]
    },
    {
     "name": "stdout",
     "output_type": "stream",
     "text": [
      "Found star in Sector(s) 3 30\n",
      "Downloading URL https://mast.stsci.edu/api/v0.1/Download/file?uri=mast:HLSP/eleanor/postcards/s0003/1-3/hlsp_eleanor_tess_ffi_postcard-s0003-1-3-cal-0902-0970_tess_v2_bkg.fits to ./mastDownload/HLSP/hlsp_eleanor_tess_ffi_postcard-s0003-1-3-cal-0902-0970_tess_v2_pc/hlsp_eleanor_tess_ffi_postcard-s0003-1-3-cal-0902-0970_tess_v2_bkg.fits ... [Done]\n",
      "Downloading URL https://mast.stsci.edu/api/v0.1/Download/file?uri=mast:HLSP/eleanor/postcards/s0003/1-3/hlsp_eleanor_tess_ffi_postcard-s0003-1-3-cal-0902-0970_tess_v2_pc.fits to ./mastDownload/HLSP/hlsp_eleanor_tess_ffi_postcard-s0003-1-3-cal-0902-0970_tess_v2_pc/hlsp_eleanor_tess_ffi_postcard-s0003-1-3-cal-0902-0970_tess_v2_pc.fits ... [Done]\n",
      "Downloading URL https://mast.stsci.edu/api/v0.1/Download/file?uri=mast:HLSP/eleanor/postcards/s0003/1-3/hlsp_eleanor_tess_ffi_postcard-s0003-1-3_tess_v2_pm.txt to ./mastDownload/HLSP/hlsp_eleanor_tess_ffi_postcard-s0003-1-3-cal-0902-0970_tess_v2_pc/hlsp_eleanor_tess_ffi_postcard-s0003-1-3_tess_v2_pm.txt ... [Done]\n",
      "No eleanor postcard has been made for your target (yet). Using TessCut instead.\n",
      "Downloading URL https://mast.stsci.edu/tesscut/api/v0.1/astrocut?ra=21.102916666666665&dec=-3.2775&y=31&x=31&units=px&sector=30 to /Users/oliver hall/.eleanor/tesscut/tesscut_20210921201105.zip ... [Done]\n",
      "Inflating...\n",
      "No postcard object will be created for this target.\n"
     ]
    },
    {
     "data": {
      "application/vnd.jupyter.widget-view+json": {
       "model_id": "82e32f56d60245e094cb1e0ff664f6ca",
       "version_major": 2,
       "version_minor": 0
      },
      "text/plain": [
       "  0%|          | 0/22547 [00:00<?, ?it/s]"
      ]
     },
     "metadata": {},
     "output_type": "display_data"
    },
    {
     "name": "stderr",
     "output_type": "stream",
     "text": [
      "\r",
      " 55%|████████████████████▊                 | 45/82 [2:37:47<2:16:58, 222.13s/it]"
     ]
    },
    {
     "name": "stdout",
     "output_type": "stream",
     "text": [
      "Found star in Sector(s) 2 29\n",
      "Downloading URL https://mast.stsci.edu/api/v0.1/Download/file?uri=mast:HLSP/eleanor/postcards/s0002/1-3/hlsp_eleanor_tess_ffi_postcard-s0002-1-3-cal-1392-1564_tess_v2_bkg.fits to ./mastDownload/HLSP/hlsp_eleanor_tess_ffi_postcard-s0002-1-3-cal-1392-1564_tess_v2_pc/hlsp_eleanor_tess_ffi_postcard-s0002-1-3-cal-1392-1564_tess_v2_bkg.fits ... [Done]\n",
      "Downloading URL https://mast.stsci.edu/api/v0.1/Download/file?uri=mast:HLSP/eleanor/postcards/s0002/1-3/hlsp_eleanor_tess_ffi_postcard-s0002-1-3-cal-1392-1564_tess_v2_pc.fits to ./mastDownload/HLSP/hlsp_eleanor_tess_ffi_postcard-s0002-1-3-cal-1392-1564_tess_v2_pc/hlsp_eleanor_tess_ffi_postcard-s0002-1-3-cal-1392-1564_tess_v2_pc.fits ... [Done]\n",
      "Downloading URL https://mast.stsci.edu/api/v0.1/Download/file?uri=mast:HLSP/eleanor/postcards/s0002/1-3/hlsp_eleanor_tess_ffi_postcard-s0002-1-3_tess_v2_pm.txt to ./mastDownload/HLSP/hlsp_eleanor_tess_ffi_postcard-s0002-1-3-cal-1392-1564_tess_v2_pc/hlsp_eleanor_tess_ffi_postcard-s0002-1-3_tess_v2_pm.txt ... [Done]\n",
      "No eleanor postcard has been made for your target (yet). Using TessCut instead.\n",
      "Downloading URL https://mast.stsci.edu/tesscut/api/v0.1/astrocut?ra=355.15625&dec=-18.19386111111111&y=31&x=31&units=px&sector=29 to /Users/oliver hall/.eleanor/tesscut/tesscut_20210921201415.zip ... [Done]\n",
      "Inflating...\n",
      "No postcard object will be created for this target.\n"
     ]
    },
    {
     "data": {
      "application/vnd.jupyter.widget-view+json": {
       "model_id": "7d9439e98b804f8cae17dff80448ab6f",
       "version_major": 2,
       "version_minor": 0
      },
      "text/plain": [
       "  0%|          | 0/22631 [00:00<?, ?it/s]"
      ]
     },
     "metadata": {},
     "output_type": "display_data"
    },
    {
     "name": "stderr",
     "output_type": "stream",
     "text": [
      "\r",
      " 56%|█████████████████████▎                | 46/82 [2:41:06<2:09:09, 215.25s/it]"
     ]
    },
    {
     "name": "stdout",
     "output_type": "stream",
     "text": [
      "Found star in Sector(s) 2\n",
      "Downloading URL https://mast.stsci.edu/api/v0.1/Download/file?uri=mast:HLSP/eleanor/postcards/s0002/1-4/hlsp_eleanor_tess_ffi_postcard-s0002-1-4-cal-1784-0214_tess_v2_bkg.fits to ./mastDownload/HLSP/hlsp_eleanor_tess_ffi_postcard-s0002-1-4-cal-1784-0214_tess_v2_pc/hlsp_eleanor_tess_ffi_postcard-s0002-1-4-cal-1784-0214_tess_v2_bkg.fits ... [Done]\n",
      "Downloading URL https://mast.stsci.edu/api/v0.1/Download/file?uri=mast:HLSP/eleanor/postcards/s0002/1-4/hlsp_eleanor_tess_ffi_postcard-s0002-1-4-cal-1784-0214_tess_v2_pc.fits to ./mastDownload/HLSP/hlsp_eleanor_tess_ffi_postcard-s0002-1-4-cal-1784-0214_tess_v2_pc/hlsp_eleanor_tess_ffi_postcard-s0002-1-4-cal-1784-0214_tess_v2_pc.fits ... [Done]\n",
      "Downloading URL https://mast.stsci.edu/api/v0.1/Download/file?uri=mast:HLSP/eleanor/postcards/s0002/1-4/hlsp_eleanor_tess_ffi_postcard-s0002-1-4_tess_v2_pm.txt to ./mastDownload/HLSP/hlsp_eleanor_tess_ffi_postcard-s0002-1-4-cal-1784-0214_tess_v2_pc/hlsp_eleanor_tess_ffi_postcard-s0002-1-4_tess_v2_pm.txt ... [Done]\n",
      "No postcard object will be created for this target.\n"
     ]
    },
    {
     "data": {
      "application/vnd.jupyter.widget-view+json": {
       "model_id": "3ae5fe54146749159f27409593732f58",
       "version_major": 2,
       "version_minor": 0
      },
      "text/plain": [
       "  0%|          | 0/800 [00:00<?, ?it/s]"
      ]
     },
     "metadata": {},
     "output_type": "display_data"
    },
    {
     "name": "stderr",
     "output_type": "stream",
     "text": [
      "\r",
      " 57%|█████████████████████▊                | 47/82 [2:41:58<1:36:55, 166.16s/it]"
     ]
    },
    {
     "name": "stdout",
     "output_type": "stream",
     "text": [
      "Found star in Sector(s) 5 32\n",
      "Downloading URL https://mast.stsci.edu/api/v0.1/Download/file?uri=mast:HLSP/eleanor/postcards/s0005/1-2/hlsp_eleanor_tess_ffi_postcard-s0005-1-2-cal-0118-0268_tess_v2_bkg.fits to ./mastDownload/HLSP/hlsp_eleanor_tess_ffi_postcard-s0005-1-2-cal-0118-0268_tess_v2_pc/hlsp_eleanor_tess_ffi_postcard-s0005-1-2-cal-0118-0268_tess_v2_bkg.fits ... [Done]\n",
      "Downloading URL https://mast.stsci.edu/api/v0.1/Download/file?uri=mast:HLSP/eleanor/postcards/s0005/1-2/hlsp_eleanor_tess_ffi_postcard-s0005-1-2-cal-0118-0268_tess_v2_pc.fits to ./mastDownload/HLSP/hlsp_eleanor_tess_ffi_postcard-s0005-1-2-cal-0118-0268_tess_v2_pc/hlsp_eleanor_tess_ffi_postcard-s0005-1-2-cal-0118-0268_tess_v2_pc.fits ... [Done]\n",
      "Downloading URL https://mast.stsci.edu/api/v0.1/Download/file?uri=mast:HLSP/eleanor/postcards/s0005/1-2/hlsp_eleanor_tess_ffi_postcard-s0005-1-2_tess_v2_pm.txt to ./mastDownload/HLSP/hlsp_eleanor_tess_ffi_postcard-s0005-1-2-cal-0118-0268_tess_v2_pc/hlsp_eleanor_tess_ffi_postcard-s0005-1-2_tess_v2_pm.txt ... [Done]\n",
      "No eleanor postcard has been made for your target (yet). Using TessCut instead.\n",
      "Downloading URL https://mast.stsci.edu/tesscut/api/v0.1/astrocut?ra=69.73124999999999&dec=-6.673611111111112&y=31&x=31&units=px&sector=32 to /Users/oliver hall/.eleanor/tesscut/tesscut_20210921201832.zip ... [Done]\n",
      "Inflating...\n",
      "No postcard object will be created for this target.\n"
     ]
    },
    {
     "data": {
      "application/vnd.jupyter.widget-view+json": {
       "model_id": "ce8b03b41ae94288b3cad9bf51c72b64",
       "version_major": 2,
       "version_minor": 0
      },
      "text/plain": [
       "  0%|          | 0/22698 [00:00<?, ?it/s]"
      ]
     },
     "metadata": {},
     "output_type": "display_data"
    },
    {
     "name": "stderr",
     "output_type": "stream",
     "text": [
      "\r",
      " 59%|██████████████████████▏               | 48/82 [2:45:26<1:41:17, 178.74s/it]"
     ]
    },
    {
     "name": "stdout",
     "output_type": "stream",
     "text": [
      "Found star in Sector(s) 4 31\n",
      "Downloading URL https://mast.stsci.edu/api/v0.1/Download/file?uri=mast:HLSP/eleanor/postcards/s0004/2-3/hlsp_eleanor_tess_ffi_postcard-s0004-2-3-cal-0216-0376_tess_v2_bkg.fits to ./mastDownload/HLSP/hlsp_eleanor_tess_ffi_postcard-s0004-2-3-cal-0216-0376_tess_v2_pc/hlsp_eleanor_tess_ffi_postcard-s0004-2-3-cal-0216-0376_tess_v2_bkg.fits ... [Done]\n",
      "Downloading URL https://mast.stsci.edu/api/v0.1/Download/file?uri=mast:HLSP/eleanor/postcards/s0004/2-3/hlsp_eleanor_tess_ffi_postcard-s0004-2-3-cal-0216-0376_tess_v2_pc.fits to ./mastDownload/HLSP/hlsp_eleanor_tess_ffi_postcard-s0004-2-3-cal-0216-0376_tess_v2_pc/hlsp_eleanor_tess_ffi_postcard-s0004-2-3-cal-0216-0376_tess_v2_pc.fits ... [Done]\n",
      "Downloading URL https://mast.stsci.edu/api/v0.1/Download/file?uri=mast:HLSP/eleanor/postcards/s0004/2-3/hlsp_eleanor_tess_ffi_postcard-s0004-2-3_tess_v2_pm.txt to ./mastDownload/HLSP/hlsp_eleanor_tess_ffi_postcard-s0004-2-3-cal-0216-0376_tess_v2_pc/hlsp_eleanor_tess_ffi_postcard-s0004-2-3_tess_v2_pm.txt ... [Done]\n",
      "No eleanor postcard has been made for your target (yet). Using TessCut instead.\n",
      "Downloading URL https://mast.stsci.edu/tesscut/api/v0.1/astrocut?ra=56.85749999999999&dec=-12.541916666666667&y=31&x=31&units=px&sector=31 to /Users/oliver hall/.eleanor/tesscut/tesscut_20210921202152.zip ... [Done]\n",
      "Inflating...\n",
      "No postcard object will be created for this target.\n"
     ]
    },
    {
     "data": {
      "application/vnd.jupyter.widget-view+json": {
       "model_id": "4ac0b6344424402a8532f231656141ba",
       "version_major": 2,
       "version_minor": 0
      },
      "text/plain": [
       "  0%|          | 0/22621 [00:00<?, ?it/s]"
      ]
     },
     "metadata": {},
     "output_type": "display_data"
    },
    {
     "name": "stderr",
     "output_type": "stream",
     "text": [
      "\r",
      " 60%|██████████████████████▋               | 49/82 [2:48:31<1:39:22, 180.67s/it]"
     ]
    },
    {
     "name": "stdout",
     "output_type": "stream",
     "text": [
      "Found star in Sector(s) 2 29\n",
      "Downloading URL https://mast.stsci.edu/api/v0.1/Download/file?uri=mast:HLSP/eleanor/postcards/s0002/1-3/hlsp_eleanor_tess_ffi_postcard-s0002-1-3-cal-1000-0430_tess_v2_bkg.fits to ./mastDownload/HLSP/hlsp_eleanor_tess_ffi_postcard-s0002-1-3-cal-1000-0430_tess_v2_pc/hlsp_eleanor_tess_ffi_postcard-s0002-1-3-cal-1000-0430_tess_v2_bkg.fits ... [Done]\n",
      "Downloading URL https://mast.stsci.edu/api/v0.1/Download/file?uri=mast:HLSP/eleanor/postcards/s0002/1-3/hlsp_eleanor_tess_ffi_postcard-s0002-1-3-cal-1000-0430_tess_v2_pc.fits to ./mastDownload/HLSP/hlsp_eleanor_tess_ffi_postcard-s0002-1-3-cal-1000-0430_tess_v2_pc/hlsp_eleanor_tess_ffi_postcard-s0002-1-3-cal-1000-0430_tess_v2_pc.fits ... [Done]\n",
      "Downloading URL https://mast.stsci.edu/api/v0.1/Download/file?uri=mast:HLSP/eleanor/postcards/s0002/1-3/hlsp_eleanor_tess_ffi_postcard-s0002-1-3_tess_v2_pm.txt to ./mastDownload/HLSP/hlsp_eleanor_tess_ffi_postcard-s0002-1-3-cal-1000-0430_tess_v2_pc/hlsp_eleanor_tess_ffi_postcard-s0002-1-3_tess_v2_pm.txt ... [Done]\n",
      "No eleanor postcard has been made for your target (yet). Using TessCut instead.\n",
      "Downloading URL https://mast.stsci.edu/tesscut/api/v0.1/astrocut?ra=354.2170833333333&dec=-11.41713888888889&y=31&x=31&units=px&sector=29 to /Users/oliver hall/.eleanor/tesscut/tesscut_20210921202504.zip ... [Done]\n",
      "Inflating...\n",
      "No postcard object will be created for this target.\n"
     ]
    },
    {
     "data": {
      "application/vnd.jupyter.widget-view+json": {
       "model_id": "9728b5f875294b29ba076d668561792a",
       "version_major": 2,
       "version_minor": 0
      },
      "text/plain": [
       "  0%|          | 0/22660 [00:00<?, ?it/s]"
      ]
     },
     "metadata": {},
     "output_type": "display_data"
    },
    {
     "name": "stderr",
     "output_type": "stream",
     "text": [
      "\r",
      " 61%|███████████████████████▏              | 50/82 [2:51:57<1:40:23, 188.25s/it]"
     ]
    },
    {
     "name": "stdout",
     "output_type": "stream",
     "text": [
      "Found star in Sector(s) 4 31\n",
      "Downloading URL https://mast.stsci.edu/api/v0.1/Download/file?uri=mast:HLSP/eleanor/postcards/s0004/2-3/hlsp_eleanor_tess_ffi_postcard-s0004-2-3-cal-1392-0592_tess_v2_bkg.fits to ./mastDownload/HLSP/hlsp_eleanor_tess_ffi_postcard-s0004-2-3-cal-1392-0592_tess_v2_pc/hlsp_eleanor_tess_ffi_postcard-s0004-2-3-cal-1392-0592_tess_v2_bkg.fits ... [Done]\n",
      "Downloading URL https://mast.stsci.edu/api/v0.1/Download/file?uri=mast:HLSP/eleanor/postcards/s0004/2-3/hlsp_eleanor_tess_ffi_postcard-s0004-2-3-cal-1392-0592_tess_v2_pc.fits to ./mastDownload/HLSP/hlsp_eleanor_tess_ffi_postcard-s0004-2-3-cal-1392-0592_tess_v2_pc/hlsp_eleanor_tess_ffi_postcard-s0004-2-3-cal-1392-0592_tess_v2_pc.fits ... [Done]\n",
      "Downloading URL https://mast.stsci.edu/api/v0.1/Download/file?uri=mast:HLSP/eleanor/postcards/s0004/2-3/hlsp_eleanor_tess_ffi_postcard-s0004-2-3_tess_v2_pm.txt to ./mastDownload/HLSP/hlsp_eleanor_tess_ffi_postcard-s0004-2-3-cal-1392-0592_tess_v2_pc/hlsp_eleanor_tess_ffi_postcard-s0004-2-3_tess_v2_pm.txt ... [Done]\n",
      "No eleanor postcard has been made for your target (yet). Using TessCut instead.\n",
      "Downloading URL https://mast.stsci.edu/tesscut/api/v0.1/astrocut?ra=51.105&dec=-15.834833333333334&y=31&x=31&units=px&sector=31 to /Users/oliver hall/.eleanor/tesscut/tesscut_20210921202832.zip ... [Done]\n",
      "Inflating...\n",
      "No postcard object will be created for this target.\n"
     ]
    },
    {
     "data": {
      "application/vnd.jupyter.widget-view+json": {
       "model_id": "ff7a9c7c7bc644a984fe8eeeb5b68510",
       "version_major": 2,
       "version_minor": 0
      },
      "text/plain": [
       "  0%|          | 0/22621 [00:00<?, ?it/s]"
      ]
     },
     "metadata": {},
     "output_type": "display_data"
    },
    {
     "name": "stderr",
     "output_type": "stream",
     "text": [
      "\r",
      " 62%|███████████████████████▋              | 51/82 [2:55:12<1:38:20, 190.34s/it]"
     ]
    },
    {
     "name": "stdout",
     "output_type": "stream",
     "text": [
      "Found star in Sector(s) 2 29\n",
      "Downloading URL https://mast.stsci.edu/api/v0.1/Download/file?uri=mast:HLSP/eleanor/postcards/s0002/1-3/hlsp_eleanor_tess_ffi_postcard-s0002-1-3-cal-1098-1726_tess_v2_bkg.fits to ./mastDownload/HLSP/hlsp_eleanor_tess_ffi_postcard-s0002-1-3-cal-1098-1726_tess_v2_pc/hlsp_eleanor_tess_ffi_postcard-s0002-1-3-cal-1098-1726_tess_v2_bkg.fits ... [Done]\n",
      "Downloading URL https://mast.stsci.edu/api/v0.1/Download/file?uri=mast:HLSP/eleanor/postcards/s0002/1-3/hlsp_eleanor_tess_ffi_postcard-s0002-1-3-cal-1098-1726_tess_v2_pc.fits to ./mastDownload/HLSP/hlsp_eleanor_tess_ffi_postcard-s0002-1-3-cal-1098-1726_tess_v2_pc/hlsp_eleanor_tess_ffi_postcard-s0002-1-3-cal-1098-1726_tess_v2_pc.fits ... [Done]\n",
      "Downloading URL https://mast.stsci.edu/api/v0.1/Download/file?uri=mast:HLSP/eleanor/postcards/s0002/1-3/hlsp_eleanor_tess_ffi_postcard-s0002-1-3_tess_v2_pm.txt to ./mastDownload/HLSP/hlsp_eleanor_tess_ffi_postcard-s0002-1-3-cal-1098-1726_tess_v2_pc/hlsp_eleanor_tess_ffi_postcard-s0002-1-3_tess_v2_pm.txt ... [Done]\n",
      "No eleanor postcard has been made for your target (yet). Using TessCut instead.\n",
      "Downloading URL https://mast.stsci.edu/tesscut/api/v0.1/astrocut?ra=357.135&dec=-18.549277777777778&y=31&x=31&units=px&sector=29 to /Users/oliver hall/.eleanor/tesscut/tesscut_20210921203141.zip ... [Done]\n",
      "Inflating...\n",
      "No postcard object will be created for this target.\n"
     ]
    },
    {
     "data": {
      "application/vnd.jupyter.widget-view+json": {
       "model_id": "d5e81994b28b48529b60df1607b13e88",
       "version_major": 2,
       "version_minor": 0
      },
      "text/plain": [
       "  0%|          | 0/22630 [00:00<?, ?it/s]"
      ]
     },
     "metadata": {},
     "output_type": "display_data"
    },
    {
     "name": "stderr",
     "output_type": "stream",
     "text": [
      "\r",
      " 63%|████████████████████████              | 52/82 [2:58:33<1:36:41, 193.37s/it]"
     ]
    },
    {
     "name": "stdout",
     "output_type": "stream",
     "text": [
      "Found star in Sector(s) 5 32\n",
      "Downloading URL https://mast.stsci.edu/api/v0.1/Download/file?uri=mast:HLSP/eleanor/postcards/s0005/2-4/hlsp_eleanor_tess_ffi_postcard-s0005-2-4-cal-0608-1186_tess_v2_bkg.fits to ./mastDownload/HLSP/hlsp_eleanor_tess_ffi_postcard-s0005-2-4-cal-0608-1186_tess_v2_pc/hlsp_eleanor_tess_ffi_postcard-s0005-2-4-cal-0608-1186_tess_v2_bkg.fits ... [Done]\n",
      "Downloading URL https://mast.stsci.edu/api/v0.1/Download/file?uri=mast:HLSP/eleanor/postcards/s0005/2-4/hlsp_eleanor_tess_ffi_postcard-s0005-2-4-cal-0608-1186_tess_v2_pc.fits to ./mastDownload/HLSP/hlsp_eleanor_tess_ffi_postcard-s0005-2-4-cal-0608-1186_tess_v2_pc/hlsp_eleanor_tess_ffi_postcard-s0005-2-4-cal-0608-1186_tess_v2_pc.fits ... [Done]\n",
      "Downloading URL https://mast.stsci.edu/api/v0.1/Download/file?uri=mast:HLSP/eleanor/postcards/s0005/2-4/hlsp_eleanor_tess_ffi_postcard-s0005-2-4_tess_v2_pm.txt to ./mastDownload/HLSP/hlsp_eleanor_tess_ffi_postcard-s0005-2-4-cal-0608-1186_tess_v2_pc/hlsp_eleanor_tess_ffi_postcard-s0005-2-4_tess_v2_pm.txt ... [Done]\n",
      "No eleanor postcard has been made for your target (yet). Using TessCut instead.\n",
      "Downloading URL https://mast.stsci.edu/tesscut/api/v0.1/astrocut?ra=66.70083333333332&dec=-15.429833333333333&y=31&x=31&units=px&sector=32 to /Users/oliver hall/.eleanor/tesscut/tesscut_20210921203510.zip ... [Done]\n",
      "Inflating...\n",
      "No postcard object will be created for this target.\n"
     ]
    },
    {
     "data": {
      "application/vnd.jupyter.widget-view+json": {
       "model_id": "af665ae80b1f47c1b6c7edcd9b9e4e5b",
       "version_major": 2,
       "version_minor": 0
      },
      "text/plain": [
       "  0%|          | 0/22694 [00:00<?, ?it/s]"
      ]
     },
     "metadata": {},
     "output_type": "display_data"
    },
    {
     "name": "stderr",
     "output_type": "stream",
     "text": [
      "\r",
      " 65%|████████████████████████▌             | 53/82 [3:01:58<1:35:09, 196.89s/it]"
     ]
    },
    {
     "name": "stdout",
     "output_type": "stream",
     "text": [
      "Found star in Sector(s) 4 31\n",
      "Downloading URL https://mast.stsci.edu/api/v0.1/Download/file?uri=mast:HLSP/eleanor/postcards/s0004/1-2/hlsp_eleanor_tess_ffi_postcard-s0004-1-2-cal-0118-0808_tess_v2_bkg.fits to ./mastDownload/HLSP/hlsp_eleanor_tess_ffi_postcard-s0004-1-2-cal-0118-0808_tess_v2_pc/hlsp_eleanor_tess_ffi_postcard-s0004-1-2-cal-0118-0808_tess_v2_bkg.fits ... [Done]\n",
      "Downloading URL https://mast.stsci.edu/api/v0.1/Download/file?uri=mast:HLSP/eleanor/postcards/s0004/1-2/hlsp_eleanor_tess_ffi_postcard-s0004-1-2-cal-0118-0808_tess_v2_pc.fits to ./mastDownload/HLSP/hlsp_eleanor_tess_ffi_postcard-s0004-1-2-cal-0118-0808_tess_v2_pc/hlsp_eleanor_tess_ffi_postcard-s0004-1-2-cal-0118-0808_tess_v2_pc.fits ... [Done]\n",
      "Downloading URL https://mast.stsci.edu/api/v0.1/Download/file?uri=mast:HLSP/eleanor/postcards/s0004/1-2/hlsp_eleanor_tess_ffi_postcard-s0004-1-2_tess_v2_pm.txt to ./mastDownload/HLSP/hlsp_eleanor_tess_ffi_postcard-s0004-1-2-cal-0118-0808_tess_v2_pc/hlsp_eleanor_tess_ffi_postcard-s0004-1-2_tess_v2_pm.txt ... [Done]\n",
      "No eleanor postcard has been made for your target (yet). Using TessCut instead.\n",
      "Downloading URL https://mast.stsci.edu/tesscut/api/v0.1/astrocut?ra=44.96666666666666&dec=-9.793277777777778&y=31&x=31&units=px&sector=31 to /Users/oliver hall/.eleanor/tesscut/tesscut_20210921203828.zip ... [Done]\n",
      "Inflating...\n",
      "No postcard object will be created for this target.\n"
     ]
    },
    {
     "data": {
      "application/vnd.jupyter.widget-view+json": {
       "model_id": "758e971a8ab541908c2615057a29aa62",
       "version_major": 2,
       "version_minor": 0
      },
      "text/plain": [
       "  0%|          | 0/22622 [00:00<?, ?it/s]"
      ]
     },
     "metadata": {},
     "output_type": "display_data"
    },
    {
     "name": "stderr",
     "output_type": "stream",
     "text": [
      "\r",
      " 66%|█████████████████████████             | 54/82 [3:05:07<1:30:49, 194.64s/it]"
     ]
    },
    {
     "name": "stdout",
     "output_type": "stream",
     "text": [
      "Found star in Sector(s) 4 31\n",
      "Downloading URL https://mast.stsci.edu/api/v0.1/Download/file?uri=mast:HLSP/eleanor/postcards/s0004/2-3/hlsp_eleanor_tess_ffi_postcard-s0004-2-3-cal-1490-0322_tess_v2_bkg.fits to ./mastDownload/HLSP/hlsp_eleanor_tess_ffi_postcard-s0004-2-3-cal-1490-0322_tess_v2_pc/hlsp_eleanor_tess_ffi_postcard-s0004-2-3-cal-1490-0322_tess_v2_bkg.fits ... [Done]\n",
      "Downloading URL https://mast.stsci.edu/api/v0.1/Download/file?uri=mast:HLSP/eleanor/postcards/s0004/2-3/hlsp_eleanor_tess_ffi_postcard-s0004-2-3-cal-1490-0322_tess_v2_pc.fits to ./mastDownload/HLSP/hlsp_eleanor_tess_ffi_postcard-s0004-2-3-cal-1490-0322_tess_v2_pc/hlsp_eleanor_tess_ffi_postcard-s0004-2-3-cal-1490-0322_tess_v2_pc.fits ... [Done]\n",
      "Downloading URL https://mast.stsci.edu/api/v0.1/Download/file?uri=mast:HLSP/eleanor/postcards/s0004/2-3/hlsp_eleanor_tess_ffi_postcard-s0004-2-3_tess_v2_pm.txt to ./mastDownload/HLSP/hlsp_eleanor_tess_ffi_postcard-s0004-2-3-cal-1490-0322_tess_v2_pc/hlsp_eleanor_tess_ffi_postcard-s0004-2-3_tess_v2_pm.txt ... [Done]\n",
      "No eleanor postcard has been made for your target (yet). Using TessCut instead.\n",
      "Downloading URL https://mast.stsci.edu/tesscut/api/v0.1/astrocut?ra=50.13875&dec=-14.28288888888889&y=31&x=31&units=px&sector=31 to /Users/oliver hall/.eleanor/tesscut/tesscut_20210921204135.zip ... [Done]\n",
      "Inflating...\n",
      "No postcard object will be created for this target.\n"
     ]
    },
    {
     "data": {
      "application/vnd.jupyter.widget-view+json": {
       "model_id": "59bcbefb6da6462e90139b8be9f903ae",
       "version_major": 2,
       "version_minor": 0
      },
      "text/plain": [
       "  0%|          | 0/22619 [00:00<?, ?it/s]"
      ]
     },
     "metadata": {},
     "output_type": "display_data"
    },
    {
     "name": "stderr",
     "output_type": "stream",
     "text": [
      "\r",
      " 67%|█████████████████████████▍            | 55/82 [3:08:01<1:24:48, 188.46s/it]"
     ]
    },
    {
     "name": "stdout",
     "output_type": "stream",
     "text": [
      "Found star in Sector(s) 4 30\n",
      "Downloading URL https://mast.stsci.edu/api/v0.1/Download/file?uri=mast:HLSP/eleanor/postcards/s0004/2-4/hlsp_eleanor_tess_ffi_postcard-s0004-2-4-cal-1588-0646_tess_v2_bkg.fits to ./mastDownload/HLSP/hlsp_eleanor_tess_ffi_postcard-s0004-2-4-cal-1588-0646_tess_v2_pc/hlsp_eleanor_tess_ffi_postcard-s0004-2-4-cal-1588-0646_tess_v2_bkg.fits ... [Done]\n",
      "Downloading URL https://mast.stsci.edu/api/v0.1/Download/file?uri=mast:HLSP/eleanor/postcards/s0004/2-4/hlsp_eleanor_tess_ffi_postcard-s0004-2-4-cal-1588-0646_tess_v2_pc.fits to ./mastDownload/HLSP/hlsp_eleanor_tess_ffi_postcard-s0004-2-4-cal-1588-0646_tess_v2_pc/hlsp_eleanor_tess_ffi_postcard-s0004-2-4-cal-1588-0646_tess_v2_pc.fits ... [Done]\n",
      "Downloading URL https://mast.stsci.edu/api/v0.1/Download/file?uri=mast:HLSP/eleanor/postcards/s0004/2-4/hlsp_eleanor_tess_ffi_postcard-s0004-2-4_tess_v2_pm.txt to ./mastDownload/HLSP/hlsp_eleanor_tess_ffi_postcard-s0004-2-4-cal-1588-0646_tess_v2_pc/hlsp_eleanor_tess_ffi_postcard-s0004-2-4_tess_v2_pm.txt ... [Done]\n",
      "No eleanor postcard has been made for your target (yet). Using TessCut instead.\n",
      "Downloading URL https://mast.stsci.edu/tesscut/api/v0.1/astrocut?ra=37.36875&dec=-20.204666666666665&y=31&x=31&units=px&sector=30 to /Users/oliver hall/.eleanor/tesscut/tesscut_20210921204424.zip ... [Done]\n",
      "Inflating...\n",
      "No postcard object will be created for this target.\n"
     ]
    },
    {
     "data": {
      "application/vnd.jupyter.widget-view+json": {
       "model_id": "5745a636e7724907978b31138a6abd17",
       "version_major": 2,
       "version_minor": 0
      },
      "text/plain": [
       "  0%|          | 0/21820 [00:00<?, ?it/s]"
      ]
     },
     "metadata": {},
     "output_type": "display_data"
    },
    {
     "name": "stderr",
     "output_type": "stream",
     "text": [
      "\r",
      " 68%|█████████████████████████▉            | 56/82 [3:11:22<1:23:11, 191.99s/it]"
     ]
    },
    {
     "name": "stdout",
     "output_type": "stream",
     "text": [
      "Found star in Sector(s) 2 29\n",
      "Downloading URL https://mast.stsci.edu/api/v0.1/Download/file?uri=mast:HLSP/eleanor/postcards/s0002/1-2/hlsp_eleanor_tess_ffi_postcard-s0002-1-2-cal-1000-1564_tess_v2_bkg.fits to ./mastDownload/HLSP/hlsp_eleanor_tess_ffi_postcard-s0002-1-2-cal-1000-1564_tess_v2_pc/hlsp_eleanor_tess_ffi_postcard-s0002-1-2-cal-1000-1564_tess_v2_bkg.fits ... [Done]\n",
      "Downloading URL https://mast.stsci.edu/api/v0.1/Download/file?uri=mast:HLSP/eleanor/postcards/s0002/1-2/hlsp_eleanor_tess_ffi_postcard-s0002-1-2-cal-1000-1564_tess_v2_pc.fits to ./mastDownload/HLSP/hlsp_eleanor_tess_ffi_postcard-s0002-1-2-cal-1000-1564_tess_v2_pc/hlsp_eleanor_tess_ffi_postcard-s0002-1-2-cal-1000-1564_tess_v2_pc.fits ... [Done]\n",
      "Downloading URL https://mast.stsci.edu/api/v0.1/Download/file?uri=mast:HLSP/eleanor/postcards/s0002/1-2/hlsp_eleanor_tess_ffi_postcard-s0002-1-2_tess_v2_pm.txt to ./mastDownload/HLSP/hlsp_eleanor_tess_ffi_postcard-s0002-1-2-cal-1000-1564_tess_v2_pc/hlsp_eleanor_tess_ffi_postcard-s0002-1-2_tess_v2_pm.txt ... [Done]\n",
      "No eleanor postcard has been made for your target (yet). Using TessCut instead.\n",
      "Downloading URL https://mast.stsci.edu/tesscut/api/v0.1/astrocut?ra=359.22375&dec=-23.290166666666668&y=31&x=31&units=px&sector=29 to /Users/oliver hall/.eleanor/tesscut/tesscut_20210921204750.zip ... [Done]\n",
      "Inflating...\n",
      "No postcard object will be created for this target.\n"
     ]
    },
    {
     "data": {
      "application/vnd.jupyter.widget-view+json": {
       "model_id": "c66950ae40274c88b20f9f3ed3e0a0b4",
       "version_major": 2,
       "version_minor": 0
      },
      "text/plain": [
       "  0%|          | 0/22660 [00:00<?, ?it/s]"
      ]
     },
     "metadata": {},
     "output_type": "display_data"
    },
    {
     "name": "stderr",
     "output_type": "stream",
     "text": [
      "\r",
      " 70%|██████████████████████████▍           | 57/82 [3:14:44<1:21:15, 195.01s/it]"
     ]
    },
    {
     "name": "stdout",
     "output_type": "stream",
     "text": [
      "Found star in Sector(s) 5\n",
      "Downloading URL https://mast.stsci.edu/api/v0.1/Download/file?uri=mast:HLSP/eleanor/postcards/s0005/1-1/hlsp_eleanor_tess_ffi_postcard-s0005-1-1-cal-0902-0322_tess_v2_bkg.fits to ./mastDownload/HLSP/hlsp_eleanor_tess_ffi_postcard-s0005-1-1-cal-0902-0322_tess_v2_pc/hlsp_eleanor_tess_ffi_postcard-s0005-1-1-cal-0902-0322_tess_v2_bkg.fits ... [Done]\n",
      "Downloading URL https://mast.stsci.edu/api/v0.1/Download/file?uri=mast:HLSP/eleanor/postcards/s0005/1-1/hlsp_eleanor_tess_ffi_postcard-s0005-1-1-cal-0902-0322_tess_v2_pc.fits to ./mastDownload/HLSP/hlsp_eleanor_tess_ffi_postcard-s0005-1-1-cal-0902-0322_tess_v2_pc/hlsp_eleanor_tess_ffi_postcard-s0005-1-1-cal-0902-0322_tess_v2_pc.fits ... [Done]\n",
      "Downloading URL https://mast.stsci.edu/api/v0.1/Download/file?uri=mast:HLSP/eleanor/postcards/s0005/1-1/hlsp_eleanor_tess_ffi_postcard-s0005-1-1_tess_v2_pm.txt to ./mastDownload/HLSP/hlsp_eleanor_tess_ffi_postcard-s0005-1-1-cal-0902-0322_tess_v2_pc/hlsp_eleanor_tess_ffi_postcard-s0005-1-1_tess_v2_pm.txt ... [Done]\n",
      "No postcard object will be created for this target.\n"
     ]
    },
    {
     "data": {
      "application/vnd.jupyter.widget-view+json": {
       "model_id": "c3a5a3fb7af5464e9ff28a10d88bf69f",
       "version_major": 2,
       "version_minor": 0
      },
      "text/plain": [
       "  0%|          | 0/752 [00:00<?, ?it/s]"
      ]
     },
     "metadata": {},
     "output_type": "display_data"
    },
    {
     "name": "stderr",
     "output_type": "stream",
     "text": [
      "\r",
      " 71%|██████████████████████████▉           | 58/82 [3:15:45<1:01:58, 154.93s/it]"
     ]
    },
    {
     "name": "stdout",
     "output_type": "stream",
     "text": [
      "Found star in Sector(s) 3 30\n",
      "Downloading URL https://mast.stsci.edu/api/v0.1/Download/file?uri=mast:HLSP/eleanor/postcards/s0003/1-1/hlsp_eleanor_tess_ffi_postcard-s0003-1-1-cal-0608-0754_tess_v2_bkg.fits to ./mastDownload/HLSP/hlsp_eleanor_tess_ffi_postcard-s0003-1-1-cal-0608-0754_tess_v2_pc/hlsp_eleanor_tess_ffi_postcard-s0003-1-1-cal-0608-0754_tess_v2_bkg.fits ... [Done]\n",
      "Downloading URL https://mast.stsci.edu/api/v0.1/Download/file?uri=mast:HLSP/eleanor/postcards/s0003/1-1/hlsp_eleanor_tess_ffi_postcard-s0003-1-1-cal-0608-0754_tess_v2_pc.fits to ./mastDownload/HLSP/hlsp_eleanor_tess_ffi_postcard-s0003-1-1-cal-0608-0754_tess_v2_pc/hlsp_eleanor_tess_ffi_postcard-s0003-1-1-cal-0608-0754_tess_v2_pc.fits ... [Done]\n",
      "Downloading URL https://mast.stsci.edu/api/v0.1/Download/file?uri=mast:HLSP/eleanor/postcards/s0003/1-1/hlsp_eleanor_tess_ffi_postcard-s0003-1-1_tess_v2_pm.txt to ./mastDownload/HLSP/hlsp_eleanor_tess_ffi_postcard-s0003-1-1-cal-0608-0754_tess_v2_pc/hlsp_eleanor_tess_ffi_postcard-s0003-1-1_tess_v2_pm.txt ... [Done]\n",
      "No eleanor postcard has been made for your target (yet). Using TessCut instead.\n",
      "Downloading URL https://mast.stsci.edu/tesscut/api/v0.1/astrocut?ra=11.825&dec=-22.75225&y=31&x=31&units=px&sector=30 to /Users/oliver hall/.eleanor/tesscut/tesscut_20210921205213.zip ... [Done]\n",
      "Inflating...\n",
      "No postcard object will be created for this target.\n"
     ]
    },
    {
     "data": {
      "application/vnd.jupyter.widget-view+json": {
       "model_id": "7dc33d60ef6f48b8af8f188a99b0f3ec",
       "version_major": 2,
       "version_minor": 0
      },
      "text/plain": [
       "  0%|          | 0/22545 [00:00<?, ?it/s]"
      ]
     },
     "metadata": {},
     "output_type": "display_data"
    },
    {
     "name": "stderr",
     "output_type": "stream",
     "text": [
      "\r",
      " 72%|███████████████████████████▎          | 59/82 [3:18:51<1:02:59, 164.35s/it]"
     ]
    },
    {
     "name": "stdout",
     "output_type": "stream",
     "text": [
      "Found star in Sector(s) 4 31\n",
      "Downloading URL https://mast.stsci.edu/api/v0.1/Download/file?uri=mast:HLSP/eleanor/postcards/s0004/1-2/hlsp_eleanor_tess_ffi_postcard-s0004-1-2-cal-1686-0916_tess_v2_bkg.fits to ./mastDownload/HLSP/hlsp_eleanor_tess_ffi_postcard-s0004-1-2-cal-1686-0916_tess_v2_pc/hlsp_eleanor_tess_ffi_postcard-s0004-1-2-cal-1686-0916_tess_v2_bkg.fits ... [Done]\n",
      "Downloading URL https://mast.stsci.edu/api/v0.1/Download/file?uri=mast:HLSP/eleanor/postcards/s0004/1-2/hlsp_eleanor_tess_ffi_postcard-s0004-1-2-cal-1686-0916_tess_v2_pc.fits to ./mastDownload/HLSP/hlsp_eleanor_tess_ffi_postcard-s0004-1-2-cal-1686-0916_tess_v2_pc/hlsp_eleanor_tess_ffi_postcard-s0004-1-2-cal-1686-0916_tess_v2_pc.fits ... [Done]\n",
      "Downloading URL https://mast.stsci.edu/api/v0.1/Download/file?uri=mast:HLSP/eleanor/postcards/s0004/1-2/hlsp_eleanor_tess_ffi_postcard-s0004-1-2_tess_v2_pm.txt to ./mastDownload/HLSP/hlsp_eleanor_tess_ffi_postcard-s0004-1-2-cal-1686-0916_tess_v2_pc/hlsp_eleanor_tess_ffi_postcard-s0004-1-2_tess_v2_pm.txt ... [Done]\n",
      "No eleanor postcard has been made for your target (yet). Using TessCut instead.\n",
      "Downloading URL https://mast.stsci.edu/tesscut/api/v0.1/astrocut?ra=53.12874999999999&dec=-6.219194444444445&y=31&x=31&units=px&sector=31 to /Users/oliver hall/.eleanor/tesscut/tesscut_20210921205513.zip ... [Done]\n",
      "Inflating...\n",
      "No postcard object will be created for this target.\n"
     ]
    },
    {
     "data": {
      "application/vnd.jupyter.widget-view+json": {
       "model_id": "610e4e3133d14a9d863a6cc005809459",
       "version_major": 2,
       "version_minor": 0
      },
      "text/plain": [
       "  0%|          | 0/22622 [00:00<?, ?it/s]"
      ]
     },
     "metadata": {},
     "output_type": "display_data"
    },
    {
     "name": "stderr",
     "output_type": "stream",
     "text": [
      "\r",
      " 73%|███████████████████████████▊          | 60/82 [3:21:53<1:02:12, 169.67s/it]"
     ]
    },
    {
     "name": "stdout",
     "output_type": "stream",
     "text": [
      "Found star in Sector(s) 2 29\n",
      "Downloading URL https://mast.stsci.edu/api/v0.1/Download/file?uri=mast:HLSP/eleanor/postcards/s0002/2-2/hlsp_eleanor_tess_ffi_postcard-s0002-2-2-cal-0314-1186_tess_v2_bkg.fits to ./mastDownload/HLSP/hlsp_eleanor_tess_ffi_postcard-s0002-2-2-cal-0314-1186_tess_v2_pc/hlsp_eleanor_tess_ffi_postcard-s0002-2-2-cal-0314-1186_tess_v2_bkg.fits ... [Done]\n",
      "Downloading URL https://mast.stsci.edu/api/v0.1/Download/file?uri=mast:HLSP/eleanor/postcards/s0002/2-2/hlsp_eleanor_tess_ffi_postcard-s0002-2-2-cal-0314-1186_tess_v2_pc.fits to ./mastDownload/HLSP/hlsp_eleanor_tess_ffi_postcard-s0002-2-2-cal-0314-1186_tess_v2_pc/hlsp_eleanor_tess_ffi_postcard-s0002-2-2-cal-0314-1186_tess_v2_pc.fits ... [Done]\n",
      "Downloading URL https://mast.stsci.edu/api/v0.1/Download/file?uri=mast:HLSP/eleanor/postcards/s0002/2-2/hlsp_eleanor_tess_ffi_postcard-s0002-2-2_tess_v2_pm.txt to ./mastDownload/HLSP/hlsp_eleanor_tess_ffi_postcard-s0002-2-2-cal-0314-1186_tess_v2_pc/hlsp_eleanor_tess_ffi_postcard-s0002-2-2_tess_v2_pm.txt ... [Done]\n",
      "No eleanor postcard has been made for your target (yet). Using TessCut instead.\n",
      "Downloading URL https://mast.stsci.edu/tesscut/api/v0.1/astrocut?ra=11.910416666666665&dec=-47.69605555555555&y=31&x=31&units=px&sector=29 to /Users/oliver hall/.eleanor/tesscut/tesscut_20210921205824.zip ... [Done]\n",
      "Inflating...\n",
      "No postcard object will be created for this target.\n"
     ]
    },
    {
     "data": {
      "application/vnd.jupyter.widget-view+json": {
       "model_id": "834a5bdb25054fcd8b7aae77e70ac81a",
       "version_major": 2,
       "version_minor": 0
      },
      "text/plain": [
       "  0%|          | 0/22660 [00:00<?, ?it/s]"
      ]
     },
     "metadata": {},
     "output_type": "display_data"
    },
    {
     "name": "stderr",
     "output_type": "stream",
     "text": [
      "\r",
      " 74%|████████████████████████████▎         | 61/82 [3:25:20<1:03:15, 180.76s/it]"
     ]
    },
    {
     "name": "stdout",
     "output_type": "stream",
     "text": [
      "Found star in Sector(s) 5 32\n",
      "Downloading URL https://mast.stsci.edu/api/v0.1/Download/file?uri=mast:HLSP/eleanor/postcards/s0005/2-4/hlsp_eleanor_tess_ffi_postcard-s0005-2-4-cal-0510-0376_tess_v2_bkg.fits to ./mastDownload/HLSP/hlsp_eleanor_tess_ffi_postcard-s0005-2-4-cal-0510-0376_tess_v2_pc/hlsp_eleanor_tess_ffi_postcard-s0005-2-4-cal-0510-0376_tess_v2_bkg.fits ... [Done]\n",
      "Downloading URL https://mast.stsci.edu/api/v0.1/Download/file?uri=mast:HLSP/eleanor/postcards/s0005/2-4/hlsp_eleanor_tess_ffi_postcard-s0005-2-4-cal-0510-0376_tess_v2_pc.fits to ./mastDownload/HLSP/hlsp_eleanor_tess_ffi_postcard-s0005-2-4-cal-0510-0376_tess_v2_pc/hlsp_eleanor_tess_ffi_postcard-s0005-2-4-cal-0510-0376_tess_v2_pc.fits ... [Done]\n",
      "Downloading URL https://mast.stsci.edu/api/v0.1/Download/file?uri=mast:HLSP/eleanor/postcards/s0005/2-4/hlsp_eleanor_tess_ffi_postcard-s0005-2-4_tess_v2_pm.txt to ./mastDownload/HLSP/hlsp_eleanor_tess_ffi_postcard-s0005-2-4-cal-0510-0376_tess_v2_pc/hlsp_eleanor_tess_ffi_postcard-s0005-2-4_tess_v2_pm.txt ... [Done]\n",
      "No eleanor postcard has been made for your target (yet). Using TessCut instead.\n",
      "Downloading URL https://mast.stsci.edu/tesscut/api/v0.1/astrocut?ra=66.12666666666667&dec=-10.684000000000001&y=31&x=31&units=px&sector=32 to /Users/oliver hall/.eleanor/tesscut/tesscut_20210921210146.zip ... [Done]\n",
      "Inflating...\n",
      "No postcard object will be created for this target.\n"
     ]
    },
    {
     "data": {
      "application/vnd.jupyter.widget-view+json": {
       "model_id": "8daf108c17c04ed586cb0f70f9ed38ea",
       "version_major": 2,
       "version_minor": 0
      },
      "text/plain": [
       "  0%|          | 0/22695 [00:00<?, ?it/s]"
      ]
     },
     "metadata": {},
     "output_type": "display_data"
    },
    {
     "name": "stderr",
     "output_type": "stream",
     "text": [
      "\r",
      " 76%|████████████████████████████▋         | 62/82 [3:28:35<1:01:39, 184.96s/it]"
     ]
    },
    {
     "name": "stdout",
     "output_type": "stream",
     "text": [
      "Found star in Sector(s) 5 32\n"
     ]
    },
    {
     "name": "stderr",
     "output_type": "stream",
     "text": [
      "INFO:astroquery:Found cached file ./mastDownload/HLSP/hlsp_eleanor_tess_ffi_postcard-s0005-2-4-cal-0216-0106_tess_v2_pc/hlsp_eleanor_tess_ffi_postcard-s0005-2-4-cal-0216-0106_tess_v2_bkg.fits with expected size 73658880.\n"
     ]
    },
    {
     "name": "stdout",
     "output_type": "stream",
     "text": [
      "INFO: Found cached file ./mastDownload/HLSP/hlsp_eleanor_tess_ffi_postcard-s0005-2-4-cal-0216-0106_tess_v2_pc/hlsp_eleanor_tess_ffi_postcard-s0005-2-4-cal-0216-0106_tess_v2_bkg.fits with expected size 73658880. [astroquery.query]\n"
     ]
    },
    {
     "name": "stderr",
     "output_type": "stream",
     "text": [
      "INFO:astroquery:Found cached file ./mastDownload/HLSP/hlsp_eleanor_tess_ffi_postcard-s0005-2-4-cal-0216-0106_tess_v2_pc/hlsp_eleanor_tess_ffi_postcard-s0005-2-4-cal-0216-0106_tess_v2_pc.fits with expected size 147421440.\n"
     ]
    },
    {
     "name": "stdout",
     "output_type": "stream",
     "text": [
      "INFO: Found cached file ./mastDownload/HLSP/hlsp_eleanor_tess_ffi_postcard-s0005-2-4-cal-0216-0106_tess_v2_pc/hlsp_eleanor_tess_ffi_postcard-s0005-2-4-cal-0216-0106_tess_v2_pc.fits with expected size 147421440. [astroquery.query]\n"
     ]
    },
    {
     "name": "stderr",
     "output_type": "stream",
     "text": [
      "INFO:astroquery:Found cached file ./mastDownload/HLSP/hlsp_eleanor_tess_ffi_postcard-s0005-2-4-cal-0216-0106_tess_v2_pc/hlsp_eleanor_tess_ffi_postcard-s0005-2-4_tess_v2_pm.txt with expected size 223452.\n"
     ]
    },
    {
     "name": "stdout",
     "output_type": "stream",
     "text": [
      "INFO: Found cached file ./mastDownload/HLSP/hlsp_eleanor_tess_ffi_postcard-s0005-2-4-cal-0216-0106_tess_v2_pc/hlsp_eleanor_tess_ffi_postcard-s0005-2-4_tess_v2_pm.txt with expected size 223452. [astroquery.query]\n",
      "No eleanor postcard has been made for your target (yet). Using TessCut instead.\n",
      "Downloading URL https://mast.stsci.edu/tesscut/api/v0.1/astrocut?ra=67.96499999999999&dec=-8.900972222222222&y=31&x=31&units=px&sector=32 to /Users/oliver hall/.eleanor/tesscut/tesscut_20210921210431.zip ... [Done]\n",
      "Inflating...\n",
      "No postcard object will be created for this target.\n"
     ]
    },
    {
     "data": {
      "application/vnd.jupyter.widget-view+json": {
       "model_id": "d0f720d3ad0b404f8144ac35b9c44d4a",
       "version_major": 2,
       "version_minor": 0
      },
      "text/plain": [
       "  0%|          | 0/22696 [00:00<?, ?it/s]"
      ]
     },
     "metadata": {},
     "output_type": "display_data"
    },
    {
     "name": "stderr",
     "output_type": "stream",
     "text": [
      "\r",
      " 77%|██████████████████████████████▋         | 63/82 [3:31:23<57:00, 180.02s/it]"
     ]
    },
    {
     "name": "stdout",
     "output_type": "stream",
     "text": [
      "Found star in Sector(s) 5 32\n",
      "Downloading URL https://mast.stsci.edu/api/v0.1/Download/file?uri=mast:HLSP/eleanor/postcards/s0005/2-4/hlsp_eleanor_tess_ffi_postcard-s0005-2-4-cal-0216-1672_tess_v2_bkg.fits to ./mastDownload/HLSP/hlsp_eleanor_tess_ffi_postcard-s0005-2-4-cal-0216-1672_tess_v2_pc/hlsp_eleanor_tess_ffi_postcard-s0005-2-4-cal-0216-1672_tess_v2_bkg.fits ... [Done]\n",
      "Downloading URL https://mast.stsci.edu/api/v0.1/Download/file?uri=mast:HLSP/eleanor/postcards/s0005/2-4/hlsp_eleanor_tess_ffi_postcard-s0005-2-4-cal-0216-1672_tess_v2_pc.fits to ./mastDownload/HLSP/hlsp_eleanor_tess_ffi_postcard-s0005-2-4-cal-0216-1672_tess_v2_pc/hlsp_eleanor_tess_ffi_postcard-s0005-2-4-cal-0216-1672_tess_v2_pc.fits ... [Done]\n",
      "Downloading URL https://mast.stsci.edu/api/v0.1/Download/file?uri=mast:HLSP/eleanor/postcards/s0005/2-4/hlsp_eleanor_tess_ffi_postcard-s0005-2-4_tess_v2_pm.txt to ./mastDownload/HLSP/hlsp_eleanor_tess_ffi_postcard-s0005-2-4-cal-0216-1672_tess_v2_pc/hlsp_eleanor_tess_ffi_postcard-s0005-2-4_tess_v2_pm.txt ... [Done]\n",
      "No eleanor postcard has been made for your target (yet). Using TessCut instead.\n",
      "Downloading URL https://mast.stsci.edu/tesscut/api/v0.1/astrocut?ra=69.15041666666666&dec=-17.789916666666667&y=31&x=31&units=px&sector=32 to /Users/oliver hall/.eleanor/tesscut/tesscut_20210921210747.zip ... [Done]\n",
      "Inflating...\n",
      "No postcard object will be created for this target.\n"
     ]
    },
    {
     "data": {
      "application/vnd.jupyter.widget-view+json": {
       "model_id": "1d54b56d25bf4fda8f2ef311b8c1d626",
       "version_major": 2,
       "version_minor": 0
      },
      "text/plain": [
       "  0%|          | 0/22703 [00:00<?, ?it/s]"
      ]
     },
     "metadata": {},
     "output_type": "display_data"
    },
    {
     "name": "stderr",
     "output_type": "stream",
     "text": [
      "\r",
      " 78%|███████████████████████████████▏        | 64/82 [3:34:38<55:17, 184.30s/it]"
     ]
    },
    {
     "name": "stdout",
     "output_type": "stream",
     "text": [
      "Found star in Sector(s) 5 32\n",
      "Downloading URL https://mast.stsci.edu/api/v0.1/Download/file?uri=mast:HLSP/eleanor/postcards/s0005/2-3/hlsp_eleanor_tess_ffi_postcard-s0005-2-3-cal-0510-0322_tess_v2_bkg.fits to ./mastDownload/HLSP/hlsp_eleanor_tess_ffi_postcard-s0005-2-3-cal-0510-0322_tess_v2_pc/hlsp_eleanor_tess_ffi_postcard-s0005-2-3-cal-0510-0322_tess_v2_bkg.fits ... [Done]\n",
      "Downloading URL https://mast.stsci.edu/api/v0.1/Download/file?uri=mast:HLSP/eleanor/postcards/s0005/2-3/hlsp_eleanor_tess_ffi_postcard-s0005-2-3-cal-0510-0322_tess_v2_pc.fits to ./mastDownload/HLSP/hlsp_eleanor_tess_ffi_postcard-s0005-2-3-cal-0510-0322_tess_v2_pc/hlsp_eleanor_tess_ffi_postcard-s0005-2-3-cal-0510-0322_tess_v2_pc.fits ... [Done]\n",
      "Downloading URL https://mast.stsci.edu/api/v0.1/Download/file?uri=mast:HLSP/eleanor/postcards/s0005/2-3/hlsp_eleanor_tess_ffi_postcard-s0005-2-3_tess_v2_pm.txt to ./mastDownload/HLSP/hlsp_eleanor_tess_ffi_postcard-s0005-2-3-cal-0510-0322_tess_v2_pc/hlsp_eleanor_tess_ffi_postcard-s0005-2-3_tess_v2_pm.txt ... [Done]\n",
      "No eleanor postcard has been made for your target (yet). Using TessCut instead.\n",
      "Downloading URL https://mast.stsci.edu/tesscut/api/v0.1/astrocut?ra=78.35624999999999&dec=-8.331166666666666&y=31&x=31&units=px&sector=32 to /Users/oliver hall/.eleanor/tesscut/tesscut_20210921211106.zip ... [Done]\n",
      "Inflating...\n",
      "No postcard object will be created for this target.\n"
     ]
    },
    {
     "data": {
      "application/vnd.jupyter.widget-view+json": {
       "model_id": "593773e55a95490aaa80f526fdba7896",
       "version_major": 2,
       "version_minor": 0
      },
      "text/plain": [
       "  0%|          | 0/22703 [00:00<?, ?it/s]"
      ]
     },
     "metadata": {},
     "output_type": "display_data"
    },
    {
     "name": "stderr",
     "output_type": "stream",
     "text": [
      "\r",
      " 79%|███████████████████████████████▋        | 65/82 [3:37:57<53:30, 188.87s/it]"
     ]
    },
    {
     "name": "stdout",
     "output_type": "stream",
     "text": [
      "Found star in Sector(s) 5 32\n",
      "Downloading URL https://mast.stsci.edu/api/v0.1/Download/file?uri=mast:HLSP/eleanor/postcards/s0005/2-4/hlsp_eleanor_tess_ffi_postcard-s0005-2-4-cal-0118-0808_tess_v2_bkg.fits to ./mastDownload/HLSP/hlsp_eleanor_tess_ffi_postcard-s0005-2-4-cal-0118-0808_tess_v2_pc/hlsp_eleanor_tess_ffi_postcard-s0005-2-4-cal-0118-0808_tess_v2_bkg.fits ... [Done]\n",
      "Downloading URL https://mast.stsci.edu/api/v0.1/Download/file?uri=mast:HLSP/eleanor/postcards/s0005/2-4/hlsp_eleanor_tess_ffi_postcard-s0005-2-4-cal-0118-0808_tess_v2_pc.fits to ./mastDownload/HLSP/hlsp_eleanor_tess_ffi_postcard-s0005-2-4-cal-0118-0808_tess_v2_pc/hlsp_eleanor_tess_ffi_postcard-s0005-2-4-cal-0118-0808_tess_v2_pc.fits ... [Done]\n",
      "Downloading URL https://mast.stsci.edu/api/v0.1/Download/file?uri=mast:HLSP/eleanor/postcards/s0005/2-4/hlsp_eleanor_tess_ffi_postcard-s0005-2-4_tess_v2_pm.txt to ./mastDownload/HLSP/hlsp_eleanor_tess_ffi_postcard-s0005-2-4-cal-0118-0808_tess_v2_pc/hlsp_eleanor_tess_ffi_postcard-s0005-2-4_tess_v2_pm.txt ... [Done]\n",
      "No eleanor postcard has been made for your target (yet). Using TessCut instead.\n",
      "Downloading URL https://mast.stsci.edu/tesscut/api/v0.1/astrocut?ra=68.89708333333331&dec=-12.796555555555555&y=31&x=31&units=px&sector=32 to /Users/oliver hall/.eleanor/tesscut/tesscut_20210921211421.zip ... [Done]\n",
      "Inflating...\n",
      "No postcard object will be created for this target.\n"
     ]
    },
    {
     "data": {
      "application/vnd.jupyter.widget-view+json": {
       "model_id": "e6ba551556af4263850a758df3f8a3ed",
       "version_major": 2,
       "version_minor": 0
      },
      "text/plain": [
       "  0%|          | 0/22697 [00:00<?, ?it/s]"
      ]
     },
     "metadata": {},
     "output_type": "display_data"
    },
    {
     "name": "stderr",
     "output_type": "stream",
     "text": [
      "\r",
      " 80%|████████████████████████████████▏       | 66/82 [3:41:10<50:42, 190.18s/it]"
     ]
    },
    {
     "name": "stdout",
     "output_type": "stream",
     "text": [
      "Found star in Sector(s) 4 31\n",
      "Downloading URL https://mast.stsci.edu/api/v0.1/Download/file?uri=mast:HLSP/eleanor/postcards/s0004/1-1/hlsp_eleanor_tess_ffi_postcard-s0004-1-1-cal-1196-1942_tess_v2_bkg.fits to ./mastDownload/HLSP/hlsp_eleanor_tess_ffi_postcard-s0004-1-1-cal-1196-1942_tess_v2_pc/hlsp_eleanor_tess_ffi_postcard-s0004-1-1-cal-1196-1942_tess_v2_bkg.fits ... [Done]\n",
      "Downloading URL https://mast.stsci.edu/api/v0.1/Download/file?uri=mast:HLSP/eleanor/postcards/s0004/1-1/hlsp_eleanor_tess_ffi_postcard-s0004-1-1-cal-1196-1942_tess_v2_pc.fits to ./mastDownload/HLSP/hlsp_eleanor_tess_ffi_postcard-s0004-1-1-cal-1196-1942_tess_v2_pc/hlsp_eleanor_tess_ffi_postcard-s0004-1-1-cal-1196-1942_tess_v2_pc.fits ... [Done]\n",
      "Downloading URL https://mast.stsci.edu/api/v0.1/Download/file?uri=mast:HLSP/eleanor/postcards/s0004/1-1/hlsp_eleanor_tess_ffi_postcard-s0004-1-1_tess_v2_pm.txt to ./mastDownload/HLSP/hlsp_eleanor_tess_ffi_postcard-s0004-1-1-cal-1196-1942_tess_v2_pc/hlsp_eleanor_tess_ffi_postcard-s0004-1-1_tess_v2_pm.txt ... [Done]\n",
      "No eleanor postcard has been made for your target (yet). Using TessCut instead.\n",
      "Downloading URL https://mast.stsci.edu/tesscut/api/v0.1/astrocut?ra=36.72208333333334&dec=-5.295888888888888&y=31&x=31&units=px&sector=31 to /Users/oliver hall/.eleanor/tesscut/tesscut_20210921211733.zip ... [Done]\n",
      "Inflating...\n",
      "No postcard object will be created for this target.\n"
     ]
    },
    {
     "data": {
      "application/vnd.jupyter.widget-view+json": {
       "model_id": "fed0e375d2a842929a93407c0202e742",
       "version_major": 2,
       "version_minor": 0
      },
      "text/plain": [
       "  0%|          | 0/22622 [00:00<?, ?it/s]"
      ]
     },
     "metadata": {},
     "output_type": "display_data"
    },
    {
     "name": "stderr",
     "output_type": "stream",
     "text": [
      "\r",
      " 82%|████████████████████████████████▋       | 67/82 [3:44:12<46:52, 187.49s/it]"
     ]
    },
    {
     "name": "stdout",
     "output_type": "stream",
     "text": [
      "Found star in Sector(s) 4 31\n",
      "Downloading URL https://mast.stsci.edu/api/v0.1/Download/file?uri=mast:HLSP/eleanor/postcards/s0004/1-2/hlsp_eleanor_tess_ffi_postcard-s0004-1-2-cal-0216-0322_tess_v2_bkg.fits to ./mastDownload/HLSP/hlsp_eleanor_tess_ffi_postcard-s0004-1-2-cal-0216-0322_tess_v2_pc/hlsp_eleanor_tess_ffi_postcard-s0004-1-2-cal-0216-0322_tess_v2_bkg.fits ... [Done]\n",
      "Downloading URL https://mast.stsci.edu/api/v0.1/Download/file?uri=mast:HLSP/eleanor/postcards/s0004/1-2/hlsp_eleanor_tess_ffi_postcard-s0004-1-2-cal-0216-0322_tess_v2_pc.fits to ./mastDownload/HLSP/hlsp_eleanor_tess_ffi_postcard-s0004-1-2-cal-0216-0322_tess_v2_pc/hlsp_eleanor_tess_ffi_postcard-s0004-1-2-cal-0216-0322_tess_v2_pc.fits ... [Done]\n",
      "Downloading URL https://mast.stsci.edu/api/v0.1/Download/file?uri=mast:HLSP/eleanor/postcards/s0004/1-2/hlsp_eleanor_tess_ffi_postcard-s0004-1-2_tess_v2_pm.txt to ./mastDownload/HLSP/hlsp_eleanor_tess_ffi_postcard-s0004-1-2-cal-0216-0322_tess_v2_pc/hlsp_eleanor_tess_ffi_postcard-s0004-1-2_tess_v2_pm.txt ... [Done]\n",
      "No eleanor postcard has been made for your target (yet). Using TessCut instead.\n",
      "Downloading URL https://mast.stsci.edu/tesscut/api/v0.1/astrocut?ra=46.19166666666667&dec=-12.28275&y=31&x=31&units=px&sector=31 to /Users/oliver hall/.eleanor/tesscut/tesscut_20210921212037.zip ... [Done]\n",
      "Inflating...\n",
      "No postcard object will be created for this target.\n"
     ]
    },
    {
     "data": {
      "application/vnd.jupyter.widget-view+json": {
       "model_id": "2af9b186339f420d913598cd9d11dea0",
       "version_major": 2,
       "version_minor": 0
      },
      "text/plain": [
       "  0%|          | 0/22622 [00:00<?, ?it/s]"
      ]
     },
     "metadata": {},
     "output_type": "display_data"
    },
    {
     "name": "stderr",
     "output_type": "stream",
     "text": [
      "\r",
      " 83%|█████████████████████████████████▏      | 68/82 [3:47:17<43:34, 186.76s/it]"
     ]
    },
    {
     "name": "stdout",
     "output_type": "stream",
     "text": [
      "Found star in Sector(s) 4 31\n",
      "Downloading URL https://mast.stsci.edu/api/v0.1/Download/file?uri=mast:HLSP/eleanor/postcards/s0004/2-2/hlsp_eleanor_tess_ffi_postcard-s0004-2-2-cal-0902-1564_tess_v2_bkg.fits to ./mastDownload/HLSP/hlsp_eleanor_tess_ffi_postcard-s0004-2-2-cal-0902-1564_tess_v2_pc/hlsp_eleanor_tess_ffi_postcard-s0004-2-2-cal-0902-1564_tess_v2_bkg.fits ... [Done]\n",
      "Downloading URL https://mast.stsci.edu/api/v0.1/Download/file?uri=mast:HLSP/eleanor/postcards/s0004/2-2/hlsp_eleanor_tess_ffi_postcard-s0004-2-2-cal-0902-1564_tess_v2_pc.fits to ./mastDownload/HLSP/hlsp_eleanor_tess_ffi_postcard-s0004-2-2-cal-0902-1564_tess_v2_pc/hlsp_eleanor_tess_ffi_postcard-s0004-2-2-cal-0902-1564_tess_v2_pc.fits ... [Done]\n",
      "Downloading URL https://mast.stsci.edu/api/v0.1/Download/file?uri=mast:HLSP/eleanor/postcards/s0004/2-2/hlsp_eleanor_tess_ffi_postcard-s0004-2-2_tess_v2_pm.txt to ./mastDownload/HLSP/hlsp_eleanor_tess_ffi_postcard-s0004-2-2-cal-0902-1564_tess_v2_pc/hlsp_eleanor_tess_ffi_postcard-s0004-2-2_tess_v2_pm.txt ... [Done]\n",
      "No eleanor postcard has been made for your target (yet). Using TessCut instead.\n",
      "Downloading URL https://mast.stsci.edu/tesscut/api/v0.1/astrocut?ra=56.75666666666665&dec=-26.269777777777776&y=31&x=31&units=px&sector=31 to /Users/oliver hall/.eleanor/tesscut/tesscut_20210921212348.zip ... [Done]\n",
      "Inflating...\n",
      "No postcard object will be created for this target.\n"
     ]
    },
    {
     "data": {
      "application/vnd.jupyter.widget-view+json": {
       "model_id": "1c70b204dc3d49e2b4db7643a1c5628d",
       "version_major": 2,
       "version_minor": 0
      },
      "text/plain": [
       "  0%|          | 0/22619 [00:00<?, ?it/s]"
      ]
     },
     "metadata": {},
     "output_type": "display_data"
    },
    {
     "name": "stderr",
     "output_type": "stream",
     "text": [
      "\r",
      " 84%|█████████████████████████████████▋      | 69/82 [3:50:14<39:52, 184.05s/it]"
     ]
    },
    {
     "name": "stdout",
     "output_type": "stream",
     "text": [
      "Found star in Sector(s) 3 4 30\n",
      "Downloading URL https://mast.stsci.edu/api/v0.1/Download/file?uri=mast:HLSP/eleanor/postcards/s0003/2-3/hlsp_eleanor_tess_ffi_postcard-s0003-2-3-cal-0314-1348_tess_v2_bkg.fits to ./mastDownload/HLSP/hlsp_eleanor_tess_ffi_postcard-s0003-2-3-cal-0314-1348_tess_v2_pc/hlsp_eleanor_tess_ffi_postcard-s0003-2-3-cal-0314-1348_tess_v2_bkg.fits ... [Done]\n",
      "Downloading URL https://mast.stsci.edu/api/v0.1/Download/file?uri=mast:HLSP/eleanor/postcards/s0003/2-3/hlsp_eleanor_tess_ffi_postcard-s0003-2-3-cal-0314-1348_tess_v2_pc.fits to ./mastDownload/HLSP/hlsp_eleanor_tess_ffi_postcard-s0003-2-3-cal-0314-1348_tess_v2_pc/hlsp_eleanor_tess_ffi_postcard-s0003-2-3-cal-0314-1348_tess_v2_pc.fits ... [Done]\n",
      "Downloading URL https://mast.stsci.edu/api/v0.1/Download/file?uri=mast:HLSP/eleanor/postcards/s0003/2-3/hlsp_eleanor_tess_ffi_postcard-s0003-2-3_tess_v2_pm.txt to ./mastDownload/HLSP/hlsp_eleanor_tess_ffi_postcard-s0003-2-3-cal-0314-1348_tess_v2_pc/hlsp_eleanor_tess_ffi_postcard-s0003-2-3_tess_v2_pm.txt ... [Done]\n",
      "Downloading URL https://mast.stsci.edu/api/v0.1/Download/file?uri=mast:HLSP/eleanor/postcards/s0004/2-4/hlsp_eleanor_tess_ffi_postcard-s0004-2-4-cal-1980-1402_tess_v2_bkg.fits to ./mastDownload/HLSP/hlsp_eleanor_tess_ffi_postcard-s0004-2-4-cal-1980-1402_tess_v2_pc/hlsp_eleanor_tess_ffi_postcard-s0004-2-4-cal-1980-1402_tess_v2_bkg.fits ... [Done]\n",
      "Downloading URL https://mast.stsci.edu/api/v0.1/Download/file?uri=mast:HLSP/eleanor/postcards/s0004/2-4/hlsp_eleanor_tess_ffi_postcard-s0004-2-4-cal-1980-1402_tess_v2_pc.fits to ./mastDownload/HLSP/hlsp_eleanor_tess_ffi_postcard-s0004-2-4-cal-1980-1402_tess_v2_pc/hlsp_eleanor_tess_ffi_postcard-s0004-2-4-cal-1980-1402_tess_v2_pc.fits ... [Done]\n",
      "Downloading URL https://mast.stsci.edu/api/v0.1/Download/file?uri=mast:HLSP/eleanor/postcards/s0004/2-4/hlsp_eleanor_tess_ffi_postcard-s0004-2-4_tess_v2_pm.txt to ./mastDownload/HLSP/hlsp_eleanor_tess_ffi_postcard-s0004-2-4-cal-1980-1402_tess_v2_pc/hlsp_eleanor_tess_ffi_postcard-s0004-2-4_tess_v2_pm.txt ... [Done]\n",
      "No eleanor postcard has been made for your target (yet). Using TessCut instead.\n",
      "Downloading URL https://mast.stsci.edu/tesscut/api/v0.1/astrocut?ra=36.52916666666666&dec=-24.91361111111111&y=31&x=31&units=px&sector=30 to /Users/oliver hall/.eleanor/tesscut/tesscut_20210921212719.zip ... [Done]\n",
      "Inflating...\n",
      "No postcard object will be created for this target.\n",
      "No postcard object will be created for this target.\n"
     ]
    },
    {
     "data": {
      "application/vnd.jupyter.widget-view+json": {
       "model_id": "753fb8b8937547aebf33471ea6ff70db",
       "version_major": 2,
       "version_minor": 0
      },
      "text/plain": [
       "  0%|          | 0/22565 [00:00<?, ?it/s]"
      ]
     },
     "metadata": {},
     "output_type": "display_data"
    },
    {
     "name": "stderr",
     "output_type": "stream",
     "text": [
      "\r",
      " 85%|██████████████████████████████████▏     | 70/82 [3:55:17<43:55, 219.62s/it]"
     ]
    },
    {
     "name": "stdout",
     "output_type": "stream",
     "text": [
      "Found star in Sector(s) 3 30\n",
      "Downloading URL https://mast.stsci.edu/api/v0.1/Download/file?uri=mast:HLSP/eleanor/postcards/s0003/2-3/hlsp_eleanor_tess_ffi_postcard-s0003-2-3-cal-0804-1564_tess_v2_bkg.fits to ./mastDownload/HLSP/hlsp_eleanor_tess_ffi_postcard-s0003-2-3-cal-0804-1564_tess_v2_pc/hlsp_eleanor_tess_ffi_postcard-s0003-2-3-cal-0804-1564_tess_v2_bkg.fits ... [Done]\n",
      "Downloading URL https://mast.stsci.edu/api/v0.1/Download/file?uri=mast:HLSP/eleanor/postcards/s0003/2-3/hlsp_eleanor_tess_ffi_postcard-s0003-2-3-cal-0804-1564_tess_v2_pc.fits to ./mastDownload/HLSP/hlsp_eleanor_tess_ffi_postcard-s0003-2-3-cal-0804-1564_tess_v2_pc/hlsp_eleanor_tess_ffi_postcard-s0003-2-3-cal-0804-1564_tess_v2_pc.fits ... [Done]\n",
      "Downloading URL https://mast.stsci.edu/api/v0.1/Download/file?uri=mast:HLSP/eleanor/postcards/s0003/2-3/hlsp_eleanor_tess_ffi_postcard-s0003-2-3_tess_v2_pm.txt to ./mastDownload/HLSP/hlsp_eleanor_tess_ffi_postcard-s0003-2-3-cal-0804-1564_tess_v2_pc/hlsp_eleanor_tess_ffi_postcard-s0003-2-3_tess_v2_pm.txt ... [Done]\n",
      "No eleanor postcard has been made for your target (yet). Using TessCut instead.\n",
      "Downloading URL https://mast.stsci.edu/tesscut/api/v0.1/astrocut?ra=34.31083333333333&dec=-27.278305555555555&y=31&x=31&units=px&sector=30 to /Users/oliver hall/.eleanor/tesscut/tesscut_20210921213145.zip ... [Done]\n",
      "Inflating...\n",
      "No postcard object will be created for this target.\n"
     ]
    },
    {
     "data": {
      "application/vnd.jupyter.widget-view+json": {
       "model_id": "cbd6476738dc48fd8c40b80888ea7a11",
       "version_major": 2,
       "version_minor": 0
      },
      "text/plain": [
       "  0%|          | 0/22562 [00:00<?, ?it/s]"
      ]
     },
     "metadata": {},
     "output_type": "display_data"
    },
    {
     "name": "stderr",
     "output_type": "stream",
     "text": [
      "\r",
      " 87%|██████████████████████████████████▋     | 71/82 [3:58:34<39:02, 212.97s/it]"
     ]
    },
    {
     "name": "stdout",
     "output_type": "stream",
     "text": [
      "Found star in Sector(s) 3 30\n",
      "Downloading URL https://mast.stsci.edu/api/v0.1/Download/file?uri=mast:HLSP/eleanor/postcards/s0003/1-2/hlsp_eleanor_tess_ffi_postcard-s0003-1-2-cal-1980-0862_tess_v2_bkg.fits to ./mastDownload/HLSP/hlsp_eleanor_tess_ffi_postcard-s0003-1-2-cal-1980-0862_tess_v2_pc/hlsp_eleanor_tess_ffi_postcard-s0003-1-2-cal-1980-0862_tess_v2_bkg.fits ... [Done]\n",
      "Downloading URL https://mast.stsci.edu/api/v0.1/Download/file?uri=mast:HLSP/eleanor/postcards/s0003/1-2/hlsp_eleanor_tess_ffi_postcard-s0003-1-2-cal-1980-0862_tess_v2_pc.fits to ./mastDownload/HLSP/hlsp_eleanor_tess_ffi_postcard-s0003-1-2-cal-1980-0862_tess_v2_pc/hlsp_eleanor_tess_ffi_postcard-s0003-1-2-cal-1980-0862_tess_v2_pc.fits ... [Done]\n",
      "Downloading URL https://mast.stsci.edu/api/v0.1/Download/file?uri=mast:HLSP/eleanor/postcards/s0003/1-2/hlsp_eleanor_tess_ffi_postcard-s0003-1-2_tess_v2_pm.txt to ./mastDownload/HLSP/hlsp_eleanor_tess_ffi_postcard-s0003-1-2-cal-1980-0862_tess_v2_pc/hlsp_eleanor_tess_ffi_postcard-s0003-1-2_tess_v2_pm.txt ... [Done]\n",
      "No eleanor postcard has been made for your target (yet). Using TessCut instead.\n",
      "Downloading URL https://mast.stsci.edu/tesscut/api/v0.1/astrocut?ra=30.74291666666666&dec=-13.629666666666667&y=31&x=31&units=px&sector=30 to /Users/oliver hall/.eleanor/tesscut/tesscut_20210921213504.zip ... [Done]\n",
      "Inflating...\n",
      "No postcard object will be created for this target.\n"
     ]
    },
    {
     "data": {
      "application/vnd.jupyter.widget-view+json": {
       "model_id": "9e29edcc8a714fca9b2d93c7ced04210",
       "version_major": 2,
       "version_minor": 0
      },
      "text/plain": [
       "  0%|          | 0/22546 [00:00<?, ?it/s]"
      ]
     },
     "metadata": {},
     "output_type": "display_data"
    },
    {
     "name": "stderr",
     "output_type": "stream",
     "text": [
      "\r",
      " 88%|███████████████████████████████████     | 72/82 [4:01:40<34:06, 204.69s/it]"
     ]
    },
    {
     "name": "stdout",
     "output_type": "stream",
     "text": [
      "Found star in Sector(s) 3 4 31\n",
      "Downloading URL https://mast.stsci.edu/api/v0.1/Download/file?uri=mast:HLSP/eleanor/postcards/s0003/3-4/hlsp_eleanor_tess_ffi_postcard-s0003-3-4-cal-1784-1996_tess_v2_bkg.fits to ./mastDownload/HLSP/hlsp_eleanor_tess_ffi_postcard-s0003-3-4-cal-1784-1996_tess_v2_pc/hlsp_eleanor_tess_ffi_postcard-s0003-3-4-cal-1784-1996_tess_v2_bkg.fits ... [Done]\n",
      "Downloading URL https://mast.stsci.edu/api/v0.1/Download/file?uri=mast:HLSP/eleanor/postcards/s0003/3-4/hlsp_eleanor_tess_ffi_postcard-s0003-3-4-cal-1784-1996_tess_v2_pc.fits to ./mastDownload/HLSP/hlsp_eleanor_tess_ffi_postcard-s0003-3-4-cal-1784-1996_tess_v2_pc/hlsp_eleanor_tess_ffi_postcard-s0003-3-4-cal-1784-1996_tess_v2_pc.fits ... [Done]\n",
      "Downloading URL https://mast.stsci.edu/api/v0.1/Download/file?uri=mast:HLSP/eleanor/postcards/s0003/3-4/hlsp_eleanor_tess_ffi_postcard-s0003-3-4_tess_v2_pm.txt to ./mastDownload/HLSP/hlsp_eleanor_tess_ffi_postcard-s0003-3-4-cal-1784-1996_tess_v2_pc/hlsp_eleanor_tess_ffi_postcard-s0003-3-4_tess_v2_pm.txt ... [Done]\n",
      "Downloading URL https://mast.stsci.edu/api/v0.1/Download/file?uri=mast:HLSP/eleanor/postcards/s0004/3-2/hlsp_eleanor_tess_ffi_postcard-s0004-3-2-cal-0118-1834_tess_v2_bkg.fits to ./mastDownload/HLSP/hlsp_eleanor_tess_ffi_postcard-s0004-3-2-cal-0118-1834_tess_v2_pc/hlsp_eleanor_tess_ffi_postcard-s0004-3-2-cal-0118-1834_tess_v2_bkg.fits ... [Done]\n",
      "Downloading URL https://mast.stsci.edu/api/v0.1/Download/file?uri=mast:HLSP/eleanor/postcards/s0004/3-2/hlsp_eleanor_tess_ffi_postcard-s0004-3-2-cal-0118-1834_tess_v2_pc.fits to ./mastDownload/HLSP/hlsp_eleanor_tess_ffi_postcard-s0004-3-2-cal-0118-1834_tess_v2_pc/hlsp_eleanor_tess_ffi_postcard-s0004-3-2-cal-0118-1834_tess_v2_pc.fits ... [Done]\n",
      "Downloading URL https://mast.stsci.edu/api/v0.1/Download/file?uri=mast:HLSP/eleanor/postcards/s0004/3-2/hlsp_eleanor_tess_ffi_postcard-s0004-3-2_tess_v2_pm.txt to ./mastDownload/HLSP/hlsp_eleanor_tess_ffi_postcard-s0004-3-2-cal-0118-1834_tess_v2_pc/hlsp_eleanor_tess_ffi_postcard-s0004-3-2_tess_v2_pm.txt ... [Done]\n",
      "No eleanor postcard has been made for your target (yet). Using TessCut instead.\n",
      "Downloading URL https://mast.stsci.edu/tesscut/api/v0.1/astrocut?ra=59.5725&dec=-46.57027777777778&y=31&x=31&units=px&sector=31 to /Users/oliver hall/.eleanor/tesscut/tesscut_20210921213839.zip ... [Done]\n",
      "Inflating...\n",
      "No postcard object will be created for this target.\n",
      "No postcard object will be created for this target.\n"
     ]
    },
    {
     "data": {
      "application/vnd.jupyter.widget-view+json": {
       "model_id": "e70594029f9142ada80444b0ee02c42a",
       "version_major": 2,
       "version_minor": 0
      },
      "text/plain": [
       "  0%|          | 0/23366 [00:00<?, ?it/s]"
      ]
     },
     "metadata": {},
     "output_type": "display_data"
    },
    {
     "name": "stderr",
     "output_type": "stream",
     "text": [
      "\r",
      " 89%|███████████████████████████████████▌    | 73/82 [4:06:21<34:08, 227.61s/it]"
     ]
    },
    {
     "name": "stdout",
     "output_type": "stream",
     "text": [
      "Found star in Sector(s) 3 30\n",
      "Downloading URL https://mast.stsci.edu/api/v0.1/Download/file?uri=mast:HLSP/eleanor/postcards/s0003/1-3/hlsp_eleanor_tess_ffi_postcard-s0003-1-3-cal-1490-0646_tess_v2_bkg.fits to ./mastDownload/HLSP/hlsp_eleanor_tess_ffi_postcard-s0003-1-3-cal-1490-0646_tess_v2_pc/hlsp_eleanor_tess_ffi_postcard-s0003-1-3-cal-1490-0646_tess_v2_bkg.fits ... [Done]\n",
      "Downloading URL https://mast.stsci.edu/api/v0.1/Download/file?uri=mast:HLSP/eleanor/postcards/s0003/1-3/hlsp_eleanor_tess_ffi_postcard-s0003-1-3-cal-1490-0646_tess_v2_pc.fits to ./mastDownload/HLSP/hlsp_eleanor_tess_ffi_postcard-s0003-1-3-cal-1490-0646_tess_v2_pc/hlsp_eleanor_tess_ffi_postcard-s0003-1-3-cal-1490-0646_tess_v2_pc.fits ... [Done]\n",
      "Downloading URL https://mast.stsci.edu/api/v0.1/Download/file?uri=mast:HLSP/eleanor/postcards/s0003/1-3/hlsp_eleanor_tess_ffi_postcard-s0003-1-3_tess_v2_pm.txt to ./mastDownload/HLSP/hlsp_eleanor_tess_ffi_postcard-s0003-1-3-cal-1490-0646_tess_v2_pc/hlsp_eleanor_tess_ffi_postcard-s0003-1-3_tess_v2_pm.txt ... [Done]\n",
      "No eleanor postcard has been made for your target (yet). Using TessCut instead.\n",
      "Downloading URL https://mast.stsci.edu/tesscut/api/v0.1/astrocut?ra=17.237499999999997&dec=-3.0255277777777776&y=31&x=31&units=px&sector=30 to /Users/oliver hall/.eleanor/tesscut/tesscut_20210921214255.zip ... [Done]\n",
      "Inflating...\n",
      "No postcard object will be created for this target.\n"
     ]
    },
    {
     "data": {
      "application/vnd.jupyter.widget-view+json": {
       "model_id": "3dc82e464b3142c1b1729c5a5d91d5d1",
       "version_major": 2,
       "version_minor": 0
      },
      "text/plain": [
       "  0%|          | 0/22547 [00:00<?, ?it/s]"
      ]
     },
     "metadata": {},
     "output_type": "display_data"
    },
    {
     "name": "stderr",
     "output_type": "stream",
     "text": [
      "\r",
      " 90%|████████████████████████████████████    | 74/82 [4:09:32<28:52, 216.61s/it]"
     ]
    },
    {
     "name": "stdout",
     "output_type": "stream",
     "text": [
      "Found star in Sector(s) 3 30\n",
      "Downloading URL https://mast.stsci.edu/api/v0.1/Download/file?uri=mast:HLSP/eleanor/postcards/s0003/1-3/hlsp_eleanor_tess_ffi_postcard-s0003-1-3-cal-0608-1294_tess_v2_bkg.fits to ./mastDownload/HLSP/hlsp_eleanor_tess_ffi_postcard-s0003-1-3-cal-0608-1294_tess_v2_pc/hlsp_eleanor_tess_ffi_postcard-s0003-1-3-cal-0608-1294_tess_v2_bkg.fits ... [Done]\n",
      "Downloading URL https://mast.stsci.edu/api/v0.1/Download/file?uri=mast:HLSP/eleanor/postcards/s0003/1-3/hlsp_eleanor_tess_ffi_postcard-s0003-1-3-cal-0608-1294_tess_v2_pc.fits to ./mastDownload/HLSP/hlsp_eleanor_tess_ffi_postcard-s0003-1-3-cal-0608-1294_tess_v2_pc/hlsp_eleanor_tess_ffi_postcard-s0003-1-3-cal-0608-1294_tess_v2_pc.fits ... [Done]\n",
      "Downloading URL https://mast.stsci.edu/api/v0.1/Download/file?uri=mast:HLSP/eleanor/postcards/s0003/1-3/hlsp_eleanor_tess_ffi_postcard-s0003-1-3_tess_v2_pm.txt to ./mastDownload/HLSP/hlsp_eleanor_tess_ffi_postcard-s0003-1-3-cal-0608-1294_tess_v2_pc/hlsp_eleanor_tess_ffi_postcard-s0003-1-3_tess_v2_pm.txt ... [Done]\n",
      "No eleanor postcard has been made for your target (yet). Using TessCut instead.\n",
      "Downloading URL https://mast.stsci.edu/tesscut/api/v0.1/astrocut?ra=23.455416666666665&dec=-4.47825&y=31&x=31&units=px&sector=30 to /Users/oliver hall/.eleanor/tesscut/tesscut_20210921214603.zip ... [Done]\n",
      "Inflating...\n",
      "No postcard object will be created for this target.\n"
     ]
    },
    {
     "data": {
      "application/vnd.jupyter.widget-view+json": {
       "model_id": "eb6404f07e0d4330a5efb0b798409064",
       "version_major": 2,
       "version_minor": 0
      },
      "text/plain": [
       "  0%|          | 0/22547 [00:00<?, ?it/s]"
      ]
     },
     "metadata": {},
     "output_type": "display_data"
    },
    {
     "name": "stderr",
     "output_type": "stream",
     "text": [
      "\r",
      " 91%|████████████████████████████████████▌   | 75/82 [4:12:09<23:10, 198.65s/it]"
     ]
    },
    {
     "name": "stdout",
     "output_type": "stream",
     "text": [
      "Found star in Sector(s) 3 30\n",
      "Downloading URL https://mast.stsci.edu/api/v0.1/Download/file?uri=mast:HLSP/eleanor/postcards/s0003/1-1/hlsp_eleanor_tess_ffi_postcard-s0003-1-1-cal-1000-0862_tess_v2_bkg.fits to ./mastDownload/HLSP/hlsp_eleanor_tess_ffi_postcard-s0003-1-1-cal-1000-0862_tess_v2_pc/hlsp_eleanor_tess_ffi_postcard-s0003-1-1-cal-1000-0862_tess_v2_bkg.fits ... [Done]\n",
      "Downloading URL https://mast.stsci.edu/api/v0.1/Download/file?uri=mast:HLSP/eleanor/postcards/s0003/1-1/hlsp_eleanor_tess_ffi_postcard-s0003-1-1-cal-1000-0862_tess_v2_pc.fits to ./mastDownload/HLSP/hlsp_eleanor_tess_ffi_postcard-s0003-1-1-cal-1000-0862_tess_v2_pc/hlsp_eleanor_tess_ffi_postcard-s0003-1-1-cal-1000-0862_tess_v2_pc.fits ... [Done]\n",
      "Downloading URL https://mast.stsci.edu/api/v0.1/Download/file?uri=mast:HLSP/eleanor/postcards/s0003/1-1/hlsp_eleanor_tess_ffi_postcard-s0003-1-1_tess_v2_pm.txt to ./mastDownload/HLSP/hlsp_eleanor_tess_ffi_postcard-s0003-1-1-cal-1000-0862_tess_v2_pc/hlsp_eleanor_tess_ffi_postcard-s0003-1-1_tess_v2_pm.txt ... [Done]\n",
      "No eleanor postcard has been made for your target (yet). Using TessCut instead.\n",
      "Downloading URL https://mast.stsci.edu/tesscut/api/v0.1/astrocut?ra=13.839583333333332&dec=-21.401027777777777&y=31&x=31&units=px&sector=30 to /Users/oliver hall/.eleanor/tesscut/tesscut_20210921214845.zip ... [Done]\n",
      "Inflating...\n",
      "No postcard object will be created for this target.\n"
     ]
    },
    {
     "data": {
      "application/vnd.jupyter.widget-view+json": {
       "model_id": "22e6fd88caba48529940c83a612548e9",
       "version_major": 2,
       "version_minor": 0
      },
      "text/plain": [
       "  0%|          | 0/22545 [00:00<?, ?it/s]"
      ]
     },
     "metadata": {},
     "output_type": "display_data"
    },
    {
     "name": "stderr",
     "output_type": "stream",
     "text": [
      "\r",
      " 93%|█████████████████████████████████████   | 76/82 [4:15:20<19:39, 196.62s/it]"
     ]
    },
    {
     "name": "stdout",
     "output_type": "stream",
     "text": [
      "Found star in Sector(s) 4 5 31\n",
      "Downloading URL https://mast.stsci.edu/api/v0.1/Download/file?uri=mast:HLSP/eleanor/postcards/s0004/2-3/hlsp_eleanor_tess_ffi_postcard-s0004-2-3-cal-0118-0430_tess_v2_bkg.fits to ./mastDownload/HLSP/hlsp_eleanor_tess_ffi_postcard-s0004-2-3-cal-0118-0430_tess_v2_pc/hlsp_eleanor_tess_ffi_postcard-s0004-2-3-cal-0118-0430_tess_v2_bkg.fits ... [Done]\n",
      "Downloading URL https://mast.stsci.edu/api/v0.1/Download/file?uri=mast:HLSP/eleanor/postcards/s0004/2-3/hlsp_eleanor_tess_ffi_postcard-s0004-2-3-cal-0118-0430_tess_v2_pc.fits to ./mastDownload/HLSP/hlsp_eleanor_tess_ffi_postcard-s0004-2-3-cal-0118-0430_tess_v2_pc/hlsp_eleanor_tess_ffi_postcard-s0004-2-3-cal-0118-0430_tess_v2_pc.fits ... [Done]\n",
      "Downloading URL https://mast.stsci.edu/api/v0.1/Download/file?uri=mast:HLSP/eleanor/postcards/s0004/2-3/hlsp_eleanor_tess_ffi_postcard-s0004-2-3_tess_v2_pm.txt to ./mastDownload/HLSP/hlsp_eleanor_tess_ffi_postcard-s0004-2-3-cal-0118-0430_tess_v2_pc/hlsp_eleanor_tess_ffi_postcard-s0004-2-3_tess_v2_pm.txt ... [Done]\n",
      "Downloading URL https://mast.stsci.edu/api/v0.1/Download/file?uri=mast:HLSP/eleanor/postcards/s0005/2-4/hlsp_eleanor_tess_ffi_postcard-s0005-2-4-cal-2018-0430_tess_v2_bkg.fits to ./mastDownload/HLSP/hlsp_eleanor_tess_ffi_postcard-s0005-2-4-cal-2018-0430_tess_v2_pc/hlsp_eleanor_tess_ffi_postcard-s0005-2-4-cal-2018-0430_tess_v2_bkg.fits ... [Done]\n",
      "Downloading URL https://mast.stsci.edu/api/v0.1/Download/file?uri=mast:HLSP/eleanor/postcards/s0005/2-4/hlsp_eleanor_tess_ffi_postcard-s0005-2-4-cal-2018-0430_tess_v2_pc.fits to ./mastDownload/HLSP/hlsp_eleanor_tess_ffi_postcard-s0005-2-4-cal-2018-0430_tess_v2_pc/hlsp_eleanor_tess_ffi_postcard-s0005-2-4-cal-2018-0430_tess_v2_pc.fits ... [Done]\n",
      "Downloading URL https://mast.stsci.edu/api/v0.1/Download/file?uri=mast:HLSP/eleanor/postcards/s0005/2-4/hlsp_eleanor_tess_ffi_postcard-s0005-2-4_tess_v2_pm.txt to ./mastDownload/HLSP/hlsp_eleanor_tess_ffi_postcard-s0005-2-4-cal-2018-0430_tess_v2_pc/hlsp_eleanor_tess_ffi_postcard-s0005-2-4_tess_v2_pm.txt ... [Done]\n",
      "No eleanor postcard has been made for your target (yet). Using TessCut instead.\n",
      "Downloading URL https://mast.stsci.edu/tesscut/api/v0.1/astrocut?ra=57.81625&dec=-12.396222222222221&y=31&x=31&units=px&sector=31 to /Users/oliver hall/.eleanor/tesscut/tesscut_20210921215215.zip ... [Done]\n",
      "Inflating...\n",
      "No postcard object will be created for this target.\n",
      "No postcard object will be created for this target.\n"
     ]
    },
    {
     "data": {
      "application/vnd.jupyter.widget-view+json": {
       "model_id": "9e300b1ee51c4c649c8bf893f4e61ec7",
       "version_major": 2,
       "version_minor": 0
      },
      "text/plain": [
       "  0%|          | 0/22621 [00:00<?, ?it/s]"
      ]
     },
     "metadata": {},
     "output_type": "display_data"
    },
    {
     "name": "stderr",
     "output_type": "stream",
     "text": [
      "\r",
      " 94%|█████████████████████████████████████▌  | 77/82 [4:20:13<18:46, 225.38s/it]"
     ]
    },
    {
     "name": "stdout",
     "output_type": "stream",
     "text": [
      "Found star in Sector(s) 3 30\n",
      "Downloading URL https://mast.stsci.edu/api/v0.1/Download/file?uri=mast:HLSP/eleanor/postcards/s0003/2-3/hlsp_eleanor_tess_ffi_postcard-s0003-2-3-cal-0706-1996_tess_v2_bkg.fits to ./mastDownload/HLSP/hlsp_eleanor_tess_ffi_postcard-s0003-2-3-cal-0706-1996_tess_v2_pc/hlsp_eleanor_tess_ffi_postcard-s0003-2-3-cal-0706-1996_tess_v2_bkg.fits ... [Done]\n",
      "Downloading URL https://mast.stsci.edu/api/v0.1/Download/file?uri=mast:HLSP/eleanor/postcards/s0003/2-3/hlsp_eleanor_tess_ffi_postcard-s0003-2-3-cal-0706-1996_tess_v2_pc.fits to ./mastDownload/HLSP/hlsp_eleanor_tess_ffi_postcard-s0003-2-3-cal-0706-1996_tess_v2_pc/hlsp_eleanor_tess_ffi_postcard-s0003-2-3-cal-0706-1996_tess_v2_pc.fits ... [Done]\n",
      "Downloading URL https://mast.stsci.edu/api/v0.1/Download/file?uri=mast:HLSP/eleanor/postcards/s0003/2-3/hlsp_eleanor_tess_ffi_postcard-s0003-2-3_tess_v2_pm.txt to ./mastDownload/HLSP/hlsp_eleanor_tess_ffi_postcard-s0003-2-3-cal-0706-1996_tess_v2_pc/hlsp_eleanor_tess_ffi_postcard-s0003-2-3_tess_v2_pm.txt ... [Done]\n",
      "No eleanor postcard has been made for your target (yet). Using TessCut instead.\n",
      "Downloading URL https://mast.stsci.edu/tesscut/api/v0.1/astrocut?ra=36.51916666666666&dec=-29.396916666666666&y=31&x=31&units=px&sector=30 to /Users/oliver hall/.eleanor/tesscut/tesscut_20210921215639.zip ... [Done]\n",
      "Inflating...\n",
      "No postcard object will be created for this target.\n"
     ]
    },
    {
     "data": {
      "application/vnd.jupyter.widget-view+json": {
       "model_id": "7e6a14ece9e8406a81e0120c1069b0a3",
       "version_major": 2,
       "version_minor": 0
      },
      "text/plain": [
       "  0%|          | 0/22565 [00:00<?, ?it/s]"
      ]
     },
     "metadata": {},
     "output_type": "display_data"
    },
    {
     "name": "stderr",
     "output_type": "stream",
     "text": [
      "\r",
      " 95%|██████████████████████████████████████  | 78/82 [4:23:20<14:15, 213.80s/it]"
     ]
    },
    {
     "name": "stdout",
     "output_type": "stream",
     "text": [
      "Found star in Sector(s) 4 5 31\n",
      "Downloading URL https://mast.stsci.edu/api/v0.1/Download/file?uri=mast:HLSP/eleanor/postcards/s0004/2-3/hlsp_eleanor_tess_ffi_postcard-s0004-2-3-cal-0118-1672_tess_v2_bkg.fits to ./mastDownload/HLSP/hlsp_eleanor_tess_ffi_postcard-s0004-2-3-cal-0118-1672_tess_v2_pc/hlsp_eleanor_tess_ffi_postcard-s0004-2-3-cal-0118-1672_tess_v2_bkg.fits ... [Done]\n",
      "Downloading URL https://mast.stsci.edu/api/v0.1/Download/file?uri=mast:HLSP/eleanor/postcards/s0004/2-3/hlsp_eleanor_tess_ffi_postcard-s0004-2-3-cal-0118-1672_tess_v2_pc.fits to ./mastDownload/HLSP/hlsp_eleanor_tess_ffi_postcard-s0004-2-3-cal-0118-1672_tess_v2_pc/hlsp_eleanor_tess_ffi_postcard-s0004-2-3-cal-0118-1672_tess_v2_pc.fits ... [Done]\n",
      "Downloading URL https://mast.stsci.edu/api/v0.1/Download/file?uri=mast:HLSP/eleanor/postcards/s0004/2-3/hlsp_eleanor_tess_ffi_postcard-s0004-2-3_tess_v2_pm.txt to ./mastDownload/HLSP/hlsp_eleanor_tess_ffi_postcard-s0004-2-3-cal-0118-1672_tess_v2_pc/hlsp_eleanor_tess_ffi_postcard-s0004-2-3_tess_v2_pm.txt ... [Done]\n",
      "Downloading URL https://mast.stsci.edu/api/v0.1/Download/file?uri=mast:HLSP/eleanor/postcards/s0005/2-4/hlsp_eleanor_tess_ffi_postcard-s0005-2-4-cal-1686-1618_tess_v2_bkg.fits to ./mastDownload/HLSP/hlsp_eleanor_tess_ffi_postcard-s0005-2-4-cal-1686-1618_tess_v2_pc/hlsp_eleanor_tess_ffi_postcard-s0005-2-4-cal-1686-1618_tess_v2_bkg.fits ... [Done]\n",
      "Downloading URL https://mast.stsci.edu/api/v0.1/Download/file?uri=mast:HLSP/eleanor/postcards/s0005/2-4/hlsp_eleanor_tess_ffi_postcard-s0005-2-4-cal-1686-1618_tess_v2_pc.fits to ./mastDownload/HLSP/hlsp_eleanor_tess_ffi_postcard-s0005-2-4-cal-1686-1618_tess_v2_pc/hlsp_eleanor_tess_ffi_postcard-s0005-2-4-cal-1686-1618_tess_v2_pc.fits ... [Done]\n",
      "Downloading URL https://mast.stsci.edu/api/v0.1/Download/file?uri=mast:HLSP/eleanor/postcards/s0005/2-4/hlsp_eleanor_tess_ffi_postcard-s0005-2-4_tess_v2_pm.txt to ./mastDownload/HLSP/hlsp_eleanor_tess_ffi_postcard-s0005-2-4-cal-1686-1618_tess_v2_pc/hlsp_eleanor_tess_ffi_postcard-s0005-2-4_tess_v2_pm.txt ... [Done]\n",
      "No eleanor postcard has been made for your target (yet). Using TessCut instead.\n",
      "Downloading URL https://mast.stsci.edu/tesscut/api/v0.1/astrocut?ra=60.57499999999999&dec=-18.71261111111111&y=31&x=31&units=px&sector=31 to /Users/oliver hall/.eleanor/tesscut/tesscut_20210921220021.zip ... [Done]\n",
      "Inflating...\n",
      "No postcard object will be created for this target.\n",
      "No postcard object will be created for this target.\n"
     ]
    },
    {
     "data": {
      "application/vnd.jupyter.widget-view+json": {
       "model_id": "bb308c57d72b4d419775322d703d68d8",
       "version_major": 2,
       "version_minor": 0
      },
      "text/plain": [
       "  0%|          | 0/22619 [00:00<?, ?it/s]"
      ]
     },
     "metadata": {},
     "output_type": "display_data"
    },
    {
     "name": "stderr",
     "output_type": "stream",
     "text": [
      "\r",
      " 96%|██████████████████████████████████████▌ | 79/82 [4:28:17<11:56, 238.98s/it]"
     ]
    },
    {
     "name": "stdout",
     "output_type": "stream",
     "text": [
      "Found star in Sector(s) 3 30\n",
      "Downloading URL https://mast.stsci.edu/api/v0.1/Download/file?uri=mast:HLSP/eleanor/postcards/s0003/2-3/hlsp_eleanor_tess_ffi_postcard-s0003-2-3-cal-1294-0862_tess_v2_bkg.fits to ./mastDownload/HLSP/hlsp_eleanor_tess_ffi_postcard-s0003-2-3-cal-1294-0862_tess_v2_pc/hlsp_eleanor_tess_ffi_postcard-s0003-2-3-cal-1294-0862_tess_v2_bkg.fits ... [Done]\n",
      "Downloading URL https://mast.stsci.edu/api/v0.1/Download/file?uri=mast:HLSP/eleanor/postcards/s0003/2-3/hlsp_eleanor_tess_ffi_postcard-s0003-2-3-cal-1294-0862_tess_v2_pc.fits to ./mastDownload/HLSP/hlsp_eleanor_tess_ffi_postcard-s0003-2-3-cal-1294-0862_tess_v2_pc/hlsp_eleanor_tess_ffi_postcard-s0003-2-3-cal-1294-0862_tess_v2_pc.fits ... [Done]\n",
      "Downloading URL https://mast.stsci.edu/api/v0.1/Download/file?uri=mast:HLSP/eleanor/postcards/s0003/2-3/hlsp_eleanor_tess_ffi_postcard-s0003-2-3_tess_v2_pm.txt to ./mastDownload/HLSP/hlsp_eleanor_tess_ffi_postcard-s0003-2-3-cal-1294-0862_tess_v2_pc/hlsp_eleanor_tess_ffi_postcard-s0003-2-3_tess_v2_pm.txt ... [Done]\n",
      "No eleanor postcard has been made for your target (yet). Using TessCut instead.\n",
      "Downloading URL https://mast.stsci.edu/tesscut/api/v0.1/astrocut?ra=29.321666666666662&dec=-25.230444444444444&y=31&x=31&units=px&sector=30 to /Users/oliver hall/.eleanor/tesscut/tesscut_20210921220455.zip ... [Done]\n",
      "Inflating...\n",
      "No postcard object will be created for this target.\n"
     ]
    },
    {
     "data": {
      "application/vnd.jupyter.widget-view+json": {
       "model_id": "c3ea6778599c4be2a23e865d474e67d6",
       "version_major": 2,
       "version_minor": 0
      },
      "text/plain": [
       "  0%|          | 0/22562 [00:00<?, ?it/s]"
      ]
     },
     "metadata": {},
     "output_type": "display_data"
    },
    {
     "name": "stderr",
     "output_type": "stream",
     "text": [
      "\r",
      " 98%|███████████████████████████████████████ | 80/82 [4:31:35<07:33, 226.58s/it]"
     ]
    },
    {
     "name": "stdout",
     "output_type": "stream",
     "text": [
      "Found star in Sector(s) 2 3 29 30\n",
      "Downloading URL https://mast.stsci.edu/api/v0.1/Download/file?uri=mast:HLSP/eleanor/postcards/s0002/2-2/hlsp_eleanor_tess_ffi_postcard-s0002-2-2-cal-1686-1294_tess_v2_bkg.fits to ./mastDownload/HLSP/hlsp_eleanor_tess_ffi_postcard-s0002-2-2-cal-1686-1294_tess_v2_pc/hlsp_eleanor_tess_ffi_postcard-s0002-2-2-cal-1686-1294_tess_v2_bkg.fits ... [Done]\n",
      "Downloading URL https://mast.stsci.edu/api/v0.1/Download/file?uri=mast:HLSP/eleanor/postcards/s0002/2-2/hlsp_eleanor_tess_ffi_postcard-s0002-2-2-cal-1686-1294_tess_v2_pc.fits to ./mastDownload/HLSP/hlsp_eleanor_tess_ffi_postcard-s0002-2-2-cal-1686-1294_tess_v2_pc/hlsp_eleanor_tess_ffi_postcard-s0002-2-2-cal-1686-1294_tess_v2_pc.fits ... [Done]\n",
      "Downloading URL https://mast.stsci.edu/api/v0.1/Download/file?uri=mast:HLSP/eleanor/postcards/s0002/2-2/hlsp_eleanor_tess_ffi_postcard-s0002-2-2_tess_v2_pm.txt to ./mastDownload/HLSP/hlsp_eleanor_tess_ffi_postcard-s0002-2-2-cal-1686-1294_tess_v2_pc/hlsp_eleanor_tess_ffi_postcard-s0002-2-2_tess_v2_pm.txt ... [Done]\n",
      "Downloading URL https://mast.stsci.edu/api/v0.1/Download/file?uri=mast:HLSP/eleanor/postcards/s0003/2-1/hlsp_eleanor_tess_ffi_postcard-s0003-2-1-cal-0510-1294_tess_v2_bkg.fits to ./mastDownload/HLSP/hlsp_eleanor_tess_ffi_postcard-s0003-2-1-cal-0510-1294_tess_v2_pc/hlsp_eleanor_tess_ffi_postcard-s0003-2-1-cal-0510-1294_tess_v2_bkg.fits ... [Done]\n",
      "Downloading URL https://mast.stsci.edu/api/v0.1/Download/file?uri=mast:HLSP/eleanor/postcards/s0003/2-1/hlsp_eleanor_tess_ffi_postcard-s0003-2-1-cal-0510-1294_tess_v2_pc.fits to ./mastDownload/HLSP/hlsp_eleanor_tess_ffi_postcard-s0003-2-1-cal-0510-1294_tess_v2_pc/hlsp_eleanor_tess_ffi_postcard-s0003-2-1-cal-0510-1294_tess_v2_pc.fits ... [Done]\n",
      "Downloading URL https://mast.stsci.edu/api/v0.1/Download/file?uri=mast:HLSP/eleanor/postcards/s0003/2-1/hlsp_eleanor_tess_ffi_postcard-s0003-2-1_tess_v2_pm.txt to ./mastDownload/HLSP/hlsp_eleanor_tess_ffi_postcard-s0003-2-1-cal-0510-1294_tess_v2_pc/hlsp_eleanor_tess_ffi_postcard-s0003-2-1_tess_v2_pm.txt ... [Done]\n",
      "No eleanor postcard has been made for your target (yet). Using TessCut instead.\n",
      "Downloading URL https://mast.stsci.edu/tesscut/api/v0.1/astrocut?ra=20.457083333333333&dec=-42.02286111111111&y=31&x=31&units=px&sector=29 to /Users/oliver hall/.eleanor/tesscut/tesscut_20210921220853.zip ... [Done]\n",
      "Inflating...\n",
      "No eleanor postcard has been made for your target (yet). Using TessCut instead.\n",
      "Downloading URL https://mast.stsci.edu/tesscut/api/v0.1/astrocut?ra=20.457083333333333&dec=-42.02286111111111&y=31&x=31&units=px&sector=30 to /Users/oliver hall/.eleanor/tesscut/tesscut_20210921220906.zip ... [Done]\n",
      "Inflating...\n",
      "No postcard object will be created for this target.\n",
      "No postcard object will be created for this target.\n"
     ]
    },
    {
     "data": {
      "application/vnd.jupyter.widget-view+json": {
       "model_id": "813c5f07be8a49f0ad3835c81b9ec456",
       "version_major": 2,
       "version_minor": 0
      },
      "text/plain": [
       "  0%|          | 0/23505 [00:00<?, ?it/s]"
      ]
     },
     "metadata": {},
     "output_type": "display_data"
    },
    {
     "name": "stderr",
     "output_type": "stream",
     "text": [
      " 99%|███████████████████████████████████████▌| 81/82 [4:40:33<03:27, 207.82s/it]\n"
     ]
    },
    {
     "ename": "IndexError",
     "evalue": "index 101 out of range for table with length 101",
     "output_type": "error",
     "traceback": [
      "\u001b[0;31m---------------------------------------------------------------------------\u001b[0m",
      "\u001b[0;31mIndexError\u001b[0m                                Traceback (most recent call last)",
      "\u001b[0;32m/var/folders/qh/nrsz4hq94kg510wh1srt1x0ry2q37w/T/ipykernel_96424/3904039607.py\u001b[0m in \u001b[0;36m<module>\u001b[0;34m\u001b[0m\n\u001b[1;32m      6\u001b[0m \u001b[0;34m\u001b[0m\u001b[0m\n\u001b[1;32m      7\u001b[0m \u001b[0;32mfor\u001b[0m \u001b[0midx\u001b[0m \u001b[0;32min\u001b[0m \u001b[0mtqdm\u001b[0m\u001b[0;34m(\u001b[0m\u001b[0mnp\u001b[0m\u001b[0;34m.\u001b[0m\u001b[0marange\u001b[0m\u001b[0;34m(\u001b[0m\u001b[0;36m20\u001b[0m\u001b[0;34m,\u001b[0m \u001b[0mN\u001b[0m\u001b[0;34m+\u001b[0m\u001b[0;36m1\u001b[0m\u001b[0;34m)\u001b[0m\u001b[0;34m)\u001b[0m\u001b[0;34m:\u001b[0m\u001b[0;34m\u001b[0m\u001b[0;34m\u001b[0m\u001b[0m\n\u001b[0;32m----> 8\u001b[0;31m     \u001b[0mpsceri\u001b[0m \u001b[0;34m=\u001b[0m \u001b[0mpsceri_full\u001b[0m\u001b[0;34m[\u001b[0m\u001b[0midx\u001b[0m\u001b[0;34m]\u001b[0m\u001b[0;34m\u001b[0m\u001b[0;34m\u001b[0m\u001b[0m\n\u001b[0m\u001b[1;32m      9\u001b[0m     \u001b[0msource\u001b[0m \u001b[0;34m=\u001b[0m \u001b[0mpsceri\u001b[0m\u001b[0;34m[\u001b[0m\u001b[0;34m'Source'\u001b[0m\u001b[0;34m]\u001b[0m\u001b[0;34m\u001b[0m\u001b[0;34m\u001b[0m\u001b[0m\n\u001b[1;32m     10\u001b[0m \u001b[0;34m\u001b[0m\u001b[0m\n",
      "\u001b[0;32m/Users/Anaconda/anaconda3/envs/michael/lib/python3.8/site-packages/astropy-4.3.1-py3.8-macosx-10.9-x86_64.egg/astropy/table/table.py\u001b[0m in \u001b[0;36m__getitem__\u001b[0;34m(self, item)\u001b[0m\n\u001b[1;32m   1867\u001b[0m             \u001b[0;32mreturn\u001b[0m \u001b[0mself\u001b[0m\u001b[0;34m.\u001b[0m\u001b[0mcolumns\u001b[0m\u001b[0;34m[\u001b[0m\u001b[0mitem\u001b[0m\u001b[0;34m]\u001b[0m\u001b[0;34m\u001b[0m\u001b[0;34m\u001b[0m\u001b[0m\n\u001b[1;32m   1868\u001b[0m         \u001b[0;32melif\u001b[0m \u001b[0misinstance\u001b[0m\u001b[0;34m(\u001b[0m\u001b[0mitem\u001b[0m\u001b[0;34m,\u001b[0m \u001b[0;34m(\u001b[0m\u001b[0mint\u001b[0m\u001b[0;34m,\u001b[0m \u001b[0mnp\u001b[0m\u001b[0;34m.\u001b[0m\u001b[0minteger\u001b[0m\u001b[0;34m)\u001b[0m\u001b[0;34m)\u001b[0m\u001b[0;34m:\u001b[0m\u001b[0;34m\u001b[0m\u001b[0;34m\u001b[0m\u001b[0m\n\u001b[0;32m-> 1869\u001b[0;31m             \u001b[0;32mreturn\u001b[0m \u001b[0mself\u001b[0m\u001b[0;34m.\u001b[0m\u001b[0mRow\u001b[0m\u001b[0;34m(\u001b[0m\u001b[0mself\u001b[0m\u001b[0;34m,\u001b[0m \u001b[0mitem\u001b[0m\u001b[0;34m)\u001b[0m\u001b[0;34m\u001b[0m\u001b[0;34m\u001b[0m\u001b[0m\n\u001b[0m\u001b[1;32m   1870\u001b[0m         \u001b[0;32melif\u001b[0m \u001b[0;34m(\u001b[0m\u001b[0misinstance\u001b[0m\u001b[0;34m(\u001b[0m\u001b[0mitem\u001b[0m\u001b[0;34m,\u001b[0m \u001b[0mnp\u001b[0m\u001b[0;34m.\u001b[0m\u001b[0mndarray\u001b[0m\u001b[0;34m)\u001b[0m \u001b[0;32mand\u001b[0m \u001b[0mitem\u001b[0m\u001b[0;34m.\u001b[0m\u001b[0mshape\u001b[0m \u001b[0;34m==\u001b[0m \u001b[0;34m(\u001b[0m\u001b[0;34m)\u001b[0m \u001b[0;32mand\u001b[0m \u001b[0mitem\u001b[0m\u001b[0;34m.\u001b[0m\u001b[0mdtype\u001b[0m\u001b[0;34m.\u001b[0m\u001b[0mkind\u001b[0m \u001b[0;34m==\u001b[0m \u001b[0;34m'i'\u001b[0m\u001b[0;34m)\u001b[0m\u001b[0;34m:\u001b[0m\u001b[0;34m\u001b[0m\u001b[0;34m\u001b[0m\u001b[0m\n\u001b[1;32m   1871\u001b[0m             \u001b[0;32mreturn\u001b[0m \u001b[0mself\u001b[0m\u001b[0;34m.\u001b[0m\u001b[0mRow\u001b[0m\u001b[0;34m(\u001b[0m\u001b[0mself\u001b[0m\u001b[0;34m,\u001b[0m \u001b[0mitem\u001b[0m\u001b[0;34m.\u001b[0m\u001b[0mitem\u001b[0m\u001b[0;34m(\u001b[0m\u001b[0;34m)\u001b[0m\u001b[0;34m)\u001b[0m\u001b[0;34m\u001b[0m\u001b[0;34m\u001b[0m\u001b[0m\n",
      "\u001b[0;32m/Users/Anaconda/anaconda3/envs/michael/lib/python3.8/site-packages/astropy-4.3.1-py3.8-macosx-10.9-x86_64.egg/astropy/table/row.py\u001b[0m in \u001b[0;36m__init__\u001b[0;34m(self, table, index)\u001b[0m\n\u001b[1;32m     37\u001b[0m \u001b[0;34m\u001b[0m\u001b[0m\n\u001b[1;32m     38\u001b[0m         \u001b[0;32mif\u001b[0m \u001b[0mindex\u001b[0m \u001b[0;34m<\u001b[0m \u001b[0;34m-\u001b[0m\u001b[0mn\u001b[0m \u001b[0;32mor\u001b[0m \u001b[0mindex\u001b[0m \u001b[0;34m>=\u001b[0m \u001b[0mn\u001b[0m\u001b[0;34m:\u001b[0m\u001b[0;34m\u001b[0m\u001b[0;34m\u001b[0m\u001b[0m\n\u001b[0;32m---> 39\u001b[0;31m             raise IndexError('index {} out of range for table with length {}'\n\u001b[0m\u001b[1;32m     40\u001b[0m                              .format(index, len(table)))\n\u001b[1;32m     41\u001b[0m \u001b[0;34m\u001b[0m\u001b[0m\n",
      "\u001b[0;31mIndexError\u001b[0m: index 101 out of range for table with length 101"
     ]
    }
   ],
   "source": [
    "from tqdm import tqdm\n",
    "\n",
    "N = len(psceri_full)\n",
    "\n",
    "df = pd.DataFrame(index = range(N), columns=['P', 'Perr', 'Pflag'])\n",
    "\n",
    "for idx in tqdm(np.arange(20, N+1)):\n",
    "    psceri = psceri_full[idx]\n",
    "    source = psceri['Source']\n",
    "\n",
    "    ra_str = psceri['RA_ICRS'].split(' ')\n",
    "    units_ra = ['h','m','s']\n",
    "    rep = ''.join([ra_str[i]+units_ra[i] for i in range(3)])\n",
    "    ra = Angle(rep).to(u.deg)\n",
    "\n",
    "    dec_str = psceri['DE_ICRS'].split(' ')\n",
    "    units_dec = ['d','m','s']\n",
    "    rep = ''.join([dec_str[i]+units_dec[i] for i in range(3)])\n",
    "    dec = Angle(rep).to(u.deg)\n",
    "\n",
    "    j = janet(source, ra, dec,\n",
    "              output_path = \"/Users/oliver hall/Research/michael/Examples/PscEri\",\n",
    "              verbose = False)\n",
    "    \n",
    "    try:\n",
    "        j.run(period_range = (0.1, 13.4))\n",
    "    except:\n",
    "        continue\n",
    "    \n",
    "    df.loc[idx, 'P']= j.results.loc['best', 'overall']\n",
    "    df.loc[idx, 'Perr']= j.results.loc['best', 'e_overall']\n",
    "    df.loc[idx, 'Pflag']= j.results.loc['best', 'f_overall']\n",
    "df['PC'] = np.array(psceri_full['Prot'].data)\n",
    "df.to_csv('PscEri/PscEri_periods.csv')"
   ]
  },
  {
   "cell_type": "code",
   "execution_count": null,
   "metadata": {},
   "outputs": [],
   "source": []
  }
 ],
 "metadata": {
  "kernelspec": {
   "display_name": "michael",
   "language": "python",
   "name": "michael"
  },
  "language_info": {
   "codemirror_mode": {
    "name": "ipython",
    "version": 3
   },
   "file_extension": ".py",
   "mimetype": "text/x-python",
   "name": "python",
   "nbconvert_exporter": "python",
   "pygments_lexer": "ipython3",
   "version": "3.8.11"
  }
 },
 "nbformat": 4,
 "nbformat_minor": 4
}
