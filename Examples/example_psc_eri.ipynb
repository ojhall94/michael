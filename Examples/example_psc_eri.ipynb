{
 "cells": [
  {
   "cell_type": "markdown",
   "metadata": {},
   "source": [
    "## Measuring rotation in Psc-Eri"
   ]
  },
  {
   "cell_type": "markdown",
   "metadata": {},
   "source": [
    "[Curtis et al. (2019)](https://arxiv.org/pdf/1905.10588.pdf) measured rotation for the Meingast et al. (2019) members o the Psc-Eri stellar stream, and found a clear co-eval structure in rotation-colour space.\n",
    "\n",
    "Here, we will attempt to recover that same co-eval structure in the 101 stars targeted in that study, using `michael` only."
   ]
  },
  {
   "cell_type": "code",
   "execution_count": 1,
   "metadata": {},
   "outputs": [
    {
     "name": "stdout",
     "output_type": "stream",
     "text": [
      "Hi there. Welcome to the good place.\n"
     ]
    },
    {
     "name": "stderr",
     "output_type": "stream",
     "text": [
      "WARNING:absl:No GPU/TPU found, falling back to CPU. (Set TF_CPP_MIN_LOG_LEVEL=0 and rerun for more info.)\n"
     ]
    }
   ],
   "source": [
    "import sys\n",
    "sys.path.insert(0, \"../\")\n",
    "\n",
    "from michael import janet\n",
    "import numpy as np\n",
    "import lightkurve as lk\n",
    "import pandas as pd\n",
    "\n",
    "import matplotlib.pyplot as plt\n",
    "import seaborn as sns\n",
    "sns.set_style('darkgrid')\n",
    "\n",
    "from jax import random\n",
    "rng = random.PRNGKey(53)\n",
    "\n",
    "from astroquery.vizier import Vizier\n",
    "from astropy.coordinates import Angle\n",
    "from astropy import units as u\n",
    "\n",
    "import warnings\n",
    "warnings.filterwarnings('ignore')"
   ]
  },
  {
   "cell_type": "code",
   "execution_count": 2,
   "metadata": {},
   "outputs": [],
   "source": [
    "cat = Vizier(catalog ='J/AJ/158/77/table2',\n",
    "       columns = ['Source', 'RA_ICRS', 'DE_ICRS', 'GBP-GRP', 'Teff', 'Gmag','GMag', 'Prot'])\n",
    "cat.ROW_LIMIT = -1\n",
    "psceri_full = cat.get_catalogs(cat.catalog)[0]"
   ]
  },
  {
   "cell_type": "code",
   "execution_count": null,
   "metadata": {
    "scrolled": true
   },
   "outputs": [],
   "source": [
    "from tqdm import tqdm\n",
    "\n",
    "N = len(psceri_full)\n",
    "\n",
    "df = pd.DataFrame(index = range(N), columns=['P', 'Perr', 'Pflag'])\n",
    "\n",
    "for idx in tqdm(range(N)):\n",
    "    psceri = psceri_full[idx]\n",
    "    source = psceri['Source']\n",
    "\n",
    "    ra_str = psceri['RA_ICRS'].split(' ')\n",
    "    units_ra = ['h','m','s']\n",
    "    rep = ''.join([ra_str[i]+units_ra[i] for i in range(3)])\n",
    "    ra = Angle(rep).to(u.deg)\n",
    "\n",
    "    dec_str = psceri['DE_ICRS'].split(' ')\n",
    "    units_dec = ['d','m','s']\n",
    "    rep = ''.join([dec_str[i]+units_dec[i] for i in range(3)])\n",
    "    dec = Angle(rep).to(u.deg)\n",
    "\n",
    "    try:\n",
    "        j = janet(source, ra, dec,\n",
    "              output_path = \"/Users/oliver hall/Research/michael/Examples/PscEri\",\n",
    "              verbose = True)\n",
    "    \n",
    "#         j.run(period_range = (psceri['Prot'].min()*0.5, \n",
    "#                               psceri['Prot'].max()*1.5))\n",
    "        j.run(period_range = (0.3, 13.))\n",
    "        \n",
    "        plt.show()\n",
    "        df.loc[idx, 'P']= j.results.loc['best', 'overall']\n",
    "        df.loc[idx, 'Perr']= j.results.loc['best', 'e_overall']\n",
    "        df.loc[idx, 'Pflag']= j.results.loc['best', 'f_overall']\n",
    "        \n",
    "    except OSError:\n",
    "        print('OSError, data issue.')\n",
    "        df.loc[idx, 'P']= np.nan\n",
    "        df.loc[idx, 'Perr']= np.nan\n",
    "        df.loc[idx, 'Pflag']= np.nan\n",
    "        \n",
    "df['PC'] = np.array(psceri_full['Prot'].data)\n",
    "df.to_csv('PscEri/PscEri_periods.csv')"
   ]
  },
  {
   "cell_type": "code",
   "execution_count": null,
   "metadata": {},
   "outputs": [],
   "source": [
    "df = pd.read_csv('PscEri/PscEri_periods.csv', index_col=0)\n",
    "df.head(5)"
   ]
  },
  {
   "cell_type": "code",
   "execution_count": null,
   "metadata": {},
   "outputs": [],
   "source": [
    "cmap = sns.color_palette('colorblind', 8)\n",
    "\n",
    "# s = df.Pflag <= 256\n",
    "\n",
    "fig = plt.figure(figsize=(8,8))\n",
    "plt.scatter(df.P, psceri_full['Prot'], s=100, c=cmap[1])\n",
    "plt.errorbar(df.P, psceri_full['Prot'], xerr=df.Perr, fmt='|', zorder=0, c=cmap[1])\n",
    "\n",
    "x = np.linspace(df.P.min(), df.P.max())\n",
    "plt.plot(x, 2*x, ls=':', lw=4, c=cmap[0])\n",
    "plt.plot(x, 0.5*x, ls=':', lw=4, c= cmap[0])\n",
    "plt.plot(x, x, lw=4, c=cmap[2])\n",
    "\n",
    "plt.xlabel('Michael Period [d]')\n",
    "plt.ylabel('Curtis Period [d]')\n",
    "plt.yscale('log')\n",
    "plt.xscale('log')"
   ]
  },
  {
   "cell_type": "code",
   "execution_count": null,
   "metadata": {},
   "outputs": [],
   "source": [
    "sns.set_context('poster')\n",
    "cmap = sns.color_palette('colorblind', 8)\n",
    "fig = plt.figure(figsize=(8,8))\n",
    "plt.scatter(psceri_full['Teff'], df.P, zorder=3, s=40, c=cmap[0], ec='k',\n",
    "           label = 'This work')\n",
    "plt.scatter(psceri_full['Teff'], psceri_full['Prot'], zorder=2, ec='w', c=cmap[1],\n",
    "           label = 'Curtis+19')\n",
    "for idx in range(len(df)):\n",
    "    plt.vlines(psceri_full[idx]['Teff'], \n",
    "                ymin = np.min([df.loc[idx, 'P'], psceri_full[idx]['Prot']]),\n",
    "                ymax = np.max([df.loc[idx, 'P'], psceri_full[idx]['Prot']]),\n",
    "                color= 'k', zorder=1)\n",
    "plt.gca().invert_xaxis()\n",
    "plt.legend(loc='upper left', fontsize=20)\n",
    "plt.xlabel(r'$T_{\\rm eff}$ [$K$] (Curtis+19)')\n",
    "plt.ylabel(r'$P_{\\rm rot}$ [$d$]')\n",
    "plt.grid(zorder=0)\n",
    "plt.savefig('/Users/oliver hall/Desktop/fig4.png', dpi=300)\n"
   ]
  },
  {
   "cell_type": "markdown",
   "metadata": {},
   "source": [
    "## Let's investigate outliers"
   ]
  },
  {
   "cell_type": "markdown",
   "metadata": {},
   "source": [
    "We're focusing on targets that are more than $2\\sigma$ outside the PscEri value"
   ]
  },
  {
   "cell_type": "code",
   "execution_count": null,
   "metadata": {},
   "outputs": [],
   "source": [
    "s = np.abs(df.P.values - psceri_full['Prot']) > 2*df.Perr.values\n",
    "out = df[s]\n",
    "outPE = psceri_full[s]\n",
    "\n",
    "fig = plt.figure(figsize=(8,8))\n",
    "plt.scatter(out.P, outPE['Prot'], s=100, c=cmap[1])\n",
    "plt.errorbar(out.P, outPE['Prot'], xerr=out.Perr, fmt='|', zorder=0, c=cmap[1])\n",
    "\n",
    "x = np.linspace(out.P.min(), out.P.max())\n",
    "plt.plot(x, 2*x, ls=':', lw=4, c=cmap[0])\n",
    "plt.plot(x, 0.5*x, ls=':', lw=4, c= cmap[0])\n",
    "plt.plot(x, x, lw=4, c=cmap[2])\n",
    "\n",
    "plt.xlabel('Michael Period [d]')\n",
    "plt.ylabel('Curtis Period [d]')\n",
    "plt.yscale('log')\n",
    "plt.xscale('log')"
   ]
  },
  {
   "cell_type": "code",
   "execution_count": null,
   "metadata": {
    "scrolled": false
   },
   "outputs": [],
   "source": [
    "fig = plt.figure(figsize=(8,8))\n",
    "plt.scatter(outPE['Teff'], out.P, zorder=4, s=40, c=cmap[0], ec='k',\n",
    "           label = 'This work')\n",
    "plt.scatter(outPE['Teff'], outPE['Prot'], zorder=3, ec='w', c=cmap[1],\n",
    "           label = 'Curtis+19')\n",
    "plt.errorbar(outPE['Teff'], out.P, yerr=out.Perr, fmt='o', barsabove=True, \n",
    "             elinewidth=4, zorder=2)\n",
    "for i, idx in enumerate(out.index):\n",
    "    plt.vlines(outPE[i]['Teff'], \n",
    "                ymin = np.min([out.loc[idx, 'P'], outPE[i]['Prot']]),\n",
    "                ymax = np.max([out.loc[idx, 'P'], outPE[i]['Prot']]),\n",
    "                color= 'k', zorder=1)\n",
    "plt.gca().invert_xaxis()\n",
    "plt.legend(loc='upper left', fontsize=20)\n",
    "plt.xlabel(r'$T_{\\rm eff}$ [$K$] (Curtis+19)')\n",
    "plt.ylabel(r'$P_{\\rm rot}$ [$d$]')\n",
    "plt.grid(zorder=0)"
   ]
  },
  {
   "cell_type": "markdown",
   "metadata": {},
   "source": [
    "## Other plots"
   ]
  },
  {
   "cell_type": "code",
   "execution_count": null,
   "metadata": {
    "scrolled": false
   },
   "outputs": [],
   "source": [
    "fig = plt.figure(figsize=(8,8))\n",
    "plt.scatter(psceri_full[s]['Teff'], df[s]['P'], zorder=3, s=40, c=cmap[0], ec='k',\n",
    "           label = 'This work')\n",
    "plt.errorbar(psceri_full[s]['Teff'], df[s]['P'], zorder=0, fmt='|',\n",
    "           yerr = df[s]['Perr'])\n",
    "plt.gca().invert_xaxis()"
   ]
  },
  {
   "cell_type": "markdown",
   "metadata": {},
   "source": [
    "Which stars do ont fall within 1 sigma of the curtis targets?"
   ]
  },
  {
   "cell_type": "code",
   "execution_count": null,
   "metadata": {},
   "outputs": [],
   "source": [
    "s = np.abs(df.P.values - psceri_full['Prot']) < 2*df.Perr.values\n",
    "dfs = df[~s].reset_index()"
   ]
  },
  {
   "cell_type": "code",
   "execution_count": null,
   "metadata": {
    "scrolled": false
   },
   "outputs": [],
   "source": [
    "sns.set_context('poster')\n",
    "cmap = sns.color_palette('colorblind', 8)\n",
    "fig = plt.figure(figsize=(8,8))\n",
    "plt.scatter(psceri_full[~s]['Teff'], dfs.P, zorder=4, s=40, c=cmap[0], ec='k',\n",
    "           label = 'This work')\n",
    "plt.scatter(psceri_full[~s]['Teff'], psceri_full[~s]['Prot'], zorder=3, ec='w', c=cmap[1],\n",
    "           label = 'Curtis+19')\n",
    "plt.errorbar(psceri_full[~s]['Teff'], dfs.P, yerr=dfs.Perr, fmt='o', barsabove=True, \n",
    "             elinewidth=4, zorder=2)\n",
    "for idx in range(len(df[~s])):\n",
    "    plt.vlines(psceri_full[~s][idx]['Teff'], \n",
    "                ymin = np.min([dfs.loc[idx, 'P'], psceri_full[~s][idx]['Prot']]),\n",
    "                ymax = np.max([dfs.loc[idx, 'P'], psceri_full[~s][idx]['Prot']]),\n",
    "                color= 'k', zorder=1)\n",
    "plt.gca().invert_xaxis()\n",
    "plt.legend(loc='upper left', fontsize=20)\n",
    "plt.xlabel(r'$T_{\\rm eff}$ [$K$] (Curtis+19)')\n",
    "plt.ylabel(r'$P_{\\rm rot}$ [$d$]')\n",
    "plt.grid(zorder=0)\n"
   ]
  },
  {
   "cell_type": "code",
   "execution_count": null,
   "metadata": {},
   "outputs": [],
   "source": [
    "dfs"
   ]
  },
  {
   "cell_type": "code",
   "execution_count": null,
   "metadata": {
    "scrolled": false
   },
   "outputs": [],
   "source": [
    "psceri_full[~s].to_pandas().to_csv('psceri_disagreement.csv')"
   ]
  },
  {
   "cell_type": "code",
   "execution_count": null,
   "metadata": {},
   "outputs": [],
   "source": [
    "psceri_full[~s].to_pandas()"
   ]
  },
  {
   "cell_type": "code",
   "execution_count": null,
   "metadata": {},
   "outputs": [],
   "source": [
    "dfs['source_id'] = psceri_full[~s]['Source']\n",
    "dfs"
   ]
  },
  {
   "cell_type": "code",
   "execution_count": null,
   "metadata": {},
   "outputs": [],
   "source": [
    "df['source_id'] = psceri_full['Source']\n",
    "df"
   ]
  },
  {
   "cell_type": "code",
   "execution_count": null,
   "metadata": {},
   "outputs": [],
   "source": [
    "df.to_csv('psceri_michael_periods.csv')"
   ]
  },
  {
   "cell_type": "code",
   "execution_count": null,
   "metadata": {},
   "outputs": [],
   "source": []
  }
 ],
 "metadata": {
  "kernelspec": {
   "display_name": "michael",
   "language": "python",
   "name": "michael"
  },
  "language_info": {
   "codemirror_mode": {
    "name": "ipython",
    "version": 3
   },
   "file_extension": ".py",
   "mimetype": "text/x-python",
   "name": "python",
   "nbconvert_exporter": "python",
   "pygments_lexer": "ipython3",
   "version": "3.8.11"
  }
 },
 "nbformat": 4,
 "nbformat_minor": 4
}
