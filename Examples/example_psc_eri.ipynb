{
 "cells": [
  {
   "cell_type": "markdown",
   "metadata": {},
   "source": [
    "## Measuring rotation in Psc-Eri"
   ]
  },
  {
   "cell_type": "markdown",
   "metadata": {},
   "source": [
    "[Curtis et al. (2019)](https://arxiv.org/pdf/1905.10588.pdf) measured rotation for the Meingast et al. (2019) members o the Psc-Eri stellar stream, and found a clear co-eval structure in rotation-colour space.\n",
    "\n",
    "Here, we will attempt to recover that same co-eval structure in the 101 stars targeted in that study, using `michael` only."
   ]
  },
  {
   "cell_type": "code",
   "execution_count": 1,
   "metadata": {},
   "outputs": [
    {
     "name": "stdout",
     "output_type": "stream",
     "text": [
      "Hi there. Welcome to the good place.\n"
     ]
    },
    {
     "name": "stderr",
     "output_type": "stream",
     "text": [
      "WARNING:absl:No GPU/TPU found, falling back to CPU. (Set TF_CPP_MIN_LOG_LEVEL=0 and rerun for more info.)\n"
     ]
    }
   ],
   "source": [
    "from michael import janet\n",
    "import numpy as np\n",
    "import pandas as pd\n",
    "\n",
    "import matplotlib.pyplot as plt\n",
    "import seaborn as sns\n",
    "sns.set_context(\"notebook\")\n",
    "cmap = sns.color_palette('colorblind', 8)\n",
    "\n",
    "from jax import random\n",
    "rng = random.PRNGKey(53)\n",
    "\n",
    "from astroquery.vizier import Vizier\n",
    "from astropy.coordinates import Angle\n",
    "from astropy import units as u\n",
    "\n",
    "import warnings\n",
    "warnings.filterwarnings('ignore')"
   ]
  },
  {
   "cell_type": "code",
   "execution_count": 2,
   "metadata": {},
   "outputs": [],
   "source": [
    "cat = Vizier(catalog ='J/AJ/158/77/table2',\n",
    "       columns = ['Source', 'RA_ICRS', 'DE_ICRS', 'GBP-GRP', 'Teff', 'Gmag','GMag', 'Prot'])\n",
    "cat.ROW_LIMIT = -1\n",
    "psceri_full = cat.get_catalogs(cat.catalog)[0]"
   ]
  },
  {
   "cell_type": "code",
   "execution_count": null,
   "metadata": {
    "scrolled": true
   },
   "outputs": [
    {
     "name": "stderr",
     "output_type": "stream",
     "text": [
      "\r",
      "  0%|                                                   | 0/101 [00:00<?, ?it/s]"
     ]
    },
    {
     "name": "stdout",
     "output_type": "stream",
     "text": [
      "No postcard object will be created for this target.\n"
     ]
    },
    {
     "data": {
      "application/vnd.jupyter.widget-view+json": {
       "model_id": "3671bf1b7c534f7d9a95af8d86a2aae6",
       "version_major": 2,
       "version_minor": 0
      },
      "text/plain": [
       "  0%|          | 0/759 [00:00<?, ?it/s]"
      ]
     },
     "metadata": {},
     "output_type": "display_data"
    },
    {
     "name": "stderr",
     "output_type": "stream",
     "text": [
      "\r",
      "  1%|▍                                          | 1/101 [00:17<29:47, 17.88s/it]"
     ]
    },
    {
     "name": "stdout",
     "output_type": "stream",
     "text": [
      "No postcard object will be created for this target.\n"
     ]
    },
    {
     "data": {
      "application/vnd.jupyter.widget-view+json": {
       "model_id": "5a6d2c6958f24d85b6ea7c462c2efec2",
       "version_major": 2,
       "version_minor": 0
      },
      "text/plain": [
       "  0%|          | 0/22622 [00:00<?, ?it/s]"
      ]
     },
     "metadata": {},
     "output_type": "display_data"
    },
    {
     "name": "stderr",
     "output_type": "stream",
     "text": [
      "\r",
      "  2%|▊                                        | 2/101 [02:41<2:31:56, 92.08s/it]"
     ]
    },
    {
     "name": "stdout",
     "output_type": "stream",
     "text": [
      "No postcard object will be created for this target.\n"
     ]
    },
    {
     "data": {
      "application/vnd.jupyter.widget-view+json": {
       "model_id": "669d78ab929f415eab014ab4feca167c",
       "version_major": 2,
       "version_minor": 0
      },
      "text/plain": [
       "  0%|          | 0/22622 [00:00<?, ?it/s]"
      ]
     },
     "metadata": {},
     "output_type": "display_data"
    },
    {
     "name": "stderr",
     "output_type": "stream",
     "text": [
      "\r",
      "  3%|█▏                                      | 3/101 [05:15<3:16:13, 120.13s/it]"
     ]
    },
    {
     "name": "stdout",
     "output_type": "stream",
     "text": [
      "No postcard object will be created for this target.\n"
     ]
    },
    {
     "data": {
      "application/vnd.jupyter.widget-view+json": {
       "model_id": "d90afdd5ee5842e59770a8caff0a2dcb",
       "version_major": 2,
       "version_minor": 0
      },
      "text/plain": [
       "  0%|          | 0/764 [00:00<?, ?it/s]"
      ]
     },
     "metadata": {},
     "output_type": "display_data"
    },
    {
     "name": "stderr",
     "output_type": "stream",
     "text": [
      "\r",
      "  4%|█▌                                       | 4/101 [05:33<2:09:06, 79.86s/it]"
     ]
    },
    {
     "name": "stdout",
     "output_type": "stream",
     "text": [
      "No postcard object will be created for this target.\n"
     ]
    },
    {
     "data": {
      "application/vnd.jupyter.widget-view+json": {
       "model_id": "e55a4ebcc93d4a2d948a24359b9a57af",
       "version_major": 2,
       "version_minor": 0
      },
      "text/plain": [
       "  0%|          | 0/21845 [00:00<?, ?it/s]"
      ]
     },
     "metadata": {},
     "output_type": "display_data"
    },
    {
     "name": "stderr",
     "output_type": "stream",
     "text": [
      "\r",
      "  5%|█▉                                      | 5/101 [08:23<2:59:48, 112.38s/it]"
     ]
    },
    {
     "name": "stdout",
     "output_type": "stream",
     "text": [
      "No postcard object will be created for this target.\n",
      "No postcard object will be created for this target.\n"
     ]
    },
    {
     "data": {
      "application/vnd.jupyter.widget-view+json": {
       "model_id": "3158401af690465e973c98831ab25037",
       "version_major": 2,
       "version_minor": 0
      },
      "text/plain": [
       "  0%|          | 0/1542 [00:00<?, ?it/s]"
      ]
     },
     "metadata": {},
     "output_type": "display_data"
    },
    {
     "name": "stderr",
     "output_type": "stream",
     "text": [
      "\r",
      "  6%|██▍                                      | 6/101 [09:08<2:21:29, 89.36s/it]"
     ]
    },
    {
     "name": "stdout",
     "output_type": "stream",
     "text": [
      "No postcard object will be created for this target.\n"
     ]
    },
    {
     "data": {
      "application/vnd.jupyter.widget-view+json": {
       "model_id": "114d2520b5d04cfc91da80f4894e8815",
       "version_major": 2,
       "version_minor": 0
      },
      "text/plain": [
       "  0%|          | 0/22547 [00:00<?, ?it/s]"
      ]
     },
     "metadata": {},
     "output_type": "display_data"
    },
    {
     "name": "stderr",
     "output_type": "stream",
     "text": [
      "\r",
      "  7%|██▊                                     | 7/101 [11:43<2:53:50, 110.96s/it]"
     ]
    },
    {
     "name": "stdout",
     "output_type": "stream",
     "text": [
      "No postcard object will be created for this target.\n"
     ]
    },
    {
     "data": {
      "application/vnd.jupyter.widget-view+json": {
       "model_id": "281fddaf39bd406b95a961b8b2862717",
       "version_major": 2,
       "version_minor": 0
      },
      "text/plain": [
       "  0%|          | 0/759 [00:00<?, ?it/s]"
      ]
     },
     "metadata": {},
     "output_type": "display_data"
    },
    {
     "name": "stderr",
     "output_type": "stream",
     "text": [
      "\r",
      "  8%|███▏                                     | 8/101 [12:01<2:06:08, 81.39s/it]"
     ]
    },
    {
     "name": "stdout",
     "output_type": "stream",
     "text": [
      "No postcard object will be created for this target.\n"
     ]
    },
    {
     "data": {
      "application/vnd.jupyter.widget-view+json": {
       "model_id": "383ae461adfb44f7bf56f2db64f6b598",
       "version_major": 2,
       "version_minor": 0
      },
      "text/plain": [
       "  0%|          | 0/764 [00:00<?, ?it/s]"
      ]
     },
     "metadata": {},
     "output_type": "display_data"
    },
    {
     "name": "stderr",
     "output_type": "stream",
     "text": [
      "\r",
      "  9%|███▋                                     | 9/101 [12:22<1:35:57, 62.58s/it]"
     ]
    },
    {
     "name": "stdout",
     "output_type": "stream",
     "text": [
      "No postcard object will be created for this target.\n"
     ]
    },
    {
     "data": {
      "application/vnd.jupyter.widget-view+json": {
       "model_id": "f3ef28458e4b4df7a48a56aa8dc66d97",
       "version_major": 2,
       "version_minor": 0
      },
      "text/plain": [
       "  0%|          | 0/762 [00:00<?, ?it/s]"
      ]
     },
     "metadata": {},
     "output_type": "display_data"
    },
    {
     "name": "stderr",
     "output_type": "stream",
     "text": [
      "\r",
      " 10%|███▉                                    | 10/101 [12:41<1:14:04, 48.84s/it]"
     ]
    },
    {
     "name": "stdout",
     "output_type": "stream",
     "text": [
      "No postcard object will be created for this target.\n"
     ]
    },
    {
     "data": {
      "application/vnd.jupyter.widget-view+json": {
       "model_id": "acde7a924cb14394a09b5d88e231816a",
       "version_major": 2,
       "version_minor": 0
      },
      "text/plain": [
       "  0%|          | 0/761 [00:00<?, ?it/s]"
      ]
     },
     "metadata": {},
     "output_type": "display_data"
    },
    {
     "name": "stderr",
     "output_type": "stream",
     "text": [
      "\r",
      " 11%|████▌                                     | 11/101 [12:59<59:22, 39.59s/it]"
     ]
    },
    {
     "name": "stdout",
     "output_type": "stream",
     "text": [
      "No postcard object will be created for this target.\n"
     ]
    },
    {
     "data": {
      "application/vnd.jupyter.widget-view+json": {
       "model_id": "607db54e2dc949a2a656e9ad08852b1a",
       "version_major": 2,
       "version_minor": 0
      },
      "text/plain": [
       "  0%|          | 0/22659 [00:00<?, ?it/s]"
      ]
     },
     "metadata": {},
     "output_type": "display_data"
    },
    {
     "name": "stderr",
     "output_type": "stream",
     "text": [
      "\r",
      " 12%|████▊                                   | 12/101 [15:56<2:00:39, 81.35s/it]"
     ]
    },
    {
     "name": "stdout",
     "output_type": "stream",
     "text": [
      "No postcard object will be created for this target.\n"
     ]
    },
    {
     "data": {
      "application/vnd.jupyter.widget-view+json": {
       "model_id": "3b57e9c82c904014a3e4e3099b838aef",
       "version_major": 2,
       "version_minor": 0
      },
      "text/plain": [
       "  0%|          | 0/21805 [00:00<?, ?it/s]"
      ]
     },
     "metadata": {},
     "output_type": "display_data"
    },
    {
     "name": "stderr",
     "output_type": "stream",
     "text": [
      "\r",
      " 13%|█████                                  | 13/101 [18:34<2:33:10, 104.43s/it]"
     ]
    },
    {
     "name": "stdout",
     "output_type": "stream",
     "text": [
      "No postcard object will be created for this target.\n"
     ]
    },
    {
     "data": {
      "application/vnd.jupyter.widget-view+json": {
       "model_id": "086adc1686ac47faa86c1f0cbac27663",
       "version_major": 2,
       "version_minor": 0
      },
      "text/plain": [
       "  0%|          | 0/22622 [00:00<?, ?it/s]"
      ]
     },
     "metadata": {},
     "output_type": "display_data"
    },
    {
     "name": "stderr",
     "output_type": "stream",
     "text": [
      "\r",
      " 14%|█████▍                                 | 14/101 [21:03<2:51:19, 118.15s/it]"
     ]
    },
    {
     "name": "stdout",
     "output_type": "stream",
     "text": [
      "No postcard object will be created for this target.\n"
     ]
    },
    {
     "data": {
      "application/vnd.jupyter.widget-view+json": {
       "model_id": "b0510e460fe54b64882846d1f7ee91dc",
       "version_major": 2,
       "version_minor": 0
      },
      "text/plain": [
       "  0%|          | 0/757 [00:00<?, ?it/s]"
      ]
     },
     "metadata": {},
     "output_type": "display_data"
    },
    {
     "name": "stderr",
     "output_type": "stream",
     "text": [
      "\r",
      " 15%|█████▉                                  | 15/101 [21:21<2:06:02, 87.93s/it]"
     ]
    },
    {
     "name": "stdout",
     "output_type": "stream",
     "text": [
      "No postcard object will be created for this target.\n"
     ]
    },
    {
     "data": {
      "application/vnd.jupyter.widget-view+json": {
       "model_id": "7bdc6f8a085a4555b5844dca43b9f386",
       "version_major": 2,
       "version_minor": 0
      },
      "text/plain": [
       "  0%|          | 0/22621 [00:00<?, ?it/s]"
      ]
     },
     "metadata": {},
     "output_type": "display_data"
    },
    {
     "name": "stderr",
     "output_type": "stream",
     "text": [
      "\r",
      " 16%|██████▏                                | 16/101 [24:02<2:35:42, 109.91s/it]"
     ]
    },
    {
     "name": "stdout",
     "output_type": "stream",
     "text": [
      "No postcard object will be created for this target.\n"
     ]
    },
    {
     "data": {
      "application/vnd.jupyter.widget-view+json": {
       "model_id": "206af855b3544364bd61e09549112c3f",
       "version_major": 2,
       "version_minor": 0
      },
      "text/plain": [
       "  0%|          | 0/754 [00:00<?, ?it/s]"
      ]
     },
     "metadata": {},
     "output_type": "display_data"
    },
    {
     "name": "stderr",
     "output_type": "stream",
     "text": [
      "\r",
      " 17%|██████▋                                 | 17/101 [24:23<1:56:17, 83.07s/it]"
     ]
    },
    {
     "name": "stdout",
     "output_type": "stream",
     "text": [
      "No postcard object will be created for this target.\n"
     ]
    },
    {
     "data": {
      "application/vnd.jupyter.widget-view+json": {
       "model_id": "0c5b779896fd43e4a53f431a389a7934",
       "version_major": 2,
       "version_minor": 0
      },
      "text/plain": [
       "  0%|          | 0/22619 [00:00<?, ?it/s]"
      ]
     },
     "metadata": {},
     "output_type": "display_data"
    },
    {
     "name": "stderr",
     "output_type": "stream",
     "text": [
      "\r",
      " 18%|██████▉                                | 18/101 [27:05<2:27:41, 106.77s/it]"
     ]
    },
    {
     "name": "stdout",
     "output_type": "stream",
     "text": [
      "No postcard object will be created for this target.\n"
     ]
    },
    {
     "data": {
      "application/vnd.jupyter.widget-view+json": {
       "model_id": "d2f6822a9d294009b89e604efca97bde",
       "version_major": 2,
       "version_minor": 0
      },
      "text/plain": [
       "  0%|          | 0/22547 [00:00<?, ?it/s]"
      ]
     },
     "metadata": {},
     "output_type": "display_data"
    },
    {
     "name": "stderr",
     "output_type": "stream",
     "text": [
      "\r",
      " 19%|███████▎                               | 19/101 [29:14<2:35:15, 113.61s/it]"
     ]
    },
    {
     "name": "stdout",
     "output_type": "stream",
     "text": [
      "Found star in Sector(s) 5 32\n",
      "Downloading URL https://mast.stsci.edu/api/v0.1/Download/file?uri=mast:HLSP/eleanor/postcards/s0005/2-4/hlsp_eleanor_tess_ffi_postcard-s0005-2-4-cal-0216-0106_tess_v2_bkg.fits to ./mastDownload/HLSP/hlsp_eleanor_tess_ffi_postcard-s0005-2-4-cal-0216-0106_tess_v2_pc/hlsp_eleanor_tess_ffi_postcard-s0005-2-4-cal-0216-0106_tess_v2_bkg.fits ... [Done]\n",
      "Downloading URL https://mast.stsci.edu/api/v0.1/Download/file?uri=mast:HLSP/eleanor/postcards/s0005/2-4/hlsp_eleanor_tess_ffi_postcard-s0005-2-4-cal-0216-0106_tess_v2_pc.fits to ./mastDownload/HLSP/hlsp_eleanor_tess_ffi_postcard-s0005-2-4-cal-0216-0106_tess_v2_pc/hlsp_eleanor_tess_ffi_postcard-s0005-2-4-cal-0216-0106_tess_v2_pc.fits ... [Done]\n",
      "Downloading URL https://mast.stsci.edu/api/v0.1/Download/file?uri=mast:HLSP/eleanor/postcards/s0005/2-4/hlsp_eleanor_tess_ffi_postcard-s0005-2-4_tess_v2_pm.txt to ./mastDownload/HLSP/hlsp_eleanor_tess_ffi_postcard-s0005-2-4-cal-0216-0106_tess_v2_pc/hlsp_eleanor_tess_ffi_postcard-s0005-2-4_tess_v2_pm.txt ... [Done]\n",
      "Most recent sector available =  40\n",
      "Downloading URL https://mast.stsci.edu/tesscut/api/v0.1/astrocut?ra=68.95970833333332&dec=-64.02703611111112&y=31&x=31&units=px&sector=32 to ./tesscut_20210921170930.zip ... [Done]\n",
      "Inflating...\n",
      "This is the first light curve you have made for this sector. Getting eleanor metadata products for Sector 32...\n",
      "This will only take a minute, and only needs to be done once. Any other light curves you make in this sector will be faster.\n",
      "Acquiring target...\n"
     ]
    },
    {
     "name": "stderr",
     "output_type": "stream",
     "text": [
      "  % Total    % Received % Xferd  Average Speed   Time    Time     Time  Current\n",
      "                                 Dload  Upload   Total   Spent    Left  Speed\n",
      "100 1859k  100 1859k    0     0  1264k      0  0:00:01  0:00:01 --:--:-- 1264k\n"
     ]
    },
    {
     "name": "stdout",
     "output_type": "stream",
     "text": [
      "Calculating Cadences...\n",
      "Assuring Quality Flags...\n",
      "Making CBVs...\n"
     ]
    },
    {
     "name": "stderr",
     "output_type": "stream",
     "text": [
      "  % Total    % Received % Xferd  Average Speed   Time    Time     Time  Current\n",
      "                                 Dload  Upload   Total   Spent    Left  Speed\n",
      "100 4452k  100 4452k    0     0   735k      0  0:00:06  0:00:06 --:--:--  884k\n",
      "  % Total    % Received % Xferd  Average Speed   Time    Time     Time  Current\n",
      "                                 Dload  Upload   Total   Spent    Left  Speed\n",
      "100 4452k  100 4452k    0     0  1770k      0  0:00:02  0:00:02 --:--:-- 1769k\n",
      "  % Total    % Received % Xferd  Average Speed   Time    Time     Time  Current\n",
      "                                 Dload  Upload   Total   Spent    Left  Speed\n",
      "100 4598k  100 4598k    0     0  2440k      0  0:00:01  0:00:01 --:--:-- 2439k\n",
      "  % Total    % Received % Xferd  Average Speed   Time    Time     Time  Current\n",
      "                                 Dload  Upload   Total   Spent    Left  Speed\n",
      "100 4379k  100 4379k    0     0  1391k      0  0:00:03  0:00:03 --:--:-- 1391k\n",
      "  % Total    % Received % Xferd  Average Speed   Time    Time     Time  Current\n",
      "                                 Dload  Upload   Total   Spent    Left  Speed\n",
      "100 4379k  100 4379k    0     0  1772k      0  0:00:02  0:00:02 --:--:-- 1772k\n",
      "  % Total    % Received % Xferd  Average Speed   Time    Time     Time  Current\n",
      "                                 Dload  Upload   Total   Spent    Left  Speed\n",
      "100 4305k  100 4305k    0     0   827k      0  0:00:05  0:00:05 --:--:--  992k\n",
      "  % Total    % Received % Xferd  Average Speed   Time    Time     Time  Current\n",
      "                                 Dload  Upload   Total   Spent    Left  Speed\n",
      "100 4598k  100 4598k    0     0  1797k      0  0:00:02  0:00:02 --:--:-- 1796k\n",
      "  % Total    % Received % Xferd  Average Speed   Time    Time     Time  Current\n",
      "                                 Dload  Upload   Total   Spent    Left  Speed\n",
      "100 4452k  100 4452k    0     0  2045k      0  0:00:02  0:00:02 --:--:-- 2045k\n",
      "  % Total    % Received % Xferd  Average Speed   Time    Time     Time  Current\n",
      "                                 Dload  Upload   Total   Spent    Left  Speed\n",
      "100 4232k  100 4232k    0     0   811k      0  0:00:05  0:00:05 --:--:--  923k\n",
      "  % Total    % Received % Xferd  Average Speed   Time    Time     Time  Current\n",
      "                                 Dload  Upload   Total   Spent    Left  Speed\n",
      "100 4379k  100 4379k    0     0  1819k      0  0:00:02  0:00:02 --:--:-- 1819k\n",
      "  % Total    % Received % Xferd  Average Speed   Time    Time     Time  Current\n",
      "                                 Dload  Upload   Total   Spent    Left  Speed\n",
      "100 4232k  100 4232k    0     0  1878k      0  0:00:02  0:00:02 --:--:-- 1877k\n",
      "  % Total    % Received % Xferd  Average Speed   Time    Time     Time  Current\n",
      "                                 Dload  Upload   Total   Spent    Left  Speed\n",
      "100 4379k  100 4379k    0     0  2330k      0  0:00:01  0:00:01 --:--:-- 2329k\n",
      "  % Total    % Received % Xferd  Average Speed   Time    Time     Time  Current\n",
      "                                 Dload  Upload   Total   Spent    Left  Speed\n",
      "100 4528k  100 4528k    0     0  2490k      0  0:00:01  0:00:01 --:--:-- 2490k\n",
      "  % Total    % Received % Xferd  Average Speed   Time    Time     Time  Current\n",
      "                                 Dload  Upload   Total   Spent    Left  Speed\n",
      "100 4452k  100 4452k    0     0  2050k      0  0:00:02  0:00:02 --:--:-- 2050k\n",
      "  % Total    % Received % Xferd  Average Speed   Time    Time     Time  Current\n",
      "                                 Dload  Upload   Total   Spent    Left  Speed\n",
      "100 4452k  100 4452k    0     0  1971k      0  0:00:02  0:00:02 --:--:-- 1971k\n",
      "  % Total    % Received % Xferd  Average Speed   Time    Time     Time  Current\n",
      "                                 Dload  Upload   Total   Spent    Left  Speed\n",
      "100 4747k  100 4747k    0     0  1952k      0  0:00:02  0:00:02 --:--:-- 1952k\n"
     ]
    },
    {
     "name": "stdout",
     "output_type": "stream",
     "text": [
      "Success! Sector 32 now available.\n",
      "No eleanor postcard has been made for your target (yet). Using TessCut instead.\n",
      "Downloading URL https://mast.stsci.edu/tesscut/api/v0.1/astrocut?ra=68.00749999999998&dec=-8.887138888888888&y=31&x=31&units=px&sector=32 to /Users/oliver hall/.eleanor/tesscut/tesscut_20210921171130.zip ... [Done]\n",
      "Inflating...\n",
      "No postcard object will be created for this target.\n"
     ]
    },
    {
     "data": {
      "application/vnd.jupyter.widget-view+json": {
       "model_id": "d44f1ec69ff4492785ce0b1b2774b467",
       "version_major": 2,
       "version_minor": 0
      },
      "text/plain": [
       "  0%|          | 0/22696 [00:00<?, ?it/s]"
      ]
     },
     "metadata": {},
     "output_type": "display_data"
    },
    {
     "name": "stderr",
     "output_type": "stream",
     "text": [
      "\r",
      " 20%|███████▋                               | 20/101 [35:13<4:12:36, 187.12s/it]"
     ]
    },
    {
     "name": "stdout",
     "output_type": "stream",
     "text": [
      "Found star in Sector(s) 4 31\n",
      "Downloading URL https://mast.stsci.edu/api/v0.1/Download/file?uri=mast:HLSP/eleanor/postcards/s0004/1-4/hlsp_eleanor_tess_ffi_postcard-s0004-1-4-cal-1196-1942_tess_v2_bkg.fits to ./mastDownload/HLSP/hlsp_eleanor_tess_ffi_postcard-s0004-1-4-cal-1196-1942_tess_v2_pc/hlsp_eleanor_tess_ffi_postcard-s0004-1-4-cal-1196-1942_tess_v2_bkg.fits ... [Done]\n",
      "Downloading URL https://mast.stsci.edu/api/v0.1/Download/file?uri=mast:HLSP/eleanor/postcards/s0004/1-4/hlsp_eleanor_tess_ffi_postcard-s0004-1-4-cal-1196-1942_tess_v2_pc.fits to ./mastDownload/HLSP/hlsp_eleanor_tess_ffi_postcard-s0004-1-4-cal-1196-1942_tess_v2_pc/hlsp_eleanor_tess_ffi_postcard-s0004-1-4-cal-1196-1942_tess_v2_pc.fits ... [Done]\n",
      "Downloading URL https://mast.stsci.edu/api/v0.1/Download/file?uri=mast:HLSP/eleanor/postcards/s0004/1-4/hlsp_eleanor_tess_ffi_postcard-s0004-1-4_tess_v2_pm.txt to ./mastDownload/HLSP/hlsp_eleanor_tess_ffi_postcard-s0004-1-4-cal-1196-1942_tess_v2_pc/hlsp_eleanor_tess_ffi_postcard-s0004-1-4_tess_v2_pm.txt ... [Done]\n",
      "No eleanor postcard has been made for your target (yet). Using TessCut instead.\n",
      "Downloading URL https://mast.stsci.edu/tesscut/api/v0.1/astrocut?ra=34.68291666666666&dec=-4.015555555555555&y=31&x=31&units=px&sector=31 to /Users/oliver hall/.eleanor/tesscut/tesscut_20210921171518.zip ... [Done]\n",
      "Inflating...\n",
      "No postcard object will be created for this target.\n"
     ]
    },
    {
     "data": {
      "application/vnd.jupyter.widget-view+json": {
       "model_id": "268bc43dec3a4e1ea006307b5b8c781a",
       "version_major": 2,
       "version_minor": 0
      },
      "text/plain": [
       "  0%|          | 0/22622 [00:00<?, ?it/s]"
      ]
     },
     "metadata": {},
     "output_type": "display_data"
    },
    {
     "name": "stderr",
     "output_type": "stream",
     "text": [
      "\r",
      " 21%|████████                               | 21/101 [38:58<4:24:47, 198.59s/it]"
     ]
    },
    {
     "name": "stdout",
     "output_type": "stream",
     "text": [
      "Found star in Sector(s) 3 30\n",
      "Downloading URL https://mast.stsci.edu/api/v0.1/Download/file?uri=mast:HLSP/eleanor/postcards/s0003/1-1/hlsp_eleanor_tess_ffi_postcard-s0003-1-1-cal-0902-0646_tess_v2_bkg.fits to ./mastDownload/HLSP/hlsp_eleanor_tess_ffi_postcard-s0003-1-1-cal-0902-0646_tess_v2_pc/hlsp_eleanor_tess_ffi_postcard-s0003-1-1-cal-0902-0646_tess_v2_bkg.fits ... [Done]\n",
      "Downloading URL https://mast.stsci.edu/api/v0.1/Download/file?uri=mast:HLSP/eleanor/postcards/s0003/1-1/hlsp_eleanor_tess_ffi_postcard-s0003-1-1-cal-0902-0646_tess_v2_pc.fits to ./mastDownload/HLSP/hlsp_eleanor_tess_ffi_postcard-s0003-1-1-cal-0902-0646_tess_v2_pc/hlsp_eleanor_tess_ffi_postcard-s0003-1-1-cal-0902-0646_tess_v2_pc.fits ... [Done]\n",
      "Downloading URL https://mast.stsci.edu/api/v0.1/Download/file?uri=mast:HLSP/eleanor/postcards/s0003/1-1/hlsp_eleanor_tess_ffi_postcard-s0003-1-1_tess_v2_pm.txt to ./mastDownload/HLSP/hlsp_eleanor_tess_ffi_postcard-s0003-1-1-cal-0902-0646_tess_v2_pc/hlsp_eleanor_tess_ffi_postcard-s0003-1-1_tess_v2_pm.txt ... [Done]\n",
      "No eleanor postcard has been made for your target (yet). Using TessCut instead.\n",
      "Downloading URL https://mast.stsci.edu/tesscut/api/v0.1/astrocut?ra=13.556249999999999&dec=-22.8855&y=31&x=31&units=px&sector=30 to /Users/oliver hall/.eleanor/tesscut/tesscut_20210921171906.zip ... [Done]\n",
      "Inflating...\n",
      "No postcard object will be created for this target.\n"
     ]
    },
    {
     "data": {
      "application/vnd.jupyter.widget-view+json": {
       "model_id": "22734f448a6e4c2abe2df5825a2dc38f",
       "version_major": 2,
       "version_minor": 0
      },
      "text/plain": [
       "  0%|          | 0/22549 [00:00<?, ?it/s]"
      ]
     },
     "metadata": {},
     "output_type": "display_data"
    },
    {
     "name": "stderr",
     "output_type": "stream",
     "text": [
      "\r",
      " 22%|████████▍                              | 22/101 [42:50<4:34:34, 208.54s/it]"
     ]
    },
    {
     "name": "stdout",
     "output_type": "stream",
     "text": [
      "Found star in Sector(s) 4 31\n",
      "Downloading URL https://mast.stsci.edu/api/v0.1/Download/file?uri=mast:HLSP/eleanor/postcards/s0004/2-4/hlsp_eleanor_tess_ffi_postcard-s0004-2-4-cal-0902-0592_tess_v2_bkg.fits to ./mastDownload/HLSP/hlsp_eleanor_tess_ffi_postcard-s0004-2-4-cal-0902-0592_tess_v2_pc/hlsp_eleanor_tess_ffi_postcard-s0004-2-4-cal-0902-0592_tess_v2_bkg.fits ... [Done]\n",
      "Downloading URL https://mast.stsci.edu/api/v0.1/Download/file?uri=mast:HLSP/eleanor/postcards/s0004/2-4/hlsp_eleanor_tess_ffi_postcard-s0004-2-4-cal-0902-0592_tess_v2_pc.fits to ./mastDownload/HLSP/hlsp_eleanor_tess_ffi_postcard-s0004-2-4-cal-0902-0592_tess_v2_pc/hlsp_eleanor_tess_ffi_postcard-s0004-2-4-cal-0902-0592_tess_v2_pc.fits ... [Done]\n",
      "Downloading URL https://mast.stsci.edu/api/v0.1/Download/file?uri=mast:HLSP/eleanor/postcards/s0004/2-4/hlsp_eleanor_tess_ffi_postcard-s0004-2-4_tess_v2_pm.txt to ./mastDownload/HLSP/hlsp_eleanor_tess_ffi_postcard-s0004-2-4-cal-0902-0592_tess_v2_pc/hlsp_eleanor_tess_ffi_postcard-s0004-2-4_tess_v2_pm.txt ... [Done]\n",
      "No eleanor postcard has been made for your target (yet). Using TessCut instead.\n",
      "Downloading URL https://mast.stsci.edu/tesscut/api/v0.1/astrocut?ra=41.644166666666656&dec=-18.90486111111111&y=31&x=31&units=px&sector=31 to /Users/oliver hall/.eleanor/tesscut/tesscut_20210921172254.zip ... [Done]\n",
      "Inflating...\n",
      "No postcard object will be created for this target.\n"
     ]
    },
    {
     "data": {
      "application/vnd.jupyter.widget-view+json": {
       "model_id": "a6d2416cd40b4021b9194bbcb6159d0f",
       "version_major": 2,
       "version_minor": 0
      },
      "text/plain": [
       "  0%|          | 0/22622 [00:00<?, ?it/s]"
      ]
     },
     "metadata": {},
     "output_type": "display_data"
    },
    {
     "name": "stderr",
     "output_type": "stream",
     "text": [
      "\r",
      " 23%|████████▉                              | 23/101 [46:29<4:35:21, 211.81s/it]"
     ]
    },
    {
     "name": "stdout",
     "output_type": "stream",
     "text": [
      "Found star in Sector(s) 4 30 31\n",
      "Downloading URL https://mast.stsci.edu/api/v0.1/Download/file?uri=mast:HLSP/eleanor/postcards/s0004/2-4/hlsp_eleanor_tess_ffi_postcard-s0004-2-4-cal-1490-1564_tess_v2_bkg.fits to ./mastDownload/HLSP/hlsp_eleanor_tess_ffi_postcard-s0004-2-4-cal-1490-1564_tess_v2_pc/hlsp_eleanor_tess_ffi_postcard-s0004-2-4-cal-1490-1564_tess_v2_bkg.fits ... [Done]\n",
      "Downloading URL https://mast.stsci.edu/api/v0.1/Download/file?uri=mast:HLSP/eleanor/postcards/s0004/2-4/hlsp_eleanor_tess_ffi_postcard-s0004-2-4-cal-1490-1564_tess_v2_pc.fits to ./mastDownload/HLSP/hlsp_eleanor_tess_ffi_postcard-s0004-2-4-cal-1490-1564_tess_v2_pc/hlsp_eleanor_tess_ffi_postcard-s0004-2-4-cal-1490-1564_tess_v2_pc.fits ... [Done]\n",
      "Downloading URL https://mast.stsci.edu/api/v0.1/Download/file?uri=mast:HLSP/eleanor/postcards/s0004/2-4/hlsp_eleanor_tess_ffi_postcard-s0004-2-4_tess_v2_pm.txt to ./mastDownload/HLSP/hlsp_eleanor_tess_ffi_postcard-s0004-2-4-cal-1490-1564_tess_v2_pc/hlsp_eleanor_tess_ffi_postcard-s0004-2-4_tess_v2_pm.txt ... [Done]\n",
      "No eleanor postcard has been made for your target (yet). Using TessCut instead.\n",
      "Downloading URL https://mast.stsci.edu/tesscut/api/v0.1/astrocut?ra=39.65208333333332&dec=-25.252111111111113&y=31&x=31&units=px&sector=30 to /Users/oliver hall/.eleanor/tesscut/tesscut_20210921172633.zip ... [Done]\n",
      "Inflating...\n",
      "No eleanor postcard has been made for your target (yet). Using TessCut instead.\n",
      "Downloading URL https://mast.stsci.edu/tesscut/api/v0.1/astrocut?ra=39.65208333333332&dec=-25.252111111111113&y=31&x=31&units=px&sector=31 to /Users/oliver hall/.eleanor/tesscut/tesscut_20210921172648.zip ... [Done]\n",
      "Inflating...\n",
      "No postcard object will be created for this target.\n"
     ]
    },
    {
     "data": {
      "application/vnd.jupyter.widget-view+json": {
       "model_id": "04592de12802465b8a23e6f4142d8d68",
       "version_major": 2,
       "version_minor": 0
      },
      "text/plain": [
       "  0%|          | 0/22621 [00:00<?, ?it/s]"
      ]
     },
     "metadata": {},
     "output_type": "display_data"
    },
    {
     "name": "stderr",
     "output_type": "stream",
     "text": [
      "\r",
      " 24%|█████████▎                             | 24/101 [54:48<6:22:10, 297.79s/it]"
     ]
    },
    {
     "name": "stdout",
     "output_type": "stream",
     "text": [
      "Found star in Sector(s) 4 31\n",
      "Downloading URL https://mast.stsci.edu/api/v0.1/Download/file?uri=mast:HLSP/eleanor/postcards/s0004/1-4/hlsp_eleanor_tess_ffi_postcard-s0004-1-4-cal-1294-1672_tess_v2_bkg.fits to ./mastDownload/HLSP/hlsp_eleanor_tess_ffi_postcard-s0004-1-4-cal-1294-1672_tess_v2_pc/hlsp_eleanor_tess_ffi_postcard-s0004-1-4-cal-1294-1672_tess_v2_bkg.fits ..."
     ]
    }
   ],
   "source": [
    "from tqdm import tqdm\n",
    "\n",
    "N = len(psceri_full)\n",
    "\n",
    "df = pd.DataFrame(index = range(N), columns=['P', 'Perr', 'Pflag'])\n",
    "\n",
    "for idx in tqdm(range(N)):\n",
    "    psceri = psceri_full[idx]\n",
    "    source = psceri['Source']\n",
    "\n",
    "    ra_str = psceri['RA_ICRS'].split(' ')\n",
    "    units_ra = ['h','m','s']\n",
    "    rep = ''.join([ra_str[i]+units_ra[i] for i in range(3)])\n",
    "    ra = Angle(rep).to(u.deg)\n",
    "\n",
    "    dec_str = psceri['DE_ICRS'].split(' ')\n",
    "    units_dec = ['d','m','s']\n",
    "    rep = ''.join([dec_str[i]+units_dec[i] for i in range(3)])\n",
    "    dec = Angle(rep).to(u.deg)\n",
    "\n",
    "    j = janet(source, ra, dec,\n",
    "              output_path = \"/Users/oliver hall/Research/michael/Examples/PscEri\",\n",
    "              verbose = False)\n",
    "    \n",
    "    try:\n",
    "        j.run(period_range = (0.1, 13.4))\n",
    "    except:\n",
    "        continue\n",
    "    \n",
    "    df.loc[idx, 'P']= j.results.loc['best', 'overall']\n",
    "    df.loc[idx, 'Perr']= j.results.loc['best', 'e_overall']\n",
    "    df.loc[idx, 'Pflag']= j.results.loc['best', 'f_overall']\n",
    "df['PC'] = np.array(psceri_full['Prot'].data)\n",
    "df.to_csv('PscEri/PscEri_periods.csv')"
   ]
  },
  {
   "cell_type": "code",
   "execution_count": null,
   "metadata": {},
   "outputs": [],
   "source": []
  }
 ],
 "metadata": {
  "kernelspec": {
   "display_name": "michael",
   "language": "python",
   "name": "michael"
  },
  "language_info": {
   "codemirror_mode": {
    "name": "ipython",
    "version": 3
   },
   "file_extension": ".py",
   "mimetype": "text/x-python",
   "name": "python",
   "nbconvert_exporter": "python",
   "pygments_lexer": "ipython3",
   "version": "3.8.11"
  }
 },
 "nbformat": 4,
 "nbformat_minor": 4
}
