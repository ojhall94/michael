{
 "cells": [
  {
   "cell_type": "code",
   "execution_count": 1,
   "metadata": {},
   "outputs": [
    {
     "name": "stdout",
     "output_type": "stream",
     "text": [
      "Hi there. Welcome to the good place.\n"
     ]
    }
   ],
   "source": [
    "import sys\n",
    "import numpy as np\n",
    "import matplotlib.pyplot as plt\n",
    "import pandas as pd\n",
    "import warnings\n",
    "from astropy.convolution import Gaussian1DKernel\n",
    "from astropy.convolution import convolve\n",
    "from scipy.signal import find_peaks\n",
    "from scipy.optimize import curve_fit\n",
    "\n",
    "\n",
    "\n",
    "# import lightkurve as lk\n",
    "# from scipy.optimize import curve_fit\n",
    "\n",
    "# from astropy.convolution import Gaussian1DKernel\n",
    "# from astropy.convolution import convolve\n",
    "sys.path.insert(0, \"../\")\n",
    "\n",
    "from michael import janet"
   ]
  },
  {
   "cell_type": "code",
   "execution_count": 2,
   "metadata": {},
   "outputs": [],
   "source": [
    "uni = pd.read_csv(\"/Users/oliver hall/Research/unicorn/data/unicorn.csv\", index_col=0)"
   ]
  },
  {
   "cell_type": "markdown",
   "metadata": {},
   "source": [
    "Index 258 is a good tester. Clear rotational signal, ambiguous peak mode."
   ]
  },
  {
   "cell_type": "code",
   "execution_count": 3,
   "metadata": {
    "scrolled": false
   },
   "outputs": [
    {
     "name": "stdout",
     "output_type": "stream",
     "text": [
      "Already have data downloaded for Gaia ID 3296334520042680064.\n",
      "If you want to check for new data, run `janet.update()`.\n",
      "No postcard object will be created for this target.\n",
      "### Running Simple Astropy Lomb-Scargle on Sector 5 on star 3296334520042680064 ###\n",
      "### Completed Simple Astropy Lomb-Scargle for Sector 5 on star 3296334520042680064 ###\n",
      "### Saved results ###\n",
      "### Running Wavelet Estimation for Sector 5 on star 3296334520042680064 ###\n"
     ]
    },
    {
     "name": "stderr",
     "output_type": "stream",
     "text": [
      "/Users/Anaconda/anaconda3/envs/michael/lib/python3.8/site-packages/jazz_hands-0.0.3-py3.8.egg/jazzhands/wavelets.py:488: TqdmExperimentalWarning: Using `tqdm.autonotebook.tqdm` in notebook mode. Use `tqdm.tqdm` instead to force console mode (e.g. in jupyter console)\n",
      "  from tqdm.autonotebook import tqdm\n"
     ]
    },
    {
     "data": {
      "application/vnd.jupyter.widget-view+json": {
       "model_id": "997c0a794d2348ec8ef932c930e717db",
       "version_major": 2,
       "version_minor": 0
      },
      "text/plain": [
       "  0%|          | 0/77 [00:00<?, ?it/s]"
      ]
     },
     "metadata": {},
     "output_type": "display_data"
    },
    {
     "name": "stdout",
     "output_type": "stream",
     "text": [
      "### Completed Wavelet Estimation for Sector 5 on star 3296334520042680064 ###\n",
      "### Saved results ###\n",
      "### Running Composite ACF estimation for Sector 5 on star 3296334520042680064 ###\n"
     ]
    },
    {
     "ename": "NameError",
     "evalue": "name 'interpolate' is not defined",
     "output_type": "error",
     "traceback": [
      "\u001b[0;31m---------------------------------------------------------------------------\u001b[0m",
      "\u001b[0;31mNameError\u001b[0m                                 Traceback (most recent call last)",
      "\u001b[0;32m/var/folders/qh/nrsz4hq94kg510wh1srt1x0ry2q37w/T/ipykernel_18486/3058437892.py\u001b[0m in \u001b[0;36m<module>\u001b[0;34m\u001b[0m\n\u001b[1;32m      1\u001b[0m \u001b[0mj\u001b[0m \u001b[0;34m=\u001b[0m \u001b[0mjanet\u001b[0m\u001b[0;34m.\u001b[0m\u001b[0mboot\u001b[0m\u001b[0;34m(\u001b[0m\u001b[0muni\u001b[0m\u001b[0;34m,\u001b[0m \u001b[0mindex\u001b[0m\u001b[0;34m=\u001b[0m\u001b[0;36m24\u001b[0m\u001b[0;34m)\u001b[0m\u001b[0;34m\u001b[0m\u001b[0;34m\u001b[0m\u001b[0m\n\u001b[0;32m----> 2\u001b[0;31m \u001b[0mj\u001b[0m\u001b[0;34m.\u001b[0m\u001b[0mrun\u001b[0m\u001b[0;34m(\u001b[0m\u001b[0mperiod_range\u001b[0m \u001b[0;34m=\u001b[0m \u001b[0;34m(\u001b[0m\u001b[0;36m1.\u001b[0m\u001b[0;34m,\u001b[0m \u001b[0;36m13.\u001b[0m\u001b[0;34m)\u001b[0m\u001b[0;34m)\u001b[0m\u001b[0;34m\u001b[0m\u001b[0;34m\u001b[0m\u001b[0m\n\u001b[0m",
      "\u001b[0;32m~/Research/michael/Examples/../michael/janet.py\u001b[0m in \u001b[0;36mrun\u001b[0;34m(self, period_range)\u001b[0m\n\u001b[1;32m    153\u001b[0m     \u001b[0;32mdef\u001b[0m \u001b[0mrun\u001b[0m\u001b[0;34m(\u001b[0m\u001b[0mself\u001b[0m\u001b[0;34m,\u001b[0m \u001b[0mperiod_range\u001b[0m \u001b[0;34m=\u001b[0m \u001b[0;34m(\u001b[0m\u001b[0;36m0.2\u001b[0m\u001b[0;34m,\u001b[0m \u001b[0;36m27.4\u001b[0m\u001b[0;34m)\u001b[0m\u001b[0;34m)\u001b[0m\u001b[0;34m:\u001b[0m\u001b[0;34m\u001b[0m\u001b[0;34m\u001b[0m\u001b[0m\n\u001b[1;32m    154\u001b[0m         \u001b[0mself\u001b[0m\u001b[0;34m.\u001b[0m\u001b[0mprepare_data\u001b[0m\u001b[0;34m(\u001b[0m\u001b[0;34m)\u001b[0m\u001b[0;34m\u001b[0m\u001b[0;34m\u001b[0m\u001b[0m\n\u001b[0;32m--> 155\u001b[0;31m         \u001b[0mself\u001b[0m\u001b[0;34m.\u001b[0m\u001b[0mget_rotation\u001b[0m\u001b[0;34m(\u001b[0m\u001b[0mperiod_range\u001b[0m \u001b[0;34m=\u001b[0m \u001b[0mperiod_range\u001b[0m\u001b[0;34m)\u001b[0m\u001b[0;34m\u001b[0m\u001b[0;34m\u001b[0m\u001b[0m\n\u001b[0m\u001b[1;32m    156\u001b[0m         \u001b[0mself\u001b[0m\u001b[0;34m.\u001b[0m\u001b[0mvalidate_rotation\u001b[0m\u001b[0;34m(\u001b[0m\u001b[0;34m)\u001b[0m\u001b[0;34m\u001b[0m\u001b[0;34m\u001b[0m\u001b[0m\n\u001b[1;32m    157\u001b[0m \u001b[0;34m\u001b[0m\u001b[0m\n",
      "\u001b[0;32m~/Research/michael/Examples/../michael/janet.py\u001b[0m in \u001b[0;36mget_rotation\u001b[0;34m(self, period_range)\u001b[0m\n\u001b[1;32m    117\u001b[0m                 \u001b[0msimple_astropy_lombscargle\u001b[0m\u001b[0;34m(\u001b[0m\u001b[0mself\u001b[0m\u001b[0;34m,\u001b[0m \u001b[0msector\u001b[0m \u001b[0;34m=\u001b[0m \u001b[0msector\u001b[0m\u001b[0;34m,\u001b[0m \u001b[0mperiod_range\u001b[0m \u001b[0;34m=\u001b[0m \u001b[0mperiod_range\u001b[0m\u001b[0;34m)\u001b[0m\u001b[0;34m\u001b[0m\u001b[0;34m\u001b[0m\u001b[0m\n\u001b[1;32m    118\u001b[0m                 \u001b[0msimple_wavelet\u001b[0m\u001b[0;34m(\u001b[0m\u001b[0mself\u001b[0m\u001b[0;34m,\u001b[0m \u001b[0msector\u001b[0m \u001b[0;34m=\u001b[0m \u001b[0msector\u001b[0m\u001b[0;34m,\u001b[0m \u001b[0mperiod_range\u001b[0m \u001b[0;34m=\u001b[0m \u001b[0mperiod_range\u001b[0m\u001b[0;34m)\u001b[0m\u001b[0;34m\u001b[0m\u001b[0;34m\u001b[0m\u001b[0m\n\u001b[0;32m--> 119\u001b[0;31m                 \u001b[0mcomposite_ACF\u001b[0m\u001b[0;34m(\u001b[0m\u001b[0mself\u001b[0m\u001b[0;34m,\u001b[0m \u001b[0msector\u001b[0m\u001b[0;34m=\u001b[0m \u001b[0msector\u001b[0m\u001b[0;34m,\u001b[0m \u001b[0mperiod_range\u001b[0m \u001b[0;34m=\u001b[0m \u001b[0mperiod_range\u001b[0m\u001b[0;34m)\u001b[0m\u001b[0;34m\u001b[0m\u001b[0;34m\u001b[0m\u001b[0m\n\u001b[0m\u001b[1;32m    120\u001b[0m \u001b[0;34m\u001b[0m\u001b[0m\n\u001b[1;32m    121\u001b[0m         \u001b[0msimple_ACF\u001b[0m\u001b[0;34m(\u001b[0m\u001b[0mself\u001b[0m\u001b[0;34m,\u001b[0m \u001b[0mperiod_range\u001b[0m \u001b[0;34m=\u001b[0m \u001b[0mperiod_range\u001b[0m\u001b[0;34m)\u001b[0m\u001b[0;34m\u001b[0m\u001b[0;34m\u001b[0m\u001b[0m\n",
      "\u001b[0;32m~/Research/michael/Examples/../michael/methods.py\u001b[0m in \u001b[0;36mcomposite_ACF\u001b[0;34m(j, sector, period_range)\u001b[0m\n\u001b[1;32m    248\u001b[0m     \u001b[0mw\u001b[0m \u001b[0;34m=\u001b[0m \u001b[0mnp\u001b[0m\u001b[0;34m.\u001b[0m\u001b[0mflip\u001b[0m\u001b[0;34m(\u001b[0m\u001b[0mnp\u001b[0m\u001b[0;34m.\u001b[0m\u001b[0msum\u001b[0m\u001b[0;34m(\u001b[0m\u001b[0mj\u001b[0m\u001b[0;34m.\u001b[0m\u001b[0mvoid\u001b[0m\u001b[0;34m[\u001b[0m\u001b[0;34mf'{sector}_wwz'\u001b[0m\u001b[0;34m]\u001b[0m\u001b[0;34m,\u001b[0m \u001b[0maxis\u001b[0m\u001b[0;34m=\u001b[0m\u001b[0;36m1\u001b[0m\u001b[0;34m)\u001b[0m\u001b[0;34m)\u001b[0m\u001b[0;34m\u001b[0m\u001b[0;34m\u001b[0m\u001b[0m\n\u001b[1;32m    249\u001b[0m     \u001b[0mx\u001b[0m \u001b[0;34m=\u001b[0m \u001b[0mnp\u001b[0m\u001b[0;34m.\u001b[0m\u001b[0mflip\u001b[0m\u001b[0;34m(\u001b[0m\u001b[0;36m1.\u001b[0m\u001b[0;34m/\u001b[0m\u001b[0mj\u001b[0m\u001b[0;34m.\u001b[0m\u001b[0mvoid\u001b[0m\u001b[0;34m[\u001b[0m\u001b[0;34mf'{sector}_wt'\u001b[0m\u001b[0;34m]\u001b[0m\u001b[0;34m.\u001b[0m\u001b[0mnus\u001b[0m\u001b[0;34m)\u001b[0m\u001b[0;34m\u001b[0m\u001b[0;34m\u001b[0m\u001b[0m\n\u001b[0;32m--> 250\u001b[0;31m     \u001b[0mf\u001b[0m \u001b[0;34m=\u001b[0m \u001b[0minterpolate\u001b[0m\u001b[0;34m.\u001b[0m\u001b[0minterp1d\u001b[0m\u001b[0;34m(\u001b[0m\u001b[0mx\u001b[0m\u001b[0;34m,\u001b[0m \u001b[0mw\u001b[0m\u001b[0;34m)\u001b[0m\u001b[0;34m\u001b[0m\u001b[0;34m\u001b[0m\u001b[0m\n\u001b[0m\u001b[1;32m    251\u001b[0m \u001b[0;34m\u001b[0m\u001b[0m\n\u001b[1;32m    252\u001b[0m     \u001b[0;31m# Calculate the ACF for the relevant sector\u001b[0m\u001b[0;34m\u001b[0m\u001b[0;34m\u001b[0m\u001b[0;34m\u001b[0m\u001b[0m\n",
      "\u001b[0;31mNameError\u001b[0m: name 'interpolate' is not defined"
     ]
    }
   ],
   "source": [
    "j = janet.boot(uni, index=24)\n",
    "j.run(period_range = (1., 13.))"
   ]
  },
  {
   "cell_type": "code",
   "execution_count": null,
   "metadata": {},
   "outputs": [],
   "source": [
    "sys.exit()"
   ]
  },
  {
   "cell_type": "code",
   "execution_count": null,
   "metadata": {},
   "outputs": [],
   "source": [
    "from scipy import interpolate\n",
    "import seaborn as sns\n",
    "import lightkurve as lk\n",
    "from scipy.optimize import curve_fit\n",
    "from michael.utils import _gaussian_fn\n",
    "cmap = sns.color_palette('viridis', 8)\n",
    "period_range = j.period_range\n",
    "\n",
    "if not j.gaps:\n",
    "    print('Not quite here yet')\n",
    "    \n",
    "else:\n",
    "    for sector in list(j.sectors):\n",
    "        # Extract the wavelet information\n",
    "        w = np.flip(np.sum(j.void[f'{sector}_wwz'], axis=1))\n",
    "        x = np.flip(1./j.void[f'{sector}_wt'].nus)\n",
    "        f = interpolate.interp1d(x, w)\n",
    "        \n",
    "        # Calculate the ACF for the relevant sector\n",
    "        lc = j.void[f'clc_{sector}']\n",
    "        acf = np.correlate(lc.flux.value-1, lc.flux.value-1, mode='full')[len(lc)-1:]\n",
    "        lag = lc.time.value - lc.time.value.min()\n",
    "        norm_acf = acf/np.nanmax(acf)\n",
    "        acflc = lk.LightCurve(time=lag, flux=norm_acf)\n",
    "\n",
    "        vizacf = acflc[(acflc.time.value <= period_range[1])]\n",
    "        vizacf = vizacf[(vizacf.time.value >= period_range[0])]\n",
    "        \n",
    "        # Calculate the compound ACF\n",
    "        xnew = vizacf.time.value\n",
    "        wnew = f(xnew)\n",
    "        cacf = vizacf * (wnew/np.nanmax(wnew))\n",
    "        \n",
    "        # Smooth the  CACF\n",
    "        sd = np.ceil(.1 / np.median(np.diff(cacf.time.value)))\n",
    "        gauss = Gaussian1DKernel(sd)\n",
    "        cacfsmoo = convolve(cacf.flux.value, gauss, boundary='extend')\n",
    "\n",
    "        # Identify the first 10 maxima above a threshold of 0.01\n",
    "        cpeaks, _ = find_peaks(cacfsmoo, height = 0.01)\n",
    "        \n",
    "        # No peaks found\n",
    "        if len(cpeaks) == 0:\n",
    "            j.results.loc[sector, 'CACF'] = np.nan\n",
    "        \n",
    "        # Save the metadata\n",
    "        j.void[f'{sector}_vizacf'] = vizacf\n",
    "        j.void[f'{sector}_cacf'] = cacf\n",
    "        j.void[f'{sector}_cacfsmoo'] = cacfsmoo\n",
    "        j.void[f'{sector}_cpeaks'] = cpeaks        \n",
    "\n",
    "        P = cacf[cpeaks[0]]\n",
    "\n",
    "        lolim = 0.8*P['time'].value\n",
    "        if lolim < period_range[0]:\n",
    "            lolim = period_range[0]\n",
    "        uplim = 1.2*P['time'].value\n",
    "        if uplim > period_range[1]:\n",
    "            uplim = period_range[1]\n",
    "\n",
    "        popt, pcov = curve_fit(_gaussian_fn, cacf.time.value, cacfsmoo,\n",
    "                               p0 = [P['time'].value, 0.1*P['time'].value, P['flux'].value],\n",
    "                               bounds = ([lolim, 0., 0.9*P['flux'].value], \n",
    "                                         [uplim, 0.25*P['time'].value, 1.1*P['flux'].value]))\n",
    "\n",
    "        j.results.loc[sector, 'CACF'] = popt[0]\n",
    "        j.results.loc[sector, 'e_CACF'] = popt[1]\n",
    "        j.void[f'{sector}_cacf_popt'] = popt      \n",
    "        \n",
    "        # End!\n",
    "        \n",
    "best_cacf = '5'\n",
    "\n",
    "fig, ax = plt.subplots(figsize=(6, 6))\n",
    "ax.get_yaxis().set_visible(False)\n",
    "\n",
    "x = j.void[f'{best_cacf}_cacf'].time.value\n",
    "ax.plot(x,\n",
    "        _gaussian_fn(x, *j.void[f'{best_cacf}_cacf_popt']), ls='--', lw=10, c=cmap[5], zorder=2)\n",
    "#         label = rf'$\\sigma$ = {j.results.loc[\"best\", \"e_SLS\"]:.2f} d')\n",
    "ax.set_xlim(j.void[f'{best_cacf}_cacf_popt'][0] - 5*j.void[f'{best_cacf}_cacf_popt'][1],\n",
    "                j.void[f'{best_cacf}_cacf_popt'][0] + 5*j.void[f'{best_cacf}_cacf_popt'][1])\n",
    "\n",
    "for s in j.sectors:\n",
    "    ax.plot(j.void[f'{s}_cacf'].time.value, j.void[f'{s}_cacfsmoo'])\n",
    "    \n",
    "ax.legend(loc='best', fontsize=20)\n",
    "ax.set_xlabel('Period [d]')\n",
    "ax.set_title(f'Fit to CACF {text}')        "
   ]
  },
  {
   "cell_type": "code",
   "execution_count": null,
   "metadata": {},
   "outputs": [],
   "source": [
    "list(j.void)"
   ]
  },
  {
   "cell_type": "code",
   "execution_count": null,
   "metadata": {},
   "outputs": [],
   "source": [
    "from scipy.optimize import curve_fit\n",
    "from michael.utils import _gaussian_fn\n",
    "P = cacf[cpeaks[0]]\n",
    "\n",
    "lolim = 0.8*P['time'].value\n",
    "if lolim < period_range[0]:\n",
    "    lolim = period_range[0]\n",
    "uplim = 1.2*P['time'].value\n",
    "if uplim > period_range[1]:\n",
    "    uplim = period_range[1]\n",
    "\n",
    "popt, pcov = curve_fit(_gaussian_fn, cacf.time.value, cacfsmoo,\n",
    "                       p0 = [P['time'].value, 0.1*P['time'].value, P['flux'].value],\n",
    "                       bounds = ([lolim, 0., 0.9*P['flux'].value], [uplim, 0.25*P['time'].value, 1.1*P['flux'].value]))\n",
    "    \n",
    "j.results.loc[sector, 'CACF'] = popt[0]\n",
    "j.results.loc[sector, 'e_CACF'] = popt[1]\n",
    "\n",
    "\n",
    "ax.plot(j.void[f'p_{best_sls}'],\n",
    "        _gaussian_fn(j.void[f'p_{best_sls}'], *j.void[f'popt_{best_sls}']), ls='--', lw=10, c=cmap[5], zorder=2,\n",
    "        label = rf'$\\sigma$ = {j.results.loc[\"best\", \"e_SLS\"]:.2f} d')\n",
    "ax.set_xlim(j.void[f'popt_{best_sls}'][0] - 5*j.void[f'popt_{best_sls}'][1],\n",
    "                j.void[f'popt_{best_sls}'][0] + 5*j.void[f'popt_{best_sls}'][1])"
   ]
  },
  {
   "cell_type": "code",
   "execution_count": null,
   "metadata": {},
   "outputs": [],
   "source": [
    "j.results"
   ]
  },
  {
   "cell_type": "code",
   "execution_count": null,
   "metadata": {},
   "outputs": [],
   "source": [
    "j.void['5_vizacf'].plot()\n",
    "j.void['32_vizacf'].plot()"
   ]
  },
  {
   "cell_type": "code",
   "execution_count": null,
   "metadata": {},
   "outputs": [],
   "source": [
    "plt.plot(x, w)\n",
    "plt.plot(xnew, wnew)"
   ]
  },
  {
   "cell_type": "code",
   "execution_count": null,
   "metadata": {},
   "outputs": [],
   "source": [
    "acfsmoo = j.void['acfsmoo']\n",
    "compacf = (smooacf * (wnew/wnew.max()))"
   ]
  },
  {
   "cell_type": "code",
   "execution_count": null,
   "metadata": {},
   "outputs": [],
   "source": [
    "plt.plot(vizacf.time.value, compacf)"
   ]
  },
  {
   "cell_type": "code",
   "execution_count": null,
   "metadata": {},
   "outputs": [],
   "source": [
    "xnew.max()"
   ]
  },
  {
   "cell_type": "code",
   "execution_count": null,
   "metadata": {},
   "outputs": [],
   "source": [
    "x.max()"
   ]
  },
  {
   "cell_type": "code",
   "execution_count": null,
   "metadata": {},
   "outputs": [],
   "source": []
  },
  {
   "cell_type": "code",
   "execution_count": null,
   "metadata": {},
   "outputs": [],
   "source": []
  },
  {
   "cell_type": "markdown",
   "metadata": {},
   "source": [
    "Now we smooth following the acf's time array"
   ]
  },
  {
   "cell_type": "code",
   "execution_count": null,
   "metadata": {},
   "outputs": [],
   "source": []
  },
  {
   "cell_type": "code",
   "execution_count": null,
   "metadata": {},
   "outputs": [],
   "source": [
    "wwz = j.void[f'{j.sectors[0]}_wwz']\n",
    "max = np.nanmax(wwz)\n",
    "wwz /= max\n",
    "for s in j.sectors[1:]:\n",
    "    add = j.void[f'{s}_wwz']/max\n",
    "    wwz = np.vstack((wwz, add[:, :wwz.shape[1]]))\n",
    "w = np.sum(wwz, axis=1)\n",
    "nus = j.void['5_wt'].nus\n",
    "p = 1/nus\n",
    "plt.plot(p, w)"
   ]
  },
  {
   "cell_type": "code",
   "execution_count": null,
   "metadata": {},
   "outputs": [],
   "source": [
    "pacf = j.void['']"
   ]
  },
  {
   "cell_type": "code",
   "execution_count": null,
   "metadata": {},
   "outputs": [],
   "source": []
  },
  {
   "cell_type": "code",
   "execution_count": null,
   "metadata": {
    "scrolled": false
   },
   "outputs": [],
   "source": [
    "acfsmoolc = lk.LightCurve(time = j.void['acflc'].time.value, flux = acfsmoo)"
   ]
  },
  {
   "cell_type": "code",
   "execution_count": null,
   "metadata": {},
   "outputs": [],
   "source": [
    "Model = pm.Model()\n",
    "P = acfsmoolc.time.value\n",
    "F = acfsmoolc.flux.value\n",
    "\n",
    "with Model:\n",
    "    A0 = pm.Uniform('A0', 0., 1., testval=0.05)\n",
    "    A1 = pm.Uniform('A1', 0., 10., testval=0.5)\n",
    "    yy = pm.Deterministic('yy', (1-A0)*np.exp(-P/A1) + A0)\n",
    "    y = pm.Normal('like', mu=yy, sigma = np.std(F),\n",
    "                 observed=F)"
   ]
  },
  {
   "cell_type": "code",
   "execution_count": null,
   "metadata": {},
   "outputs": [],
   "source": [
    "with Model:\n",
    "    trace = pm.sample()"
   ]
  },
  {
   "cell_type": "code",
   "execution_count": null,
   "metadata": {},
   "outputs": [],
   "source": [
    "yy = np.median(trace['yy'], axis=0)\n",
    "normacf = acfsmoolc - yy"
   ]
  },
  {
   "cell_type": "code",
   "execution_count": null,
   "metadata": {},
   "outputs": [],
   "source": [
    "binned = normacf.bin()"
   ]
  },
  {
   "cell_type": "code",
   "execution_count": null,
   "metadata": {},
   "outputs": [],
   "source": []
  }
 ],
 "metadata": {
  "kernelspec": {
   "display_name": "michael",
   "language": "python",
   "name": "michael"
  },
  "language_info": {
   "codemirror_mode": {
    "name": "ipython",
    "version": 3
   },
   "file_extension": ".py",
   "mimetype": "text/x-python",
   "name": "python",
   "nbconvert_exporter": "python",
   "pygments_lexer": "ipython3",
   "version": "3.8.11"
  }
 },
 "nbformat": 4,
 "nbformat_minor": 4
}
