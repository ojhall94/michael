{
 "cells": [
  {
   "cell_type": "code",
   "execution_count": 1,
   "metadata": {},
   "outputs": [],
   "source": [
    "import sys\n",
    "import numpy as np\n",
    "import matplotlib.pyplot as plt\n",
    "import pandas as pd\n",
    "import warnings\n",
    "from scipy.signal import find_peaks\n",
    "from scipy.optimize import curve_fit\n",
    "from scipy.ndimage import gaussian_filter1d\n",
    "\n",
    "sys.path.insert(0, \"../\")\n",
    "\n",
    "import warnings\n",
    "warnings.filterwarnings('ignore')\n",
    "\n",
    "from michael import janet"
   ]
  },
  {
   "cell_type": "markdown",
   "metadata": {},
   "source": [
    "Getting a `x0 is infeasible` error when running the curve_fit to the wavelet portion. Let's try and identify the target."
   ]
  },
  {
   "cell_type": "code",
   "execution_count": 2,
   "metadata": {},
   "outputs": [],
   "source": [
    "uni = pd.read_csv(\"/Users/oliver hall/Research/unicorn/data/unicorn.csv\", index_col=0)"
   ]
  },
  {
   "cell_type": "code",
   "execution_count": 3,
   "metadata": {},
   "outputs": [],
   "source": [
    "index = 2#uni[uni.source_id == int(48977371798954368)].index[0]"
   ]
  },
  {
   "cell_type": "code",
   "execution_count": null,
   "metadata": {
    "scrolled": false
   },
   "outputs": [
    {
     "name": "stdout",
     "output_type": "stream",
     "text": [
      "Making folder /Users/oliver hall/.michael/tesscut/5311109828992983168/...\n",
      "Making folder /Users/oliver hall/Research/unicorn/data/output/5311109828992983168/...\n",
      "Target DR3 ID 5311109828992983168 has tesscut data available on MAST for Sectors 8, 9, 36\n",
      "Downloading URL https://mast.stsci.edu/tesscut/api/v0.1/astrocut?ra=137.4220919659843&dec=-54.21264261215708&y=50&x=50&units=px to /Users/oliver hall/.michael/tesscut/5311109828992983168/tesscut_20230203132124.zip ... [Done]\n",
      "Inflating...\n",
      "Removing 17 bad data points (out of 968) using the TESS provided QUALITY array\n",
      "Summing over 2 x 1 pixel lightcurves. Weighting=median\n",
      "Removing 70 bad data points (out of 1154) using the TESS provided QUALITY array\n",
      "Summing over 2 x 1 pixel lightcurves. Weighting=median\n",
      "Removing 10 bad data points (out of 3477) using the TESS provided QUALITY array\n",
      "Summing over 1 x 2 pixel lightcurves. Weighting=median\n",
      "### Running Simple Astropy Lomb-Scargle on Sector 8-9 on star 5311109828992983168 ###\n",
      "### Completed Simple Astropy Lomb-Scargle for Sector 8-9 on star 5311109828992983168 ###\n",
      "### Running Wavelet Estimation for Sector 8-9 on star 5311109828992983168 ###\n"
     ]
    },
    {
     "name": "stderr",
     "output_type": "stream",
     "text": [
      "100%|███████████████████████████████████████| 1522/1522 [00:40<00:00, 37.43it/s]\n"
     ]
    },
    {
     "name": "stdout",
     "output_type": "stream",
     "text": [
      "### Completed Wavelet Estimation for Sector 8-9 on star 5311109828992983168 ###\n",
      "### Running Composite ACF estimation for Sector 8-9 on star 5311109828992983168 ###\n",
      "### Completed Composite ACF estimation for Sector 8-9 on star 5311109828992983168 ###\n",
      "### Running ACF Estimation on star 5311109828992983168 ###\n",
      "### Completed ACF Estimation for Sector 8-9 on star 5311109828992983168 ###\n",
      "### Running Simple Astropy Lomb-Scargle on Sector 36 on star 5311109828992983168 ###\n",
      "### Completed Simple Astropy Lomb-Scargle for Sector 36 on star 5311109828992983168 ###\n",
      "### Running Wavelet Estimation for Sector 36 on star 5311109828992983168 ###\n"
     ]
    },
    {
     "name": "stderr",
     "output_type": "stream",
     "text": [
      "  2%|▊                                         | 14/748 [00:01<01:21,  9.01it/s]"
     ]
    }
   ],
   "source": [
    "for method in ['tess-sip']:#'eleanor', 'eleanor-corner','eleanor-pca', 'unpopular','tess-sip']:\n",
    "    j = janet.boot(uni, index=index, pipeline = method)\n",
    "    j.prepare_data()\n",
    "    j.get_rotation(period_range=(0.1, 27))\n",
    "    j.validate_rotation()\n",
    "    j.view()\n",
    "    plt.show()"
   ]
  },
  {
   "cell_type": "code",
   "execution_count": null,
   "metadata": {},
   "outputs": [],
   "source": [
    "j.pipelines"
   ]
  },
  {
   "cell_type": "code",
   "execution_count": null,
   "metadata": {},
   "outputs": [],
   "source": [
    "j.sectors"
   ]
  },
  {
   "cell_type": "code",
   "execution_count": null,
   "metadata": {},
   "outputs": [],
   "source": [
    "raise ValueError"
   ]
  },
  {
   "cell_type": "code",
   "execution_count": null,
   "metadata": {},
   "outputs": [],
   "source": [
    "j.prepare_data()"
   ]
  },
  {
   "cell_type": "code",
   "execution_count": null,
   "metadata": {},
   "outputs": [],
   "source": [
    "any([len(a) > 2 for a in j.sectors])"
   ]
  },
  {
   "cell_type": "markdown",
   "metadata": {},
   "source": [
    "Cleaning up the data seems to have fixed things. Either way we'll still just change the data downloading process to avoid anything like this in the future."
   ]
  },
  {
   "cell_type": "code",
   "execution_count": null,
   "metadata": {},
   "outputs": [],
   "source": [
    "sys.exit()"
   ]
  },
  {
   "cell_type": "code",
   "execution_count": null,
   "metadata": {},
   "outputs": [],
   "source": [
    "j.void['r_43-44']['raw_lc'].plot()"
   ]
  },
  {
   "cell_type": "code",
   "execution_count": null,
   "metadata": {},
   "outputs": [],
   "source": [
    "j.void['rawlc_43-44'].plot()"
   ]
  },
  {
   "cell_type": "markdown",
   "metadata": {},
   "source": [
    "Let's fix the cpm times"
   ]
  },
  {
   "cell_type": "code",
   "execution_count": null,
   "metadata": {},
   "outputs": [],
   "source": [
    "import glob\n",
    "from astropy.coordinates import SkyCoord\n",
    "import os\n",
    "import astropy.units as u\n",
    "rastr = str(j.ra)\n",
    "step = len(rastr.split('.')[0])\n",
    "decstr = str(j.dec)\n",
    "step = len(decstr.split('.')[0])\n",
    "sfiles = np.sort(glob.glob(f'{os.path.expanduser(\"~\")}/.eleanor/tesscut/*{rastr[:(6+step)]}*{decstr[:(6+step)]}*'))\n",
    "coords = SkyCoord(ra = j.ra, dec = j.dec, unit = (u.deg, u.deg))\n",
    "\n",
    "if len(sfiles) == 0:\n",
    "    sfiles = np.sort(glob.glob(f'{os.path.expanduser(\"~\")}/.eleanor/tesscut/*{rastr[:(4+step)]}*{decstr[:(4+step)]}*'))\n",
    "    if len(sfiles) == 0:\n",
    "        raise ValueError(\"No tesscut files could be found for this target.\")\n",
    "\n",
    "if len(sfiles) < len(j.sectorlist):\n",
    "    raise ValueError(\"There are more sectors available than have been \"+\n",
    "                    \"loaded into the sectorlist. Reset the data.\")"
   ]
  },
  {
   "cell_type": "code",
   "execution_count": null,
   "metadata": {},
   "outputs": [],
   "source": [
    "sfiles"
   ]
  },
  {
   "cell_type": "code",
   "execution_count": null,
   "metadata": {},
   "outputs": [],
   "source": [
    "from michael.janet import pipelines\n",
    "f\"{', '.join(list(pipelines))}\""
   ]
  },
  {
   "cell_type": "code",
   "execution_count": null,
   "metadata": {},
   "outputs": [],
   "source": [
    "list(j.methods)"
   ]
  },
  {
   "cell_type": "code",
   "execution_count": null,
   "metadata": {},
   "outputs": [],
   "source": []
  }
 ],
 "metadata": {
  "kernelspec": {
   "display_name": "michael10",
   "language": "python",
   "name": "michael10"
  },
  "language_info": {
   "codemirror_mode": {
    "name": "ipython",
    "version": 3
   },
   "file_extension": ".py",
   "mimetype": "text/x-python",
   "name": "python",
   "nbconvert_exporter": "python",
   "pygments_lexer": "ipython3",
   "version": "3.10.9"
  }
 },
 "nbformat": 4,
 "nbformat_minor": 4
}
