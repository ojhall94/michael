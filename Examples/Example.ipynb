{
 "cells": [
  {
   "cell_type": "code",
   "execution_count": 1,
   "metadata": {},
   "outputs": [],
   "source": [
    "import sys\n",
    "import numpy as np\n",
    "import matplotlib.pyplot as plt\n",
    "import pandas as pd\n",
    "import warnings\n",
    "from scipy.signal import find_peaks\n",
    "from scipy.optimize import curve_fit\n",
    "from scipy.ndimage import gaussian_filter1d\n",
    "\n",
    "sys.path.insert(0, \"../\")\n",
    "\n",
    "import warnings\n",
    "warnings.filterwarnings('ignore')\n",
    "\n",
    "from michael import janet"
   ]
  },
  {
   "cell_type": "code",
   "execution_count": 2,
   "metadata": {},
   "outputs": [],
   "source": [
    "uni = pd.read_csv(\"/Users/oliver hall/Research/unicorn/data/unicorn.csv\", index_col=0)"
   ]
  },
  {
   "cell_type": "code",
   "execution_count": 3,
   "metadata": {},
   "outputs": [],
   "source": [
    "index = 100#uni[uni.source_id == int(48977371798954368)].index[0]"
   ]
  },
  {
   "cell_type": "code",
   "execution_count": 4,
   "metadata": {
    "scrolled": false
   },
   "outputs": [
    {
     "name": "stdout",
     "output_type": "stream",
     "text": [
      "Target DR3 ID 2013442292842273408 has tesscut data available on MAST for Sectors 17, 24, 57\n",
      "Data already downloaded for Sector 17.\n",
      "Data already downloaded for Sector 24.\n",
      "Data already downloaded for Sector 57.\n"
     ]
    },
    {
     "ename": "ValueError",
     "evalue": "This target does not have 2 or more consecutive sectors available.Please use a method other than `tess-sip` or `tess-sip-detrended`. The available methods are: eleanor, eleanor-raw, eleanor-pca, eleanor-corner, unpopular, tess-sip, tess-sip-detrended",
     "output_type": "error",
     "traceback": [
      "\u001b[0;31m---------------------------------------------------------------------------\u001b[0m",
      "\u001b[0;31mValueError\u001b[0m                                Traceback (most recent call last)",
      "Cell \u001b[0;32mIn[4], line 3\u001b[0m\n\u001b[1;32m      1\u001b[0m \u001b[38;5;28;01mfor\u001b[39;00m method \u001b[38;5;129;01min\u001b[39;00m [\u001b[38;5;124m'\u001b[39m\u001b[38;5;124mtess-sip-detrended\u001b[39m\u001b[38;5;124m'\u001b[39m]:\u001b[38;5;66;03m#'eleanor', 'eleanor-corner','eleanor-pca', 'unpopular','tess-sip']:\u001b[39;00m\n\u001b[1;32m      2\u001b[0m     j \u001b[38;5;241m=\u001b[39m janet\u001b[38;5;241m.\u001b[39mboot(uni, index\u001b[38;5;241m=\u001b[39mindex, pipeline \u001b[38;5;241m=\u001b[39m method)\n\u001b[0;32m----> 3\u001b[0m     \u001b[43mj\u001b[49m\u001b[38;5;241;43m.\u001b[39;49m\u001b[43mprepare_data\u001b[49m\u001b[43m(\u001b[49m\u001b[43m)\u001b[49m\n\u001b[1;32m      4\u001b[0m     j\u001b[38;5;241m.\u001b[39mget_rotation(period_range\u001b[38;5;241m=\u001b[39m(\u001b[38;5;241m0.1\u001b[39m, \u001b[38;5;241m27\u001b[39m))\n\u001b[1;32m      5\u001b[0m     j\u001b[38;5;241m.\u001b[39mvalidate_rotation()\n",
      "File \u001b[0;32m~/Research/michael/Examples/../michael/janet.py:101\u001b[0m, in \u001b[0;36mjanet.prepare_data\u001b[0;34m(self)\u001b[0m\n\u001b[1;32m     98\u001b[0m     \u001b[38;5;28mself\u001b[39m\u001b[38;5;241m.\u001b[39mdata\u001b[38;5;241m.\u001b[39mbuild_tess_sip_lc()\n\u001b[1;32m    100\u001b[0m \u001b[38;5;28;01melif\u001b[39;00m \u001b[38;5;28mself\u001b[39m\u001b[38;5;241m.\u001b[39mpipeline \u001b[38;5;241m==\u001b[39m \u001b[38;5;124m'\u001b[39m\u001b[38;5;124mtess-sip-detrended\u001b[39m\u001b[38;5;124m'\u001b[39m:\n\u001b[0;32m--> 101\u001b[0m     \u001b[38;5;28;43mself\u001b[39;49m\u001b[38;5;241;43m.\u001b[39;49m\u001b[43mdata\u001b[49m\u001b[38;5;241;43m.\u001b[39;49m\u001b[43mbuild_tess_sip_lc\u001b[49m\u001b[43m(\u001b[49m\u001b[43mdetrended\u001b[49m\u001b[38;5;241;43m=\u001b[39;49m\u001b[38;5;28;43;01mTrue\u001b[39;49;00m\u001b[43m)\u001b[49m\n\u001b[1;32m    103\u001b[0m \u001b[38;5;28;01melse\u001b[39;00m:\n\u001b[1;32m    104\u001b[0m     \u001b[38;5;28mself\u001b[39m\u001b[38;5;241m.\u001b[39mdata\u001b[38;5;241m.\u001b[39mbuild_eleanor_lc()\n",
      "File \u001b[0;32m~/Research/michael/Examples/../michael/data.py:243\u001b[0m, in \u001b[0;36mdata_class.build_tess_sip_lc\u001b[0;34m(self, detrended)\u001b[0m\n\u001b[1;32m    232\u001b[0m \u001b[38;5;124;03m\"\"\"\u001b[39;00m\n\u001b[1;32m    233\u001b[0m \u001b[38;5;124;03mThis function constructs a `Lightkurve` object output from the\u001b[39;00m\n\u001b[1;32m    234\u001b[0m \u001b[38;5;124;03m`tess_sip` technique by Hedges et al. (2021).\u001b[39;00m\n\u001b[0;32m   (...)\u001b[0m\n\u001b[1;32m    240\u001b[0m \n\u001b[1;32m    241\u001b[0m \u001b[38;5;124;03m\"\"\"\u001b[39;00m\n\u001b[1;32m    242\u001b[0m \u001b[38;5;28;01mif\u001b[39;00m \u001b[38;5;129;01mnot\u001b[39;00m \u001b[38;5;28many\u001b[39m([\u001b[38;5;28mlen\u001b[39m(a) \u001b[38;5;241m>\u001b[39m \u001b[38;5;241m2\u001b[39m \u001b[38;5;28;01mfor\u001b[39;00m a \u001b[38;5;129;01min\u001b[39;00m \u001b[38;5;28mself\u001b[39m\u001b[38;5;241m.\u001b[39mj\u001b[38;5;241m.\u001b[39msectors]):\n\u001b[0;32m--> 243\u001b[0m     \u001b[38;5;28;01mraise\u001b[39;00m \u001b[38;5;167;01mValueError\u001b[39;00m(\u001b[38;5;124m'\u001b[39m\u001b[38;5;124mThis target does not have 2 or more consecutive sectors available.\u001b[39m\u001b[38;5;124m'\u001b[39m\u001b[38;5;241m+\u001b[39m\n\u001b[1;32m    244\u001b[0m         \u001b[38;5;124m'\u001b[39m\u001b[38;5;124mPlease use a method other than `tess-sip` or `tess-sip-detrended`. The available methods are: \u001b[39m\u001b[38;5;124m'\u001b[39m\u001b[38;5;241m+\u001b[39m\n\u001b[1;32m    245\u001b[0m         \u001b[38;5;124mf\u001b[39m\u001b[38;5;124m'\u001b[39m\u001b[38;5;132;01m{\u001b[39;00m\u001b[38;5;124m\"\u001b[39m\u001b[38;5;124m, \u001b[39m\u001b[38;5;124m\"\u001b[39m\u001b[38;5;241m.\u001b[39mjoin(\u001b[38;5;28mlist\u001b[39m(pipelines))\u001b[38;5;132;01m}\u001b[39;00m\u001b[38;5;124m'\u001b[39m)\n\u001b[1;32m    247\u001b[0m sfiles \u001b[38;5;241m=\u001b[39m []\n\u001b[1;32m    248\u001b[0m \u001b[38;5;28;01mfor\u001b[39;00m sector \u001b[38;5;129;01min\u001b[39;00m \u001b[38;5;28mself\u001b[39m\u001b[38;5;241m.\u001b[39mj\u001b[38;5;241m.\u001b[39msectors:\n",
      "\u001b[0;31mValueError\u001b[0m: This target does not have 2 or more consecutive sectors available.Please use a method other than `tess-sip` or `tess-sip-detrended`. The available methods are: eleanor, eleanor-raw, eleanor-pca, eleanor-corner, unpopular, tess-sip, tess-sip-detrended"
     ]
    }
   ],
   "source": [
    "for method in ['tess-sip-detrended']:#'eleanor', 'eleanor-corner','eleanor-pca', 'unpopular','tess-sip']:\n",
    "    j = janet.boot(uni, index=index, pipeline = method)\n",
    "    j.prepare_data()\n",
    "    j.get_rotation(period_range=(0.1, 27))\n",
    "    j.validate_rotation()\n",
    "    j.view()\n",
    "    plt.show()"
   ]
  },
  {
   "cell_type": "code",
   "execution_count": null,
   "metadata": {},
   "outputs": [],
   "source": [
    "j.pipelines"
   ]
  },
  {
   "cell_type": "code",
   "execution_count": null,
   "metadata": {},
   "outputs": [],
   "source": [
    "j.sectors"
   ]
  },
  {
   "cell_type": "code",
   "execution_count": null,
   "metadata": {},
   "outputs": [],
   "source": [
    "raise ValueError"
   ]
  },
  {
   "cell_type": "code",
   "execution_count": null,
   "metadata": {},
   "outputs": [],
   "source": [
    "j.prepare_data()"
   ]
  },
  {
   "cell_type": "code",
   "execution_count": null,
   "metadata": {},
   "outputs": [],
   "source": [
    "any([len(a) > 2 for a in j.sectors])"
   ]
  },
  {
   "cell_type": "markdown",
   "metadata": {},
   "source": [
    "Cleaning up the data seems to have fixed things. Either way we'll still just change the data downloading process to avoid anything like this in the future."
   ]
  },
  {
   "cell_type": "code",
   "execution_count": null,
   "metadata": {},
   "outputs": [],
   "source": [
    "sys.exit()"
   ]
  },
  {
   "cell_type": "code",
   "execution_count": null,
   "metadata": {},
   "outputs": [],
   "source": [
    "j.void['r_43-44']['raw_lc'].plot()"
   ]
  },
  {
   "cell_type": "code",
   "execution_count": null,
   "metadata": {},
   "outputs": [],
   "source": [
    "j.void['rawlc_43-44'].plot()"
   ]
  },
  {
   "cell_type": "markdown",
   "metadata": {},
   "source": [
    "Let's fix the cpm times"
   ]
  },
  {
   "cell_type": "code",
   "execution_count": null,
   "metadata": {},
   "outputs": [],
   "source": [
    "import glob\n",
    "from astropy.coordinates import SkyCoord\n",
    "import os\n",
    "import astropy.units as u\n",
    "rastr = str(j.ra)\n",
    "step = len(rastr.split('.')[0])\n",
    "decstr = str(j.dec)\n",
    "step = len(decstr.split('.')[0])\n",
    "sfiles = np.sort(glob.glob(f'{os.path.expanduser(\"~\")}/.eleanor/tesscut/*{rastr[:(6+step)]}*{decstr[:(6+step)]}*'))\n",
    "coords = SkyCoord(ra = j.ra, dec = j.dec, unit = (u.deg, u.deg))\n",
    "\n",
    "if len(sfiles) == 0:\n",
    "    sfiles = np.sort(glob.glob(f'{os.path.expanduser(\"~\")}/.eleanor/tesscut/*{rastr[:(4+step)]}*{decstr[:(4+step)]}*'))\n",
    "    if len(sfiles) == 0:\n",
    "        raise ValueError(\"No tesscut files could be found for this target.\")\n",
    "\n",
    "if len(sfiles) < len(j.sectorlist):\n",
    "    raise ValueError(\"There are more sectors available than have been \"+\n",
    "                    \"loaded into the sectorlist. Reset the data.\")"
   ]
  },
  {
   "cell_type": "code",
   "execution_count": null,
   "metadata": {},
   "outputs": [],
   "source": [
    "sfiles"
   ]
  },
  {
   "cell_type": "code",
   "execution_count": null,
   "metadata": {},
   "outputs": [],
   "source": [
    "from michael.janet import pipelines\n",
    "f\"{', '.join(list(pipelines))}\""
   ]
  },
  {
   "cell_type": "code",
   "execution_count": null,
   "metadata": {},
   "outputs": [],
   "source": [
    "list(j.methods)"
   ]
  },
  {
   "cell_type": "code",
   "execution_count": null,
   "metadata": {},
   "outputs": [],
   "source": []
  }
 ],
 "metadata": {
  "kernelspec": {
   "display_name": "michael10",
   "language": "python",
   "name": "michael10"
  },
  "language_info": {
   "codemirror_mode": {
    "name": "ipython",
    "version": 3
   },
   "file_extension": ".py",
   "mimetype": "text/x-python",
   "name": "python",
   "nbconvert_exporter": "python",
   "pygments_lexer": "ipython3",
   "version": "3.10.9"
  }
 },
 "nbformat": 4,
 "nbformat_minor": 4
}
