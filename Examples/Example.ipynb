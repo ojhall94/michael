{
 "cells": [
  {
   "cell_type": "code",
   "execution_count": 1,
   "metadata": {},
   "outputs": [
    {
     "name": "stderr",
     "output_type": "stream",
     "text": [
      "2022-10-10 13:01:03.351058: I tensorflow/core/platform/cpu_feature_guard.cc:193] This TensorFlow binary is optimized with oneAPI Deep Neural Network Library (oneDNN) to use the following CPU instructions in performance-critical operations:  AVX2 FMA\n",
      "To enable them in other operations, rebuild TensorFlow with the appropriate compiler flags.\n"
     ]
    },
    {
     "name": "stdout",
     "output_type": "stream",
     "text": [
      "Hi there. Welcome to the good place.\n"
     ]
    }
   ],
   "source": [
    "import sys\n",
    "import numpy as np\n",
    "import matplotlib.pyplot as plt\n",
    "import pandas as pd\n",
    "import warnings\n",
    "from scipy.signal import find_peaks\n",
    "from scipy.optimize import curve_fit\n",
    "from scipy.ndimage import gaussian_filter1d\n",
    "\n",
    "sys.path.insert(0, \"../\")\n",
    "\n",
    "import warnings\n",
    "warnings.filterwarnings('ignore')\n",
    "\n",
    "from michael import janet"
   ]
  },
  {
   "cell_type": "code",
   "execution_count": 2,
   "metadata": {},
   "outputs": [],
   "source": [
    "uni = pd.read_csv(\"/Users/oliver hall/Research/unicorn/data/unicorn.csv\", index_col=0)"
   ]
  },
  {
   "cell_type": "code",
   "execution_count": 3,
   "metadata": {},
   "outputs": [],
   "source": [
    "index = 1"
   ]
  },
  {
   "cell_type": "code",
   "execution_count": 4,
   "metadata": {
    "scrolled": false
   },
   "outputs": [
    {
     "name": "stdout",
     "output_type": "stream",
     "text": [
      "Already have data downloaded for Gaia ID 2174289161681454720.\n",
      "If you want to check for new data, run `janet.update()`.\n",
      "Removing 186 bad data points (out of 1121) using the TESS provided QUALITY array\n",
      "Summing over 2 x 2 pixel lightcurves. Weighting=median\n",
      "Removing 4 bad data points (out of 1130) using the TESS provided QUALITY array\n",
      "Summing over 2 x 2 pixel lightcurves. Weighting=median\n"
     ]
    },
    {
     "name": "stderr",
     "output_type": "stream",
     "text": [
      "Running pixels in aperture: 100%|████████████| 300/300 [00:01<00:00, 294.57it/s]\n"
     ]
    }
   ],
   "source": [
    "j = janet.boot(uni, index=index, use_prior=False)\n",
    "j.prepare_data()"
   ]
  },
  {
   "cell_type": "code",
   "execution_count": 5,
   "metadata": {},
   "outputs": [
    {
     "name": "stdout",
     "output_type": "stream",
     "text": [
      "### Running Simple Astropy Lomb-Scargle on Sector 16-17 on star 2174289161681454720 ###\n",
      "### Completed Simple Astropy Lomb-Scargle for Sector 16-17 on star 2174289161681454720 ###\n",
      "### Running Wavelet Estimation for Sector 16-17 on star 2174289161681454720 ###\n"
     ]
    },
    {
     "name": "stderr",
     "output_type": "stream",
     "text": [
      "100%|█████████████████████████████████████████| 152/152 [00:02<00:00, 63.51it/s]\n"
     ]
    },
    {
     "name": "stdout",
     "output_type": "stream",
     "text": [
      "### Completed Wavelet Estimation for Sector 16-17 on star 2174289161681454720 ###\n",
      "### Running Composite ACF estimation for Sector 16-17 on star 2174289161681454720 ###\n",
      "### Completed Composite ACF estimation for Sector 16-17 on star 2174289161681454720 ###\n",
      "### Running ACF Estimation on star 2174289161681454720 ###\n",
      "### Completed ACF Estimation for Sector 16-17 on star 2174289161681454720 ###\n"
     ]
    }
   ],
   "source": [
    "j.get_rotation(period_range=(1, 10))"
   ]
  },
  {
   "cell_type": "code",
   "execution_count": null,
   "metadata": {
    "scrolled": false
   },
   "outputs": [
    {
     "name": "stderr",
     "output_type": "stream",
     "text": [
      "*c* argument looks like a single numeric RGB or RGBA sequence, which should be avoided as value-mapping will have precedence in case its length matches with *x* & *y*.  Please use the *color* keyword-argument or provide a 2D array with a single row if you intend to specify the same RGB or RGBA value for all points.\n"
     ]
    }
   ],
   "source": [
    "j.validate_rotation()\n",
    "j.view()"
   ]
  },
  {
   "cell_type": "markdown",
   "metadata": {},
   "source": [
    "Plot lightcurves"
   ]
  },
  {
   "cell_type": "code",
   "execution_count": null,
   "metadata": {},
   "outputs": [],
   "source": [
    "ax = j.void['clc_16-17'].plot(label='eleanor')\n",
    "\n",
    "pls = ['c','raw','pca','corn','r', 'cpm']\n",
    "for pl in pls:\n",
    "    j.void[f'{pl}lc_16-17'].plot(ax=ax, label=pl)\n",
    "ax.legend(fontsize=10)"
   ]
  },
  {
   "cell_type": "code",
   "execution_count": null,
   "metadata": {},
   "outputs": [],
   "source": [
    "ax = j.void['clc_16-17'].to_periodogram(maximum_period=27).plot(label='eleanor', view='period')\n",
    "\n",
    "pls = ['c','raw','pca','corn','r', 'cpm']\n",
    "for pl in pls:\n",
    "    j.void[f'{pl}lc_16-17'].to_periodogram(maximum_period=27).plot(ax=ax, label=pl,view='period', scale='log')\n",
    "    ax.axvline(j.void[f'{pl}lc_16-17'].to_periodogram(maximum_period=27).period_at_max_power.value)\n",
    "    print(j.void[f'{pl}lc_16-17'].to_periodogram(maximum_period=27).period_at_max_power)\n",
    "ax.legend(fontsize=10)"
   ]
  },
  {
   "cell_type": "code",
   "execution_count": null,
   "metadata": {},
   "outputs": [],
   "source": []
  },
  {
   "cell_type": "code",
   "execution_count": null,
   "metadata": {},
   "outputs": [],
   "source": []
  }
 ],
 "metadata": {
  "kernelspec": {
   "display_name": "michael",
   "language": "python",
   "name": "michael"
  },
  "language_info": {
   "codemirror_mode": {
    "name": "ipython",
    "version": 3
   },
   "file_extension": ".py",
   "mimetype": "text/x-python",
   "name": "python",
   "nbconvert_exporter": "python",
   "pygments_lexer": "ipython3",
   "version": "3.10.4"
  }
 },
 "nbformat": 4,
 "nbformat_minor": 4
}
