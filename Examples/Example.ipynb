{
 "cells": [
  {
   "cell_type": "code",
   "execution_count": 1,
   "metadata": {},
   "outputs": [],
   "source": [
    "import sys\n",
    "import numpy as np\n",
    "import matplotlib.pyplot as plt\n",
    "import pandas as pd\n",
    "import warnings\n",
    "from scipy.signal import find_peaks\n",
    "from scipy.optimize import curve_fit\n",
    "from scipy.ndimage import gaussian_filter1d\n",
    "\n",
    "sys.path.insert(0, \"../\")\n",
    "\n",
    "import warnings\n",
    "warnings.filterwarnings('ignore')\n",
    "\n",
    "from michael import janet"
   ]
  },
  {
   "cell_type": "markdown",
   "metadata": {},
   "source": [
    "Getting a `x0 is infeasible` error when running the curve_fit to the wavelet portion. Let's try and identify the target."
   ]
  },
  {
   "cell_type": "code",
   "execution_count": 2,
   "metadata": {},
   "outputs": [],
   "source": [
    "uni = pd.read_csv(\"/Users/oliver hall/Research/unicorn/data/unicorn.csv\", index_col=0)"
   ]
  },
  {
   "cell_type": "code",
   "execution_count": 3,
   "metadata": {},
   "outputs": [],
   "source": [
    "index = 619#uni[uni.source_id == int(48977371798954368)].index[0]"
   ]
  },
  {
   "cell_type": "code",
   "execution_count": null,
   "metadata": {},
   "outputs": [
    {
     "name": "stdout",
     "output_type": "stream",
     "text": [
      "Target DR3 ID 3306722607119077120 has tesscut data available on MAST for Sectors 5, 32, 43, 44\n",
      "Data already downloaded for Sector 5.\n",
      "Data already downloaded for Sector 32.\n",
      "Data already downloaded for Sector 43.\n",
      "Data already downloaded for Sector 44.\n",
      "Most recent sector available =  59\n",
      "Downloading URL https://mast.stsci.edu/tesscut/api/v0.1/astrocut?ra=68.95970833333332&dec=-64.02703611111112&y=31&x=31&units=px&sector=5 to ./tesscut_20230206132232.zip ... [Done]\n",
      "Inflating...\n",
      "This is the first light curve you have made for this sector. Getting eleanor metadata products for Sector  5...\n",
      "This will only take a minute, and only needs to be done once. Any other light curves you make in this sector will be faster.\n",
      "Acquiring target...\n"
     ]
    },
    {
     "name": "stderr",
     "output_type": "stream",
     "text": [
      "  % Total    % Received % Xferd  Average Speed   Time    Time     Time  Current\n",
      "                                 Dload  Upload   Total   Spent    Left  Speed\n",
      "100 1878k  100 1878k    0     0  1052k      0  0:00:01  0:00:01 --:--:-- 1052k\n"
     ]
    },
    {
     "name": "stdout",
     "output_type": "stream",
     "text": [
      "Calculating Cadences...\n",
      "Assuring Quality Flags...\n",
      "Making CBVs...\n"
     ]
    },
    {
     "name": "stderr",
     "output_type": "stream",
     "text": [
      "  % Total    % Received % Xferd  Average Speed   Time    Time     Time  Current\n",
      "                                 Dload  Upload   Total   Spent    Left  Speed\n",
      "100 4502k  100 4502k    0     0  1248k      0  0:00:03  0:00:03 --:--:-- 1248k\n",
      "  % Total    % Received % Xferd  Average Speed   Time    Time     Time  Current\n",
      "                                 Dload  Upload   Total   Spent    Left  Speed\n",
      "100 4429k  100 4429k    0     0  1736k      0  0:00:02  0:00:02 --:--:-- 1736k\n",
      "  % Total    % Received % Xferd  Average Speed   Time    Time     Time  Current\n",
      "                                 Dload  Upload   Total   Spent    Left  Speed\n",
      "100 4649k  100 4649k    0     0  1469k      0  0:00:03  0:00:03 --:--:-- 1469k\n",
      "  % Total    % Received % Xferd  Average Speed   Time    Time     Time  Current\n",
      "                                 Dload  Upload   Total   Spent    Left  Speed\n",
      "100 4426k  100 4426k    0     0  1765k      0  0:00:02  0:00:02 --:--:-- 1765k\n",
      "  % Total    % Received % Xferd  Average Speed   Time    Time     Time  Current\n",
      "                                 Dload  Upload   Total   Spent    Left  Speed\n",
      "100 4131k  100 4131k    0     0  1708k      0  0:00:02  0:00:02 --:--:-- 1709k\n",
      "  % Total    % Received % Xferd  Average Speed   Time    Time     Time  Current\n",
      "                                 Dload  Upload   Total   Spent    Left  Speed\n",
      "100 4353k  100 4353k    0     0  1294k      0  0:00:03  0:00:03 --:--:-- 1294k\n",
      "  % Total    % Received % Xferd  Average Speed   Time    Time     Time  Current\n",
      "                                 Dload  Upload   Total   Spent    Left  Speed\n",
      "100 4502k  100 4502k    0     0  1738k      0  0:00:02  0:00:02 --:--:-- 1737k\n",
      "  % Total    % Received % Xferd  Average Speed   Time    Time     Time  Current\n",
      "                                 Dload  Upload   Total   Spent    Left  Speed\n",
      "100 4649k  100 4649k    0     0  1804k      0  0:00:02  0:00:02 --:--:-- 1804k\n",
      "  % Total    % Received % Xferd  Average Speed   Time    Time     Time  Current\n",
      "                                 Dload  Upload   Total   Spent    Left  Speed\n",
      "100 4353k  100 4353k    0     0  1651k      0  0:00:02  0:00:02 --:--:-- 1651k\n",
      "  % Total    % Received % Xferd  Average Speed   Time    Time     Time  Current\n",
      "                                 Dload  Upload   Total   Spent    Left  Speed\n",
      "100 4207k  100 4207k    0     0  1661k      0  0:00:02  0:00:02 --:--:-- 1662k\n",
      "  % Total    % Received % Xferd  Average Speed   Time    Time     Time  Current\n",
      "                                 Dload  Upload   Total   Spent    Left  Speed\n",
      "100 4429k  100 4429k    0     0  1477k      0  0:00:02  0:00:02 --:--:-- 1478k\n",
      "  % Total    % Received % Xferd  Average Speed   Time    Time     Time  Current\n",
      "                                 Dload  Upload   Total   Spent    Left  Speed\n",
      "100 4722k  100 4722k    0     0  1765k      0  0:00:02  0:00:02 --:--:-- 1765k\n",
      "  % Total    % Received % Xferd  Average Speed   Time    Time     Time  Current\n",
      "                                 Dload  Upload   Total   Spent    Left  Speed\n",
      "100 4429k  100 4429k    0     0  1722k      0  0:00:02  0:00:02 --:--:-- 1722k\n",
      "  % Total    % Received % Xferd  Average Speed   Time    Time     Time  Current\n",
      "                                 Dload  Upload   Total   Spent    Left  Speed\n",
      "100 4280k  100 4280k    0     0  1725k      0  0:00:02  0:00:02 --:--:-- 1725k\n",
      "  % Total    % Received % Xferd  Average Speed   Time    Time     Time  Current\n",
      "                                 Dload  Upload   Total   Spent    Left  Speed\n",
      "  1 4429k    1 81920    0     0  75750      0  0:00:59  0:00:01  0:00:58 75781"
     ]
    }
   ],
   "source": [
    "for method in ['eleanor', 'eleanor-corner','eleanor-pca', 'unpopular','tess-sip', 'tess-sip-detrended']:\n",
    "    j = janet.boot(uni, index=index, pipeline = method)\n",
    "    j.prepare_data()\n",
    "    j.get_rotation(period_range=(1., 40.5))\n",
    "    j.validate_rotation()\n",
    "    j.view()\n",
    "    plt.show()"
   ]
  },
  {
   "cell_type": "code",
   "execution_count": null,
   "metadata": {},
   "outputs": [],
   "source": []
  }
 ],
 "metadata": {
  "kernelspec": {
   "display_name": "michael10",
   "language": "python",
   "name": "michael10"
  },
  "language_info": {
   "codemirror_mode": {
    "name": "ipython",
    "version": 3
   },
   "file_extension": ".py",
   "mimetype": "text/x-python",
   "name": "python",
   "nbconvert_exporter": "python",
   "pygments_lexer": "ipython3",
   "version": "3.10.9"
  }
 },
 "nbformat": 4,
 "nbformat_minor": 4
}
