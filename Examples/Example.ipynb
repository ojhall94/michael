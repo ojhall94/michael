{
 "cells": [
  {
   "cell_type": "code",
   "execution_count": 1,
   "metadata": {},
   "outputs": [
    {
     "name": "stderr",
     "output_type": "stream",
     "text": [
      "2022-10-10 12:50:06.581479: I tensorflow/core/platform/cpu_feature_guard.cc:193] This TensorFlow binary is optimized with oneAPI Deep Neural Network Library (oneDNN) to use the following CPU instructions in performance-critical operations:  AVX2 FMA\n",
      "To enable them in other operations, rebuild TensorFlow with the appropriate compiler flags.\n"
     ]
    },
    {
     "name": "stdout",
     "output_type": "stream",
     "text": [
      "Hi there. Welcome to the good place.\n"
     ]
    }
   ],
   "source": [
    "import sys\n",
    "import numpy as np\n",
    "import matplotlib.pyplot as plt\n",
    "import pandas as pd\n",
    "import warnings\n",
    "from scipy.signal import find_peaks\n",
    "from scipy.optimize import curve_fit\n",
    "from scipy.ndimage import gaussian_filter1d\n",
    "\n",
    "sys.path.insert(0, \"../\")\n",
    "\n",
    "import warnings\n",
    "warnings.filterwarnings('ignore')\n",
    "\n",
    "from michael import janet"
   ]
  },
  {
   "cell_type": "code",
   "execution_count": 2,
   "metadata": {},
   "outputs": [],
   "source": [
    "uni = pd.read_csv(\"/Users/oliver hall/Research/unicorn/data/unicorn.csv\", index_col=0)"
   ]
  },
  {
   "cell_type": "code",
   "execution_count": 3,
   "metadata": {},
   "outputs": [],
   "source": [
    "index = 1"
   ]
  },
  {
   "cell_type": "code",
   "execution_count": 4,
   "metadata": {
    "scrolled": false
   },
   "outputs": [
    {
     "name": "stdout",
     "output_type": "stream",
     "text": [
      "Already have data downloaded for Gaia ID 2174289161681454720.\n",
      "If you want to check for new data, run `janet.update()`.\n",
      "Removing 186 bad data points (out of 1121) using the TESS provided QUALITY array\n",
      "Summing over 2 x 2 pixel lightcurves. Weighting=median\n",
      "Removing 4 bad data points (out of 1130) using the TESS provided QUALITY array\n",
      "Summing over 2 x 2 pixel lightcurves. Weighting=median\n"
     ]
    },
    {
     "name": "stderr",
     "output_type": "stream",
     "text": [
      "Running pixels in aperture: 100%|████████████| 300/300 [00:01<00:00, 288.82it/s]\n"
     ]
    }
   ],
   "source": [
    "j = janet.boot(uni, index=index, use_prior=False)\n",
    "j.prepare_data()"
   ]
  },
  {
   "cell_type": "code",
   "execution_count": 5,
   "metadata": {},
   "outputs": [
    {
     "name": "stdout",
     "output_type": "stream",
     "text": [
      "### Running Simple Astropy Lomb-Scargle on Sector 16-17 on star 2174289161681454720 ###\n",
      "### Completed Simple Astropy Lomb-Scargle for Sector 16-17 on star 2174289161681454720 ###\n",
      "### Running Wavelet Estimation for Sector 16-17 on star 2174289161681454720 ###\n"
     ]
    },
    {
     "name": "stderr",
     "output_type": "stream",
     "text": [
      "100%|█████████████████████████████████████████| 152/152 [00:02<00:00, 73.18it/s]"
     ]
    },
    {
     "name": "stdout",
     "output_type": "stream",
     "text": [
      "### Completed Wavelet Estimation for Sector 16-17 on star 2174289161681454720 ###\n",
      "### Running Composite ACF estimation for Sector 16-17 on star 2174289161681454720 ###\n",
      "### Completed Composite ACF estimation for Sector 16-17 on star 2174289161681454720 ###\n",
      "### Running ACF Estimation on star 2174289161681454720 ###\n",
      "### Completed ACF Estimation for Sector 16-17 on star 2174289161681454720 ###\n"
     ]
    },
    {
     "name": "stderr",
     "output_type": "stream",
     "text": [
      "\n"
     ]
    }
   ],
   "source": [
    "j.get_rotation(period_range=(1, 10))"
   ]
  },
  {
   "cell_type": "code",
   "execution_count": 6,
   "metadata": {
    "scrolled": false
   },
   "outputs": [
    {
     "ename": "AttributeError",
     "evalue": "'Series' object has no attribute 'drpona'",
     "output_type": "error",
     "traceback": [
      "\u001b[0;31m---------------------------------------------------------------------------\u001b[0m",
      "\u001b[0;31mAttributeError\u001b[0m                            Traceback (most recent call last)",
      "Input \u001b[0;32mIn [6]\u001b[0m, in \u001b[0;36m<cell line: 1>\u001b[0;34m()\u001b[0m\n\u001b[0;32m----> 1\u001b[0m \u001b[43mj\u001b[49m\u001b[38;5;241;43m.\u001b[39;49m\u001b[43mvalidate_rotation\u001b[49m\u001b[43m(\u001b[49m\u001b[43m)\u001b[49m\n\u001b[1;32m      2\u001b[0m j\u001b[38;5;241m.\u001b[39mview()\n",
      "File \u001b[0;32m~/Research/michael/Examples/../michael/janet.py:132\u001b[0m, in \u001b[0;36mjanet.validate_rotation\u001b[0;34m(self)\u001b[0m\n\u001b[1;32m    131\u001b[0m \u001b[38;5;28;01mdef\u001b[39;00m \u001b[38;5;21mvalidate_rotation\u001b[39m(\u001b[38;5;28mself\u001b[39m):\n\u001b[0;32m--> 132\u001b[0m     \u001b[43mvalidator\u001b[49m\u001b[43m(\u001b[49m\u001b[38;5;28;43mself\u001b[39;49m\u001b[43m)\u001b[49m\n",
      "File \u001b[0;32m~/Research/michael/Examples/../michael/validate.py:420\u001b[0m, in \u001b[0;36mvalidator\u001b[0;34m(j)\u001b[0m\n\u001b[1;32m    417\u001b[0m validate_ACF(j)\n\u001b[1;32m    419\u001b[0m \u001b[38;5;66;03m# Validate the three estimates\u001b[39;00m\n\u001b[0;32m--> 420\u001b[0m \u001b[43mvalidate_best\u001b[49m\u001b[43m(\u001b[49m\u001b[43mj\u001b[49m\u001b[43m)\u001b[49m\n\u001b[1;32m    422\u001b[0m \u001b[38;5;66;03m# Validate ACF vs the 'best' period\u001b[39;00m\n\u001b[1;32m    423\u001b[0m \u001b[38;5;66;03m# validate_best_vs_ACF(j)\u001b[39;00m\n\u001b[1;32m    424\u001b[0m \n\u001b[1;32m    425\u001b[0m \u001b[38;5;66;03m# Validate individual sectors\u001b[39;00m\n\u001b[1;32m    426\u001b[0m \u001b[38;5;28;01mif\u001b[39;00m \u001b[38;5;28mlen\u001b[39m(j\u001b[38;5;241m.\u001b[39msectors) \u001b[38;5;241m>\u001b[39m \u001b[38;5;241m1\u001b[39m:\n",
      "File \u001b[0;32m~/Research/michael/Examples/../michael/validate.py:189\u001b[0m, in \u001b[0;36mvalidate_best\u001b[0;34m(j)\u001b[0m\n\u001b[1;32m    186\u001b[0m p2ps \u001b[38;5;241m=\u001b[39m j\u001b[38;5;241m.\u001b[39mresults\u001b[38;5;241m.\u001b[39mloc[\u001b[38;5;124m'\u001b[39m\u001b[38;5;124mbest\u001b[39m\u001b[38;5;124m'\u001b[39m, [\u001b[38;5;124m'\u001b[39m\u001b[38;5;124mp2p_SLS\u001b[39m\u001b[38;5;124m'\u001b[39m,\u001b[38;5;124m'\u001b[39m\u001b[38;5;124mp2p_SW\u001b[39m\u001b[38;5;124m'\u001b[39m,\u001b[38;5;124m'\u001b[39m\u001b[38;5;124mp2p_CACF\u001b[39m\u001b[38;5;124m'\u001b[39m, \u001b[38;5;124m'\u001b[39m\u001b[38;5;124mp2p_ACF\u001b[39m\u001b[38;5;124m'\u001b[39m]]\u001b[38;5;66;03m#.dropna()']\u001b[39;00m\n\u001b[1;32m    188\u001b[0m \u001b[38;5;66;03m# If they agree, then pick the one with the highest p2p value\u001b[39;00m\n\u001b[0;32m--> 189\u001b[0m \u001b[38;5;28;01mif\u001b[39;00m np\u001b[38;5;241m.\u001b[39mabs(np\u001b[38;5;241m.\u001b[39mdiff(\u001b[43mbest\u001b[49m\u001b[38;5;241;43m.\u001b[39;49m\u001b[43mdrpona\u001b[49m(), \u001b[38;5;28mlen\u001b[39m(best\u001b[38;5;241m.\u001b[39mdrpona())\u001b[38;5;241m-\u001b[39m\u001b[38;5;241m1\u001b[39m)) \u001b[38;5;241m<\u001b[39m np\u001b[38;5;241m.\u001b[39msqrt(np\u001b[38;5;241m.\u001b[39mnansum(ebest\u001b[38;5;241m*\u001b[39m\u001b[38;5;241m*\u001b[39m\u001b[38;5;241m2\u001b[39m)):\n\u001b[1;32m    190\u001b[0m     s \u001b[38;5;241m=\u001b[39m np\u001b[38;5;241m.\u001b[39margmax(p2ps)\n\u001b[1;32m    191\u001b[0m     j\u001b[38;5;241m.\u001b[39mresults\u001b[38;5;241m.\u001b[39mloc[\u001b[38;5;124m'\u001b[39m\u001b[38;5;124mbest\u001b[39m\u001b[38;5;124m'\u001b[39m, \u001b[38;5;124m'\u001b[39m\u001b[38;5;124moverall\u001b[39m\u001b[38;5;124m'\u001b[39m] \u001b[38;5;241m=\u001b[39m best[s]\n",
      "File \u001b[0;32m/Users/Anaconda/anaconda3/envs/michael/lib/python3.10/site-packages/pandas/core/generic.py:5907\u001b[0m, in \u001b[0;36mNDFrame.__getattr__\u001b[0;34m(self, name)\u001b[0m\n\u001b[1;32m   5900\u001b[0m \u001b[38;5;28;01mif\u001b[39;00m (\n\u001b[1;32m   5901\u001b[0m     name \u001b[38;5;129;01mnot\u001b[39;00m \u001b[38;5;129;01min\u001b[39;00m \u001b[38;5;28mself\u001b[39m\u001b[38;5;241m.\u001b[39m_internal_names_set\n\u001b[1;32m   5902\u001b[0m     \u001b[38;5;129;01mand\u001b[39;00m name \u001b[38;5;129;01mnot\u001b[39;00m \u001b[38;5;129;01min\u001b[39;00m \u001b[38;5;28mself\u001b[39m\u001b[38;5;241m.\u001b[39m_metadata\n\u001b[1;32m   5903\u001b[0m     \u001b[38;5;129;01mand\u001b[39;00m name \u001b[38;5;129;01mnot\u001b[39;00m \u001b[38;5;129;01min\u001b[39;00m \u001b[38;5;28mself\u001b[39m\u001b[38;5;241m.\u001b[39m_accessors\n\u001b[1;32m   5904\u001b[0m     \u001b[38;5;129;01mand\u001b[39;00m \u001b[38;5;28mself\u001b[39m\u001b[38;5;241m.\u001b[39m_info_axis\u001b[38;5;241m.\u001b[39m_can_hold_identifiers_and_holds_name(name)\n\u001b[1;32m   5905\u001b[0m ):\n\u001b[1;32m   5906\u001b[0m     \u001b[38;5;28;01mreturn\u001b[39;00m \u001b[38;5;28mself\u001b[39m[name]\n\u001b[0;32m-> 5907\u001b[0m \u001b[38;5;28;01mreturn\u001b[39;00m \u001b[38;5;28;43mobject\u001b[39;49m\u001b[38;5;241;43m.\u001b[39;49m\u001b[38;5;21;43m__getattribute__\u001b[39;49m\u001b[43m(\u001b[49m\u001b[38;5;28;43mself\u001b[39;49m\u001b[43m,\u001b[49m\u001b[43m \u001b[49m\u001b[43mname\u001b[49m\u001b[43m)\u001b[49m\n",
      "\u001b[0;31mAttributeError\u001b[0m: 'Series' object has no attribute 'drpona'"
     ]
    }
   ],
   "source": [
    "j.validate_rotation()\n",
    "j.view()"
   ]
  },
  {
   "cell_type": "code",
   "execution_count": 14,
   "metadata": {},
   "outputs": [
    {
     "data": {
      "text/plain": [
       "array([0.3296763681717397], dtype=object)"
      ]
     },
     "execution_count": 14,
     "metadata": {},
     "output_type": "execute_result"
    }
   ],
   "source": [
    "ebest[['e_CACF']].values"
   ]
  },
  {
   "cell_type": "code",
   "execution_count": 22,
   "metadata": {},
   "outputs": [
    {
     "data": {
      "text/plain": [
       "SLS               3.535797\n",
       "e_SLS             0.325392\n",
       "h_SLS             0.000018\n",
       "f_SLS                  0.0\n",
       "SW                3.480956\n",
       "e_SW              0.877798\n",
       "h_SW              1.057789\n",
       "CACF              8.707782\n",
       "e_CACF            0.329676\n",
       "h_CACF            0.061869\n",
       "ACF               1.854169\n",
       "e_ACF                  NaN\n",
       "p2p_SLS           0.002119\n",
       "f_p2p_SLS              NaN\n",
       "p2p_SW            0.002055\n",
       "f_p2p_SW               NaN\n",
       "p2p_CACF          0.002724\n",
       "f_p2p_CACF             NaN\n",
       "p2p_ACF           0.001345\n",
       "f_p2p_ACF              NaN\n",
       "s_SLS                16-17\n",
       "s_SW                 16-17\n",
       "s_CACF               16-17\n",
       "s_ACF                16-17\n",
       "overall           3.535797\n",
       "e_overall         0.325392\n",
       "method_overall         SLS\n",
       "Name: best, dtype: object"
      ]
     },
     "execution_count": 22,
     "metadata": {},
     "output_type": "execute_result"
    }
   ],
   "source": [
    "j.results.loc['best']"
   ]
  },
  {
   "cell_type": "code",
   "execution_count": 24,
   "metadata": {},
   "outputs": [
    {
     "data": {
      "text/html": [
       "<div>\n",
       "<style scoped>\n",
       "    .dataframe tbody tr th:only-of-type {\n",
       "        vertical-align: middle;\n",
       "    }\n",
       "\n",
       "    .dataframe tbody tr th {\n",
       "        vertical-align: top;\n",
       "    }\n",
       "\n",
       "    .dataframe thead th {\n",
       "        text-align: right;\n",
       "    }\n",
       "</style>\n",
       "<table border=\"1\" class=\"dataframe\">\n",
       "  <thead>\n",
       "    <tr style=\"text-align: right;\">\n",
       "      <th></th>\n",
       "      <th>SLS</th>\n",
       "      <th>e_SLS</th>\n",
       "      <th>h_SLS</th>\n",
       "      <th>f_SLS</th>\n",
       "      <th>SW</th>\n",
       "      <th>e_SW</th>\n",
       "      <th>h_SW</th>\n",
       "      <th>CACF</th>\n",
       "      <th>e_CACF</th>\n",
       "      <th>h_CACF</th>\n",
       "      <th>...</th>\n",
       "      <th>f_p2p_CACF</th>\n",
       "      <th>p2p_ACF</th>\n",
       "      <th>f_p2p_ACF</th>\n",
       "      <th>s_SLS</th>\n",
       "      <th>s_SW</th>\n",
       "      <th>s_CACF</th>\n",
       "      <th>s_ACF</th>\n",
       "      <th>overall</th>\n",
       "      <th>e_overall</th>\n",
       "      <th>method_overall</th>\n",
       "    </tr>\n",
       "  </thead>\n",
       "  <tbody>\n",
       "    <tr>\n",
       "      <th>16-17</th>\n",
       "      <td>3.535797</td>\n",
       "      <td>0.325392</td>\n",
       "      <td>0.000018</td>\n",
       "      <td>0.0</td>\n",
       "      <td>3.480956</td>\n",
       "      <td>0.877798</td>\n",
       "      <td>1.057789</td>\n",
       "      <td>8.707782</td>\n",
       "      <td>0.329676</td>\n",
       "      <td>0.061869</td>\n",
       "      <td>...</td>\n",
       "      <td>0.0</td>\n",
       "      <td>0.001345</td>\n",
       "      <td>0.0</td>\n",
       "      <td>NaN</td>\n",
       "      <td>NaN</td>\n",
       "      <td>NaN</td>\n",
       "      <td>NaN</td>\n",
       "      <td>NaN</td>\n",
       "      <td>NaN</td>\n",
       "      <td>NaN</td>\n",
       "    </tr>\n",
       "    <tr>\n",
       "      <th>best</th>\n",
       "      <td>3.535797</td>\n",
       "      <td>0.325392</td>\n",
       "      <td>0.000018</td>\n",
       "      <td>0.0</td>\n",
       "      <td>3.480956</td>\n",
       "      <td>0.877798</td>\n",
       "      <td>1.057789</td>\n",
       "      <td>8.707782</td>\n",
       "      <td>0.329676</td>\n",
       "      <td>0.061869</td>\n",
       "      <td>...</td>\n",
       "      <td>NaN</td>\n",
       "      <td>0.001345</td>\n",
       "      <td>NaN</td>\n",
       "      <td>16-17</td>\n",
       "      <td>16-17</td>\n",
       "      <td>16-17</td>\n",
       "      <td>16-17</td>\n",
       "      <td>3.535797</td>\n",
       "      <td>0.325392</td>\n",
       "      <td>SLS</td>\n",
       "    </tr>\n",
       "  </tbody>\n",
       "</table>\n",
       "<p>2 rows × 27 columns</p>\n",
       "</div>"
      ],
      "text/plain": [
       "            SLS     e_SLS     h_SLS  f_SLS        SW      e_SW      h_SW  \\\n",
       "16-17  3.535797  0.325392  0.000018    0.0  3.480956  0.877798  1.057789   \n",
       "best   3.535797  0.325392  0.000018    0.0  3.480956  0.877798  1.057789   \n",
       "\n",
       "           CACF    e_CACF    h_CACF  ...  f_p2p_CACF   p2p_ACF  f_p2p_ACF  \\\n",
       "16-17  8.707782  0.329676  0.061869  ...         0.0  0.001345        0.0   \n",
       "best   8.707782  0.329676  0.061869  ...         NaN  0.001345        NaN   \n",
       "\n",
       "       s_SLS   s_SW  s_CACF  s_ACF   overall  e_overall  method_overall  \n",
       "16-17    NaN    NaN     NaN    NaN       NaN        NaN             NaN  \n",
       "best   16-17  16-17   16-17  16-17  3.535797   0.325392             SLS  \n",
       "\n",
       "[2 rows x 27 columns]"
      ]
     },
     "execution_count": 24,
     "metadata": {},
     "output_type": "execute_result"
    }
   ],
   "source": [
    "j.results"
   ]
  },
  {
   "cell_type": "code",
   "execution_count": 25,
   "metadata": {},
   "outputs": [],
   "source": [
    "    # Validate the best estimates against one another\n",
    "    # Check to see if they agree closely with one another\n",
    "    methods = [['SLS', 'SW', 'CACF', 'ACF']]\n",
    "    best = j.results.loc['best', ['SLS','SW','CACF', 'ACF']]#.dropna()\n",
    "    ebest = j.results.loc['best', ['e_SLS','e_SW','e_CACF', 'e_ACF']]#.dropna()\n",
    "    p2ps = j.results.loc['best', ['p2p_SLS','p2p_SW','p2p_CACF', 'p2p_ACF']]#.dropna()']\n",
    "    j.results['f_overall'] = np.zeros(len(j.results)).astype(int)\n",
    "\n",
    "    # If they agree, then pick the one with the highest p2p value\n",
    "    if np.abs(np.diff(best.dropna(), len(best.dropna())-1)) < np.sqrt(np.nansum(ebest**2)):\n",
    "        s = np.argmax(p2ps)\n",
    "        j.results.loc['best', 'overall'] = best[s]\n",
    "        j.results.loc['best', 'e_overall'] = ebest[s]\n",
    "        j.results.loc['best', 'method_overall'] = methods[s]\n",
    "\n",
    "    # If they disagree, see if two of them are in agreement\n",
    "    else:\n",
    "        # We check in this order, as the priority is CACF -> SW -> SLS -> ACF\n",
    "        d = np.abs(np.diff(best[['SLS','SW']])) < np.sqrt(np.sum(ebest[['e_SLS', 'e_SW']]**2))\n",
    "        c = np.abs(np.diff(best[['ACF', 'CACF']])) < ebest[['e_CACF']].values\n",
    "        b = np.abs(np.diff(best[['SLS','CACF']])) < np.sqrt(np.sum(ebest[['e_SLS', 'e_CACF']]**2))\n",
    "        a = np.abs(np.diff(best[['SW','CACF']])) < np.sqrt(np.sum(ebest[['e_SW', 'e_CACF']]**2))\n",
    "\n",
    "        # SW and CACF are in agreement\n",
    "        if a:\n",
    "            s = np.argmax(p2ps[['p2p_SW','p2p_CACF']])\n",
    "            j.results.loc['best', 'overall'] = best[['SW', 'CACF']][s]\n",
    "            j.results.loc['best', 'e_overall'] = ebest[['e_SW', 'e_CACF']][s]\n",
    "            j.results.loc['best', 'method_overall'] = ['SW','CACF'][s]\n",
    "            j.results.loc['best', 'f_overall'] += int(4)\n",
    "\n",
    "        # SLS and CACF are in agreement\n",
    "        elif b:\n",
    "            s = np.argmax(p2ps[['p2p_SLS','p2p_CACF']])\n",
    "            j.results.loc['best', 'overall'] = best[['SLS', 'CACF']][s]\n",
    "            j.results.loc['best', 'e_overall'] = ebest[['e_SLS', 'e_CACF']][s]\n",
    "            j.results.loc['best', 'method_overall'] = ['SLS','CACF'][s]\n",
    "            j.results.loc['best', 'f_overall'] += int(4)\n",
    "\n",
    "        # CACF and ACF are in agreement\n",
    "        elif c:\n",
    "            s = np.argmax(p2ps[['p2p_ACF','p2p_CACF']])\n",
    "            j.results.loc['best', 'overall'] = best[['ACF', 'CACF']][s]\n",
    "            j.results.loc['best', 'e_overall'] = ebest[['e_ACF', 'e_CACF']][s]\n",
    "            j.results.loc['best', 'method_overall'] = ['ACF','CACF'][s]\n",
    "            j.results.loc['best', 'f_overall'] += int(4)\n",
    "\n",
    "        # SLS and SW are in agreement\n",
    "        elif d:\n",
    "            s = np.argmax(p2ps[['p2p_SLS','p2p_SW']])\n",
    "            j.results.loc['best', 'overall'] = best[['SLS', 'SW']][s]\n",
    "            j.results.loc['best', 'e_overall'] = ebest[['e_SLS', 'e_SW']][s]\n",
    "            j.results.loc['best', 'method_overall'] = ['SLS','SW'][s]\n",
    "            j.results.loc['best', 'f_overall'] += 4\n",
    "\n",
    "        # There is no agreement whatsover\n",
    "        else:\n",
    "            if np.isfinite(best['CACF']):\n",
    "                j.results.loc['best', 'overall'] = best['CACF']\n",
    "                j.results.loc['best', 'e_overall'] = ebest['e_CACF']\n",
    "                j.results.loc['best', 'f_overall'] += 1\n",
    "                warnings.warn(\"No estimates could agree. Please inspect the results carefully yourself.\")\n",
    "\n",
    "            elif np.isfinite(best['SW']):\n",
    "                frac = ebest[['e_SLS','e_SW']].values /  best[['SLS','SW']].values\n",
    "                s = np.argmin(frac)\n",
    "                j.results.loc['best', 'overall'] = best[['SLS','SW']][s]\n",
    "                j.results.loc['best', 'e_overall'] = ebest[['e_SLS','e_SW']][s]\n",
    "                j.results.loc['best', 'f_overall'] += 2\n",
    "                warnings.warn(\"No estimates could agree. Please inspect the results carefully yourself.\")"
   ]
  },
  {
   "cell_type": "code",
   "execution_count": 47,
   "metadata": {},
   "outputs": [
    {
     "ename": "KeyError",
     "evalue": "0",
     "output_type": "error",
     "traceback": [
      "\u001b[0;31m---------------------------------------------------------------------------\u001b[0m",
      "\u001b[0;31mKeyError\u001b[0m                                  Traceback (most recent call last)",
      "File \u001b[0;32m/Users/Anaconda/anaconda3/envs/michael/lib/python3.10/site-packages/pandas/core/indexes/base.py:3800\u001b[0m, in \u001b[0;36mIndex.get_loc\u001b[0;34m(self, key, method, tolerance)\u001b[0m\n\u001b[1;32m   3799\u001b[0m \u001b[38;5;28;01mtry\u001b[39;00m:\n\u001b[0;32m-> 3800\u001b[0m     \u001b[38;5;28;01mreturn\u001b[39;00m \u001b[38;5;28;43mself\u001b[39;49m\u001b[38;5;241;43m.\u001b[39;49m\u001b[43m_engine\u001b[49m\u001b[38;5;241;43m.\u001b[39;49m\u001b[43mget_loc\u001b[49m\u001b[43m(\u001b[49m\u001b[43mcasted_key\u001b[49m\u001b[43m)\u001b[49m\n\u001b[1;32m   3801\u001b[0m \u001b[38;5;28;01mexcept\u001b[39;00m \u001b[38;5;167;01mKeyError\u001b[39;00m \u001b[38;5;28;01mas\u001b[39;00m err:\n",
      "File \u001b[0;32m/Users/Anaconda/anaconda3/envs/michael/lib/python3.10/site-packages/pandas/_libs/index.pyx:138\u001b[0m, in \u001b[0;36mpandas._libs.index.IndexEngine.get_loc\u001b[0;34m()\u001b[0m\n",
      "File \u001b[0;32m/Users/Anaconda/anaconda3/envs/michael/lib/python3.10/site-packages/pandas/_libs/index.pyx:165\u001b[0m, in \u001b[0;36mpandas._libs.index.IndexEngine.get_loc\u001b[0;34m()\u001b[0m\n",
      "File \u001b[0;32mpandas/_libs/hashtable_class_helper.pxi:5745\u001b[0m, in \u001b[0;36mpandas._libs.hashtable.PyObjectHashTable.get_item\u001b[0;34m()\u001b[0m\n",
      "File \u001b[0;32mpandas/_libs/hashtable_class_helper.pxi:5753\u001b[0m, in \u001b[0;36mpandas._libs.hashtable.PyObjectHashTable.get_item\u001b[0;34m()\u001b[0m\n",
      "\u001b[0;31mKeyError\u001b[0m: 0",
      "\nThe above exception was the direct cause of the following exception:\n",
      "\u001b[0;31mKeyError\u001b[0m                                  Traceback (most recent call last)",
      "Input \u001b[0;32mIn [47]\u001b[0m, in \u001b[0;36m<cell line: 9>\u001b[0;34m()\u001b[0m\n\u001b[1;32m      6\u001b[0m b \u001b[38;5;241m=\u001b[39m np\u001b[38;5;241m.\u001b[39msqrt(np\u001b[38;5;241m.\u001b[39mnansum(err\u001b[38;5;241m*\u001b[39m\u001b[38;5;241m*\u001b[39m\u001b[38;5;241m2\u001b[39m, axis\u001b[38;5;241m=\u001b[39m\u001b[38;5;241m0\u001b[39m))\n\u001b[1;32m      8\u001b[0m \u001b[38;5;66;03m# Do any sectors disagree repeatedly over 1 sigma across all sectors?\u001b[39;00m\n\u001b[0;32m----> 9\u001b[0m \u001b[38;5;28;01mif\u001b[39;00m \u001b[38;5;28mall\u001b[39m(\u001b[38;5;28mlist\u001b[39m(\u001b[43m(\u001b[49m\u001b[43ma\u001b[49m\u001b[38;5;241;43m-\u001b[39;49m\u001b[43mb\u001b[49m\u001b[43m \u001b[49m\u001b[38;5;241;43m>\u001b[39;49m\u001b[43m \u001b[49m\u001b[38;5;241;43m0\u001b[39;49m\u001b[43m)\u001b[49m\u001b[43m[\u001b[49m\u001b[38;5;241;43m0\u001b[39;49m\u001b[43m]\u001b[49m)):\n\u001b[1;32m     10\u001b[0m     j\u001b[38;5;241m.\u001b[39mresults\u001b[38;5;241m.\u001b[39mloc[\u001b[38;5;124m'\u001b[39m\u001b[38;5;124mbest\u001b[39m\u001b[38;5;124m'\u001b[39m, \u001b[38;5;124m'\u001b[39m\u001b[38;5;124mf_overall\u001b[39m\u001b[38;5;124m'\u001b[39m] \u001b[38;5;241m+\u001b[39m\u001b[38;5;241m=\u001b[39m \u001b[38;5;241m8\u001b[39m\n",
      "File \u001b[0;32m/Users/Anaconda/anaconda3/envs/michael/lib/python3.10/site-packages/pandas/core/frame.py:3805\u001b[0m, in \u001b[0;36mDataFrame.__getitem__\u001b[0;34m(self, key)\u001b[0m\n\u001b[1;32m   3803\u001b[0m \u001b[38;5;28;01mif\u001b[39;00m \u001b[38;5;28mself\u001b[39m\u001b[38;5;241m.\u001b[39mcolumns\u001b[38;5;241m.\u001b[39mnlevels \u001b[38;5;241m>\u001b[39m \u001b[38;5;241m1\u001b[39m:\n\u001b[1;32m   3804\u001b[0m     \u001b[38;5;28;01mreturn\u001b[39;00m \u001b[38;5;28mself\u001b[39m\u001b[38;5;241m.\u001b[39m_getitem_multilevel(key)\n\u001b[0;32m-> 3805\u001b[0m indexer \u001b[38;5;241m=\u001b[39m \u001b[38;5;28;43mself\u001b[39;49m\u001b[38;5;241;43m.\u001b[39;49m\u001b[43mcolumns\u001b[49m\u001b[38;5;241;43m.\u001b[39;49m\u001b[43mget_loc\u001b[49m\u001b[43m(\u001b[49m\u001b[43mkey\u001b[49m\u001b[43m)\u001b[49m\n\u001b[1;32m   3806\u001b[0m \u001b[38;5;28;01mif\u001b[39;00m is_integer(indexer):\n\u001b[1;32m   3807\u001b[0m     indexer \u001b[38;5;241m=\u001b[39m [indexer]\n",
      "File \u001b[0;32m/Users/Anaconda/anaconda3/envs/michael/lib/python3.10/site-packages/pandas/core/indexes/base.py:3802\u001b[0m, in \u001b[0;36mIndex.get_loc\u001b[0;34m(self, key, method, tolerance)\u001b[0m\n\u001b[1;32m   3800\u001b[0m     \u001b[38;5;28;01mreturn\u001b[39;00m \u001b[38;5;28mself\u001b[39m\u001b[38;5;241m.\u001b[39m_engine\u001b[38;5;241m.\u001b[39mget_loc(casted_key)\n\u001b[1;32m   3801\u001b[0m \u001b[38;5;28;01mexcept\u001b[39;00m \u001b[38;5;167;01mKeyError\u001b[39;00m \u001b[38;5;28;01mas\u001b[39;00m err:\n\u001b[0;32m-> 3802\u001b[0m     \u001b[38;5;28;01mraise\u001b[39;00m \u001b[38;5;167;01mKeyError\u001b[39;00m(key) \u001b[38;5;28;01mfrom\u001b[39;00m \u001b[38;5;21;01merr\u001b[39;00m\n\u001b[1;32m   3803\u001b[0m \u001b[38;5;28;01mexcept\u001b[39;00m \u001b[38;5;167;01mTypeError\u001b[39;00m:\n\u001b[1;32m   3804\u001b[0m     \u001b[38;5;66;03m# If we have a listlike key, _check_indexing_error will raise\u001b[39;00m\n\u001b[1;32m   3805\u001b[0m     \u001b[38;5;66;03m#  InvalidIndexError. Otherwise we fall through and re-raise\u001b[39;00m\n\u001b[1;32m   3806\u001b[0m     \u001b[38;5;66;03m#  the TypeError.\u001b[39;00m\n\u001b[1;32m   3807\u001b[0m     \u001b[38;5;28mself\u001b[39m\u001b[38;5;241m.\u001b[39m_check_indexing_error(key)\n",
      "\u001b[0;31mKeyError\u001b[0m: 0"
     ]
    }
   ],
   "source": [
    "    # Check if any individual sectors are wildly out of line, possibly due to binaries\n",
    "    res = j.results.loc[(j.results.index != 'best') & (j.results.index != 'all'), ['SLS','SW','CACF', 'ACF']]\n",
    "    err = j.results.loc[(j.results.index != 'best') & (j.results.index != 'all'), ['e_SLS', 'e_SW', 'e_CACF', 'e_ACF']]\n",
    "\n",
    "    a = np.abs(np.diff(res,axis=0, n = len(res)-1))\n",
    "    b = np.sqrt(np.nansum(err**2, axis=0))\n",
    "\n",
    "    # Do any sectors disagree repeatedly over 1 sigma across all sectors?\n",
    "    if all(list((a-b > 0)[0])):\n",
    "        j.results.loc['best', 'f_overall'] += 8"
   ]
  },
  {
   "cell_type": "code",
   "execution_count": null,
   "metadata": {},
   "outputs": [],
   "source": []
  },
  {
   "cell_type": "code",
   "execution_count": null,
   "metadata": {},
   "outputs": [],
   "source": []
  },
  {
   "cell_type": "code",
   "execution_count": 46,
   "metadata": {},
   "outputs": [
    {
     "data": {
      "text/plain": [
       "e_SLS     0.105880\n",
       "e_SW      0.770529\n",
       "e_CACF    0.108687\n",
       "e_ACF     0.000000\n",
       "dtype: float64"
      ]
     },
     "execution_count": 46,
     "metadata": {},
     "output_type": "execute_result"
    }
   ],
   "source": [
    "np.sum(err**2, axis=0)"
   ]
  },
  {
   "cell_type": "code",
   "execution_count": 36,
   "metadata": {},
   "outputs": [
    {
     "data": {
      "text/html": [
       "<div>\n",
       "<style scoped>\n",
       "    .dataframe tbody tr th:only-of-type {\n",
       "        vertical-align: middle;\n",
       "    }\n",
       "\n",
       "    .dataframe tbody tr th {\n",
       "        vertical-align: top;\n",
       "    }\n",
       "\n",
       "    .dataframe thead th {\n",
       "        text-align: right;\n",
       "    }\n",
       "</style>\n",
       "<table border=\"1\" class=\"dataframe\">\n",
       "  <thead>\n",
       "    <tr style=\"text-align: right;\">\n",
       "      <th></th>\n",
       "      <th>SLS</th>\n",
       "      <th>SW</th>\n",
       "      <th>CACF</th>\n",
       "      <th>ACF</th>\n",
       "    </tr>\n",
       "  </thead>\n",
       "  <tbody>\n",
       "    <tr>\n",
       "      <th>16-17</th>\n",
       "      <td>3.535797</td>\n",
       "      <td>3.480956</td>\n",
       "      <td>8.707782</td>\n",
       "      <td>1.854169</td>\n",
       "    </tr>\n",
       "  </tbody>\n",
       "</table>\n",
       "</div>"
      ],
      "text/plain": [
       "            SLS        SW      CACF       ACF\n",
       "16-17  3.535797  3.480956  8.707782  1.854169"
      ]
     },
     "execution_count": 36,
     "metadata": {},
     "output_type": "execute_result"
    }
   ],
   "source": [
    "a = np.abs(np.diff(res,axis=0, n = len(res)-1))\n",
    "a"
   ]
  },
  {
   "cell_type": "code",
   "execution_count": null,
   "metadata": {},
   "outputs": [],
   "source": []
  },
  {
   "cell_type": "code",
   "execution_count": null,
   "metadata": {},
   "outputs": [],
   "source": [
    "    # Validate the best estimates against one another\n",
    "    # Check to see if they agree closely with one another\n",
    "    best = j.results.loc['best', ['SLS','SW','CACF', 'ACF']]#.dropna()\n",
    "    ebest = j.results.loc['best', ['e_SLS','e_SW','e_CACF', 'e_ACF']]#.dropna()\n",
    "    p2ps = j.results.loc['best', ['p2p_SLS','p2p_SW','p2p_CACF', 'p2p_ACF']]#.dropna()']"
   ]
  },
  {
   "cell_type": "code",
   "execution_count": null,
   "metadata": {},
   "outputs": [],
   "source": [
    "p2ps"
   ]
  },
  {
   "cell_type": "code",
   "execution_count": null,
   "metadata": {},
   "outputs": [],
   "source": [
    "np.abs(np.diff(best.dropna(), len(best.dropna())-1)) < np.sqrt(np.nansum(ebest**2))\n",
    "\n"
   ]
  },
  {
   "cell_type": "code",
   "execution_count": null,
   "metadata": {},
   "outputs": [],
   "source": [
    "np.diff(best.dropna(), len(best.dropna())-1)"
   ]
  },
  {
   "cell_type": "code",
   "execution_count": null,
   "metadata": {},
   "outputs": [],
   "source": [
    "np.diff(best, n=3)"
   ]
  },
  {
   "cell_type": "code",
   "execution_count": null,
   "metadata": {},
   "outputs": [],
   "source": [
    "j.results"
   ]
  },
  {
   "cell_type": "markdown",
   "metadata": {},
   "source": [
    "Plot lightcurves"
   ]
  },
  {
   "cell_type": "code",
   "execution_count": null,
   "metadata": {},
   "outputs": [],
   "source": [
    "ax = j.void['clc_16-17'].plot(label='eleanor')\n",
    "\n",
    "pls = ['c','raw','pca','corn','r', 'cpm']\n",
    "for pl in pls:\n",
    "    j.void[f'{pl}lc_16-17'].plot(ax=ax, label=pl)\n",
    "ax.legend(fontsize=10)"
   ]
  },
  {
   "cell_type": "code",
   "execution_count": null,
   "metadata": {},
   "outputs": [],
   "source": [
    "ax = j.void['clc_16-17'].to_periodogram(maximum_period=27).plot(label='eleanor', view='period')\n",
    "\n",
    "pls = ['c','raw','pca','corn','r', 'cpm']\n",
    "for pl in pls:\n",
    "    j.void[f'{pl}lc_16-17'].to_periodogram(maximum_period=27).plot(ax=ax, label=pl,view='period', scale='log')\n",
    "    ax.axvline(j.void[f'{pl}lc_16-17'].to_periodogram(maximum_period=27).period_at_max_power.value)\n",
    "    print(j.void[f'{pl}lc_16-17'].to_periodogram(maximum_period=27).period_at_max_power)\n",
    "ax.legend(fontsize=10)"
   ]
  },
  {
   "cell_type": "code",
   "execution_count": null,
   "metadata": {},
   "outputs": [],
   "source": []
  },
  {
   "cell_type": "code",
   "execution_count": null,
   "metadata": {},
   "outputs": [],
   "source": []
  }
 ],
 "metadata": {
  "kernelspec": {
   "display_name": "michael",
   "language": "python",
   "name": "michael"
  },
  "language_info": {
   "codemirror_mode": {
    "name": "ipython",
    "version": 3
   },
   "file_extension": ".py",
   "mimetype": "text/x-python",
   "name": "python",
   "nbconvert_exporter": "python",
   "pygments_lexer": "ipython3",
   "version": "3.10.4"
  }
 },
 "nbformat": 4,
 "nbformat_minor": 4
}
