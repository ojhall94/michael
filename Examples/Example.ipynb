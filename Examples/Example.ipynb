{
 "cells": [
  {
   "cell_type": "code",
   "execution_count": 1,
   "metadata": {},
   "outputs": [
    {
     "name": "stdout",
     "output_type": "stream",
     "text": [
      "Hi there. Welcome to the good place.\n"
     ]
    }
   ],
   "source": [
    "import sys\n",
    "import numpy as np\n",
    "import matplotlib.pyplot as plt\n",
    "import pandas as pd\n",
    "import warnings\n",
    "from astropy.convolution import Gaussian1DKernel\n",
    "from astropy.convolution import convolve\n",
    "from scipy.signal import find_peaks\n",
    "from scipy.optimize import curve_fit\n",
    "\n",
    "\n",
    "\n",
    "# import lightkurve as lk\n",
    "# from scipy.optimize import curve_fit\n",
    "\n",
    "# from astropy.convolution import Gaussian1DKernel\n",
    "# from astropy.convolution import convolve\n",
    "sys.path.insert(0, \"../\")\n",
    "\n",
    "from michael import janet"
   ]
  },
  {
   "cell_type": "code",
   "execution_count": 2,
   "metadata": {},
   "outputs": [],
   "source": [
    "uni = pd.read_csv(\"/Users/oliver hall/Research/unicorn/data/unicorn.csv\", index_col=0)"
   ]
  },
  {
   "cell_type": "code",
   "execution_count": 3,
   "metadata": {
    "scrolled": false
   },
   "outputs": [],
   "source": [
    "j = janet.boot(uni, index=2)\n"
   ]
  },
  {
   "cell_type": "code",
   "execution_count": null,
   "metadata": {
    "scrolled": false
   },
   "outputs": [
    {
     "name": "stdout",
     "output_type": "stream",
     "text": [
      "Already have data downloaded for Gaia ID 5311109828992983168.\n",
      "If you want to check for new data, run `janet.update()`.\n",
      "No postcard object will be created for this target.\n",
      "No postcard object will be created for this target.\n",
      "### Running Simple Astropy Lomb-Scargle on Sector 8-9 on star 5311109828992983168 ###\n",
      "### Completed Simple Astropy Lomb-Scargle for Sector 8-9 on star 5311109828992983168 ###\n",
      "### Saved results ###\n",
      "### Running Wavelet Estimation for Sector 8-9 on star 5311109828992983168 ###\n"
     ]
    },
    {
     "name": "stderr",
     "output_type": "stream",
     "text": [
      "/Users/Anaconda/anaconda3/envs/michael/lib/python3.8/site-packages/jazz_hands-0.0.3-py3.8.egg/jazzhands/wavelets.py:488: TqdmExperimentalWarning: Using `tqdm.autonotebook.tqdm` in notebook mode. Use `tqdm.tqdm` instead to force console mode (e.g. in jupyter console)\n",
      "  from tqdm.autonotebook import tqdm\n"
     ]
    },
    {
     "data": {
      "application/vnd.jupyter.widget-view+json": {
       "model_id": "45779de9db114f7eac7bad10eec81685",
       "version_major": 2,
       "version_minor": 0
      },
      "text/plain": [
       "  0%|          | 0/149 [00:00<?, ?it/s]"
      ]
     },
     "metadata": {},
     "output_type": "display_data"
    },
    {
     "name": "stdout",
     "output_type": "stream",
     "text": [
      "### Completed Wavelet Estimation for Sector 8-9 on star 5311109828992983168 ###\n",
      "### Saved results ###\n",
      "### Running Composite ACF estimation for Sector 8-9 on star 5311109828992983168 ###\n",
      "### Completed Composite ACF estimation for Sector 8-9 on star 5311109828992983168 ###\n",
      "### Saved results ###\n",
      "### Running Simple Astropy Lomb-Scargle on Sector 36 on star 5311109828992983168 ###\n",
      "### Completed Simple Astropy Lomb-Scargle for Sector 36 on star 5311109828992983168 ###\n",
      "### Saved results ###\n",
      "### Running Wavelet Estimation for Sector 36 on star 5311109828992983168 ###\n"
     ]
    },
    {
     "data": {
      "application/vnd.jupyter.widget-view+json": {
       "model_id": "9b16a72ec9ad4d75a7b67b6bf42acd1f",
       "version_major": 2,
       "version_minor": 0
      },
      "text/plain": [
       "  0%|          | 0/75 [00:00<?, ?it/s]"
      ]
     },
     "metadata": {},
     "output_type": "display_data"
    },
    {
     "name": "stdout",
     "output_type": "stream",
     "text": [
      "### Completed Wavelet Estimation for Sector 36 on star 5311109828992983168 ###\n",
      "### Saved results ###\n",
      "### Running Composite ACF estimation for Sector 36 on star 5311109828992983168 ###\n",
      "### Completed Composite ACF estimation for Sector 36 on star 5311109828992983168 ###\n",
      "### Saved results ###\n",
      "### Running ACF Estimation on star 5311109828992983168 ###\n",
      "### Completed ACF Estimation on star 5311109828992983168 ###\n",
      "### Saved results ###\n",
      "### Saved results ###\n",
      "### Saved results ###\n",
      "### Saved results ###\n",
      "### Saved results ###\n",
      "### Saved results ###\n",
      "### Saved results ###\n"
     ]
    },
    {
     "name": "stderr",
     "output_type": "stream",
     "text": [
      "/Users/oliver hall/Research/michael/Examples/../michael/methods.py:376: UserWarning: The highest peak in the ACF lies outside the period range of your search.\n",
      "  warnings.warn(\"The highest peak in the ACF lies outside the period range of your search.\")\n",
      "/Users/oliver hall/Research/michael/Examples/../michael/validate.py:186: UserWarning: No estimates could agree. Please inspect the results carefully yourself.\n",
      "  warnings.warn(\"No estimates could agree. Please inspect the results carefully yourself.\")\n",
      "/Users/oliver hall/Research/michael/Examples/../michael/validate.py:228: UserWarning: One or more sectors disagree strongly across all estimates. Please inspect the results carefully yourself.\n",
      "  warnings.warn(\"One or more sectors disagree strongly across all estimates. Please inspect the results carefully yourself.\")\n",
      "/Users/Anaconda/anaconda3/envs/michael/lib/python3.8/site-packages/numpy/core/_asarray.py:85: UserWarning: Warning: converting a masked element to nan.\n",
      "  return array(a, dtype, copy=False, order=order)\n"
     ]
    }
   ],
   "source": [
    "j.run(period_range = (1., 13.))"
   ]
  },
  {
   "cell_type": "code",
   "execution_count": null,
   "metadata": {},
   "outputs": [],
   "source": []
  }
 ],
 "metadata": {
  "kernelspec": {
   "display_name": "michael",
   "language": "python",
   "name": "michael"
  },
  "language_info": {
   "codemirror_mode": {
    "name": "ipython",
    "version": 3
   },
   "file_extension": ".py",
   "mimetype": "text/x-python",
   "name": "python",
   "nbconvert_exporter": "python",
   "pygments_lexer": "ipython3",
   "version": "3.8.11"
  }
 },
 "nbformat": 4,
 "nbformat_minor": 4
}
