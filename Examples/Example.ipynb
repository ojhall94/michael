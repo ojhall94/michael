{
 "cells": [
  {
   "cell_type": "code",
   "execution_count": 1,
   "metadata": {},
   "outputs": [
    {
     "name": "stdout",
     "output_type": "stream",
     "text": [
      "Hi there. Welcome to the good place.\n"
     ]
    }
   ],
   "source": [
    "import sys\n",
    "import numpy as np\n",
    "import matplotlib.pyplot as plt\n",
    "import pandas as pd\n",
    "import lightkurve as lk\n",
    "from scipy.optimize import curve_fit\n",
    "\n",
    "from astropy.convolution import Gaussian1DKernel\n",
    "from astropy.convolution import convolve\n",
    "sys.path.insert(0, \"../\")\n",
    "\n",
    "from michael import janet"
   ]
  },
  {
   "cell_type": "code",
   "execution_count": 2,
   "metadata": {},
   "outputs": [],
   "source": [
    "uni = pd.read_csv(\"/Users/oliver hall/Research/unicorn/data/unicorn.csv\", index_col=0)"
   ]
  },
  {
   "cell_type": "markdown",
   "metadata": {},
   "source": [
    "Index 258 is a good tester. Clear rotational signal, ambiguous peak mode."
   ]
  },
  {
   "cell_type": "code",
   "execution_count": 7,
   "metadata": {},
   "outputs": [],
   "source": [
    "j = janet.boot(uni, index=259)"
   ]
  },
  {
   "cell_type": "code",
   "execution_count": null,
   "metadata": {
    "scrolled": false
   },
   "outputs": [
    {
     "name": "stdout",
     "output_type": "stream",
     "text": [
      "Already have data downloaded for Gaia ID 2227100384482274048.\n",
      "If you want to check for new data, run `janet.update()`.\n",
      "### Running Simple Astropy Lomb-Scargle on Sector 17 on star 2227100384482274048 ###\n",
      "### Completed Simple Astropy Lomb-Scargle for Sector 17 on star 2227100384482274048 ###\n",
      "### Saved results ###\n",
      "### Running Simple Astropy Lomb-Scargle on Sector 18 on star 2227100384482274048 ###\n",
      "### Completed Simple Astropy Lomb-Scargle for Sector 18 on star 2227100384482274048 ###\n",
      "### Saved results ###\n",
      "### Running Simple Astropy Lomb-Scargle on Sector 24 on star 2227100384482274048 ###\n",
      "### Completed Simple Astropy Lomb-Scargle for Sector 24 on star 2227100384482274048 ###\n",
      "### Saved results ###\n",
      "### Running Simple Astropy Lomb-Scargle on Sector 25 on star 2227100384482274048 ###\n",
      "### Completed Simple Astropy Lomb-Scargle for Sector 25 on star 2227100384482274048 ###\n",
      "### Saved results ###\n",
      "### Running Wavelet Estimation on star 2227100384482274048 ###\n"
     ]
    },
    {
     "data": {
      "application/vnd.jupyter.widget-view+json": {
       "model_id": "83d0d66fc8644862903d016a14b91a0c",
       "version_major": 2,
       "version_minor": 0
      },
      "text/plain": [
       "HBox(children=(FloatProgress(value=0.0, max=3645.0), HTML(value='')))"
      ]
     },
     "metadata": {},
     "output_type": "display_data"
    }
   ],
   "source": [
    "j.run()"
   ]
  },
  {
   "cell_type": "code",
   "execution_count": null,
   "metadata": {},
   "outputs": [],
   "source": []
  }
 ],
 "metadata": {
  "kernelspec": {
   "display_name": "Python 3",
   "language": "python",
   "name": "python3"
  },
  "language_info": {
   "codemirror_mode": {
    "name": "ipython",
    "version": 3
   },
   "file_extension": ".py",
   "mimetype": "text/x-python",
   "name": "python",
   "nbconvert_exporter": "python",
   "pygments_lexer": "ipython3",
   "version": "3.8.3"
  }
 },
 "nbformat": 4,
 "nbformat_minor": 4
}
