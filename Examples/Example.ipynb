{
 "cells": [
  {
   "cell_type": "code",
   "execution_count": 1,
   "metadata": {},
   "outputs": [],
   "source": [
    "import sys\n",
    "import numpy as np\n",
    "import matplotlib.pyplot as plt\n",
    "import pandas as pd\n",
    "import warnings\n",
    "from scipy.signal import find_peaks\n",
    "from scipy.optimize import curve_fit\n",
    "from scipy.ndimage import gaussian_filter1d\n",
    "\n",
    "sys.path.insert(0, \"../\")\n",
    "\n",
    "import warnings\n",
    "warnings.filterwarnings('ignore')\n",
    "\n",
    "from michael import janet"
   ]
  },
  {
   "cell_type": "markdown",
   "metadata": {},
   "source": [
    "Getting a `x0 is infeasible` error when running the curve_fit to the wavelet portion. Let's try and identify the target."
   ]
  },
  {
   "cell_type": "code",
   "execution_count": 2,
   "metadata": {},
   "outputs": [],
   "source": [
    "uni = pd.read_csv(\"/Users/oliver hall/Research/unicorn/data/unicorn.csv\", index_col=0)"
   ]
  },
  {
   "cell_type": "code",
   "execution_count": 3,
   "metadata": {},
   "outputs": [],
   "source": [
    "index = 2#uni[uni.source_id == int(48977371798954368)].index[0]"
   ]
  },
  {
   "cell_type": "code",
   "execution_count": 4,
   "metadata": {
    "scrolled": false
   },
   "outputs": [
    {
     "name": "stdout",
     "output_type": "stream",
     "text": [
      "Target DR3 ID 5311109828992983168 has tesscut data available on MAST for Sectors 8, 9, 36\n",
      "Data already downloaded for Sector 8.\n",
      "Data already downloaded for Sector 9.\n",
      "Data already downloaded for Sector 36.\n"
     ]
    },
    {
     "name": "stderr",
     "output_type": "stream",
     "text": [
      "Running pixels in aperture: 100%|████████████| 300/300 [00:01<00:00, 240.76it/s]\n"
     ]
    },
    {
     "name": "stdout",
     "output_type": "stream",
     "text": [
      "### Running Simple Astropy Lomb-Scargle on Sector 8-9 on star 5311109828992983168 ###\n",
      "### Completed Simple Astropy Lomb-Scargle for Sector 8-9 on star 5311109828992983168 ###\n",
      "### Running Wavelet Estimation for Sector 8-9 on star 5311109828992983168 ###\n"
     ]
    },
    {
     "name": "stderr",
     "output_type": "stream",
     "text": [
      "100%|█████████████████████████████████████████| 761/761 [00:20<00:00, 37.73it/s]\n"
     ]
    },
    {
     "ename": "ValueError",
     "evalue": "`x0` is infeasible.",
     "output_type": "error",
     "traceback": [
      "\u001b[0;31m---------------------------------------------------------------------------\u001b[0m",
      "\u001b[0;31mValueError\u001b[0m                                Traceback (most recent call last)",
      "Cell \u001b[0;32mIn[4], line 4\u001b[0m\n\u001b[1;32m      2\u001b[0m j \u001b[38;5;241m=\u001b[39m janet\u001b[38;5;241m.\u001b[39mboot(uni, index\u001b[38;5;241m=\u001b[39mindex, pipeline \u001b[38;5;241m=\u001b[39m method)\n\u001b[1;32m      3\u001b[0m j\u001b[38;5;241m.\u001b[39mprepare_data()\n\u001b[0;32m----> 4\u001b[0m \u001b[43mj\u001b[49m\u001b[38;5;241;43m.\u001b[39;49m\u001b[43mget_rotation\u001b[49m\u001b[43m(\u001b[49m\u001b[43mperiod_range\u001b[49m\u001b[38;5;241;43m=\u001b[39;49m\u001b[43m(\u001b[49m\u001b[38;5;241;43m0.2\u001b[39;49m\u001b[43m,\u001b[49m\u001b[43m \u001b[49m\u001b[38;5;241;43m40.5\u001b[39;49m\u001b[43m)\u001b[49m\u001b[43m)\u001b[49m\n\u001b[1;32m      5\u001b[0m j\u001b[38;5;241m.\u001b[39mvalidate_rotation()\n\u001b[1;32m      6\u001b[0m j\u001b[38;5;241m.\u001b[39mview()\n",
      "File \u001b[0;32m~/Research/michael/Examples/../michael/janet.py:165\u001b[0m, in \u001b[0;36mjanet.get_rotation\u001b[0;34m(self, period_range)\u001b[0m\n\u001b[1;32m    163\u001b[0m \u001b[38;5;28;01mfor\u001b[39;00m sector \u001b[38;5;129;01min\u001b[39;00m sectorlist:\n\u001b[1;32m    164\u001b[0m     simple_astropy_lombscargle(\u001b[38;5;28mself\u001b[39m, sector \u001b[38;5;241m=\u001b[39m sector, period_range \u001b[38;5;241m=\u001b[39m period_range)\n\u001b[0;32m--> 165\u001b[0m     \u001b[43msimple_wavelet\u001b[49m\u001b[43m(\u001b[49m\u001b[38;5;28;43mself\u001b[39;49m\u001b[43m,\u001b[49m\u001b[43m \u001b[49m\u001b[43msector\u001b[49m\u001b[43m \u001b[49m\u001b[38;5;241;43m=\u001b[39;49m\u001b[43m \u001b[49m\u001b[43msector\u001b[49m\u001b[43m,\u001b[49m\u001b[43m \u001b[49m\u001b[43mperiod_range\u001b[49m\u001b[43m \u001b[49m\u001b[38;5;241;43m=\u001b[39;49m\u001b[43m \u001b[49m\u001b[43mperiod_range\u001b[49m\u001b[43m)\u001b[49m\n\u001b[1;32m    166\u001b[0m     composite_ACF(\u001b[38;5;28mself\u001b[39m, sector \u001b[38;5;241m=\u001b[39m sector, period_range \u001b[38;5;241m=\u001b[39m period_range)\n\u001b[1;32m    167\u001b[0m     simple_ACF(\u001b[38;5;28mself\u001b[39m, sector \u001b[38;5;241m=\u001b[39m sector, period_range \u001b[38;5;241m=\u001b[39m period_range)\n",
      "File \u001b[0;32m~/Research/michael/Examples/../michael/methods.py:201\u001b[0m, in \u001b[0;36msimple_wavelet\u001b[0;34m(j, sector, period_range)\u001b[0m\n\u001b[1;32m    198\u001b[0m \u001b[38;5;66;03m# Call the relevant light curve\u001b[39;00m\n\u001b[1;32m    199\u001b[0m clc \u001b[38;5;241m=\u001b[39m j\u001b[38;5;241m.\u001b[39mvoid[\u001b[38;5;124mf\u001b[39m\u001b[38;5;124m'\u001b[39m\u001b[38;5;132;01m{\u001b[39;00mj\u001b[38;5;241m.\u001b[39mpl\u001b[38;5;132;01m}\u001b[39;00m\u001b[38;5;124mlc_\u001b[39m\u001b[38;5;132;01m{\u001b[39;00msector\u001b[38;5;132;01m}\u001b[39;00m\u001b[38;5;124m'\u001b[39m]\n\u001b[0;32m--> 201\u001b[0m popt, pcov \u001b[38;5;241m=\u001b[39m \u001b[43m_calculate_wavelet\u001b[49m\u001b[43m(\u001b[49m\u001b[43mclc\u001b[49m\u001b[43m,\u001b[49m\u001b[43m \u001b[49m\u001b[43mperiod_range\u001b[49m\u001b[43m,\u001b[49m\u001b[43m \u001b[49m\u001b[43msector\u001b[49m\u001b[43m,\u001b[49m\u001b[43m \u001b[49m\u001b[43mj\u001b[49m\u001b[43m)\u001b[49m\n\u001b[1;32m    203\u001b[0m j\u001b[38;5;241m.\u001b[39mresults\u001b[38;5;241m.\u001b[39mloc[sector, \u001b[38;5;124m'\u001b[39m\u001b[38;5;124mSW\u001b[39m\u001b[38;5;124m'\u001b[39m] \u001b[38;5;241m=\u001b[39m popt[\u001b[38;5;241m0\u001b[39m]\n\u001b[1;32m    204\u001b[0m j\u001b[38;5;241m.\u001b[39mresults\u001b[38;5;241m.\u001b[39mloc[sector, \u001b[38;5;124m'\u001b[39m\u001b[38;5;124me_SW\u001b[39m\u001b[38;5;124m'\u001b[39m] \u001b[38;5;241m=\u001b[39m popt[\u001b[38;5;241m1\u001b[39m]\n",
      "File \u001b[0;32m~/Research/michael/Examples/../michael/methods.py:161\u001b[0m, in \u001b[0;36m_calculate_wavelet\u001b[0;34m(clc, period_range, sector, j)\u001b[0m\n\u001b[1;32m    158\u001b[0m \u001b[38;5;28;01mif\u001b[39;00m uplim \u001b[38;5;241m>\u001b[39m period_range[\u001b[38;5;241m1\u001b[39m]:\n\u001b[1;32m    159\u001b[0m     uplim \u001b[38;5;241m=\u001b[39m period_range[\u001b[38;5;241m1\u001b[39m]\n\u001b[0;32m--> 161\u001b[0m popt, pcov \u001b[38;5;241m=\u001b[39m \u001b[43mcurve_fit\u001b[49m\u001b[43m(\u001b[49m\u001b[43m_gaussian_fn\u001b[49m\u001b[43m,\u001b[49m\u001b[43m \u001b[49m\u001b[43mp\u001b[49m\u001b[43m,\u001b[49m\u001b[43m \u001b[49m\u001b[43mw\u001b[49m\u001b[43m,\u001b[49m\u001b[43m \u001b[49m\u001b[43mp0\u001b[49m\u001b[43m \u001b[49m\u001b[38;5;241;43m=\u001b[39;49m\u001b[43m \u001b[49m\u001b[43m[\u001b[49m\u001b[43mmax_p\u001b[49m\u001b[43m,\u001b[49m\u001b[43m \u001b[49m\u001b[38;5;241;43m0.1\u001b[39;49m\u001b[38;5;241;43m*\u001b[39;49m\u001b[43mmax_p\u001b[49m\u001b[43m,\u001b[49m\u001b[43m \u001b[49m\u001b[43mmax_w\u001b[49m\u001b[43m]\u001b[49m\u001b[43m,\u001b[49m\n\u001b[1;32m    162\u001b[0m \u001b[43m                        \u001b[49m\u001b[43mbounds\u001b[49m\u001b[43m \u001b[49m\u001b[38;5;241;43m=\u001b[39;49m\u001b[43m \u001b[49m\u001b[43m(\u001b[49m\u001b[43m[\u001b[49m\u001b[43mlolim\u001b[49m\u001b[43m,\u001b[49m\u001b[43m \u001b[49m\u001b[38;5;241;43m0.\u001b[39;49m\u001b[43m,\u001b[49m\u001b[43m \u001b[49m\u001b[38;5;241;43m0.9\u001b[39;49m\u001b[38;5;241;43m*\u001b[39;49m\u001b[43mmax_w\u001b[49m\u001b[43m]\u001b[49m\u001b[43m,\u001b[49m\u001b[43m[\u001b[49m\u001b[43muplim\u001b[49m\u001b[43m,\u001b[49m\u001b[43m \u001b[49m\u001b[38;5;241;43m0.25\u001b[39;49m\u001b[38;5;241;43m*\u001b[39;49m\u001b[43mmax_p\u001b[49m\u001b[43m,\u001b[49m\u001b[43m \u001b[49m\u001b[38;5;241;43m1.1\u001b[39;49m\u001b[38;5;241;43m*\u001b[39;49m\u001b[43mmax_w\u001b[49m\u001b[43m]\u001b[49m\u001b[43m)\u001b[49m\u001b[43m)\u001b[49m\n\u001b[1;32m    163\u001b[0m \u001b[38;5;28;01mreturn\u001b[39;00m popt, pcov\n",
      "File \u001b[0;32m~/.conda/envs/michael10/lib/python3.10/site-packages/scipy/optimize/_minpack_py.py:845\u001b[0m, in \u001b[0;36mcurve_fit\u001b[0;34m(f, xdata, ydata, p0, sigma, absolute_sigma, check_finite, bounds, method, jac, full_output, **kwargs)\u001b[0m\n\u001b[1;32m    842\u001b[0m \u001b[38;5;28;01mif\u001b[39;00m \u001b[38;5;124m'\u001b[39m\u001b[38;5;124mmax_nfev\u001b[39m\u001b[38;5;124m'\u001b[39m \u001b[38;5;129;01mnot\u001b[39;00m \u001b[38;5;129;01min\u001b[39;00m kwargs:\n\u001b[1;32m    843\u001b[0m     kwargs[\u001b[38;5;124m'\u001b[39m\u001b[38;5;124mmax_nfev\u001b[39m\u001b[38;5;124m'\u001b[39m] \u001b[38;5;241m=\u001b[39m kwargs\u001b[38;5;241m.\u001b[39mpop(\u001b[38;5;124m'\u001b[39m\u001b[38;5;124mmaxfev\u001b[39m\u001b[38;5;124m'\u001b[39m, \u001b[38;5;28;01mNone\u001b[39;00m)\n\u001b[0;32m--> 845\u001b[0m res \u001b[38;5;241m=\u001b[39m \u001b[43mleast_squares\u001b[49m\u001b[43m(\u001b[49m\u001b[43mfunc\u001b[49m\u001b[43m,\u001b[49m\u001b[43m \u001b[49m\u001b[43mp0\u001b[49m\u001b[43m,\u001b[49m\u001b[43m \u001b[49m\u001b[43mjac\u001b[49m\u001b[38;5;241;43m=\u001b[39;49m\u001b[43mjac\u001b[49m\u001b[43m,\u001b[49m\u001b[43m \u001b[49m\u001b[43mbounds\u001b[49m\u001b[38;5;241;43m=\u001b[39;49m\u001b[43mbounds\u001b[49m\u001b[43m,\u001b[49m\u001b[43m \u001b[49m\u001b[43mmethod\u001b[49m\u001b[38;5;241;43m=\u001b[39;49m\u001b[43mmethod\u001b[49m\u001b[43m,\u001b[49m\n\u001b[1;32m    846\u001b[0m \u001b[43m                    \u001b[49m\u001b[38;5;241;43m*\u001b[39;49m\u001b[38;5;241;43m*\u001b[39;49m\u001b[43mkwargs\u001b[49m\u001b[43m)\u001b[49m\n\u001b[1;32m    848\u001b[0m \u001b[38;5;28;01mif\u001b[39;00m \u001b[38;5;129;01mnot\u001b[39;00m res\u001b[38;5;241m.\u001b[39msuccess:\n\u001b[1;32m    849\u001b[0m     \u001b[38;5;28;01mraise\u001b[39;00m \u001b[38;5;167;01mRuntimeError\u001b[39;00m(\u001b[38;5;124m\"\u001b[39m\u001b[38;5;124mOptimal parameters not found: \u001b[39m\u001b[38;5;124m\"\u001b[39m \u001b[38;5;241m+\u001b[39m res\u001b[38;5;241m.\u001b[39mmessage)\n",
      "File \u001b[0;32m~/.conda/envs/michael10/lib/python3.10/site-packages/scipy/optimize/_lsq/least_squares.py:808\u001b[0m, in \u001b[0;36mleast_squares\u001b[0;34m(fun, x0, jac, bounds, method, ftol, xtol, gtol, x_scale, loss, f_scale, diff_step, tr_solver, tr_options, jac_sparsity, max_nfev, verbose, args, kwargs)\u001b[0m\n\u001b[1;32m    804\u001b[0m     \u001b[38;5;28;01mraise\u001b[39;00m \u001b[38;5;167;01mValueError\u001b[39;00m(\u001b[38;5;124m\"\u001b[39m\u001b[38;5;124mEach lower bound must be strictly less than each \u001b[39m\u001b[38;5;124m\"\u001b[39m\n\u001b[1;32m    805\u001b[0m                      \u001b[38;5;124m\"\u001b[39m\u001b[38;5;124mupper bound.\u001b[39m\u001b[38;5;124m\"\u001b[39m)\n\u001b[1;32m    807\u001b[0m \u001b[38;5;28;01mif\u001b[39;00m \u001b[38;5;129;01mnot\u001b[39;00m in_bounds(x0, lb, ub):\n\u001b[0;32m--> 808\u001b[0m     \u001b[38;5;28;01mraise\u001b[39;00m \u001b[38;5;167;01mValueError\u001b[39;00m(\u001b[38;5;124m\"\u001b[39m\u001b[38;5;124m`x0` is infeasible.\u001b[39m\u001b[38;5;124m\"\u001b[39m)\n\u001b[1;32m    810\u001b[0m x_scale \u001b[38;5;241m=\u001b[39m check_x_scale(x_scale, x0)\n\u001b[1;32m    812\u001b[0m ftol, xtol, gtol \u001b[38;5;241m=\u001b[39m check_tolerance(ftol, xtol, gtol, method)\n",
      "\u001b[0;31mValueError\u001b[0m: `x0` is infeasible."
     ]
    }
   ],
   "source": [
    "for method in ['tess-sip']:#'eleanor', 'eleanor-corner','eleanor-pca', 'unpopular','tess-sip']:\n",
    "    j = janet.boot(uni, index=index, pipeline = method)\n",
    "    j.prepare_data()\n",
    "    j.get_rotation(period_range=(0.2, 40.5))\n",
    "    j.validate_rotation()\n",
    "    j.view()\n",
    "    plt.show()"
   ]
  },
  {
   "cell_type": "code",
   "execution_count": 9,
   "metadata": {},
   "outputs": [
    {
     "name": "stderr",
     "output_type": "stream",
     "text": [
      "100%|█████████████████████████████████████████| 761/761 [00:19<00:00, 38.86it/s]\n"
     ]
    }
   ],
   "source": [
    "import jazzhands\n",
    "period_range = j.period_range\n",
    "sector = '8-9'\n",
    "# Call the relevant light curve\n",
    "clc = j.void[f'{j.pl}lc_{sector}']\n",
    "\n",
    "t = clc.time.value\n",
    "f = clc.flux.value\n",
    "wt = jazzhands.WaveletTransformer(t, f)\n",
    "_, _, wwz, wwa = wt.auto_compute(nu_min = 1./period_range[1], nu_max = 1./period_range[0])\n",
    "\n",
    "j.void[f'{sector}_wt'] = wt\n",
    "j.void[f'{sector}_wwz'] = wwz\n",
    "j.void[f'{sector}_wwa'] = wwa\n",
    "\n",
    "# Create data to fit\n",
    "w = np.sum(wwz, axis=1)\n",
    "w /= w.max() #Normalize\n",
    "p = 1/wt.nus\n",
    "\n",
    "max_w = np.max(w)\n",
    "max_p = p[np.argmax(w)]\n",
    "\n",
    "s = (p > 0.6*max_p) & (p < 1.4*max_p)\n",
    "w = w[s]\n",
    "p = p[s]\n",
    "\n",
    "# Fit a Gaussian\n",
    "## Params are mu, sigma, Amplitude\n",
    "lolim = 0.8*max_p\n",
    "uplim = 1.2*max_p\n",
    "\n",
    "# If the max period somehow lies outside the period range, don't adjust\n",
    "# the period limits\n",
    "if lolim < period_range[0]:\n",
    "    lolim = period_range[0]\n",
    "if uplim > period_range[1]:\n",
    "    uplim = period_range[1]\n"
   ]
  },
  {
   "cell_type": "code",
   "execution_count": 21,
   "metadata": {},
   "outputs": [],
   "source": [
    "from scipy.optimize import curve_fit\n",
    "from scipy.ndimage import gaussian_filter1d\n",
    "import warnings\n",
    "\n",
    "import jazzhands\n",
    "\n",
    "from michael.utils import _gaussian_fn, _safety"
   ]
  },
  {
   "cell_type": "code",
   "execution_count": 23,
   "metadata": {},
   "outputs": [],
   "source": [
    "popt, pcov = curve_fit(_gaussian_fn, p, w, p0 = [40.5, 0.1*max_p, max_w],\n",
    "                        bounds = ([lolim, 0., 0.9*max_w],[uplim, 0.25*max_p, 1.1*max_w]))"
   ]
  },
  {
   "cell_type": "code",
   "execution_count": null,
   "metadata": {},
   "outputs": [],
   "source": [
    "raise ValueError"
   ]
  },
  {
   "cell_type": "code",
   "execution_count": null,
   "metadata": {},
   "outputs": [],
   "source": [
    "j.prepare_data()"
   ]
  },
  {
   "cell_type": "code",
   "execution_count": null,
   "metadata": {},
   "outputs": [],
   "source": [
    "any([len(a) > 2 for a in j.sectors])"
   ]
  },
  {
   "cell_type": "markdown",
   "metadata": {},
   "source": [
    "Cleaning up the data seems to have fixed things. Either way we'll still just change the data downloading process to avoid anything like this in the future."
   ]
  },
  {
   "cell_type": "code",
   "execution_count": null,
   "metadata": {},
   "outputs": [],
   "source": [
    "sys.exit()"
   ]
  },
  {
   "cell_type": "code",
   "execution_count": null,
   "metadata": {},
   "outputs": [],
   "source": [
    "j.void['r_43-44']['raw_lc'].plot()"
   ]
  },
  {
   "cell_type": "code",
   "execution_count": null,
   "metadata": {},
   "outputs": [],
   "source": [
    "j.void['rawlc_43-44'].plot()"
   ]
  },
  {
   "cell_type": "markdown",
   "metadata": {},
   "source": [
    "Let's fix the cpm times"
   ]
  },
  {
   "cell_type": "code",
   "execution_count": null,
   "metadata": {},
   "outputs": [],
   "source": [
    "import glob\n",
    "from astropy.coordinates import SkyCoord\n",
    "import os\n",
    "import astropy.units as u\n",
    "rastr = str(j.ra)\n",
    "step = len(rastr.split('.')[0])\n",
    "decstr = str(j.dec)\n",
    "step = len(decstr.split('.')[0])\n",
    "sfiles = np.sort(glob.glob(f'{os.path.expanduser(\"~\")}/.eleanor/tesscut/*{rastr[:(6+step)]}*{decstr[:(6+step)]}*'))\n",
    "coords = SkyCoord(ra = j.ra, dec = j.dec, unit = (u.deg, u.deg))\n",
    "\n",
    "if len(sfiles) == 0:\n",
    "    sfiles = np.sort(glob.glob(f'{os.path.expanduser(\"~\")}/.eleanor/tesscut/*{rastr[:(4+step)]}*{decstr[:(4+step)]}*'))\n",
    "    if len(sfiles) == 0:\n",
    "        raise ValueError(\"No tesscut files could be found for this target.\")\n",
    "\n",
    "if len(sfiles) < len(j.sectorlist):\n",
    "    raise ValueError(\"There are more sectors available than have been \"+\n",
    "                    \"loaded into the sectorlist. Reset the data.\")"
   ]
  },
  {
   "cell_type": "code",
   "execution_count": null,
   "metadata": {},
   "outputs": [],
   "source": [
    "sfiles"
   ]
  },
  {
   "cell_type": "code",
   "execution_count": null,
   "metadata": {},
   "outputs": [],
   "source": [
    "from michael.janet import pipelines\n",
    "f\"{', '.join(list(pipelines))}\""
   ]
  },
  {
   "cell_type": "code",
   "execution_count": null,
   "metadata": {},
   "outputs": [],
   "source": [
    "list(j.methods)"
   ]
  },
  {
   "cell_type": "code",
   "execution_count": null,
   "metadata": {},
   "outputs": [],
   "source": []
  }
 ],
 "metadata": {
  "kernelspec": {
   "display_name": "michael10",
   "language": "python",
   "name": "michael10"
  },
  "language_info": {
   "codemirror_mode": {
    "name": "ipython",
    "version": 3
   },
   "file_extension": ".py",
   "mimetype": "text/x-python",
   "name": "python",
   "nbconvert_exporter": "python",
   "pygments_lexer": "ipython3",
   "version": "3.10.9"
  }
 },
 "nbformat": 4,
 "nbformat_minor": 4
}
