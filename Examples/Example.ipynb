{
 "cells": [
  {
   "cell_type": "code",
   "execution_count": 1,
   "metadata": {},
   "outputs": [
    {
     "name": "stdout",
     "output_type": "stream",
     "text": [
      "Hi there. Welcome to the good place.\n"
     ]
    }
   ],
   "source": [
    "import sys\n",
    "import numpy as np\n",
    "import matplotlib.pyplot as plt\n",
    "import pandas as pd\n",
    "import warnings\n",
    "from astropy.convolution import Gaussian1DKernel\n",
    "from astropy.convolution import convolve\n",
    "from scipy.signal import find_peaks\n",
    "from scipy.optimize import curve_fit\n",
    "\n",
    "\n",
    "\n",
    "# import lightkurve as lk\n",
    "# from scipy.optimize import curve_fit\n",
    "\n",
    "# from astropy.convolution import Gaussian1DKernel\n",
    "# from astropy.convolution import convolve\n",
    "sys.path.insert(0, \"../\")\n",
    "\n",
    "from michael import janet"
   ]
  },
  {
   "cell_type": "code",
   "execution_count": 2,
   "metadata": {},
   "outputs": [],
   "source": [
    "uni = pd.read_csv(\"/Users/oliver hall/Research/unicorn/data/unicorn.csv\", index_col=0)"
   ]
  },
  {
   "cell_type": "code",
   "execution_count": 6,
   "metadata": {},
   "outputs": [
    {
     "data": {
      "text/plain": [
       "Index(['dr2_source_id', 'angular_distance', 'source_id', 'r_est',\n",
       "       'r_lo_photogeo', 'r_hi_photogeo', 'ra', 'ra_error', 'dec', 'dec_error',\n",
       "       'parallax', 'parallax_error', 'astrometric_gof_al',\n",
       "       'astrometric_params_solved', 'nu_eff_used_in_astrometry',\n",
       "       'pseudocolour', 'pseudocolour_error', 'visibility_periods_used', 'ruwe',\n",
       "       'phot_g_mean_flux', 'phot_g_mean_flux_error', 'phot_g_mean_mag',\n",
       "       'phot_bp_mean_flux', 'phot_bp_mean_flux_error', 'phot_bp_mean_mag',\n",
       "       'phot_rp_mean_flux', 'phot_rp_mean_flux_error', 'phot_rp_mean_mag',\n",
       "       'bp_rp', 'ecl_lat', 'u', 'v', 'w', 'sep', 'Gmag', 'e_Gmag',\n",
       "       'e_phot_bp_mean_mag', 'e_phot_rp_mean_mag', 'e_bp_rp', 'MGna',\n",
       "       'binflag', 'gal_teff', 'gal_e_teff', 'gal_logg', 'gal_e_logg',\n",
       "       'gal_fe_h', 'gal_e_fe_h', 'gal_alpha_fe', 'gal_e_alpha_fe', 'apo_teff',\n",
       "       'apo_e_teff', 'apo_logg', 'apo_e_logg', 'apo_m_h', 'apo_e_m_h',\n",
       "       'apo_fe_h', 'apo_e_fe_h', 'lam_teff', 'lam_e_teff', 'lam_logg',\n",
       "       'lam_e_logg', 'lam_fe_h', 'lam_e_fe_h', 'medfeh', 'doug_Prot',\n",
       "       'doug_Plabel', 'ros_member', 'mein_member', 'ilin_member', 'TIC',\n",
       "       'tessep', 'Sectors', 'Multi'],\n",
       "      dtype='object')"
      ]
     },
     "execution_count": 6,
     "metadata": {},
     "output_type": "execute_result"
    }
   ],
   "source": [
    "uni.columns"
   ]
  },
  {
   "cell_type": "code",
   "execution_count": 3,
   "metadata": {
    "scrolled": false
   },
   "outputs": [
    {
     "ename": "ValueError",
     "evalue": "When using the prior function you must provide observables as input.",
     "output_type": "error",
     "traceback": [
      "\u001b[0;31m---------------------------------------------------------------------------\u001b[0m",
      "\u001b[0;31mValueError\u001b[0m                                Traceback (most recent call last)",
      "\u001b[0;32m/var/folders/qh/nrsz4hq94kg510wh1srt1x0ry2q37w/T/ipykernel_78283/11299006.py\u001b[0m in \u001b[0;36m<module>\u001b[0;34m\u001b[0m\n\u001b[0;32m----> 1\u001b[0;31m \u001b[0mj\u001b[0m \u001b[0;34m=\u001b[0m \u001b[0mjanet\u001b[0m\u001b[0;34m.\u001b[0m\u001b[0mboot\u001b[0m\u001b[0;34m(\u001b[0m\u001b[0muni\u001b[0m\u001b[0;34m,\u001b[0m \u001b[0mindex\u001b[0m\u001b[0;34m=\u001b[0m\u001b[0;36m0\u001b[0m\u001b[0;34m)\u001b[0m\u001b[0;34m\u001b[0m\u001b[0;34m\u001b[0m\u001b[0m\n\u001b[0m",
      "\u001b[0;32m~/Research/michael/Examples/../michael/janet.py\u001b[0m in \u001b[0;36mboot\u001b[0;34m(df, index, output_path)\u001b[0m\n\u001b[1;32m    199\u001b[0m         \u001b[0mSets\u001b[0m \u001b[0mup\u001b[0m \u001b[0mJanet\u001b[0m \u001b[0mquickly\u001b[0m\u001b[0;34m.\u001b[0m\u001b[0;34m\u001b[0m\u001b[0;34m\u001b[0m\u001b[0m\n\u001b[1;32m    200\u001b[0m         \"\"\"\n\u001b[0;32m--> 201\u001b[0;31m         return janet(\n\u001b[0m\u001b[1;32m    202\u001b[0m             \u001b[0mgaiaid\u001b[0m \u001b[0;34m=\u001b[0m \u001b[0mdf\u001b[0m\u001b[0;34m.\u001b[0m\u001b[0mloc\u001b[0m\u001b[0;34m[\u001b[0m\u001b[0mindex\u001b[0m\u001b[0;34m,\u001b[0m \u001b[0;34m'source_id'\u001b[0m\u001b[0;34m]\u001b[0m\u001b[0;34m,\u001b[0m \u001b[0mra\u001b[0m \u001b[0;34m=\u001b[0m \u001b[0mdf\u001b[0m\u001b[0;34m.\u001b[0m\u001b[0mloc\u001b[0m\u001b[0;34m[\u001b[0m\u001b[0mindex\u001b[0m\u001b[0;34m,\u001b[0m \u001b[0;34m'ra'\u001b[0m\u001b[0;34m]\u001b[0m\u001b[0;34m,\u001b[0m \u001b[0mdec\u001b[0m \u001b[0;34m=\u001b[0m \u001b[0mdf\u001b[0m\u001b[0;34m.\u001b[0m\u001b[0mloc\u001b[0m\u001b[0;34m[\u001b[0m\u001b[0mindex\u001b[0m\u001b[0;34m,\u001b[0m \u001b[0;34m'dec'\u001b[0m\u001b[0;34m]\u001b[0m\u001b[0;34m,\u001b[0m\u001b[0;34m\u001b[0m\u001b[0;34m\u001b[0m\u001b[0m\n\u001b[1;32m    203\u001b[0m             \u001b[0moutput_path\u001b[0m \u001b[0;34m=\u001b[0m \u001b[0moutput_path\u001b[0m\u001b[0;34m,\u001b[0m \u001b[0mverbose\u001b[0m\u001b[0;34m=\u001b[0m\u001b[0;32mTrue\u001b[0m\u001b[0;34m,\u001b[0m \u001b[0muse_prior\u001b[0m\u001b[0;34m=\u001b[0m\u001b[0;32mTrue\u001b[0m\u001b[0;34m,\u001b[0m \u001b[0mobs\u001b[0m \u001b[0;34m=\u001b[0m \u001b[0;32mNone\u001b[0m\u001b[0;34m\u001b[0m\u001b[0;34m\u001b[0m\u001b[0m\n",
      "\u001b[0;32m~/Research/michael/Examples/../michael/janet.py\u001b[0m in \u001b[0;36m__init__\u001b[0;34m(self, gaiaid, ra, dec, output_path, use_prior, obs, verbose)\u001b[0m\n\u001b[1;32m     62\u001b[0m \u001b[0;34m\u001b[0m\u001b[0m\n\u001b[1;32m     63\u001b[0m             \u001b[0;32mif\u001b[0m \u001b[0muse_prior\u001b[0m \u001b[0;32mand\u001b[0m \u001b[0mobs\u001b[0m \u001b[0;32mis\u001b[0m \u001b[0;32mNone\u001b[0m\u001b[0;34m:\u001b[0m\u001b[0;34m\u001b[0m\u001b[0;34m\u001b[0m\u001b[0m\n\u001b[0;32m---> 64\u001b[0;31m                 raise ValueError('When using the prior function you must provide '\n\u001b[0m\u001b[1;32m     65\u001b[0m                                  'observables as input.')\n\u001b[1;32m     66\u001b[0m \u001b[0;34m\u001b[0m\u001b[0m\n",
      "\u001b[0;31mValueError\u001b[0m: When using the prior function you must provide observables as input."
     ]
    }
   ],
   "source": [
    "j = janet.boot(uni, index=0)\n"
   ]
  },
  {
   "cell_type": "code",
   "execution_count": null,
   "metadata": {},
   "outputs": [],
   "source": []
  },
  {
   "cell_type": "code",
   "execution_count": null,
   "metadata": {},
   "outputs": [],
   "source": []
  },
  {
   "cell_type": "code",
   "execution_count": null,
   "metadata": {
    "scrolled": false
   },
   "outputs": [],
   "source": [
    "j.run(period_range = (1., 13.))"
   ]
  },
  {
   "cell_type": "code",
   "execution_count": null,
   "metadata": {},
   "outputs": [],
   "source": []
  }
 ],
 "metadata": {
  "kernelspec": {
   "display_name": "michael",
   "language": "python",
   "name": "michael"
  },
  "language_info": {
   "codemirror_mode": {
    "name": "ipython",
    "version": 3
   },
   "file_extension": ".py",
   "mimetype": "text/x-python",
   "name": "python",
   "nbconvert_exporter": "python",
   "pygments_lexer": "ipython3",
   "version": "3.8.11"
  }
 },
 "nbformat": 4,
 "nbformat_minor": 4
}
