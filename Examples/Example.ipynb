{
 "cells": [
  {
   "cell_type": "code",
   "execution_count": 1,
   "metadata": {},
   "outputs": [
    {
     "name": "stderr",
     "output_type": "stream",
     "text": [
      "2022-10-10 12:28:24.298461: I tensorflow/core/platform/cpu_feature_guard.cc:193] This TensorFlow binary is optimized with oneAPI Deep Neural Network Library (oneDNN) to use the following CPU instructions in performance-critical operations:  AVX2 FMA\n",
      "To enable them in other operations, rebuild TensorFlow with the appropriate compiler flags.\n"
     ]
    },
    {
     "name": "stdout",
     "output_type": "stream",
     "text": [
      "Hi there. Welcome to the good place.\n"
     ]
    }
   ],
   "source": [
    "import sys\n",
    "import numpy as np\n",
    "import matplotlib.pyplot as plt\n",
    "import pandas as pd\n",
    "import warnings\n",
    "from scipy.signal import find_peaks\n",
    "from scipy.optimize import curve_fit\n",
    "from scipy.ndimage import gaussian_filter1d\n",
    "\n",
    "sys.path.insert(0, \"../\")\n",
    "\n",
    "import warnings\n",
    "warnings.filterwarnings('ignore')\n",
    "\n",
    "from michael import janet"
   ]
  },
  {
   "cell_type": "code",
   "execution_count": 2,
   "metadata": {},
   "outputs": [],
   "source": [
    "uni = pd.read_csv(\"/Users/oliver hall/Research/unicorn/data/unicorn.csv\", index_col=0)"
   ]
  },
  {
   "cell_type": "code",
   "execution_count": 3,
   "metadata": {},
   "outputs": [],
   "source": [
    "index = 1"
   ]
  },
  {
   "cell_type": "code",
   "execution_count": 4,
   "metadata": {
    "scrolled": false
   },
   "outputs": [
    {
     "name": "stdout",
     "output_type": "stream",
     "text": [
      "Already have data downloaded for Gaia ID 2174289161681454720.\n",
      "If you want to check for new data, run `janet.update()`.\n",
      "Removing 186 bad data points (out of 1121) using the TESS provided QUALITY array\n",
      "Summing over 2 x 2 pixel lightcurves. Weighting=median\n",
      "Removing 4 bad data points (out of 1130) using the TESS provided QUALITY array\n",
      "Summing over 2 x 2 pixel lightcurves. Weighting=median\n"
     ]
    },
    {
     "name": "stderr",
     "output_type": "stream",
     "text": [
      "Running pixels in aperture: 100%|████████████| 300/300 [00:00<00:00, 316.45it/s]\n"
     ]
    }
   ],
   "source": [
    "j = janet.boot(uni, index=index, use_prior=False)\n",
    "j.prepare_data()"
   ]
  },
  {
   "cell_type": "code",
   "execution_count": 5,
   "metadata": {},
   "outputs": [
    {
     "name": "stdout",
     "output_type": "stream",
     "text": [
      "### Running Simple Astropy Lomb-Scargle on Sector 16-17 on star 2174289161681454720 ###\n",
      "### Completed Simple Astropy Lomb-Scargle for Sector 16-17 on star 2174289161681454720 ###\n",
      "### Running Wavelet Estimation for Sector 16-17 on star 2174289161681454720 ###\n"
     ]
    },
    {
     "name": "stderr",
     "output_type": "stream",
     "text": [
      "100%|█████████████████████████████████████████| 152/152 [00:02<00:00, 72.07it/s]"
     ]
    },
    {
     "name": "stdout",
     "output_type": "stream",
     "text": [
      "### Completed Wavelet Estimation for Sector 16-17 on star 2174289161681454720 ###\n",
      "### Running Composite ACF estimation for Sector 16-17 on star 2174289161681454720 ###\n",
      "### Completed Composite ACF estimation for Sector 16-17 on star 2174289161681454720 ###\n",
      "### Running ACF Estimation on star 2174289161681454720 ###\n",
      "### Completed ACF Estimation for Sector 16-17 on star 2174289161681454720 ###\n"
     ]
    },
    {
     "name": "stderr",
     "output_type": "stream",
     "text": [
      "\n"
     ]
    }
   ],
   "source": [
    "j.get_rotation(period_range=(1, 10))"
   ]
  },
  {
   "cell_type": "code",
   "execution_count": 6,
   "metadata": {
    "scrolled": false
   },
   "outputs": [
    {
     "ename": "AttributeError",
     "evalue": "module 'numpy' has no attribute 'nanabs'",
     "output_type": "error",
     "traceback": [
      "\u001b[0;31m---------------------------------------------------------------------------\u001b[0m",
      "\u001b[0;31mAttributeError\u001b[0m                            Traceback (most recent call last)",
      "Input \u001b[0;32mIn [6]\u001b[0m, in \u001b[0;36m<cell line: 1>\u001b[0;34m()\u001b[0m\n\u001b[0;32m----> 1\u001b[0m \u001b[43mj\u001b[49m\u001b[38;5;241;43m.\u001b[39;49m\u001b[43mvalidate_rotation\u001b[49m\u001b[43m(\u001b[49m\u001b[43m)\u001b[49m\n\u001b[1;32m      2\u001b[0m j\u001b[38;5;241m.\u001b[39mview()\n",
      "File \u001b[0;32m~/Research/michael/Examples/../michael/janet.py:132\u001b[0m, in \u001b[0;36mjanet.validate_rotation\u001b[0;34m(self)\u001b[0m\n\u001b[1;32m    131\u001b[0m \u001b[38;5;28;01mdef\u001b[39;00m \u001b[38;5;21mvalidate_rotation\u001b[39m(\u001b[38;5;28mself\u001b[39m):\n\u001b[0;32m--> 132\u001b[0m     \u001b[43mvalidator\u001b[49m\u001b[43m(\u001b[49m\u001b[38;5;28;43mself\u001b[39;49m\u001b[43m)\u001b[49m\n",
      "File \u001b[0;32m~/Research/michael/Examples/../michael/validate.py:423\u001b[0m, in \u001b[0;36mvalidator\u001b[0;34m(j)\u001b[0m\n\u001b[1;32m    420\u001b[0m validate_ACF(j)\n\u001b[1;32m    422\u001b[0m \u001b[38;5;66;03m# Validate the three estimates\u001b[39;00m\n\u001b[0;32m--> 423\u001b[0m \u001b[43mvalidate_best\u001b[49m\u001b[43m(\u001b[49m\u001b[43mj\u001b[49m\u001b[43m)\u001b[49m\n\u001b[1;32m    425\u001b[0m \u001b[38;5;66;03m# Validate ACF vs the 'best' period\u001b[39;00m\n\u001b[1;32m    426\u001b[0m \u001b[38;5;66;03m# validate_best_vs_ACF(j)\u001b[39;00m\n\u001b[1;32m    427\u001b[0m \n\u001b[1;32m    428\u001b[0m \u001b[38;5;66;03m# Validate individual sectors\u001b[39;00m\n\u001b[1;32m    429\u001b[0m \u001b[38;5;28;01mif\u001b[39;00m \u001b[38;5;28mlen\u001b[39m(j\u001b[38;5;241m.\u001b[39msectors) \u001b[38;5;241m>\u001b[39m \u001b[38;5;241m1\u001b[39m:\n",
      "File \u001b[0;32m~/Research/michael/Examples/../michael/validate.py:188\u001b[0m, in \u001b[0;36mvalidate_best\u001b[0;34m(j)\u001b[0m\n\u001b[1;32m    185\u001b[0m p2ps \u001b[38;5;241m=\u001b[39m j\u001b[38;5;241m.\u001b[39mresults\u001b[38;5;241m.\u001b[39mloc[\u001b[38;5;124m'\u001b[39m\u001b[38;5;124mbest\u001b[39m\u001b[38;5;124m'\u001b[39m, [\u001b[38;5;124m'\u001b[39m\u001b[38;5;124mp2p_SLS\u001b[39m\u001b[38;5;124m'\u001b[39m,\u001b[38;5;124m'\u001b[39m\u001b[38;5;124mp2p_SW\u001b[39m\u001b[38;5;124m'\u001b[39m,\u001b[38;5;124m'\u001b[39m\u001b[38;5;124mp2p_CACF\u001b[39m\u001b[38;5;124m'\u001b[39m, \u001b[38;5;124m'\u001b[39m\u001b[38;5;124mp2p_ACF\u001b[39m\u001b[38;5;124m'\u001b[39m]]\u001b[38;5;66;03m#.dropna()']\u001b[39;00m\n\u001b[1;32m    187\u001b[0m \u001b[38;5;66;03m# If they agree, then pick the one with the highest p2p value\u001b[39;00m\n\u001b[0;32m--> 188\u001b[0m \u001b[38;5;28;01mif\u001b[39;00m \u001b[43mnp\u001b[49m\u001b[38;5;241;43m.\u001b[39;49m\u001b[43mnanabs\u001b[49m(np\u001b[38;5;241m.\u001b[39mnandiff(best\u001b[38;5;241m.\u001b[39mdrpona(), \u001b[38;5;28mlen\u001b[39m(best\u001b[38;5;241m.\u001b[39mdrpona())\u001b[38;5;241m-\u001b[39m\u001b[38;5;241m1\u001b[39m)) \u001b[38;5;241m<\u001b[39m np\u001b[38;5;241m.\u001b[39msqrt(np\u001b[38;5;241m.\u001b[39mnansum(ebest\u001b[38;5;241m*\u001b[39m\u001b[38;5;241m*\u001b[39m\u001b[38;5;241m2\u001b[39m)):\n\u001b[1;32m    189\u001b[0m     frac \u001b[38;5;241m=\u001b[39m ebest\u001b[38;5;241m.\u001b[39mvalues \u001b[38;5;241m/\u001b[39m  best\u001b[38;5;241m.\u001b[39mvalues\n\u001b[1;32m    190\u001b[0m     s \u001b[38;5;241m=\u001b[39m np\u001b[38;5;241m.\u001b[39margmin(frac)\n",
      "File \u001b[0;32m/Users/Anaconda/anaconda3/envs/michael/lib/python3.10/site-packages/numpy/__init__.py:311\u001b[0m, in \u001b[0;36m__getattr__\u001b[0;34m(attr)\u001b[0m\n\u001b[1;32m    308\u001b[0m     \u001b[38;5;28;01mfrom\u001b[39;00m \u001b[38;5;21;01m.\u001b[39;00m\u001b[38;5;21;01mtesting\u001b[39;00m \u001b[38;5;28;01mimport\u001b[39;00m Tester\n\u001b[1;32m    309\u001b[0m     \u001b[38;5;28;01mreturn\u001b[39;00m Tester\n\u001b[0;32m--> 311\u001b[0m \u001b[38;5;28;01mraise\u001b[39;00m \u001b[38;5;167;01mAttributeError\u001b[39;00m(\u001b[38;5;124m\"\u001b[39m\u001b[38;5;124mmodule \u001b[39m\u001b[38;5;132;01m{!r}\u001b[39;00m\u001b[38;5;124m has no attribute \u001b[39m\u001b[38;5;124m\"\u001b[39m\n\u001b[1;32m    312\u001b[0m                      \u001b[38;5;124m\"\u001b[39m\u001b[38;5;132;01m{!r}\u001b[39;00m\u001b[38;5;124m\"\u001b[39m\u001b[38;5;241m.\u001b[39mformat(\u001b[38;5;18m__name__\u001b[39m, attr))\n",
      "\u001b[0;31mAttributeError\u001b[0m: module 'numpy' has no attribute 'nanabs'"
     ]
    }
   ],
   "source": [
    "j.validate_rotation()\n",
    "j.view()"
   ]
  },
  {
   "cell_type": "code",
   "execution_count": 10,
   "metadata": {},
   "outputs": [
    {
     "data": {
      "text/plain": [
       "p2p_SLS     0.002119\n",
       "p2p_SW      0.002055\n",
       "p2p_CACF    0.002724\n",
       "p2p_ACF     0.001345\n",
       "Name: best, dtype: object"
      ]
     },
     "execution_count": 10,
     "metadata": {},
     "output_type": "execute_result"
    }
   ],
   "source": [
    "p2ps"
   ]
  },
  {
   "cell_type": "code",
   "execution_count": 7,
   "metadata": {},
   "outputs": [],
   "source": [
    "    # Validate the best estimates against one another\n",
    "    # Check to see if they agree closely with one another\n",
    "    best = j.results.loc['best', ['SLS','SW','CACF', 'ACF']]#.dropna()\n",
    "    ebest = j.results.loc['best', ['e_SLS','e_SW','e_CACF', 'e_ACF']]#.dropna()\n",
    "    p2ps = j.results.loc['best', ['p2p_SLS','p2p_SW','p2p_CACF', 'p2p_ACF']]#.dropna()']"
   ]
  },
  {
   "cell_type": "code",
   "execution_count": 9,
   "metadata": {},
   "outputs": [
    {
     "data": {
      "text/plain": [
       "p2p_SLS     0.002119\n",
       "p2p_SW      0.002055\n",
       "p2p_CACF    0.002724\n",
       "p2p_ACF     0.001345\n",
       "Name: best, dtype: object"
      ]
     },
     "execution_count": 9,
     "metadata": {},
     "output_type": "execute_result"
    }
   ],
   "source": [
    "p2ps"
   ]
  },
  {
   "cell_type": "code",
   "execution_count": null,
   "metadata": {},
   "outputs": [],
   "source": [
    "np.abs(np.diff(best.dropna(), len(best.dropna())-1)) < np.sqrt(np.nansum(ebest**2))\n",
    "\n"
   ]
  },
  {
   "cell_type": "code",
   "execution_count": null,
   "metadata": {},
   "outputs": [],
   "source": [
    "np.diff(best.dropna(), len(best.dropna())-1)"
   ]
  },
  {
   "cell_type": "code",
   "execution_count": null,
   "metadata": {},
   "outputs": [],
   "source": [
    "np.diff(best, n=3)"
   ]
  },
  {
   "cell_type": "code",
   "execution_count": null,
   "metadata": {},
   "outputs": [],
   "source": [
    "j.results"
   ]
  },
  {
   "cell_type": "markdown",
   "metadata": {},
   "source": [
    "Plot lightcurves"
   ]
  },
  {
   "cell_type": "code",
   "execution_count": null,
   "metadata": {},
   "outputs": [],
   "source": [
    "ax = j.void['clc_16-17'].plot(label='eleanor')\n",
    "\n",
    "pls = ['c','raw','pca','corn','r', 'cpm']\n",
    "for pl in pls:\n",
    "    j.void[f'{pl}lc_16-17'].plot(ax=ax, label=pl)\n",
    "ax.legend(fontsize=10)"
   ]
  },
  {
   "cell_type": "code",
   "execution_count": null,
   "metadata": {},
   "outputs": [],
   "source": [
    "ax = j.void['clc_16-17'].to_periodogram(maximum_period=27).plot(label='eleanor', view='period')\n",
    "\n",
    "pls = ['c','raw','pca','corn','r', 'cpm']\n",
    "for pl in pls:\n",
    "    j.void[f'{pl}lc_16-17'].to_periodogram(maximum_period=27).plot(ax=ax, label=pl,view='period', scale='log')\n",
    "    ax.axvline(j.void[f'{pl}lc_16-17'].to_periodogram(maximum_period=27).period_at_max_power.value)\n",
    "    print(j.void[f'{pl}lc_16-17'].to_periodogram(maximum_period=27).period_at_max_power)\n",
    "ax.legend(fontsize=10)"
   ]
  },
  {
   "cell_type": "code",
   "execution_count": null,
   "metadata": {},
   "outputs": [],
   "source": []
  },
  {
   "cell_type": "code",
   "execution_count": null,
   "metadata": {},
   "outputs": [],
   "source": []
  }
 ],
 "metadata": {
  "kernelspec": {
   "display_name": "michael",
   "language": "python",
   "name": "michael"
  },
  "language_info": {
   "codemirror_mode": {
    "name": "ipython",
    "version": 3
   },
   "file_extension": ".py",
   "mimetype": "text/x-python",
   "name": "python",
   "nbconvert_exporter": "python",
   "pygments_lexer": "ipython3",
   "version": "3.10.4"
  }
 },
 "nbformat": 4,
 "nbformat_minor": 4
}
