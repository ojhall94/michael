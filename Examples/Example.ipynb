{
 "cells": [
  {
   "cell_type": "code",
   "execution_count": 1,
   "metadata": {},
   "outputs": [
    {
     "name": "stdout",
     "output_type": "stream",
     "text": [
      "Hi there. Welcome to the good place.\n"
     ]
    }
   ],
   "source": [
    "import sys\n",
    "# import numpy as np\n",
    "# import matplotlib.pyplot as plt\n",
    "import pandas as pd\n",
    "# import lightkurve as lk\n",
    "# from scipy.optimize import curve_fit\n",
    "\n",
    "# from astropy.convolution import Gaussian1DKernel\n",
    "# from astropy.convolution import convolve\n",
    "sys.path.insert(0, \"../\")\n",
    "\n",
    "from michael import janet"
   ]
  },
  {
   "cell_type": "code",
   "execution_count": 2,
   "metadata": {},
   "outputs": [],
   "source": [
    "uni = pd.read_csv(\"/Users/oliver hall/Research/unicorn/data/unicorn.csv\", index_col=0)"
   ]
  },
  {
   "cell_type": "markdown",
   "metadata": {},
   "source": [
    "Index 258 is a good tester. Clear rotational signal, ambiguous peak mode."
   ]
  },
  {
   "cell_type": "code",
   "execution_count": 3,
   "metadata": {},
   "outputs": [],
   "source": [
    "j = janet.boot(uni, index=24)"
   ]
  },
  {
   "cell_type": "code",
   "execution_count": null,
   "metadata": {
    "scrolled": false
   },
   "outputs": [
    {
     "name": "stdout",
     "output_type": "stream",
     "text": [
      "Already have data downloaded for Gaia ID 3296334520042680064.\n",
      "If you want to check for new data, run `janet.update()`.\n",
      "No postcard object will be created for this target.\n",
      "### Running Simple Astropy Lomb-Scargle on Sector 5 on star 3296334520042680064 ###\n",
      "### Completed Simple Astropy Lomb-Scargle for Sector 5 on star 3296334520042680064 ###\n",
      "### Saved results ###\n",
      "### Running Simple Astropy Lomb-Scargle on Sector 32 on star 3296334520042680064 ###\n",
      "### Completed Simple Astropy Lomb-Scargle for Sector 32 on star 3296334520042680064 ###\n",
      "### Saved results ###\n",
      "### Running Wavelet Estimation on star 3296334520042680064 ###\n"
     ]
    },
    {
     "name": "stderr",
     "output_type": "stream",
     "text": [
      "/Users/Anaconda/anaconda3/envs/michael/lib/python3.8/site-packages/jazz_hands-0.0.3-py3.8.egg/jazzhands/wavelets.py:488: TqdmExperimentalWarning: Using `tqdm.autonotebook.tqdm` in notebook mode. Use `tqdm.tqdm` instead to force console mode (e.g. in jupyter console)\n",
      "  from tqdm.autonotebook import tqdm\n"
     ]
    },
    {
     "data": {
      "application/vnd.jupyter.widget-view+json": {
       "model_id": "e6ebe5bc5e95443992ff9c00f482c590",
       "version_major": 2,
       "version_minor": 0
      },
      "text/plain": [
       "  0%|          | 0/77 [00:00<?, ?it/s]"
      ]
     },
     "metadata": {},
     "output_type": "display_data"
    },
    {
     "data": {
      "application/vnd.jupyter.widget-view+json": {
       "model_id": "ffc9faeb07bd42d1916d04388ebacdc1",
       "version_major": 2,
       "version_minor": 0
      },
      "text/plain": [
       "  0%|          | 0/78 [00:00<?, ?it/s]"
      ]
     },
     "metadata": {},
     "output_type": "display_data"
    },
    {
     "name": "stdout",
     "output_type": "stream",
     "text": [
      "### Completed Wavelet Estimation on star 3296334520042680064 ###\n",
      "### Saved results ###\n",
      "### Running ACF Estimation on star 3296334520042680064 ###\n",
      "### Completed ACF Estimation on star 3296334520042680064 ###\n",
      "### Saved results ###\n",
      "### Saved results ###\n",
      "### Saved results ###\n",
      "### Saved results ###\n",
      "### Saved results ###\n",
      "### Saved results ###\n"
     ]
    },
    {
     "name": "stderr",
     "output_type": "stream",
     "text": [
      "/Users/oliver hall/.local/lib/python3.8/site-packages/matplotlib/axes/_base.py:2283: UserWarning: Warning: converting a masked element to nan.\n",
      "  xys = np.asarray(xys)\n",
      "/Users/oliver hall/Research/michael/Examples/../michael/plotting.py:301: MatplotlibDeprecationWarning: savefig() got unexpected keyword argument \"rasterized\" which is no longer supported as of 3.3 and will become an error two minor releases later\n",
      "  plt.savefig(f'{j.output_path}/{j.gaiaid}/output.pdf', rasterized=True)\n"
     ]
    }
   ],
   "source": [
    "j.run(period_range = (1, 3))"
   ]
  },
  {
   "cell_type": "code",
   "execution_count": null,
   "metadata": {},
   "outputs": [],
   "source": [
    "lc = j.void[f'clc_5']\n",
    "lc.time.value - lc.time.value.min()"
   ]
  },
  {
   "cell_type": "code",
   "execution_count": null,
   "metadata": {},
   "outputs": [],
   "source": [
    "lc.time.format"
   ]
  },
  {
   "cell_type": "code",
   "execution_count": null,
   "metadata": {},
   "outputs": [],
   "source": [
    "from brokenaxes import brokenaxes\n",
    "from matplotlib.gridspec import GridSpec\n",
    "import matplotlib.pyplot as plt\n",
    "\n",
    "fig = plt.figure(figsize=(20, 37))\n",
    "gs = GridSpec(5,3, figure=fig)\n",
    "xlims = []\n",
    "for s in j.sectors:\n",
    "    xlims.append((j.void[f'clc_{s}'].time.value.min(), j.void[f'clc_{s}'].time.value.max()))\n",
    "\n",
    "bax = brokenaxes(xlims=xlims, subplot_spec = gs[0, 1:],\n",
    "                despine=False)\n",
    "\n",
    "for s in j.sectors:\n",
    "    j.void[f'clc_{s}'].plot(ax=bax, lw=1)\n",
    "    \n",
    "bax.legend().set_visible(False)\n",
    "plt.xlabel('blah')\n",
    "plt.ylabel('blah')\n",
    "bax.diag_handles.remove()"
   ]
  },
  {
   "cell_type": "code",
   "execution_count": null,
   "metadata": {},
   "outputs": [],
   "source": [
    "j.results"
   ]
  },
  {
   "cell_type": "code",
   "execution_count": null,
   "metadata": {},
   "outputs": [],
   "source": [
    "j.validate_rotation()"
   ]
  },
  {
   "cell_type": "code",
   "execution_count": null,
   "metadata": {},
   "outputs": [],
   "source": [
    "j.results"
   ]
  },
  {
   "cell_type": "code",
   "execution_count": null,
   "metadata": {
    "scrolled": false
   },
   "outputs": [],
   "source": [
    "list(j.void)"
   ]
  },
  {
   "cell_type": "code",
   "execution_count": null,
   "metadata": {},
   "outputs": [],
   "source": [
    "j.results"
   ]
  },
  {
   "cell_type": "code",
   "execution_count": null,
   "metadata": {},
   "outputs": [],
   "source": [
    "import numpy as np\n",
    "import lightkurve as lk\n",
    "import matplotlib.pyplot as plt\n",
    "\n",
    "import pymc3 as pm"
   ]
  },
  {
   "cell_type": "code",
   "execution_count": null,
   "metadata": {},
   "outputs": [],
   "source": [
    "acfsmoo = j.void['acfsmoo']\n",
    "wt = j.void['wt']\n",
    "nus = wt.nus\n",
    "wwz = j.void['wwz']"
   ]
  },
  {
   "cell_type": "code",
   "execution_count": null,
   "metadata": {
    "scrolled": false
   },
   "outputs": [],
   "source": [
    "acfsmoolc = lk.LightCurve(time = j.void['acflc'].time.value, flux = acfsmoo)"
   ]
  },
  {
   "cell_type": "code",
   "execution_count": null,
   "metadata": {},
   "outputs": [],
   "source": [
    "Model = pm.Model()\n",
    "P = acfsmoolc.time.value\n",
    "F = acfsmoolc.flux.value\n",
    "\n",
    "with Model:\n",
    "    A0 = pm.Uniform('A0', 0., 1., testval=0.05)\n",
    "    A1 = pm.Uniform('A1', 0., 10., testval=0.5)\n",
    "    yy = pm.Deterministic('yy', (1-A0)*np.exp(-P/A1) + A0)\n",
    "    y = pm.Normal('like', mu=yy, sigma = np.std(F),\n",
    "                 observed=F)"
   ]
  },
  {
   "cell_type": "code",
   "execution_count": null,
   "metadata": {},
   "outputs": [],
   "source": [
    "with Model:\n",
    "    trace = pm.sample()"
   ]
  },
  {
   "cell_type": "code",
   "execution_count": null,
   "metadata": {},
   "outputs": [],
   "source": [
    "yy = np.median(trace['yy'], axis=0)\n",
    "normacf = acfsmoolc - yy"
   ]
  },
  {
   "cell_type": "code",
   "execution_count": null,
   "metadata": {},
   "outputs": [],
   "source": [
    "binned = normacf.bin()"
   ]
  }
 ],
 "metadata": {
  "kernelspec": {
   "display_name": "michael",
   "language": "python",
   "name": "michael"
  },
  "language_info": {
   "codemirror_mode": {
    "name": "ipython",
    "version": 3
   },
   "file_extension": ".py",
   "mimetype": "text/x-python",
   "name": "python",
   "nbconvert_exporter": "python",
   "pygments_lexer": "ipython3",
   "version": "3.8.11"
  }
 },
 "nbformat": 4,
 "nbformat_minor": 4
}
