{
 "cells": [
  {
   "cell_type": "code",
   "execution_count": null,
   "id": "2e803a12",
   "metadata": {},
   "outputs": [],
   "source": [
    "import sys\n",
    "import numpy as np\n",
    "import matplotlib.pyplot as plt\n",
    "import pandas as pd\n",
    "import warnings\n",
    "from scipy.signal import find_peaks\n",
    "from scipy.optimize import curve_fit\n",
    "from scipy.ndimage import gaussian_filter1d\n",
    "\n",
    "sys.path.insert(0, \"../\")\n",
    "\n",
    "sys.path.insert(0, \"~/home/\")\n",
    "# import warnings\n",
    "# warnings.filterwarnings('ignore')\n",
    "\n",
    "from michael import janet"
   ]
  },
  {
   "cell_type": "code",
   "execution_count": null,
   "id": "01dffbe7",
   "metadata": {},
   "outputs": [],
   "source": [
    "uni = pd.read_csv(\"/Users/oliver.hall/Research/unicorn/data/unicorn.csv\", index_col=0)"
   ]
  },
  {
   "cell_type": "code",
   "execution_count": null,
   "id": "447214a5",
   "metadata": {},
   "outputs": [],
   "source": [
    "index = 1#uni[uni.source_id == int(48977371798954368)].index[0]"
   ]
  },
  {
   "cell_type": "code",
   "execution_count": null,
   "id": "6a310d9d",
   "metadata": {
    "scrolled": false
   },
   "outputs": [],
   "source": [
    "for method in ['tess-sip']:#'eleanor', 'eleanor-corner','eleanor-pca', 'unpopular','tess-sip', 'tess-sip-detrended']:\n",
    "    j = janet.boot(uni, index=index, pipeline = method)\n",
    "    j.prepare_data()\n",
    "    j.get_rotation()\n",
    "    j.validate_rotation()\n",
    "    j.view()\n",
    "    plt.show()"
   ]
  },
  {
   "cell_type": "markdown",
   "id": "c3e3b518",
   "metadata": {},
   "source": [
    "Let's have a look at the raw input flux, the corrected flux, and the periodograms of both."
   ]
  },
  {
   "cell_type": "code",
   "execution_count": null,
   "id": "137affff",
   "metadata": {},
   "outputs": [],
   "source": [
    "p1 = j.void['r_16-17']['periods']\n",
    "P1 = j.void['r_16-17']['power']\n",
    "p2 = j.void['r_56-57']['periods']\n",
    "P2 = j.void['r_56-57']['power']\n",
    "plt.plot(p1, P1)\n",
    "plt.plot(p2, P2)"
   ]
  },
  {
   "cell_type": "code",
   "execution_count": null,
   "id": "57616752",
   "metadata": {},
   "outputs": [],
   "source": [
    "j.results"
   ]
  },
  {
   "cell_type": "code",
   "execution_count": null,
   "id": "e9d0e412",
   "metadata": {},
   "outputs": [],
   "source": [
    "from scipy.signal import find_peaks\n",
    "pg = j.void['pg_16-17']\n",
    "ax = pg.plot(view='period')\n",
    "ax.axhline(np.percentile(P1, 97))\n"
   ]
  },
  {
   "cell_type": "code",
   "execution_count": null,
   "id": "010e86d9",
   "metadata": {},
   "outputs": [],
   "source": [
    "peaks"
   ]
  },
  {
   "cell_type": "code",
   "execution_count": null,
   "id": "dd264e5e",
   "metadata": {},
   "outputs": [],
   "source": [
    "len(P1)"
   ]
  },
  {
   "cell_type": "code",
   "execution_count": null,
   "id": "80366ade",
   "metadata": {},
   "outputs": [],
   "source": [
    "peaks, _ = find_peaks(P1, height = np.percentile(P1, 97))\n",
    "plt.plot(p1, P1)\n",
    "for peak in peaks:\n",
    "    plt.axvline(p1[peak], c= 'r', alpha=.5)"
   ]
  },
  {
   "cell_type": "code",
   "execution_count": null,
   "id": "9e025f24",
   "metadata": {},
   "outputs": [],
   "source": [
    "len(peaks)"
   ]
  },
  {
   "cell_type": "code",
   "execution_count": null,
   "id": "9637071b",
   "metadata": {},
   "outputs": [],
   "source": [
    "peaks"
   ]
  },
  {
   "cell_type": "code",
   "execution_count": null,
   "id": "ebc4df49",
   "metadata": {},
   "outputs": [],
   "source": [
    "np.argmax(P1[peaks])"
   ]
  },
  {
   "cell_type": "code",
   "execution_count": null,
   "id": "e2350e58",
   "metadata": {},
   "outputs": [],
   "source": [
    "p1[6]"
   ]
  },
  {
   "cell_type": "code",
   "execution_count": null,
   "id": "4f2aab4e",
   "metadata": {},
   "outputs": [],
   "source": []
  }
 ],
 "metadata": {
  "kernelspec": {
   "display_name": "michael10",
   "language": "python",
   "name": "michael10"
  },
  "language_info": {
   "codemirror_mode": {
    "name": "ipython",
    "version": 3
   },
   "file_extension": ".py",
   "mimetype": "text/x-python",
   "name": "python",
   "nbconvert_exporter": "python",
   "pygments_lexer": "ipython3",
   "version": "3.10.9"
  }
 },
 "nbformat": 4,
 "nbformat_minor": 5
}
