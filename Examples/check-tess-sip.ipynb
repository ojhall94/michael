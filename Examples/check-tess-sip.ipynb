{
 "cells": [
  {
   "cell_type": "code",
   "execution_count": 1,
   "id": "2e803a12",
   "metadata": {},
   "outputs": [],
   "source": [
    "import sys\n",
    "import numpy as np\n",
    "import matplotlib.pyplot as plt\n",
    "import pandas as pd\n",
    "import warnings\n",
    "from scipy.signal import find_peaks\n",
    "from scipy.optimize import curve_fit\n",
    "from scipy.ndimage import gaussian_filter1d\n",
    "\n",
    "sys.path.insert(0, \"../\")\n",
    "\n",
    "sys.path.insert(0, \"~/home/\")\n",
    "# import warnings\n",
    "# warnings.filterwarnings('ignore')\n",
    "\n",
    "from michael import janet"
   ]
  },
  {
   "cell_type": "code",
   "execution_count": 2,
   "id": "01dffbe7",
   "metadata": {},
   "outputs": [],
   "source": [
    "uni = pd.read_csv(\"/Users/oliver.hall/Research/unicorn/data/unicorn.csv\", index_col=0)"
   ]
  },
  {
   "cell_type": "code",
   "execution_count": 3,
   "id": "447214a5",
   "metadata": {},
   "outputs": [],
   "source": [
    "index = 1#uni[uni.source_id == int(48977371798954368)].index[0]"
   ]
  },
  {
   "cell_type": "code",
   "execution_count": null,
   "id": "6a310d9d",
   "metadata": {
    "scrolled": false
   },
   "outputs": [
    {
     "name": "stderr",
     "output_type": "stream",
     "text": [
      "/Users/oliver.hall/Research/michael/Examples/../michael/janet.py:218: UserWarning: RUNNING ON TARGET 1, 2174289161681454720, tess-sip\n",
      "  warnings.warn(f'RUNNING ON TARGET {index}, {df.loc[index, \"source_id\"]}, {pipeline}')\n"
     ]
    },
    {
     "name": "stdout",
     "output_type": "stream",
     "text": [
      "Target DR3 ID 2174289161681454720 has tesscut data available on MAST for Sectors 16, 17, 56, 57\n",
      "Data already downloaded for Sector 16.\n",
      "Data already downloaded for Sector 17.\n",
      "Data already downloaded for Sector 56.\n",
      "Data already downloaded for Sector 57.\n",
      "Period range automatically set to 0.75x the length of the longest baseline.\n",
      "For this target, this is 40.5 days.\n",
      "### Running TESS-SIP on Sector 16-17 on star 2174289161681454720 ###\n"
     ]
    },
    {
     "name": "stderr",
     "output_type": "stream",
     "text": [
      "/Users/oliver.hall/Research/michael/Examples/../michael/janet.py:132: UserWarning: Your upper period limit is longer than half your longest set of consecutive TESS sectors. You'll be more prone to harmonics.\n",
      "  warnings.warn(UserWarning(\"Your upper period limit is longer than half your \"+\n",
      "Running pixels in aperture: 100%|████████| 10000/10000 [00:24<00:00, 400.91it/s]\n",
      "Running pixels in aperture: 100%|████████████████| 1/1 [00:00<00:00, 255.70it/s]\n"
     ]
    },
    {
     "name": "stdout",
     "output_type": "stream",
     "text": [
      "### Completed TESS SIP for Sector 16-17 on star 2174289161681454720 ###\n",
      "### Running TESS-SIP on Sector 56-57 on star 2174289161681454720 ###\n"
     ]
    },
    {
     "name": "stderr",
     "output_type": "stream",
     "text": [
      "Running pixels in aperture:  24%|██▎       | 2367/10000 [00:27<01:27, 87.62it/s]"
     ]
    }
   ],
   "source": [
    "for method in ['tess-sip']:#'eleanor', 'eleanor-corner','eleanor-pca', 'unpopular','tess-sip', 'tess-sip-detrended']:\n",
    "    j = janet.boot(uni, index=index, pipeline = method)\n",
    "    j.prepare_data()\n",
    "    j.get_rotation()\n",
    "    j.validate_rotation()\n",
    "    j.view()\n",
    "    plt.show()"
   ]
  },
  {
   "cell_type": "code",
   "execution_count": null,
   "id": "9734a226",
   "metadata": {
    "scrolled": false
   },
   "outputs": [],
   "source": [
    "from michael.plotting_SIP import plot_SIP\n",
    "plot_SIP(j)"
   ]
  },
  {
   "cell_type": "markdown",
   "id": "c3e3b518",
   "metadata": {},
   "source": [
    "Let's have a look at the raw input flux, the corrected flux, and the periodograms of both."
   ]
  },
  {
   "cell_type": "code",
   "execution_count": null,
   "id": "2e6010ab",
   "metadata": {},
   "outputs": [],
   "source": [
    "tpfs = j.void['tpfs_16-17']"
   ]
  },
  {
   "cell_type": "code",
   "execution_count": null,
   "id": "004e0b17",
   "metadata": {},
   "outputs": [],
   "source": [
    "tpfs[0][0].flux.value"
   ]
  },
  {
   "cell_type": "code",
   "execution_count": null,
   "id": "6587026d",
   "metadata": {},
   "outputs": [],
   "source": [
    "from scipy.signal import find_peaks\n",
    "from scipy import interpolate\n",
    "from scipy.optimize import curve_fit\n",
    "from scipy.ndimage import gaussian_filter1d\n",
    "from tess_sip import SIP\n",
    "from lightkurve import periodogram"
   ]
  },
  {
   "cell_type": "code",
   "execution_count": null,
   "id": "3dab8d8f",
   "metadata": {},
   "outputs": [],
   "source": [
    "j.results"
   ]
  },
  {
   "cell_type": "code",
   "execution_count": null,
   "id": "ed43c233",
   "metadata": {},
   "outputs": [],
   "source": [
    "r = SIP(tpfs, periods = [23.208273])\n"
   ]
  },
  {
   "cell_type": "code",
   "execution_count": null,
   "id": "4be3cbe6",
   "metadata": {},
   "outputs": [],
   "source": [
    "r['corr_lc'].fold(period=23.208273).plot()\n",
    "plt.show()"
   ]
  },
  {
   "cell_type": "code",
   "execution_count": null,
   "id": "7fb2e6cb",
   "metadata": {},
   "outputs": [],
   "source": [
    "SIP"
   ]
  },
  {
   "cell_type": "code",
   "execution_count": null,
   "id": "ddf6756f",
   "metadata": {},
   "outputs": [],
   "source": [
    "SIP"
   ]
  }
 ],
 "metadata": {
  "kernelspec": {
   "display_name": "michael10",
   "language": "python",
   "name": "michael10"
  },
  "language_info": {
   "codemirror_mode": {
    "name": "ipython",
    "version": 3
   },
   "file_extension": ".py",
   "mimetype": "text/x-python",
   "name": "python",
   "nbconvert_exporter": "python",
   "pygments_lexer": "ipython3",
   "version": "3.10.9"
  }
 },
 "nbformat": 4,
 "nbformat_minor": 5
}
