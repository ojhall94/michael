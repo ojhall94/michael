{
 "cells": [
  {
   "cell_type": "code",
   "execution_count": 1,
   "id": "6c17a0f8",
   "metadata": {},
   "outputs": [],
   "source": [
    "import os\n",
    "import numpy as np\n",
    "import glob\n",
    "from tess_sip import SIP\n",
    "from astropy.coordinates import SkyCoord\n",
    "from astropy import units as u\n",
    "import lightkurve as lk\n",
    "from astroquery.mast import Tesscut\n",
    "import tess_cpm\n",
    "import sys\n",
    "import numpy as np\n",
    "import matplotlib.pyplot as plt\n",
    "import pandas as pd\n",
    "import warnings\n",
    "\n",
    "sys.path.insert(0, \"../\")\n",
    "sys.path.insert(0, \"../../Packages/eleanor/\")\n",
    "import eleanor\n",
    "\n",
    "import warnings\n",
    "warnings.filterwarnings('ignore')\n",
    "\n",
    "from michael import janet"
   ]
  },
  {
   "cell_type": "code",
   "execution_count": 2,
   "id": "60f9f090",
   "metadata": {},
   "outputs": [],
   "source": [
    "uni = pd.read_csv(\"/Users/oliver hall/Research/unicorn/data/unicorn.csv\", index_col=0)\n",
    "\n",
    "index = uni[uni.source_id == 5310986619293965440].index[0]"
   ]
  },
  {
   "cell_type": "code",
   "execution_count": 3,
   "id": "312b7843",
   "metadata": {
    "scrolled": false
   },
   "outputs": [
    {
     "name": "stdout",
     "output_type": "stream",
     "text": [
      "Target DR3 ID 5310986619293965440 has tesscut data available on MAST for Sectors 8, 9, 10, 35, 36\n",
      "Data already downloaded for Sector 8.\n",
      "Data already downloaded for Sector 9.\n",
      "Data already downloaded for Sector 10.\n",
      "Data already downloaded for Sector 35.\n",
      "Data already downloaded for Sector 36.\n"
     ]
    },
    {
     "ename": "NameError",
     "evalue": "name 'sectsr' is not defined",
     "output_type": "error",
     "traceback": [
      "\u001b[0;31m---------------------------------------------------------------------------\u001b[0m",
      "\u001b[0;31mNameError\u001b[0m                                 Traceback (most recent call last)",
      "Cell \u001b[0;32mIn[3], line 2\u001b[0m\n\u001b[1;32m      1\u001b[0m j \u001b[38;5;241m=\u001b[39m janet\u001b[38;5;241m.\u001b[39mboot(uni, index\u001b[38;5;241m=\u001b[39mindex, pipeline\u001b[38;5;241m=\u001b[39m\u001b[38;5;124m'\u001b[39m\u001b[38;5;124mtess-sip-detrended\u001b[39m\u001b[38;5;124m'\u001b[39m)\n\u001b[0;32m----> 2\u001b[0m \u001b[43mj\u001b[49m\u001b[38;5;241;43m.\u001b[39;49m\u001b[43mrun\u001b[49m\u001b[43m(\u001b[49m\u001b[43mperiod_range\u001b[49m\u001b[43m \u001b[49m\u001b[38;5;241;43m=\u001b[39;49m\u001b[43m \u001b[49m\u001b[43m(\u001b[49m\u001b[38;5;241;43m2\u001b[39;49m\u001b[43m,\u001b[49m\u001b[43m \u001b[49m\u001b[38;5;241;43m20\u001b[39;49m\u001b[43m)\u001b[49m\u001b[43m)\u001b[49m\n\u001b[1;32m      3\u001b[0m plt\u001b[38;5;241m.\u001b[39mshow()\n",
      "File \u001b[0;32m~/Research/michael/Examples/../michael/janet.py:191\u001b[0m, in \u001b[0;36mjanet.run\u001b[0;34m(self, period_range)\u001b[0m\n\u001b[1;32m    190\u001b[0m \u001b[38;5;28;01mdef\u001b[39;00m \u001b[38;5;21mrun\u001b[39m(\u001b[38;5;28mself\u001b[39m, period_range \u001b[38;5;241m=\u001b[39m (\u001b[38;5;241m0.2\u001b[39m, \u001b[38;5;241m27.\u001b[39m)):\n\u001b[0;32m--> 191\u001b[0m     \u001b[38;5;28;43mself\u001b[39;49m\u001b[38;5;241;43m.\u001b[39;49m\u001b[43mprepare_data\u001b[49m\u001b[43m(\u001b[49m\u001b[43m)\u001b[49m\n\u001b[1;32m    193\u001b[0m     \u001b[38;5;28mself\u001b[39m\u001b[38;5;241m.\u001b[39mget_rotation(period_range \u001b[38;5;241m=\u001b[39m period_range)\n\u001b[1;32m    194\u001b[0m     \u001b[38;5;28mself\u001b[39m\u001b[38;5;241m.\u001b[39mvalidate_rotation()\n",
      "File \u001b[0;32m~/Research/michael/Examples/../michael/janet.py:91\u001b[0m, in \u001b[0;36mjanet.prepare_data\u001b[0;34m(self)\u001b[0m\n\u001b[1;32m     86\u001b[0m \u001b[38;5;124;03m\"\"\"\u001b[39;00m\n\u001b[1;32m     87\u001b[0m \u001b[38;5;124;03mThis function calls the `data_class()`, which prepares the `eleanor`\u001b[39;00m\n\u001b[1;32m     88\u001b[0m \u001b[38;5;124;03mlight curves.\u001b[39;00m\n\u001b[1;32m     89\u001b[0m \u001b[38;5;124;03m\"\"\"\u001b[39;00m\n\u001b[1;32m     90\u001b[0m \u001b[38;5;28mself\u001b[39m\u001b[38;5;241m.\u001b[39mdata \u001b[38;5;241m=\u001b[39m data_class(\u001b[38;5;28mself\u001b[39m)\n\u001b[0;32m---> 91\u001b[0m \u001b[38;5;28;43mself\u001b[39;49m\u001b[38;5;241;43m.\u001b[39;49m\u001b[43mdata\u001b[49m\u001b[38;5;241;43m.\u001b[39;49m\u001b[43msetup_data\u001b[49m\u001b[43m(\u001b[49m\u001b[43m)\u001b[49m\n\u001b[1;32m     93\u001b[0m \u001b[38;5;28;01mif\u001b[39;00m \u001b[38;5;28mself\u001b[39m\u001b[38;5;241m.\u001b[39mpipeline \u001b[38;5;241m==\u001b[39m \u001b[38;5;124m'\u001b[39m\u001b[38;5;124munpopular\u001b[39m\u001b[38;5;124m'\u001b[39m:\n\u001b[1;32m     94\u001b[0m     \u001b[38;5;28mself\u001b[39m\u001b[38;5;241m.\u001b[39mdata\u001b[38;5;241m.\u001b[39mbuild_eleanor_lc() \u001b[38;5;66;03m#To build the aperture for the unpopular code\u001b[39;00m\n",
      "File \u001b[0;32m~/Research/michael/Examples/../michael/data.py:126\u001b[0m, in \u001b[0;36mdata_class.setup_data\u001b[0;34m(self)\u001b[0m\n\u001b[1;32m    123\u001b[0m \u001b[38;5;28mself\u001b[39m\u001b[38;5;241m.\u001b[39mbuild_local_folders()\n\u001b[1;32m    125\u001b[0m \u001b[38;5;66;03m# Download data (will skip sectors we have already)\u001b[39;00m\n\u001b[0;32m--> 126\u001b[0m \u001b[38;5;28;43mself\u001b[39;49m\u001b[38;5;241;43m.\u001b[39;49m\u001b[43mdownload_tesscut\u001b[49m\u001b[43m(\u001b[49m\u001b[43m)\u001b[49m\n\u001b[1;32m    128\u001b[0m \u001b[38;5;66;03m# Check which sectors have been downloaded\u001b[39;00m\n\u001b[1;32m    129\u001b[0m sfiles \u001b[38;5;241m=\u001b[39m glob\u001b[38;5;241m.\u001b[39mglob(\u001b[38;5;124mf\u001b[39m\u001b[38;5;124m'\u001b[39m\u001b[38;5;132;01m{\u001b[39;00m\u001b[38;5;28mself\u001b[39m\u001b[38;5;241m.\u001b[39mpath\u001b[38;5;132;01m}\u001b[39;00m\u001b[38;5;124m/*.fits\u001b[39m\u001b[38;5;124m'\u001b[39m)\n",
      "File \u001b[0;32m~/Research/michael/Examples/../michael/data.py:114\u001b[0m, in \u001b[0;36mdata_class.download_tesscut\u001b[0;34m(self)\u001b[0m\n\u001b[1;32m    112\u001b[0m strlen \u001b[38;5;241m=\u001b[39m np\u001b[38;5;241m.\u001b[39mfloor(np\u001b[38;5;241m.\u001b[39mlog10(s))\u001b[38;5;241m.\u001b[39mastype(\u001b[38;5;28mint\u001b[39m)\u001b[38;5;241m+\u001b[39m\u001b[38;5;241m1\u001b[39m\n\u001b[1;32m    113\u001b[0m secstr \u001b[38;5;241m=\u001b[39m \u001b[38;5;124m'\u001b[39m\u001b[38;5;124ms0000\u001b[39m\u001b[38;5;124m'\u001b[39m[:\u001b[38;5;241m-\u001b[39mstrlen] \u001b[38;5;241m+\u001b[39m \u001b[38;5;28mstr\u001b[39m(s)       \n\u001b[0;32m--> 114\u001b[0m sfile \u001b[38;5;241m=\u001b[39m glob\u001b[38;5;241m.\u001b[39mglob(\u001b[38;5;124mf\u001b[39m\u001b[38;5;124m'\u001b[39m\u001b[38;5;132;01m{\u001b[39;00m\u001b[38;5;28mself\u001b[39m\u001b[38;5;241m.\u001b[39mpath\u001b[38;5;132;01m}\u001b[39;00m\u001b[38;5;124m/tess-\u001b[39m\u001b[38;5;132;01m{\u001b[39;00msectsr\u001b[38;5;132;01m}\u001b[39;00m\u001b[38;5;124m*\u001b[39m\u001b[38;5;124m'\u001b[39m)\n\u001b[1;32m    115\u001b[0m \u001b[38;5;28;01mif\u001b[39;00m \u001b[38;5;28mlen\u001b[39m(sfile) \u001b[38;5;241m>\u001b[39m \u001b[38;5;241m0\u001b[39m:\n\u001b[1;32m    116\u001b[0m     os\u001b[38;5;241m.\u001b[39mremove(glob\u001b[38;5;241m.\u001b[39mglob(\u001b[38;5;124mf\u001b[39m\u001b[38;5;124m'\u001b[39m\u001b[38;5;132;01m{\u001b[39;00m\u001b[38;5;28mself\u001b[39m\u001b[38;5;241m.\u001b[39mpath\u001b[38;5;132;01m}\u001b[39;00m\u001b[38;5;124m/tess-\u001b[39m\u001b[38;5;132;01m{\u001b[39;00msecstr\u001b[38;5;132;01m}\u001b[39;00m\u001b[38;5;124m*\u001b[39m\u001b[38;5;124m'\u001b[39m)[\u001b[38;5;241m0\u001b[39m])\n",
      "\u001b[0;31mNameError\u001b[0m: name 'sectsr' is not defined"
     ]
    }
   ],
   "source": [
    "j = janet.boot(uni, index=index, pipeline='tess-sip-detrended')\n",
    "j.run(period_range = (2, 20))\n",
    "plt.show()"
   ]
  },
  {
   "cell_type": "code",
   "execution_count": null,
   "id": "c1e6fa4a",
   "metadata": {},
   "outputs": [],
   "source": [
    "glob.glob(f'{j.data.path}/tess-s001*')[0]"
   ]
  },
  {
   "cell_type": "code",
   "execution_count": null,
   "id": "cd30629a",
   "metadata": {},
   "outputs": [],
   "source": [
    "sys.exit()glob."
   ]
  },
  {
   "cell_type": "code",
   "execution_count": null,
   "id": "fbaa75e3",
   "metadata": {
    "scrolled": false
   },
   "outputs": [],
   "source": [
    "j = janet.boot(uni, index=index, pipeline='eleanor')\n",
    "j.run(period_range = (2, 20))\n",
    "plt.show()"
   ]
  }
 ],
 "metadata": {
  "kernelspec": {
   "display_name": "michael10",
   "language": "python",
   "name": "michael10"
  },
  "language_info": {
   "codemirror_mode": {
    "name": "ipython",
    "version": 3
   },
   "file_extension": ".py",
   "mimetype": "text/x-python",
   "name": "python",
   "nbconvert_exporter": "python",
   "pygments_lexer": "ipython3",
   "version": "3.10.9"
  }
 },
 "nbformat": 4,
 "nbformat_minor": 5
}
