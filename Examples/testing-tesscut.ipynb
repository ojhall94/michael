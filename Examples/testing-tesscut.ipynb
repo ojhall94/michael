{
 "cells": [
  {
   "cell_type": "code",
   "execution_count": 1,
   "id": "6c17a0f8",
   "metadata": {},
   "outputs": [],
   "source": [
    "import os\n",
    "import numpy as np\n",
    "import glob\n",
    "from tess_sip import SIP\n",
    "from astropy.coordinates import SkyCoord\n",
    "from astropy import units as u\n",
    "import lightkurve as lk\n",
    "from astroquery.mast import Tesscut\n",
    "import tess_cpm\n",
    "import sys\n",
    "import numpy as np\n",
    "import matplotlib.pyplot as plt\n",
    "import pandas as pd\n",
    "import warnings\n",
    "\n",
    "sys.path.insert(0, \"../\")\n",
    "sys.path.insert(0, \"../../Packages/eleanor/\")\n",
    "import eleanor\n",
    "\n",
    "import warnings\n",
    "warnings.filterwarnings('ignore')\n",
    "\n",
    "from michael import janet"
   ]
  },
  {
   "cell_type": "code",
   "execution_count": 3,
   "id": "60f9f090",
   "metadata": {},
   "outputs": [],
   "source": [
    "uni = pd.read_csv(\"/Users/oliver hall/Research/unicorn/data/unicorn.csv\", index_col=0)\n",
    "\n",
    "index = uni[uni.source_id == 5310986619293965440].index[0]"
   ]
  },
  {
   "cell_type": "code",
   "execution_count": 5,
   "id": "312b7843",
   "metadata": {
    "scrolled": false
   },
   "outputs": [
    {
     "name": "stdout",
     "output_type": "stream",
     "text": [
      "Target DR3 ID 5310986619293965440 has tesscut data available on MAST for Sectors 8, 9, 10, 35, 36, 37\n",
      "Data already downloaded for Sector 8.\n",
      "Data already downloaded for Sector 9.\n",
      "Data already downloaded for Sector 10.\n",
      "Data already downloaded for Sector 35.\n",
      "Data already downloaded for Sector 36.\n",
      "Data already downloaded for Sector 37.\n"
     ]
    },
    {
     "name": "stderr",
     "output_type": "stream",
     "text": [
      "Running pixels in aperture: 100%|████████████| 300/300 [00:01<00:00, 290.43it/s]\n",
      "Running pixels in aperture: 100%|████████████| 300/300 [00:01<00:00, 163.63it/s]\n"
     ]
    },
    {
     "name": "stdout",
     "output_type": "stream",
     "text": [
      "### Running Simple Astropy Lomb-Scargle on Sector 8-10 on star 5310986619293965440 ###\n",
      "### Completed Simple Astropy Lomb-Scargle for Sector 8-10 on star 5310986619293965440 ###\n",
      "### Running Wavelet Estimation for Sector 8-10 on star 5310986619293965440 ###\n"
     ]
    },
    {
     "name": "stderr",
     "output_type": "stream",
     "text": [
      "100%|███████████████████████████████████████| 1167/1167 [00:46<00:00, 25.05it/s]\n"
     ]
    },
    {
     "name": "stdout",
     "output_type": "stream",
     "text": [
      "### Completed Wavelet Estimation for Sector 8-10 on star 5310986619293965440 ###\n",
      "### Running Composite ACF estimation for Sector 8-10 on star 5310986619293965440 ###\n",
      "### Completed Composite ACF estimation for Sector 8-10 on star 5310986619293965440 ###\n",
      "### Running ACF Estimation on star 5310986619293965440 ###\n",
      "### Completed ACF Estimation for Sector 8-10 on star 5310986619293965440 ###\n",
      "### Running Simple Astropy Lomb-Scargle on Sector 35-37 on star 5310986619293965440 ###\n",
      "### Completed Simple Astropy Lomb-Scargle for Sector 35-37 on star 5310986619293965440 ###\n",
      "### Running Wavelet Estimation for Sector 35-37 on star 5310986619293965440 ###\n"
     ]
    },
    {
     "name": "stderr",
     "output_type": "stream",
     "text": [
      "100%|███████████████████████████████████████| 1157/1157 [01:44<00:00, 11.11it/s]\n"
     ]
    },
    {
     "ename": "ValueError",
     "evalue": "array must not contain infs or NaNs",
     "output_type": "error",
     "traceback": [
      "\u001b[0;31m---------------------------------------------------------------------------\u001b[0m",
      "\u001b[0;31mValueError\u001b[0m                                Traceback (most recent call last)",
      "Cell \u001b[0;32mIn[5], line 2\u001b[0m\n\u001b[1;32m      1\u001b[0m j \u001b[38;5;241m=\u001b[39m janet\u001b[38;5;241m.\u001b[39mboot(uni, index\u001b[38;5;241m=\u001b[39mindex, pipeline\u001b[38;5;241m=\u001b[39m\u001b[38;5;124m'\u001b[39m\u001b[38;5;124mtess-sip-detrended\u001b[39m\u001b[38;5;124m'\u001b[39m)\n\u001b[0;32m----> 2\u001b[0m \u001b[43mj\u001b[49m\u001b[38;5;241;43m.\u001b[39;49m\u001b[43mrun\u001b[49m\u001b[43m(\u001b[49m\u001b[43m)\u001b[49m\n\u001b[1;32m      3\u001b[0m plt\u001b[38;5;241m.\u001b[39mshow()\n",
      "File \u001b[0;32m~/Research/michael/Examples/../michael/janet.py:193\u001b[0m, in \u001b[0;36mjanet.run\u001b[0;34m(self, period_range)\u001b[0m\n\u001b[1;32m    190\u001b[0m \u001b[38;5;28;01mdef\u001b[39;00m \u001b[38;5;21mrun\u001b[39m(\u001b[38;5;28mself\u001b[39m, period_range \u001b[38;5;241m=\u001b[39m (\u001b[38;5;241m0.2\u001b[39m, \u001b[38;5;241m27.\u001b[39m)):\n\u001b[1;32m    191\u001b[0m     \u001b[38;5;28mself\u001b[39m\u001b[38;5;241m.\u001b[39mprepare_data()\n\u001b[0;32m--> 193\u001b[0m     \u001b[38;5;28;43mself\u001b[39;49m\u001b[38;5;241;43m.\u001b[39;49m\u001b[43mget_rotation\u001b[49m\u001b[43m(\u001b[49m\u001b[43mperiod_range\u001b[49m\u001b[43m \u001b[49m\u001b[38;5;241;43m=\u001b[39;49m\u001b[43m \u001b[49m\u001b[43mperiod_range\u001b[49m\u001b[43m)\u001b[49m\n\u001b[1;32m    194\u001b[0m     \u001b[38;5;28mself\u001b[39m\u001b[38;5;241m.\u001b[39mvalidate_rotation()\n\u001b[1;32m    196\u001b[0m     \u001b[38;5;28;01mif\u001b[39;00m \u001b[38;5;28mself\u001b[39m\u001b[38;5;241m.\u001b[39mverbose:\n",
      "File \u001b[0;32m~/Research/michael/Examples/../michael/janet.py:153\u001b[0m, in \u001b[0;36mjanet.get_rotation\u001b[0;34m(self, period_range)\u001b[0m\n\u001b[1;32m    151\u001b[0m \u001b[38;5;28;01mfor\u001b[39;00m sector \u001b[38;5;129;01min\u001b[39;00m sectorlist:\n\u001b[1;32m    152\u001b[0m     simple_astropy_lombscargle(\u001b[38;5;28mself\u001b[39m, sector \u001b[38;5;241m=\u001b[39m sector, period_range \u001b[38;5;241m=\u001b[39m period_range)\n\u001b[0;32m--> 153\u001b[0m     \u001b[43msimple_wavelet\u001b[49m\u001b[43m(\u001b[49m\u001b[38;5;28;43mself\u001b[39;49m\u001b[43m,\u001b[49m\u001b[43m \u001b[49m\u001b[43msector\u001b[49m\u001b[43m \u001b[49m\u001b[38;5;241;43m=\u001b[39;49m\u001b[43m \u001b[49m\u001b[43msector\u001b[49m\u001b[43m,\u001b[49m\u001b[43m \u001b[49m\u001b[43mperiod_range\u001b[49m\u001b[43m \u001b[49m\u001b[38;5;241;43m=\u001b[39;49m\u001b[43m \u001b[49m\u001b[43mperiod_range\u001b[49m\u001b[43m)\u001b[49m\n\u001b[1;32m    154\u001b[0m     composite_ACF(\u001b[38;5;28mself\u001b[39m, sector \u001b[38;5;241m=\u001b[39m sector, period_range \u001b[38;5;241m=\u001b[39m period_range)\n\u001b[1;32m    155\u001b[0m     simple_ACF(\u001b[38;5;28mself\u001b[39m, sector \u001b[38;5;241m=\u001b[39m sector, period_range \u001b[38;5;241m=\u001b[39m period_range)\n",
      "File \u001b[0;32m~/Research/michael/Examples/../michael/methods.py:201\u001b[0m, in \u001b[0;36msimple_wavelet\u001b[0;34m(j, sector, period_range)\u001b[0m\n\u001b[1;32m    198\u001b[0m \u001b[38;5;66;03m# Call the relevant light curve\u001b[39;00m\n\u001b[1;32m    199\u001b[0m clc \u001b[38;5;241m=\u001b[39m j\u001b[38;5;241m.\u001b[39mvoid[\u001b[38;5;124mf\u001b[39m\u001b[38;5;124m'\u001b[39m\u001b[38;5;132;01m{\u001b[39;00mj\u001b[38;5;241m.\u001b[39mpl\u001b[38;5;132;01m}\u001b[39;00m\u001b[38;5;124mlc_\u001b[39m\u001b[38;5;132;01m{\u001b[39;00msector\u001b[38;5;132;01m}\u001b[39;00m\u001b[38;5;124m'\u001b[39m]\n\u001b[0;32m--> 201\u001b[0m popt, pcov \u001b[38;5;241m=\u001b[39m \u001b[43m_calculate_wavelet\u001b[49m\u001b[43m(\u001b[49m\u001b[43mclc\u001b[49m\u001b[43m,\u001b[49m\u001b[43m \u001b[49m\u001b[43mperiod_range\u001b[49m\u001b[43m,\u001b[49m\u001b[43m \u001b[49m\u001b[43msector\u001b[49m\u001b[43m,\u001b[49m\u001b[43m \u001b[49m\u001b[43mj\u001b[49m\u001b[43m)\u001b[49m\n\u001b[1;32m    203\u001b[0m j\u001b[38;5;241m.\u001b[39mresults\u001b[38;5;241m.\u001b[39mloc[sector, \u001b[38;5;124m'\u001b[39m\u001b[38;5;124mSW\u001b[39m\u001b[38;5;124m'\u001b[39m] \u001b[38;5;241m=\u001b[39m popt[\u001b[38;5;241m0\u001b[39m]\n\u001b[1;32m    204\u001b[0m j\u001b[38;5;241m.\u001b[39mresults\u001b[38;5;241m.\u001b[39mloc[sector, \u001b[38;5;124m'\u001b[39m\u001b[38;5;124me_SW\u001b[39m\u001b[38;5;124m'\u001b[39m] \u001b[38;5;241m=\u001b[39m popt[\u001b[38;5;241m1\u001b[39m]\n",
      "File \u001b[0;32m~/Research/michael/Examples/../michael/methods.py:161\u001b[0m, in \u001b[0;36m_calculate_wavelet\u001b[0;34m(clc, period_range, sector, j)\u001b[0m\n\u001b[1;32m    158\u001b[0m \u001b[38;5;28;01mif\u001b[39;00m uplim \u001b[38;5;241m>\u001b[39m period_range[\u001b[38;5;241m1\u001b[39m]:\n\u001b[1;32m    159\u001b[0m     uplim \u001b[38;5;241m=\u001b[39m period_range[\u001b[38;5;241m1\u001b[39m]\n\u001b[0;32m--> 161\u001b[0m popt, pcov \u001b[38;5;241m=\u001b[39m \u001b[43mcurve_fit\u001b[49m\u001b[43m(\u001b[49m\u001b[43m_gaussian_fn\u001b[49m\u001b[43m,\u001b[49m\u001b[43m \u001b[49m\u001b[43mp\u001b[49m\u001b[43m,\u001b[49m\u001b[43m \u001b[49m\u001b[43mw\u001b[49m\u001b[43m,\u001b[49m\u001b[43m \u001b[49m\u001b[43mp0\u001b[49m\u001b[43m \u001b[49m\u001b[38;5;241;43m=\u001b[39;49m\u001b[43m \u001b[49m\u001b[43m[\u001b[49m\u001b[43mmax_p\u001b[49m\u001b[43m,\u001b[49m\u001b[43m \u001b[49m\u001b[38;5;241;43m0.1\u001b[39;49m\u001b[38;5;241;43m*\u001b[39;49m\u001b[43mmax_p\u001b[49m\u001b[43m,\u001b[49m\u001b[43m \u001b[49m\u001b[43mmax_w\u001b[49m\u001b[43m]\u001b[49m\u001b[43m,\u001b[49m\n\u001b[1;32m    162\u001b[0m \u001b[43m                        \u001b[49m\u001b[43mbounds\u001b[49m\u001b[43m \u001b[49m\u001b[38;5;241;43m=\u001b[39;49m\u001b[43m \u001b[49m\u001b[43m(\u001b[49m\u001b[43m[\u001b[49m\u001b[43mlolim\u001b[49m\u001b[43m,\u001b[49m\u001b[43m \u001b[49m\u001b[38;5;241;43m0.\u001b[39;49m\u001b[43m,\u001b[49m\u001b[43m \u001b[49m\u001b[38;5;241;43m0.9\u001b[39;49m\u001b[38;5;241;43m*\u001b[39;49m\u001b[43mmax_w\u001b[49m\u001b[43m]\u001b[49m\u001b[43m,\u001b[49m\u001b[43m[\u001b[49m\u001b[43muplim\u001b[49m\u001b[43m,\u001b[49m\u001b[43m \u001b[49m\u001b[38;5;241;43m0.25\u001b[39;49m\u001b[38;5;241;43m*\u001b[39;49m\u001b[43mmax_p\u001b[49m\u001b[43m,\u001b[49m\u001b[43m \u001b[49m\u001b[38;5;241;43m1.1\u001b[39;49m\u001b[38;5;241;43m*\u001b[39;49m\u001b[43mmax_w\u001b[49m\u001b[43m]\u001b[49m\u001b[43m)\u001b[49m\u001b[43m)\u001b[49m\n\u001b[1;32m    163\u001b[0m \u001b[38;5;28;01mreturn\u001b[39;00m popt, pcov\n",
      "File \u001b[0;32m~/.conda/envs/michael10/lib/python3.10/site-packages/scipy/optimize/_minpack_py.py:782\u001b[0m, in \u001b[0;36mcurve_fit\u001b[0;34m(f, xdata, ydata, p0, sigma, absolute_sigma, check_finite, bounds, method, jac, full_output, **kwargs)\u001b[0m\n\u001b[1;32m    778\u001b[0m \u001b[38;5;66;03m# optimization may produce garbage for float32 inputs, cast them to float64\u001b[39;00m\n\u001b[1;32m    779\u001b[0m \n\u001b[1;32m    780\u001b[0m \u001b[38;5;66;03m# NaNs cannot be handled\u001b[39;00m\n\u001b[1;32m    781\u001b[0m \u001b[38;5;28;01mif\u001b[39;00m check_finite:\n\u001b[0;32m--> 782\u001b[0m     ydata \u001b[38;5;241m=\u001b[39m \u001b[43mnp\u001b[49m\u001b[38;5;241;43m.\u001b[39;49m\u001b[43masarray_chkfinite\u001b[49m\u001b[43m(\u001b[49m\u001b[43mydata\u001b[49m\u001b[43m,\u001b[49m\u001b[43m \u001b[49m\u001b[38;5;28;43mfloat\u001b[39;49m\u001b[43m)\u001b[49m\n\u001b[1;32m    783\u001b[0m \u001b[38;5;28;01melse\u001b[39;00m:\n\u001b[1;32m    784\u001b[0m     ydata \u001b[38;5;241m=\u001b[39m np\u001b[38;5;241m.\u001b[39masarray(ydata, \u001b[38;5;28mfloat\u001b[39m)\n",
      "File \u001b[0;32m~/.conda/envs/michael10/lib/python3.10/site-packages/numpy/lib/function_base.py:628\u001b[0m, in \u001b[0;36masarray_chkfinite\u001b[0;34m(a, dtype, order)\u001b[0m\n\u001b[1;32m    626\u001b[0m a \u001b[38;5;241m=\u001b[39m asarray(a, dtype\u001b[38;5;241m=\u001b[39mdtype, order\u001b[38;5;241m=\u001b[39morder)\n\u001b[1;32m    627\u001b[0m \u001b[38;5;28;01mif\u001b[39;00m a\u001b[38;5;241m.\u001b[39mdtype\u001b[38;5;241m.\u001b[39mchar \u001b[38;5;129;01min\u001b[39;00m typecodes[\u001b[38;5;124m'\u001b[39m\u001b[38;5;124mAllFloat\u001b[39m\u001b[38;5;124m'\u001b[39m] \u001b[38;5;129;01mand\u001b[39;00m \u001b[38;5;129;01mnot\u001b[39;00m np\u001b[38;5;241m.\u001b[39misfinite(a)\u001b[38;5;241m.\u001b[39mall():\n\u001b[0;32m--> 628\u001b[0m     \u001b[38;5;28;01mraise\u001b[39;00m \u001b[38;5;167;01mValueError\u001b[39;00m(\n\u001b[1;32m    629\u001b[0m         \u001b[38;5;124m\"\u001b[39m\u001b[38;5;124marray must not contain infs or NaNs\u001b[39m\u001b[38;5;124m\"\u001b[39m)\n\u001b[1;32m    630\u001b[0m \u001b[38;5;28;01mreturn\u001b[39;00m a\n",
      "\u001b[0;31mValueError\u001b[0m: array must not contain infs or NaNs"
     ]
    }
   ],
   "source": [
    "j = janet.boot(uni, index=index, pipeline='tess-sip-detrended')\n",
    "j.run()\n",
    "plt.show()"
   ]
  },
  {
   "cell_type": "code",
   "execution_count": null,
   "id": "879c1e94",
   "metadata": {},
   "outputs": [],
   "source": [
    "sys.exit()"
   ]
  },
  {
   "cell_type": "code",
   "execution_count": null,
   "id": "444532ce",
   "metadata": {
    "scrolled": false
   },
   "outputs": [],
   "source": [
    "j = janet.boot(uni, index=index, pipeline='eleanor')\n",
    "j.run()\n",
    "plt.show()"
   ]
  },
  {
   "cell_type": "code",
   "execution_count": null,
   "id": "1ebadf2c",
   "metadata": {},
   "outputs": [],
   "source": [
    "j = janet.boot(uni, index=index, pipeline='unpopular')\n",
    "j.run()\n",
    "plt.show()"
   ]
  },
  {
   "cell_type": "code",
   "execution_count": null,
   "id": "ca1f3a3c",
   "metadata": {},
   "outputs": [],
   "source": []
  }
 ],
 "metadata": {
  "kernelspec": {
   "display_name": "michael10",
   "language": "python",
   "name": "michael10"
  },
  "language_info": {
   "codemirror_mode": {
    "name": "ipython",
    "version": 3
   },
   "file_extension": ".py",
   "mimetype": "text/x-python",
   "name": "python",
   "nbconvert_exporter": "python",
   "pygments_lexer": "ipython3",
   "version": "3.10.9"
  }
 },
 "nbformat": 4,
 "nbformat_minor": 5
}
