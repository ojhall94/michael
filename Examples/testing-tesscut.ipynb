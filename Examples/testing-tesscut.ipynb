{
 "cells": [
  {
   "cell_type": "code",
   "execution_count": 1,
   "id": "6c17a0f8",
   "metadata": {},
   "outputs": [],
   "source": [
    "import os\n",
    "import numpy as np\n",
    "import glob\n",
    "from tess_sip import SIP\n",
    "from astropy.coordinates import SkyCoord\n",
    "from astropy import units as u\n",
    "import lightkurve as lk\n",
    "from astroquery.mast import Tesscut\n",
    "import tess_cpm\n",
    "import sys\n",
    "import numpy as np\n",
    "import matplotlib.pyplot as plt\n",
    "import pandas as pd\n",
    "import warnings\n",
    "\n",
    "sys.path.insert(0, \"../\")\n",
    "sys.path.insert(0, \"../../Packages/eleanor/\")\n",
    "import eleanor\n",
    "\n",
    "import warnings\n",
    "warnings.filterwarnings('ignore')\n",
    "\n",
    "from michael import janet"
   ]
  },
  {
   "cell_type": "code",
   "execution_count": 2,
   "id": "60f9f090",
   "metadata": {},
   "outputs": [],
   "source": [
    "uni = pd.read_csv(\"/Users/oliver hall/Research/unicorn/data/unicorn.csv\", index_col=0)\n",
    "\n",
    "index = uni[uni.source_id == int(2174289161681454720)].index[0]"
   ]
  },
  {
   "cell_type": "code",
   "execution_count": 3,
   "id": "312b7843",
   "metadata": {},
   "outputs": [],
   "source": [
    "j = janet.boot(uni, index=index)\n"
   ]
  },
  {
   "cell_type": "code",
   "execution_count": 4,
   "id": "a43b7756",
   "metadata": {},
   "outputs": [],
   "source": [
    "coords = SkyCoord(ra = j.ra, dec = j.dec, unit = (u.deg, u.deg))\n"
   ]
  },
  {
   "cell_type": "code",
   "execution_count": 6,
   "id": "7f8f4fcb",
   "metadata": {},
   "outputs": [
    {
     "name": "stdout",
     "output_type": "stream",
     "text": [
      "Target DR3 ID 2174289161681454720 has tesscut data available on MAST for Sectors 16, 17, 56, 57\n",
      "Data already downloaded for Sector 16.\n",
      "Data already downloaded for Sector 17.\n",
      "Data already downloaded for Sector 56.\n",
      "Data already downloaded for Sector 57.\n"
     ]
    }
   ],
   "source": [
    "from michael.data import data_class\n",
    "d = data_class(j)\n",
    "d.setup_data()"
   ]
  },
  {
   "cell_type": "code",
   "execution_count": 7,
   "id": "e171b9dd",
   "metadata": {},
   "outputs": [],
   "source": [
    "d.build_eleanor_lc()"
   ]
  },
  {
   "cell_type": "code",
   "execution_count": null,
   "id": "fd19b3e6",
   "metadata": {
    "scrolled": false
   },
   "outputs": [
    {
     "name": "stderr",
     "output_type": "stream",
     "text": [
      "Running pixels in aperture: 100%|████████████| 300/300 [00:00<00:00, 398.05it/s]\n"
     ]
    }
   ],
   "source": [
    "d.build_tess_sip_lc(detrended=True)"
   ]
  },
  {
   "cell_type": "code",
   "execution_count": null,
   "id": "7ebb8408",
   "metadata": {},
   "outputs": [],
   "source": [
    "d.build_unpopular_lc()\n"
   ]
  },
  {
   "cell_type": "code",
   "execution_count": null,
   "id": "091d7aae",
   "metadata": {},
   "outputs": [],
   "source": [
    "sfiles = []\n",
    "for sector in j.sectors:\n",
    "    split = sector.split('-')\n",
    "    if len(split) > 1:\n",
    "        sfiles = []\n",
    "        for s in np.arange(int(split[0]), int(split[1])+1):\n",
    "            strlen = np.floor(np.log10(s)).astype(int)+1\n",
    "            secstr = 's0000'[:-strlen] + str(s)\n",
    "\n",
    "            sfile = glob.glob(f'{d.path}'+\n",
    "                                f'*{secstr}*astrocut.fits')\n",
    "\n",
    "            if len(sfile) == 0:\n",
    "                raise ValueError(\"No tesscut files could be found for this target.\")\n",
    "\n",
    "            sfiles.append(sfile[0])\n",
    "\n",
    "        tpflist = [lk.TessTargetPixelFile(f).cutout([26,26],13) for f in sfiles]\n",
    "        tpfs = lk.TargetPixelFileCollection(tpflist)"
   ]
  },
  {
   "cell_type": "code",
   "execution_count": null,
   "id": "1b026553",
   "metadata": {},
   "outputs": [],
   "source": [
    "img = tpfs[1].plot();\n",
    "plt.show()"
   ]
  },
  {
   "cell_type": "code",
   "execution_count": null,
   "id": "9413365f",
   "metadata": {},
   "outputs": [],
   "source": [
    "lims = img.get_images()[0].get_clim()"
   ]
  },
  {
   "cell_type": "code",
   "execution_count": null,
   "id": "cf12f818",
   "metadata": {},
   "outputs": [],
   "source": [
    "plt.imshow(j.void['datum_57'].tpf[0], origin='lower',\n",
    "          vmin = lims[0], vmax = lims[1])\n",
    "pix = np.where(j.void[f'datum_57'].aperture > 0)\n",
    "plt.scatter(pix[0], pix[1], edgecolors='w', lw=5, marker=',', facecolors='none', s=600, zorder=2, label='Aperture')\n",
    "plt.show()"
   ]
  },
  {
   "cell_type": "code",
   "execution_count": null,
   "id": "8d03b603",
   "metadata": {},
   "outputs": [],
   "source": [
    "fig, ax = plt.subplots()\n",
    "for i, m in enumerate(['c','r','cpm','rdt']):\n",
    "    (j.void[f'{m}lc_16-17'] + i*.02).plot(ax=ax, label=m)\n",
    "plt.show()"
   ]
  },
  {
   "cell_type": "code",
   "execution_count": null,
   "id": "fc58f125",
   "metadata": {},
   "outputs": [],
   "source": [
    "fig, ax = plt.subplots()\n",
    "for i, m in enumerate(['c','r','cpm','rdt']):\n",
    "    (j.void[f'{m}lc_56-57'] + i*.02).plot(ax=ax, label=m)\n",
    "plt.show()"
   ]
  },
  {
   "cell_type": "code",
   "execution_count": null,
   "id": "f0d00aa8",
   "metadata": {
    "scrolled": false
   },
   "outputs": [],
   "source": [
    "fig,ax = plt.subplots()\n",
    "for s in j.sectorlist:\n",
    "    j.void[f'cpmlc_{s}'].plot()\n",
    "    plt.show()    "
   ]
  },
  {
   "cell_type": "code",
   "execution_count": null,
   "id": "99dd84d9",
   "metadata": {},
   "outputs": [],
   "source": [
    "for s in j.sectors:\n",
    "    if len(s.split('-')) > 1:\n",
    "        sectors = np.arange(int(s.split('-')[0]), int(s.split('-')[-1])+1)\n",
    "\n",
    "        cpmlc = j.void[f'cpmlc_{sectors[0]}']\n",
    "\n",
    "        for i in sectors[1:]:\n",
    "            cpmlc = cpmlc.append(j.void[f'cpmlc_{i}'])\n",
    "        cpmlc.plot()\n",
    "        plt.show()"
   ]
  },
  {
   "cell_type": "code",
   "execution_count": null,
   "id": "99c8a36b",
   "metadata": {},
   "outputs": [],
   "source": [
    "j.sfiles"
   ]
  },
  {
   "cell_type": "code",
   "execution_count": null,
   "id": "99205c3b",
   "metadata": {},
   "outputs": [],
   "source": [
    "j.sectorlist"
   ]
  },
  {
   "cell_type": "code",
   "execution_count": null,
   "id": "46641ef8",
   "metadata": {},
   "outputs": [],
   "source": [
    "glob.glob(f'{os.path.expanduser(\"~\")}/.michael/tesscut/{j.gaiaid}/*astrocut.fits')"
   ]
  },
  {
   "cell_type": "code",
   "execution_count": null,
   "id": "2aeefbe7",
   "metadata": {},
   "outputs": [],
   "source": [
    "sort = np.argsort([f.split('/')[-1].split('-')[1][1:] for f in j.sfiles])"
   ]
  },
  {
   "cell_type": "code",
   "execution_count": null,
   "id": "cc3b3c37",
   "metadata": {},
   "outputs": [],
   "source": [
    "np.array(j.sfiles)[sort].tolist()"
   ]
  },
  {
   "cell_type": "code",
   "execution_count": null,
   "id": "796573a6",
   "metadata": {},
   "outputs": [],
   "source": [
    "sort"
   ]
  },
  {
   "cell_type": "code",
   "execution_count": null,
   "id": "c057981b",
   "metadata": {},
   "outputs": [],
   "source": []
  }
 ],
 "metadata": {
  "kernelspec": {
   "display_name": "michael10",
   "language": "python",
   "name": "michael10"
  },
  "language_info": {
   "codemirror_mode": {
    "name": "ipython",
    "version": 3
   },
   "file_extension": ".py",
   "mimetype": "text/x-python",
   "name": "python",
   "nbconvert_exporter": "python",
   "pygments_lexer": "ipython3",
   "version": "3.10.9"
  }
 },
 "nbformat": 4,
 "nbformat_minor": 5
}
