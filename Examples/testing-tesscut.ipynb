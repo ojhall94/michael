{
 "cells": [
  {
   "cell_type": "code",
   "execution_count": 1,
   "id": "6c17a0f8",
   "metadata": {},
   "outputs": [],
   "source": [
    "import os\n",
    "import numpy as np\n",
    "import glob\n",
    "from tess_sip import SIP\n",
    "from astropy.coordinates import SkyCoord\n",
    "from astropy import units as u\n",
    "import lightkurve as lk\n",
    "from astroquery.mast import Tesscut\n",
    "import tess_cpm\n",
    "import sys\n",
    "import numpy as np\n",
    "import matplotlib.pyplot as plt\n",
    "import pandas as pd\n",
    "import warnings\n",
    "\n",
    "sys.path.insert(0, \"../\")\n",
    "sys.path.insert(0, \"../../Packages/eleanor/\")\n",
    "import eleanor\n",
    "\n",
    "import warnings\n",
    "warnings.filterwarnings('ignore')\n",
    "\n",
    "from michael import janet"
   ]
  },
  {
   "cell_type": "code",
   "execution_count": 2,
   "id": "60f9f090",
   "metadata": {},
   "outputs": [],
   "source": [
    "uni = pd.read_csv(\"/Users/oliver hall/Research/unicorn/data/unicorn.csv\", index_col=0)\n",
    "\n",
    "index = uni[uni.source_id == int(2174289161681454720)].index[0]"
   ]
  },
  {
   "cell_type": "code",
   "execution_count": 3,
   "id": "312b7843",
   "metadata": {},
   "outputs": [],
   "source": [
    "j = janet.boot(uni, index=index)\n"
   ]
  },
  {
   "cell_type": "code",
   "execution_count": 4,
   "id": "a43b7756",
   "metadata": {},
   "outputs": [],
   "source": [
    "coords = SkyCoord(ra = j.ra, dec = j.dec, unit = (u.deg, u.deg))\n"
   ]
  },
  {
   "cell_type": "code",
   "execution_count": 5,
   "id": "7f8f4fcb",
   "metadata": {},
   "outputs": [
    {
     "name": "stdout",
     "output_type": "stream",
     "text": [
      "Target DR3 ID 2174289161681454720 has tesscut data available on MAST for Sectors 16, 17, 56, 57\n",
      "Data already downloaded for Sector 16.\n",
      "Data already downloaded for Sector 17.\n",
      "Data already downloaded for Sector 56.\n",
      "Data already downloaded for Sector 57.\n"
     ]
    }
   ],
   "source": [
    "from michael.data import data_class\n",
    "d = data_class(j)\n",
    "d.setup_data()"
   ]
  },
  {
   "cell_type": "code",
   "execution_count": 6,
   "id": "3ec96601",
   "metadata": {},
   "outputs": [
    {
     "ename": "IndexError",
     "evalue": "index 0 is out of bounds for axis 0 with size 0",
     "output_type": "error",
     "traceback": [
      "\u001b[0;31m---------------------------------------------------------------------------\u001b[0m",
      "\u001b[0;31mIndexError\u001b[0m                                Traceback (most recent call last)",
      "Cell \u001b[0;32mIn[6], line 1\u001b[0m\n\u001b[0;32m----> 1\u001b[0m \u001b[43md\u001b[49m\u001b[38;5;241;43m.\u001b[39;49m\u001b[43mbuild_eleanor_lc\u001b[49m\u001b[43m(\u001b[49m\u001b[43m)\u001b[49m\n",
      "File \u001b[0;32m~/Research/michael/Examples/../michael/data.py:152\u001b[0m, in \u001b[0;36mdata_class.build_eleanor_lc\u001b[0;34m(self)\u001b[0m\n\u001b[1;32m    148\u001b[0m         \u001b[38;5;28;01mraise\u001b[39;00m \u001b[38;5;167;01mValueError\u001b[39;00m(\u001b[38;5;124m\"\u001b[39m\u001b[38;5;124mNo tesscut files could be found for this target.\u001b[39m\u001b[38;5;124m\"\u001b[39m)\n\u001b[1;32m    150\u001b[0m coords \u001b[38;5;241m=\u001b[39m SkyCoord(ra \u001b[38;5;241m=\u001b[39m \u001b[38;5;28mself\u001b[39m\u001b[38;5;241m.\u001b[39mj\u001b[38;5;241m.\u001b[39mra, dec \u001b[38;5;241m=\u001b[39m \u001b[38;5;28mself\u001b[39m\u001b[38;5;241m.\u001b[39mj\u001b[38;5;241m.\u001b[39mdec, unit \u001b[38;5;241m=\u001b[39m (u\u001b[38;5;241m.\u001b[39mdeg, u\u001b[38;5;241m.\u001b[39mdeg))\n\u001b[0;32m--> 152\u001b[0m stars \u001b[38;5;241m=\u001b[39m \u001b[43meleanor\u001b[49m\u001b[38;5;241;43m.\u001b[39;49m\u001b[43mmulti_sectors\u001b[49m\u001b[43m(\u001b[49m\u001b[43mcoords\u001b[49m\u001b[43m \u001b[49m\u001b[38;5;241;43m=\u001b[39;49m\u001b[43m \u001b[49m\u001b[43mcoords\u001b[49m\u001b[43m,\u001b[49m\n\u001b[1;32m    153\u001b[0m \u001b[43m                        \u001b[49m\u001b[43msectors\u001b[49m\u001b[43m \u001b[49m\u001b[38;5;241;43m=\u001b[39;49m\u001b[43m \u001b[49m\u001b[38;5;28;43mself\u001b[39;49m\u001b[38;5;241;43m.\u001b[39;49m\u001b[43mj\u001b[49m\u001b[38;5;241;43m.\u001b[39;49m\u001b[43msectorlist\u001b[49m\u001b[43m,\u001b[49m\n\u001b[1;32m    154\u001b[0m \u001b[43m                        \u001b[49m\u001b[43mtc\u001b[49m\u001b[43m \u001b[49m\u001b[38;5;241;43m=\u001b[39;49m\u001b[43m \u001b[49m\u001b[38;5;28;43;01mTrue\u001b[39;49;00m\u001b[43m,\u001b[49m\n\u001b[1;32m    155\u001b[0m \u001b[43m                        \u001b[49m\u001b[43mpost_dir\u001b[49m\u001b[43m \u001b[49m\u001b[38;5;241;43m=\u001b[39;49m\u001b[43m \u001b[49m\u001b[38;5;28;43mself\u001b[39;49m\u001b[38;5;241;43m.\u001b[39;49m\u001b[43mpath\u001b[49m\u001b[43m,\u001b[49m\n\u001b[1;32m    156\u001b[0m \u001b[43m                        \u001b[49m\u001b[43mtesscut_size\u001b[49m\u001b[43m \u001b[49m\u001b[38;5;241;43m=\u001b[39;49m\u001b[43m \u001b[49m\u001b[38;5;241;43m50\u001b[39;49m\u001b[43m)\u001b[49m\n\u001b[1;32m    158\u001b[0m \u001b[38;5;66;03m# Looping and appending all sectors\u001b[39;00m\n\u001b[1;32m    159\u001b[0m \u001b[38;5;28;01mfor\u001b[39;00m s, star \u001b[38;5;129;01min\u001b[39;00m \u001b[38;5;28mzip\u001b[39m(\u001b[38;5;28mself\u001b[39m\u001b[38;5;241m.\u001b[39mj\u001b[38;5;241m.\u001b[39msectorlist, stars):\n",
      "File \u001b[0;32m~/Research/michael/Examples/../../Packages/eleanor/eleanor/source.py:78\u001b[0m, in \u001b[0;36mmulti_sectors\u001b[0;34m(sectors, tic, gaia, coords, name, tc, local, post_dir, pm_dir, metadata_path, tesscut_size)\u001b[0m\n\u001b[1;32m     76\u001b[0m \u001b[38;5;28;01mif\u001b[39;00m (\u001b[38;5;28mtype\u001b[39m(sectors) \u001b[38;5;241m==\u001b[39m \u001b[38;5;28mlist\u001b[39m) \u001b[38;5;129;01mor\u001b[39;00m (\u001b[38;5;28mtype\u001b[39m(sectors) \u001b[38;5;241m==\u001b[39m np\u001b[38;5;241m.\u001b[39mndarray):\n\u001b[1;32m     77\u001b[0m     \u001b[38;5;28;01mfor\u001b[39;00m s \u001b[38;5;129;01min\u001b[39;00m sectors:\n\u001b[0;32m---> 78\u001b[0m         star \u001b[38;5;241m=\u001b[39m \u001b[43mSource\u001b[49m\u001b[43m(\u001b[49m\u001b[43mtic\u001b[49m\u001b[38;5;241;43m=\u001b[39;49m\u001b[43mtic\u001b[49m\u001b[43m,\u001b[49m\u001b[43m \u001b[49m\u001b[43mgaia\u001b[49m\u001b[38;5;241;43m=\u001b[39;49m\u001b[43mgaia\u001b[49m\u001b[43m,\u001b[49m\u001b[43m \u001b[49m\u001b[43mcoords\u001b[49m\u001b[38;5;241;43m=\u001b[39;49m\u001b[43mcoords\u001b[49m\u001b[43m,\u001b[49m\u001b[43m \u001b[49m\u001b[43msector\u001b[49m\u001b[38;5;241;43m=\u001b[39;49m\u001b[38;5;28;43mint\u001b[39;49m\u001b[43m(\u001b[49m\u001b[43ms\u001b[49m\u001b[43m)\u001b[49m\u001b[43m,\u001b[49m\u001b[43m \u001b[49m\u001b[43mtc\u001b[49m\u001b[38;5;241;43m=\u001b[39;49m\u001b[43mtc\u001b[49m\u001b[43m,\u001b[49m\n\u001b[1;32m     79\u001b[0m \u001b[43m                      \u001b[49m\u001b[43mlocal\u001b[49m\u001b[38;5;241;43m=\u001b[39;49m\u001b[43mlocal\u001b[49m\u001b[43m,\u001b[49m\u001b[43m \u001b[49m\u001b[43mpost_dir\u001b[49m\u001b[38;5;241;43m=\u001b[39;49m\u001b[43mpost_dir\u001b[49m\u001b[43m,\u001b[49m\u001b[43m \u001b[49m\u001b[43mpm_dir\u001b[49m\u001b[38;5;241;43m=\u001b[39;49m\u001b[43mpm_dir\u001b[49m\u001b[43m,\u001b[49m\n\u001b[1;32m     80\u001b[0m \u001b[43m                      \u001b[49m\u001b[43mmetadata_path\u001b[49m\u001b[38;5;241;43m=\u001b[39;49m\u001b[43mmetadata_path\u001b[49m\u001b[43m,\u001b[49m\u001b[43m \u001b[49m\u001b[43mtesscut_size\u001b[49m\u001b[38;5;241;43m=\u001b[39;49m\u001b[43mtesscut_size\u001b[49m\u001b[43m)\u001b[49m\n\u001b[1;32m     81\u001b[0m         \u001b[38;5;28;01mif\u001b[39;00m star\u001b[38;5;241m.\u001b[39msector \u001b[38;5;129;01mis\u001b[39;00m \u001b[38;5;129;01mnot\u001b[39;00m \u001b[38;5;28;01mNone\u001b[39;00m:\n\u001b[1;32m     82\u001b[0m             objs\u001b[38;5;241m.\u001b[39mappend(star)\n",
      "File \u001b[0;32m~/Research/michael/Examples/../../Packages/eleanor/eleanor/source.py:262\u001b[0m, in \u001b[0;36mSource.__init__\u001b[0;34m(self, tic, gaia, coords, name, fn, sector, fn_dir, tc, local, post_dir, pm_dir, metadata_path, tesscut_size, tm)\u001b[0m\n\u001b[1;32m    259\u001b[0m \u001b[38;5;28;01mif\u001b[39;00m \u001b[38;5;28misinstance\u001b[39m(\u001b[38;5;28mself\u001b[39m\u001b[38;5;241m.\u001b[39mtess_mag,\u001b[38;5;28mlist\u001b[39m):\n\u001b[1;32m    260\u001b[0m     \u001b[38;5;28mself\u001b[39m\u001b[38;5;241m.\u001b[39mtess_mag \u001b[38;5;241m=\u001b[39m \u001b[38;5;28mself\u001b[39m\u001b[38;5;241m.\u001b[39mtess_mag[\u001b[38;5;241m0\u001b[39m]\n\u001b[0;32m--> 262\u001b[0m \u001b[38;5;28;43mself\u001b[39;49m\u001b[38;5;241;43m.\u001b[39;49m\u001b[43mlocate_on_tess\u001b[49m\u001b[43m(\u001b[49m\u001b[43m)\u001b[49m\n\u001b[1;32m    263\u001b[0m \u001b[38;5;28mself\u001b[39m\u001b[38;5;241m.\u001b[39mtesscut_size \u001b[38;5;241m=\u001b[39m tesscut_size\n\u001b[1;32m    265\u001b[0m \u001b[38;5;28;01mif\u001b[39;00m \u001b[38;5;129;01mnot\u001b[39;00m os\u001b[38;5;241m.\u001b[39mpath\u001b[38;5;241m.\u001b[39misdir(\u001b[38;5;28mself\u001b[39m\u001b[38;5;241m.\u001b[39mmetadata_path \u001b[38;5;241m+\u001b[39m \u001b[38;5;124m'\u001b[39m\u001b[38;5;124m/metadata/s\u001b[39m\u001b[38;5;132;01m{:04d}\u001b[39;00m\u001b[38;5;124m'\u001b[39m\u001b[38;5;241m.\u001b[39mformat(\u001b[38;5;28mself\u001b[39m\u001b[38;5;241m.\u001b[39msector)):\n",
      "File \u001b[0;32m~/Research/michael/Examples/../../Packages/eleanor/eleanor/source.py:304\u001b[0m, in \u001b[0;36mSource.locate_on_tess\u001b[0;34m(self)\u001b[0m\n\u001b[1;32m    301\u001b[0m \u001b[38;5;28;01melse\u001b[39;00m:\n\u001b[1;32m    302\u001b[0m     \u001b[38;5;66;03m# Handles cases where users can pass in their sector\u001b[39;00m\n\u001b[1;32m    303\u001b[0m     \u001b[38;5;28;01mif\u001b[39;00m \u001b[38;5;28mtype\u001b[39m(\u001b[38;5;28mself\u001b[39m\u001b[38;5;241m.\u001b[39musr_sec) \u001b[38;5;241m==\u001b[39m \u001b[38;5;28mint\u001b[39m:\n\u001b[0;32m--> 304\u001b[0m         arg \u001b[38;5;241m=\u001b[39m \u001b[43mnp\u001b[49m\u001b[38;5;241;43m.\u001b[39;49m\u001b[43margwhere\u001b[49m\u001b[43m(\u001b[49m\u001b[43msectors\u001b[49m\u001b[43m \u001b[49m\u001b[38;5;241;43m==\u001b[39;49m\u001b[43m \u001b[49m\u001b[38;5;28;43mself\u001b[39;49m\u001b[38;5;241;43m.\u001b[39;49m\u001b[43musr_sec\u001b[49m\u001b[43m)\u001b[49m\u001b[43m[\u001b[49m\u001b[38;5;241;43m0\u001b[39;49m\u001b[43m]\u001b[49m\n\u001b[1;32m    305\u001b[0m         \u001b[38;5;28;01mif\u001b[39;00m \u001b[38;5;28mlen\u001b[39m(arg) \u001b[38;5;241m>\u001b[39m \u001b[38;5;241m0\u001b[39m:\n\u001b[1;32m    306\u001b[0m             \u001b[38;5;28mself\u001b[39m\u001b[38;5;241m.\u001b[39msector \u001b[38;5;241m=\u001b[39m sectors[arg][\u001b[38;5;241m0\u001b[39m]\n",
      "\u001b[0;31mIndexError\u001b[0m: index 0 is out of bounds for axis 0 with size 0"
     ]
    }
   ],
   "source": [
    "d.build_eleanor_lc()"
   ]
  },
  {
   "cell_type": "code",
   "execution_count": 8,
   "id": "f8bccc90",
   "metadata": {
    "scrolled": false
   },
   "outputs": [
    {
     "name": "stderr",
     "output_type": "stream",
     "text": [
      "Running pixels in aperture: 100%|████████████| 300/300 [00:00<00:00, 391.99it/s]\n",
      "Running pixels in aperture: 100%|█████████████| 300/300 [00:03<00:00, 91.85it/s]\n"
     ]
    },
    {
     "ename": "KeyError",
     "evalue": "'rlc_43-44'",
     "output_type": "error",
     "traceback": [
      "\u001b[0;31m---------------------------------------------------------------------------\u001b[0m",
      "\u001b[0;31mKeyError\u001b[0m                                  Traceback (most recent call last)",
      "Cell \u001b[0;32mIn[8], line 2\u001b[0m\n\u001b[1;32m      1\u001b[0m d\u001b[38;5;241m.\u001b[39mbuild_tess_sip_lc(detrended\u001b[38;5;241m=\u001b[39m\u001b[38;5;28;01mTrue\u001b[39;00m)\n\u001b[0;32m----> 2\u001b[0m \u001b[43mj\u001b[49m\u001b[38;5;241;43m.\u001b[39;49m\u001b[43mvoid\u001b[49m\u001b[43m[\u001b[49m\u001b[38;5;124;43m'\u001b[39;49m\u001b[38;5;124;43mrlc_43-44\u001b[39;49m\u001b[38;5;124;43m'\u001b[39;49m\u001b[43m]\u001b[49m\u001b[38;5;241m.\u001b[39mplot();\n\u001b[1;32m      3\u001b[0m j\u001b[38;5;241m.\u001b[39mvoid[\u001b[38;5;124m'\u001b[39m\u001b[38;5;124mrdtlc_43-44\u001b[39m\u001b[38;5;124m'\u001b[39m]\u001b[38;5;241m.\u001b[39mplot();\n\u001b[1;32m      4\u001b[0m plt\u001b[38;5;241m.\u001b[39mshow()\n",
      "\u001b[0;31mKeyError\u001b[0m: 'rlc_43-44'"
     ]
    }
   ],
   "source": [
    "d.build_tess_sip_lc(detrended=True)\n",
    "j.void['rlc_43-44'].plot();\n",
    "j.void['rdtlc_43-44'].plot();\n",
    "plt.show()"
   ]
  },
  {
   "cell_type": "code",
   "execution_count": null,
   "id": "b6c5a692",
   "metadata": {},
   "outputs": [],
   "source": [
    "d.build_unpopular_lc()\n"
   ]
  },
  {
   "cell_type": "code",
   "execution_count": null,
   "id": "ce6947a8",
   "metadata": {},
   "outputs": [],
   "source": [
    "ax = j.void['clc_43-44'].plot()\n",
    "j.void['rdtlc_43-44'].plot(ax=ax)\n",
    "j.void['cpmlc_43-44'].plot(ax=ax)\n",
    "plt.show()"
   ]
  },
  {
   "cell_type": "code",
   "execution_count": null,
   "id": "94325359",
   "metadata": {},
   "outputs": [],
   "source": [
    "sfiles = []\n",
    "for sector in j.sectors:\n",
    "    split = sector.split('-')\n",
    "    if len(split) > 1:\n",
    "        sfiles = []\n",
    "        for s in np.arange(int(split[0]), int(split[1])+1):\n",
    "            strlen = np.floor(np.log10(s)).astype(int)+1\n",
    "            secstr = 's0000'[:-strlen] + str(s)\n",
    "\n",
    "            sfile = glob.glob(f'{d.path}'+\n",
    "                                f'*{secstr}*astrocut.fits')\n",
    "\n",
    "            if len(sfile) == 0:\n",
    "                raise ValueError(\"No tesscut files could be found for this target.\")\n",
    "\n",
    "            sfiles.append(sfile[0])\n",
    "\n",
    "        tpflist = [lk.TessTargetPixelFile(f).cutout([26,26],13) for f in sfiles]\n",
    "        tpfs = lk.TargetPixelFileCollection(tpflist)"
   ]
  },
  {
   "cell_type": "code",
   "execution_count": null,
   "id": "020d7c3e",
   "metadata": {},
   "outputs": [],
   "source": [
    "img = tpfs[1].plot();\n",
    "plt.show()"
   ]
  },
  {
   "cell_type": "code",
   "execution_count": null,
   "id": "0bc64965",
   "metadata": {},
   "outputs": [],
   "source": [
    "lims = img.get_images()[0].get_clim()"
   ]
  },
  {
   "cell_type": "code",
   "execution_count": null,
   "id": "898cfa17",
   "metadata": {},
   "outputs": [],
   "source": [
    "plt.imshow(j.void['datum_44'].tpf[0], origin='lower',\n",
    "          vmin = lims[0], vmax = lims[1])\n",
    "pix = np.where(j.void[f'datum_44'].aperture > 0)\n",
    "plt.scatter(pix[0], pix[1], edgecolors='w', lw=5, marker=',', facecolors='none', s=600, zorder=2, label='Aperture')\n",
    "plt.show()"
   ]
  },
  {
   "cell_type": "code",
   "execution_count": null,
   "id": "ab87c4f5",
   "metadata": {},
   "outputs": [],
   "source": [
    "for sfile, s in zip(j.sfiles, j.sectorlist):\n",
    "    cpm = tess_cpm.Source(sfile, remove_bad=True)\n",
    "    aperture = j.void[f'datum_{s}'].aperture\n",
    "    rowlims = 19 + np.array([np.where(aperture>.75)[0].min(), np.where(aperture>.75)[0].max()])\n",
    "    collims = 19 + np.array([np.where(aperture>.75)[1].min(), np.where(aperture>.75)[1].max()])\n",
    "    cpm.set_aperture(rowlims = rowlims, collims = collims)\n",
    "\n",
    "    # We use 200 predictors for a stamp of this size. This is a rough\n",
    "    # guesstimate from trial-and-error, but seems to work well.\n",
    "    cpm.add_cpm_model(exclusion_size=6, n=200,\n",
    "        predictor_method = \"similar_brightness\")\n",
    "    cpm.set_regs([0.1])\n",
    "    cpm.holdout_fit_predict(k=100, verbose=False)\n",
    "\n",
    "    # Save corrected flux as a lightcurve object for this sector\n",
    "    flux = cpm.get_aperture_lc(data_type=\"cpm_subtracted_flux\",\n",
    "                                weighting='median')"
   ]
  },
  {
   "cell_type": "code",
   "execution_count": null,
   "id": "fa1b5ddb",
   "metadata": {},
   "outputs": [],
   "source": [
    "cpm.plot_cutout(show_aperture=True)"
   ]
  },
  {
   "cell_type": "code",
   "execution_count": null,
   "id": "b3a5cd66",
   "metadata": {},
   "outputs": [],
   "source": [
    "cpm.plot_pix_by_pix()"
   ]
  },
  {
   "cell_type": "code",
   "execution_count": null,
   "id": "5fedc4cb",
   "metadata": {},
   "outputs": [],
   "source": [
    "plt.plot(flux)\n",
    "plt.show()"
   ]
  },
  {
   "cell_type": "code",
   "execution_count": null,
   "id": "fb5f4473",
   "metadata": {},
   "outputs": [],
   "source": []
  },
  {
   "cell_type": "code",
   "execution_count": null,
   "id": "f3adb93a",
   "metadata": {},
   "outputs": [],
   "source": []
  }
 ],
 "metadata": {
  "kernelspec": {
   "display_name": "michael10",
   "language": "python",
   "name": "michael10"
  },
  "language_info": {
   "codemirror_mode": {
    "name": "ipython",
    "version": 3
   },
   "file_extension": ".py",
   "mimetype": "text/x-python",
   "name": "python",
   "nbconvert_exporter": "python",
   "pygments_lexer": "ipython3",
   "version": "3.10.9"
  }
 },
 "nbformat": 4,
 "nbformat_minor": 5
}
