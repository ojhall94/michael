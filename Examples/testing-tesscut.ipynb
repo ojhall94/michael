{
 "cells": [
  {
   "cell_type": "code",
   "execution_count": 1,
   "id": "6c17a0f8",
   "metadata": {},
   "outputs": [],
   "source": [
    "import os\n",
    "import numpy as np\n",
    "import glob\n",
    "from tess_sip import SIP\n",
    "from astropy.coordinates import SkyCoord\n",
    "from astropy import units as u\n",
    "import lightkurve as lk\n",
    "from astroquery.mast import Tesscut\n",
    "import tess_cpm\n",
    "import sys\n",
    "import numpy as np\n",
    "import matplotlib.pyplot as plt\n",
    "import pandas as pd\n",
    "import warnings\n",
    "\n",
    "sys.path.insert(0, \"../\")\n",
    "sys.path.insert(0, \"../../Packages/eleanor/\")\n",
    "import eleanor\n",
    "\n",
    "import warnings\n",
    "warnings.filterwarnings('ignore')\n",
    "\n",
    "from michael import janet"
   ]
  },
  {
   "cell_type": "code",
   "execution_count": 2,
   "id": "60f9f090",
   "metadata": {},
   "outputs": [],
   "source": [
    "uni = pd.read_csv(\"/Users/oliver hall/Research/unicorn/data/unicorn.csv\", index_col=0)\n",
    "\n",
    "index = uni[uni.source_id == int(2174289161681454720)].index[0]"
   ]
  },
  {
   "cell_type": "code",
   "execution_count": 3,
   "id": "312b7843",
   "metadata": {},
   "outputs": [],
   "source": [
    "j = janet.boot(uni, index=index)\n"
   ]
  },
  {
   "cell_type": "code",
   "execution_count": 4,
   "id": "a43b7756",
   "metadata": {},
   "outputs": [],
   "source": [
    "coords = SkyCoord(ra = j.ra, dec = j.dec, unit = (u.deg, u.deg))\n"
   ]
  },
  {
   "cell_type": "code",
   "execution_count": null,
   "id": "7f8f4fcb",
   "metadata": {},
   "outputs": [
    {
     "name": "stdout",
     "output_type": "stream",
     "text": [
      "Target DR3 ID 2174289161681454720 has tesscut data available on MAST for Sectors 16, 17, 56, 57\n",
      "Downloading URL https://mast.stsci.edu/tesscut/api/v0.1/astrocut?ra=325.68907825161506&dec=54.0382850946685&y=50&x=50&units=px to /Users/oliver hall/.michael/tesscut/2174289161681454720/tesscut_20230123173222.zip ..."
     ]
    }
   ],
   "source": [
    "from michael.data import data_class\n",
    "d = data_class(j)\n",
    "d.setup_data()"
   ]
  },
  {
   "cell_type": "code",
   "execution_count": null,
   "id": "6b3cc209",
   "metadata": {},
   "outputs": [],
   "source": [
    "d.build_eleanor_lc()"
   ]
  },
  {
   "cell_type": "code",
   "execution_count": null,
   "id": "d6d06dc8",
   "metadata": {},
   "outputs": [],
   "source": [
    "sys.exit()"
   ]
  },
  {
   "cell_type": "code",
   "execution_count": null,
   "id": "a2948191",
   "metadata": {},
   "outputs": [],
   "source": []
  },
  {
   "cell_type": "code",
   "execution_count": null,
   "id": "c690a50a",
   "metadata": {},
   "outputs": [],
   "source": []
  },
  {
   "cell_type": "code",
   "execution_count": null,
   "id": "f7194747",
   "metadata": {},
   "outputs": [],
   "source": [
    "j.sfiles"
   ]
  },
  {
   "cell_type": "code",
   "execution_count": null,
   "id": "86d19ef6",
   "metadata": {
    "scrolled": false
   },
   "outputs": [],
   "source": [
    "d.build_tess_sip_lc(detrended=True)"
   ]
  },
  {
   "cell_type": "code",
   "execution_count": null,
   "id": "a7dda30b",
   "metadata": {},
   "outputs": [],
   "source": [
    "for s in j.sectors:\n",
    "    j.void[f'rdtlc_{s}'].plot()\n",
    "    plt.show()"
   ]
  },
  {
   "cell_type": "code",
   "execution_count": null,
   "id": "c173d33a",
   "metadata": {},
   "outputs": [],
   "source": [
    "d.build_unpopular_lc()\n"
   ]
  },
  {
   "cell_type": "code",
   "execution_count": null,
   "id": "e60f82b9",
   "metadata": {},
   "outputs": [],
   "source": [
    "ax = j.void['clc_43-44'].plot()\n",
    "j.void['rdtlc_43-44'].plot(ax=ax)\n",
    "j.void['cpmlc_43-44'].plot(ax=ax)\n",
    "plt.show()"
   ]
  },
  {
   "cell_type": "code",
   "execution_count": null,
   "id": "27b6af1e",
   "metadata": {},
   "outputs": [],
   "source": [
    "sfiles = []\n",
    "for sector in j.sectors:\n",
    "    split = sector.split('-')\n",
    "    if len(split) > 1:\n",
    "        sfiles = []\n",
    "        for s in np.arange(int(split[0]), int(split[1])+1):\n",
    "            strlen = np.floor(np.log10(s)).astype(int)+1\n",
    "            secstr = 's0000'[:-strlen] + str(s)\n",
    "\n",
    "            sfile = glob.glob(f'{d.path}'+\n",
    "                                f'*{secstr}*astrocut.fits')\n",
    "\n",
    "            if len(sfile) == 0:\n",
    "                raise ValueError(\"No tesscut files could be found for this target.\")\n",
    "\n",
    "            sfiles.append(sfile[0])\n",
    "\n",
    "        tpflist = [lk.TessTargetPixelFile(f).cutout([26,26],13) for f in sfiles]\n",
    "        tpfs = lk.TargetPixelFileCollection(tpflist)"
   ]
  },
  {
   "cell_type": "code",
   "execution_count": null,
   "id": "a2c5e5d1",
   "metadata": {},
   "outputs": [],
   "source": [
    "img = tpfs[1].plot();\n",
    "plt.show()"
   ]
  },
  {
   "cell_type": "code",
   "execution_count": null,
   "id": "01d0d238",
   "metadata": {},
   "outputs": [],
   "source": [
    "lims = img.get_images()[0].get_clim()"
   ]
  },
  {
   "cell_type": "code",
   "execution_count": null,
   "id": "26375281",
   "metadata": {},
   "outputs": [],
   "source": [
    "plt.imshow(j.void['datum_44'].tpf[0], origin='lower',\n",
    "          vmin = lims[0], vmax = lims[1])\n",
    "pix = np.where(j.void[f'datum_44'].aperture > 0)\n",
    "plt.scatter(pix[0], pix[1], edgecolors='w', lw=5, marker=',', facecolors='none', s=600, zorder=2, label='Aperture')\n",
    "plt.show()"
   ]
  },
  {
   "cell_type": "code",
   "execution_count": null,
   "id": "42723f9d",
   "metadata": {},
   "outputs": [],
   "source": [
    "for sfile, s in zip(j.sfiles, j.sectorlist):\n",
    "    cpm = tess_cpm.Source(sfile, remove_bad=True)\n",
    "    aperture = j.void[f'datum_{s}'].aperture\n",
    "    rowlims = 19 + np.array([np.where(aperture>.75)[0].min(), np.where(aperture>.75)[0].max()])\n",
    "    collims = 19 + np.array([np.where(aperture>.75)[1].min(), np.where(aperture>.75)[1].max()])\n",
    "    cpm.set_aperture(rowlims = rowlims, collims = collims)\n",
    "\n",
    "    # We use 200 predictors for a stamp of this size. This is a rough\n",
    "    # guesstimate from trial-and-error, but seems to work well.\n",
    "    cpm.add_cpm_model(exclusion_size=6, n=200,\n",
    "        predictor_method = \"similar_brightness\")\n",
    "    cpm.set_regs([0.1])\n",
    "    cpm.holdout_fit_predict(k=100, verbose=False)\n",
    "\n",
    "    # Save corrected flux as a lightcurve object for this sector\n",
    "    flux = cpm.get_aperture_lc(data_type=\"cpm_subtracted_flux\",\n",
    "                                weighting='median')"
   ]
  },
  {
   "cell_type": "code",
   "execution_count": null,
   "id": "e0a1fd82",
   "metadata": {},
   "outputs": [],
   "source": [
    "cpm.plot_cutout(show_aperture=True)"
   ]
  },
  {
   "cell_type": "code",
   "execution_count": null,
   "id": "0bb15dc5",
   "metadata": {},
   "outputs": [],
   "source": [
    "cpm.plot_pix_by_pix()"
   ]
  },
  {
   "cell_type": "code",
   "execution_count": null,
   "id": "25a87c1a",
   "metadata": {},
   "outputs": [],
   "source": [
    "plt.plot(flux)\n",
    "plt.show()"
   ]
  },
  {
   "cell_type": "code",
   "execution_count": null,
   "id": "a8b280cb",
   "metadata": {},
   "outputs": [],
   "source": []
  },
  {
   "cell_type": "code",
   "execution_count": null,
   "id": "d3649642",
   "metadata": {},
   "outputs": [],
   "source": []
  }
 ],
 "metadata": {
  "kernelspec": {
   "display_name": "michael10",
   "language": "python",
   "name": "michael10"
  },
  "language_info": {
   "codemirror_mode": {
    "name": "ipython",
    "version": 3
   },
   "file_extension": ".py",
   "mimetype": "text/x-python",
   "name": "python",
   "nbconvert_exporter": "python",
   "pygments_lexer": "ipython3",
   "version": "3.10.9"
  }
 },
 "nbformat": 4,
 "nbformat_minor": 5
}
