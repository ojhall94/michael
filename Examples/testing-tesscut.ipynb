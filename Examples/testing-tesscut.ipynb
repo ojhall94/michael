{
 "cells": [
  {
   "cell_type": "code",
   "execution_count": 3,
   "id": "6c17a0f8",
   "metadata": {},
   "outputs": [],
   "source": [
    "import eleanor\n",
    "import os\n",
    "import numpy as np\n",
    "import glob\n",
    "from tess_sip import SIP\n",
    "from astropy.coordinates import SkyCoord\n",
    "from astropy import units as u\n",
    "import lightkurve as lk\n",
    "import eleanor\n",
    "from astroquery.mast import Tesscut\n",
    "from eleanor.utils import SearchError\n",
    "import tess_cpm\n",
    "import sys\n",
    "import numpy as np\n",
    "import matplotlib.pyplot as plt\n",
    "import pandas as pd\n",
    "import warnings\n",
    "from scipy.signal import find_peaks\n",
    "from scipy.optimize import curve_fit\n",
    "from scipy.ndimage import gaussian_filter1d\n",
    "\n",
    "sys.path.insert(0, \"../\")\n",
    "\n",
    "import warnings\n",
    "warnings.filterwarnings('ignore')\n",
    "\n",
    "from michael import janet"
   ]
  },
  {
   "cell_type": "code",
   "execution_count": 4,
   "id": "60f9f090",
   "metadata": {},
   "outputs": [],
   "source": [
    "uni = pd.read_csv(\"/Users/oliver hall/Research/unicorn/data/unicorn.csv\", index_col=0)\n",
    "\n",
    "index = uni[uni.source_id == int(48977371798954368)].index[0]"
   ]
  },
  {
   "cell_type": "code",
   "execution_count": 6,
   "id": "312b7843",
   "metadata": {},
   "outputs": [],
   "source": [
    "j = janet.boot(uni, index=index)\n"
   ]
  },
  {
   "cell_type": "code",
   "execution_count": 10,
   "id": "a43b7756",
   "metadata": {},
   "outputs": [],
   "source": [
    "coords = SkyCoord(ra = j.ra, dec = j.dec, unit = (u.deg, u.deg))\n"
   ]
  },
  {
   "cell_type": "code",
   "execution_count": 12,
   "id": "8f04f560",
   "metadata": {},
   "outputs": [
    {
     "data": {
      "text/html": [
       "<div><i>Table length=2</i>\n",
       "<table id=\"table140727137547216\" class=\"table-striped table-bordered table-condensed\">\n",
       "<thead><tr><th>sectorName</th><th>sector</th><th>camera</th><th>ccd</th></tr></thead>\n",
       "<thead><tr><th>str14</th><th>int64</th><th>int64</th><th>int64</th></tr></thead>\n",
       "<tr><td>tess-s0043-3-3</td><td>43</td><td>3</td><td>3</td></tr>\n",
       "<tr><td>tess-s0044-2-4</td><td>44</td><td>2</td><td>4</td></tr>\n",
       "</table></div>"
      ],
      "text/plain": [
       "<Table length=2>\n",
       "  sectorName   sector camera  ccd \n",
       "    str14      int64  int64  int64\n",
       "-------------- ------ ------ -----\n",
       "tess-s0043-3-3     43      3     3\n",
       "tess-s0044-2-4     44      2     4"
      ]
     },
     "execution_count": 12,
     "metadata": {},
     "output_type": "execute_result"
    }
   ],
   "source": [
    "Tesscut.get_sectors(coordinates=coords)"
   ]
  },
  {
   "cell_type": "code",
   "execution_count": 13,
   "id": "0eddcfed",
   "metadata": {},
   "outputs": [
    {
     "name": "stdout",
     "output_type": "stream",
     "text": [
      "Downloading URL https://mast.stsci.edu/tesscut/api/v0.1/astrocut?ra=64.76349608728894&dec=19.54416507668267&y=50&x=50&units=px to /Users/oliver hall/.michael/tesscut/tesscut_20230117135211.zip ... [Done]\n",
      "Inflating...\n"
     ]
    },
    {
     "data": {
      "text/html": [
       "<div><i>Table length=2</i>\n",
       "<table id=\"table140727163058400\" class=\"table-striped table-bordered table-condensed\">\n",
       "<thead><tr><th>Local Path</th></tr></thead>\n",
       "<thead><tr><th>str90</th></tr></thead>\n",
       "<tr><td>/Users/oliver hall/.michael/tesscut/tess-s0044-2-4_64.763496_19.544165_50x50_astrocut.fits</td></tr>\n",
       "<tr><td>/Users/oliver hall/.michael/tesscut/tess-s0043-3-3_64.763496_19.544165_50x50_astrocut.fits</td></tr>\n",
       "</table></div>"
      ],
      "text/plain": [
       "<Table length=2>\n",
       "                                        Local Path                                        \n",
       "                                          str90                                           \n",
       "------------------------------------------------------------------------------------------\n",
       "/Users/oliver hall/.michael/tesscut/tess-s0044-2-4_64.763496_19.544165_50x50_astrocut.fits\n",
       "/Users/oliver hall/.michael/tesscut/tess-s0043-3-3_64.763496_19.544165_50x50_astrocut.fits"
      ]
     },
     "execution_count": 13,
     "metadata": {},
     "output_type": "execute_result"
    }
   ],
   "source": [
    "Tesscut.download_cutouts(coordinates=coords, size = 50, path='/Users/oliver hall/.michael/tesscut/')"
   ]
  },
  {
   "cell_type": "code",
   "execution_count": null,
   "id": "4966b675",
   "metadata": {},
   "outputs": [],
   "source": []
  }
 ],
 "metadata": {
  "kernelspec": {
   "display_name": "michael",
   "language": "python",
   "name": "michael"
  },
  "language_info": {
   "codemirror_mode": {
    "name": "ipython",
    "version": 3
   },
   "file_extension": ".py",
   "mimetype": "text/x-python",
   "name": "python",
   "nbconvert_exporter": "python",
   "pygments_lexer": "ipython3",
   "version": "3.10.4"
  }
 },
 "nbformat": 4,
 "nbformat_minor": 5
}
