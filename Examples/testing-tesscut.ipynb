{
 "cells": [
  {
   "cell_type": "code",
   "execution_count": 1,
   "id": "6c17a0f8",
   "metadata": {},
   "outputs": [],
   "source": [
    "import os\n",
    "import numpy as np\n",
    "import glob\n",
    "from tess_sip import SIP\n",
    "from astropy.coordinates import SkyCoord\n",
    "from astropy import units as u\n",
    "import lightkurve as lk\n",
    "from astroquery.mast import Tesscut\n",
    "import tess_cpm\n",
    "import sys\n",
    "import numpy as np\n",
    "import matplotlib.pyplot as plt\n",
    "import pandas as pd\n",
    "import warnings\n",
    "\n",
    "sys.path.insert(0, \"../\")\n",
    "sys.path.insert(0, \"../../Packages/eleanor/\")\n",
    "import eleanor\n",
    "\n",
    "import warnings\n",
    "warnings.filterwarnings('ignore')\n",
    "\n",
    "from michael import janet"
   ]
  },
  {
   "cell_type": "code",
   "execution_count": 2,
   "id": "60f9f090",
   "metadata": {},
   "outputs": [
    {
     "ename": "IndexError",
     "evalue": "index 0 is out of bounds for axis 0 with size 0",
     "output_type": "error",
     "traceback": [
      "\u001b[0;31m---------------------------------------------------------------------------\u001b[0m",
      "\u001b[0;31mIndexError\u001b[0m                                Traceback (most recent call last)",
      "Cell \u001b[0;32mIn[2], line 3\u001b[0m\n\u001b[1;32m      1\u001b[0m uni \u001b[38;5;241m=\u001b[39m pd\u001b[38;5;241m.\u001b[39mread_csv(\u001b[38;5;124m\"\u001b[39m\u001b[38;5;124m/Users/oliver hall/Research/unicorn/data/unicorn.csv\u001b[39m\u001b[38;5;124m\"\u001b[39m, index_col\u001b[38;5;241m=\u001b[39m\u001b[38;5;241m0\u001b[39m)\n\u001b[0;32m----> 3\u001b[0m index \u001b[38;5;241m=\u001b[39m \u001b[43muni\u001b[49m\u001b[43m[\u001b[49m\u001b[43muni\u001b[49m\u001b[38;5;241;43m.\u001b[39;49m\u001b[43msource_id\u001b[49m\u001b[43m \u001b[49m\u001b[38;5;241;43m==\u001b[39;49m\u001b[43m \u001b[49m\u001b[38;5;28;43mint\u001b[39;49m\u001b[43m(\u001b[49m\u001b[38;5;241;43m5310986619291928704\u001b[39;49m\u001b[43m)\u001b[49m\u001b[43m]\u001b[49m\u001b[38;5;241;43m.\u001b[39;49m\u001b[43mindex\u001b[49m\u001b[43m[\u001b[49m\u001b[38;5;241;43m0\u001b[39;49m\u001b[43m]\u001b[49m\n",
      "File \u001b[0;32m~/.conda/envs/michael10/lib/python3.10/site-packages/pandas/core/indexes/base.py:5053\u001b[0m, in \u001b[0;36mIndex.__getitem__\u001b[0;34m(self, key)\u001b[0m\n\u001b[1;32m   5050\u001b[0m \u001b[38;5;28;01mif\u001b[39;00m is_integer(key) \u001b[38;5;129;01mor\u001b[39;00m is_float(key):\n\u001b[1;32m   5051\u001b[0m     \u001b[38;5;66;03m# GH#44051 exclude bool, which would return a 2d ndarray\u001b[39;00m\n\u001b[1;32m   5052\u001b[0m     key \u001b[38;5;241m=\u001b[39m com\u001b[38;5;241m.\u001b[39mcast_scalar_indexer(key, warn_float\u001b[38;5;241m=\u001b[39m\u001b[38;5;28;01mTrue\u001b[39;00m)\n\u001b[0;32m-> 5053\u001b[0m     \u001b[38;5;28;01mreturn\u001b[39;00m \u001b[43mgetitem\u001b[49m\u001b[43m(\u001b[49m\u001b[43mkey\u001b[49m\u001b[43m)\u001b[49m\n\u001b[1;32m   5055\u001b[0m \u001b[38;5;28;01mif\u001b[39;00m \u001b[38;5;28misinstance\u001b[39m(key, \u001b[38;5;28mslice\u001b[39m):\n\u001b[1;32m   5056\u001b[0m     \u001b[38;5;66;03m# This case is separated from the conditional above to avoid\u001b[39;00m\n\u001b[1;32m   5057\u001b[0m     \u001b[38;5;66;03m# pessimization com.is_bool_indexer and ndim checks.\u001b[39;00m\n\u001b[1;32m   5058\u001b[0m     result \u001b[38;5;241m=\u001b[39m getitem(key)\n",
      "\u001b[0;31mIndexError\u001b[0m: index 0 is out of bounds for axis 0 with size 0"
     ]
    }
   ],
   "source": [
    "uni = pd.read_csv(\"/Users/oliver hall/Research/unicorn/data/unicorn.csv\", index_col=0)\n",
    "\n",
    "index = uni[uni.source_id == int(5310986619291928704)].index[0]"
   ]
  },
  {
   "cell_type": "code",
   "execution_count": null,
   "id": "312b7843",
   "metadata": {
    "scrolled": false
   },
   "outputs": [],
   "source": [
    "j = janet.boot(uni, index=index, pipeline='tess-sip-detrended')\n",
    "j.run()\n",
    "plt.show()"
   ]
  },
  {
   "cell_type": "code",
   "execution_count": null,
   "id": "ba55fe72",
   "metadata": {},
   "outputs": [],
   "source": [
    "j = janet.boot(uni, index=index, pipeline='eleanor')\n",
    "j.run()\n",
    "plt.show()"
   ]
  },
  {
   "cell_type": "code",
   "execution_count": null,
   "id": "cebef369",
   "metadata": {},
   "outputs": [],
   "source": [
    "j = janet.boot(uni, index=index, pipeline='unpopular')\n",
    "j.run()\n",
    "plt.show()"
   ]
  },
  {
   "cell_type": "code",
   "execution_count": null,
   "id": "0cfa1b36",
   "metadata": {},
   "outputs": [],
   "source": [
    "j.sectorlist[0]"
   ]
  },
  {
   "cell_type": "code",
   "execution_count": null,
   "id": "098f164d",
   "metadata": {},
   "outputs": [],
   "source": [
    "list(j.void)"
   ]
  },
  {
   "cell_type": "code",
   "execution_count": null,
   "id": "bc5afc9f",
   "metadata": {},
   "outputs": [],
   "source": [
    "fig, ax= plt.subplots()\n",
    "sector0 = j.sectorlist[0]\n",
    "s0 = j.sectors[0]\n",
    "ax.set_title(f'Frame 0 Sector {sector0}')\n",
    "ax.imshow(np.log10(j.void[f'tpfs_{s0}'][0].flux.value[0]), zorder=1)"
   ]
  },
  {
   "cell_type": "code",
   "execution_count": null,
   "id": "b33001b1",
   "metadata": {},
   "outputs": [],
   "source": [
    "sys.exit()"
   ]
  },
  {
   "cell_type": "code",
   "execution_count": null,
   "id": "a43b7756",
   "metadata": {},
   "outputs": [],
   "source": [
    "coords = SkyCoord(ra = j.ra, dec = j.dec, unit = (u.deg, u.deg))\n"
   ]
  },
  {
   "cell_type": "code",
   "execution_count": null,
   "id": "7f8f4fcb",
   "metadata": {},
   "outputs": [],
   "source": [
    "from michael.data import data_class\n",
    "d = data_class(j)\n",
    "d.setup_data()"
   ]
  },
  {
   "cell_type": "code",
   "execution_count": null,
   "id": "6dc57969",
   "metadata": {},
   "outputs": [],
   "source": [
    "d.build_unpopular_lc()\n"
   ]
  },
  {
   "cell_type": "code",
   "execution_count": null,
   "id": "be2aaa73",
   "metadata": {},
   "outputs": [],
   "source": [
    "sfiles = []\n",
    "for sector in j.sectors:\n",
    "    split = sector.split('-')\n",
    "    if len(split) > 1:\n",
    "        sfiles = []\n",
    "        for s in np.arange(int(split[0]), int(split[1])+1):\n",
    "            strlen = np.floor(np.log10(s)).astype(int)+1\n",
    "            secstr = 's0000'[:-strlen] + str(s)\n",
    "\n",
    "            sfile = glob.glob(f'{d.path}'+\n",
    "                                f'*{secstr}*astrocut.fits')\n",
    "\n",
    "            if len(sfile) == 0:\n",
    "                raise ValueError(\"No tesscut files could be found for this target.\")\n",
    "\n",
    "            sfiles.append(sfile[0])\n",
    "\n",
    "        tpflist = [lk.TessTargetPixelFile(f).cutout([26,26],13) for f in sfiles]\n",
    "        tpfs = lk.TargetPixelFileCollection(tpflist)"
   ]
  },
  {
   "cell_type": "code",
   "execution_count": null,
   "id": "1a49a08c",
   "metadata": {},
   "outputs": [],
   "source": [
    "img = tpfs[1].plot();\n",
    "plt.show()"
   ]
  },
  {
   "cell_type": "code",
   "execution_count": null,
   "id": "1d018063",
   "metadata": {},
   "outputs": [],
   "source": [
    "lims = img.get_images()[0].get_clim()"
   ]
  },
  {
   "cell_type": "code",
   "execution_count": null,
   "id": "ee37da10",
   "metadata": {},
   "outputs": [],
   "source": [
    "plt.imshow(j.void['datum_57'].tpf[0], origin='lower',\n",
    "          vmin = lims[0], vmax = lims[1])\n",
    "pix = np.where(j.void[f'datum_57'].aperture > 0)\n",
    "plt.scatter(pix[0], pix[1], edgecolors='w', lw=5, marker=',', facecolors='none', s=600, zorder=2, label='Aperture')\n",
    "plt.show()"
   ]
  },
  {
   "cell_type": "code",
   "execution_count": null,
   "id": "99c09855",
   "metadata": {},
   "outputs": [],
   "source": [
    "fig, ax = plt.subplots()\n",
    "for i, m in enumerate(['c','r','cpm','rdt', 'pca','corn']):\n",
    "    (j.void[f'{m}lc_16-17'] + i*.02).plot(ax=ax, label=m)\n",
    "plt.show()"
   ]
  },
  {
   "cell_type": "code",
   "execution_count": null,
   "id": "25fc7e38",
   "metadata": {},
   "outputs": [],
   "source": [
    "fig, ax = plt.subplots()\n",
    "for i, m in enumerate(['c','r','cpm','rdt', 'pca','corn']):\n",
    "    (j.void[f'{m}lc_56-57'] + i*.02).plot(ax=ax, label=m)\n",
    "plt.show()"
   ]
  },
  {
   "cell_type": "code",
   "execution_count": null,
   "id": "c27c8156",
   "metadata": {},
   "outputs": [],
   "source": [
    "pipelines = {'eleanor' : 'c',\n",
    "             'eleanor-pca' : 'pca',\n",
    "             'eleanor-corner' : 'corn',\n",
    "             'unpopular' : 'cpm',\n",
    "             'tess-sip': 'r',\n",
    "             'tess-sip-detrended' : 'rdt'}"
   ]
  },
  {
   "cell_type": "code",
   "execution_count": null,
   "id": "3fb21985",
   "metadata": {
    "scrolled": false
   },
   "outputs": [],
   "source": [
    "for p in list(pipelines):\n",
    "    j.pipeline = p\n",
    "    j.pl = pipelines[j.pipeline]\n",
    "    j.run()\n",
    "    plt.show()"
   ]
  },
  {
   "cell_type": "code",
   "execution_count": null,
   "id": "2a41c9a9",
   "metadata": {},
   "outputs": [],
   "source": [
    "len(uni)"
   ]
  },
  {
   "cell_type": "code",
   "execution_count": null,
   "id": "e55b7278",
   "metadata": {},
   "outputs": [],
   "source": [
    "j.pipeline"
   ]
  },
  {
   "cell_type": "code",
   "execution_count": null,
   "id": "6fafb61d",
   "metadata": {},
   "outputs": [],
   "source": []
  }
 ],
 "metadata": {
  "kernelspec": {
   "display_name": "michael10",
   "language": "python",
   "name": "michael10"
  },
  "language_info": {
   "codemirror_mode": {
    "name": "ipython",
    "version": 3
   },
   "file_extension": ".py",
   "mimetype": "text/x-python",
   "name": "python",
   "nbconvert_exporter": "python",
   "pygments_lexer": "ipython3",
   "version": "3.10.9"
  }
 },
 "nbformat": 4,
 "nbformat_minor": 5
}
