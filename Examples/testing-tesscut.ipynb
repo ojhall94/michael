{
 "cells": [
  {
   "cell_type": "code",
   "execution_count": 1,
   "id": "6c17a0f8",
   "metadata": {},
   "outputs": [],
   "source": [
    "import eleanor\n",
    "import os\n",
    "import numpy as np\n",
    "import glob\n",
    "from tess_sip import SIP\n",
    "from astropy.coordinates import SkyCoord\n",
    "from astropy import units as u\n",
    "import lightkurve as lk\n",
    "from astroquery.mast import Tesscut\n",
    "import tess_cpm\n",
    "import sys\n",
    "import numpy as np\n",
    "import matplotlib.pyplot as plt\n",
    "import pandas as pd\n",
    "import warnings\n",
    "\n",
    "sys.path.insert(0, \"../\")\n",
    "\n",
    "import warnings\n",
    "warnings.filterwarnings('ignore')\n",
    "\n",
    "from michael import janet"
   ]
  },
  {
   "cell_type": "code",
   "execution_count": 2,
   "id": "60f9f090",
   "metadata": {},
   "outputs": [],
   "source": [
    "uni = pd.read_csv(\"/Users/oliver hall/Research/unicorn/data/unicorn.csv\", index_col=0)\n",
    "\n",
    "index = uni[uni.source_id == int(48977371798954368)].index[0]"
   ]
  },
  {
   "cell_type": "code",
   "execution_count": 3,
   "id": "312b7843",
   "metadata": {},
   "outputs": [],
   "source": [
    "j = janet.boot(uni, index=index)\n"
   ]
  },
  {
   "cell_type": "code",
   "execution_count": 7,
   "id": "a43b7756",
   "metadata": {},
   "outputs": [],
   "source": [
    "coords = SkyCoord(ra = j.ra, dec = j.dec, unit = (u.deg, u.deg))\n"
   ]
  },
  {
   "cell_type": "code",
   "execution_count": 4,
   "id": "7f8f4fcb",
   "metadata": {},
   "outputs": [
    {
     "name": "stdout",
     "output_type": "stream",
     "text": [
      "43Target DR3 ID 48977371798954368 has data available for sectors 44\n",
      "Downloading URL https://mast.stsci.edu/tesscut/api/v0.1/astrocut?ra=64.76349608728894&dec=19.54416507668267&y=50&x=50&units=px to /Users/oliver hall/.michael/tesscut/48977371798954368/tesscut_20230120152130.zip ... [Done]\n",
      "Inflating...\n"
     ]
    }
   ],
   "source": [
    "from michael.data import data_class\n",
    "d = data_class(j)\n",
    "d.check_local_setup()\n",
    "d.download_tesscut()"
   ]
  },
  {
   "cell_type": "code",
   "execution_count": 8,
   "id": "d6156f36",
   "metadata": {},
   "outputs": [],
   "source": [
    "        md = Tesscut.get_sectors(coordinates=coords)\n"
   ]
  },
  {
   "cell_type": "code",
   "execution_count": 9,
   "id": "33c9a2e3",
   "metadata": {},
   "outputs": [
    {
     "data": {
      "text/html": [
       "<div><i>Table length=2</i>\n",
       "<table id=\"table140680849970976\" class=\"table-striped table-bordered table-condensed\">\n",
       "<thead><tr><th>sectorName</th><th>sector</th><th>camera</th><th>ccd</th></tr></thead>\n",
       "<thead><tr><th>str14</th><th>int64</th><th>int64</th><th>int64</th></tr></thead>\n",
       "<tr><td>tess-s0043-3-3</td><td>43</td><td>3</td><td>3</td></tr>\n",
       "<tr><td>tess-s0044-2-4</td><td>44</td><td>2</td><td>4</td></tr>\n",
       "</table></div>"
      ],
      "text/plain": [
       "<Table length=2>\n",
       "  sectorName   sector camera  ccd \n",
       "    str14      int64  int64  int64\n",
       "-------------- ------ ------ -----\n",
       "tess-s0043-3-3     43      3     3\n",
       "tess-s0044-2-4     44      2     4"
      ]
     },
     "execution_count": 9,
     "metadata": {},
     "output_type": "execute_result"
    }
   ],
   "source": [
    "md"
   ]
  }
 ],
 "metadata": {
  "kernelspec": {
   "display_name": "michael10",
   "language": "python",
   "name": "michael10"
  },
  "language_info": {
   "codemirror_mode": {
    "name": "ipython",
    "version": 3
   },
   "file_extension": ".py",
   "mimetype": "text/x-python",
   "name": "python",
   "nbconvert_exporter": "python",
   "pygments_lexer": "ipython3",
   "version": "3.10.9"
  }
 },
 "nbformat": 4,
 "nbformat_minor": 5
}
