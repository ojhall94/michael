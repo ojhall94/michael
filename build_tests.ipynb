{
 "cells": [
  {
   "cell_type": "code",
   "execution_count": 1,
   "metadata": {},
   "outputs": [
    {
     "name": "stderr",
     "output_type": "stream",
     "text": [
      "2022-10-17 14:32:24.016322: I tensorflow/core/platform/cpu_feature_guard.cc:193] This TensorFlow binary is optimized with oneAPI Deep Neural Network Library (oneDNN) to use the following CPU instructions in performance-critical operations:  AVX2 FMA\n",
      "To enable them in other operations, rebuild TensorFlow with the appropriate compiler flags.\n"
     ]
    }
   ],
   "source": [
    "import sys\n",
    "import pytest\n",
    "sys.path.append('../')\n",
    "\n",
    "import numpy as np\n",
    "from numpy.testing import assert_almost_equal, assert_array_equal\n",
    "from michael import janet\n",
    "import astropy.units as u\n",
    "\n",
    "def test_init():\n",
    "    # Check initiation of correct properties\n",
    "    gaiaid = 'test'\n",
    "    ra , dec = 0.0*u.deg, 0.0*u.deg\n",
    "    output_path = 'data/'\n",
    "    pipeline = 'eleanor'\n",
    "\n",
    "    j = janet(gaiaid, ra, dec, output_path, pipeline, verbose=True)\n",
    "\n",
    "    assert j.gaiaid == gaiaid\n",
    "    assert j.ra == ra\n",
    "    assert j.dec == dec\n",
    "    assert j.output_path == output_path\n",
    "    assert j.pipeline == pipeline\n",
    "    assert j.verbose\n",
    "    assert type(j.void) == dict\n",
    "    assert j.pl == 'c'\n",
    "\n",
    "def test_data_call():\n",
    "    # Check `prepare_data` loads in test data\n",
    "\n",
    "    # Check `prepare_data` works under different pipeline calls.\n",
    "    return 0\n",
    "def test_get_rotation():\n",
    "    # Assert `get_rotation` calls the correct functions under different\n",
    "    # pipelines.\n",
    "    return 0\n",
    "\n",
    "def test_decode():\n",
    "    # Assert error message\n",
    "    gaiaid = 'test'\n",
    "    ra , dec = 0.0*u.deg, 0.0*u.deg\n",
    "    output_path = 'data/'\n",
    "    pipeline = 'eleanor'\n",
    "\n",
    "    j = janet(gaiaid, ra, dec, output_path, pipeline, verbose=True)\n",
    "\n",
    "    out = j.decode(32)\n",
    "    assert type(out) == str\n",
    "\n",
    "def test_run():\n",
    "    # Assert functions are called for test data\n",
    "\n",
    "    # Assert safety is called\n",
    "    return 0\n",
    "# Note: janet.view() and janet.validate_rotation() just call functions that are\n",
    "# tested separately.\n"
   ]
  },
  {
   "cell_type": "code",
   "execution_count": 2,
   "metadata": {},
   "outputs": [],
   "source": [
    "    # Assert error message\n",
    "    gaiaid = 'test'\n",
    "    ra , dec = 0.0*u.deg, 0.0*u.deg\n",
    "    output_path = 'data/'\n",
    "    pipeline = 'eleanor'\n",
    "\n",
    "    j = janet(gaiaid, ra, dec, output_path, pipeline, verbose=True)\n"
   ]
  },
  {
   "cell_type": "code",
   "execution_count": 5,
   "metadata": {},
   "outputs": [
    {
     "name": "stdout",
     "output_type": "stream",
     "text": [
      "\n",
      "------ Decoding Overall Period Flag 22 ------\n",
      "16: The best overal value does not have a peak-to-peak height that exceeds the scatter in the detrended light curve. Proceed with caution.\n",
      "4: Only 2 of the 3 estimates of rotation agreed with one another to within 1 sigma.\n",
      "1: None of the 3 estimates agreed with one another to within 1 sigma. The SW estimate is assumed to be the best in this case, if it is available.\n",
      "\n",
      "No other flags raised. \n",
      "\n"
     ]
    },
    {
     "data": {
      "text/plain": [
       "NoneType"
      ]
     },
     "execution_count": 5,
     "metadata": {},
     "output_type": "execute_result"
    }
   ],
   "source": [
    "out = j.decode(22)\n",
    "type(out)"
   ]
  },
  {
   "cell_type": "code",
   "execution_count": 42,
   "metadata": {},
   "outputs": [],
   "source": [
    "flag = 3"
   ]
  },
  {
   "cell_type": "code",
   "execution_count": 43,
   "metadata": {},
   "outputs": [
    {
     "data": {
      "text/plain": [
       "False"
      ]
     },
     "execution_count": 43,
     "metadata": {},
     "output_type": "execute_result"
    }
   ],
   "source": [
    "(type(flag) is not int) and (type(flag) is not float)"
   ]
  },
  {
   "cell_type": "code",
   "execution_count": 39,
   "metadata": {},
   "outputs": [
    {
     "data": {
      "text/plain": [
       "str"
      ]
     },
     "execution_count": 39,
     "metadata": {},
     "output_type": "execute_result"
    }
   ],
   "source": [
    "type(flag)"
   ]
  },
  {
   "cell_type": "code",
   "execution_count": null,
   "metadata": {},
   "outputs": [],
   "source": []
  }
 ],
 "metadata": {
  "kernelspec": {
   "display_name": "michael",
   "language": "python",
   "name": "michael"
  },
  "language_info": {
   "codemirror_mode": {
    "name": "ipython",
    "version": 3
   },
   "file_extension": ".py",
   "mimetype": "text/x-python",
   "name": "python",
   "nbconvert_exporter": "python",
   "pygments_lexer": "ipython3",
   "version": "3.10.4"
  }
 },
 "nbformat": 4,
 "nbformat_minor": 4
}
